{
 "cells": [
  {
   "cell_type": "code",
   "execution_count": 1,
   "metadata": {},
   "outputs": [
    {
     "name": "stdout",
     "output_type": "stream",
     "text": [
      "search for root_dir and set working directory\n",
      "Working directory set to: /mnt/ssd/git/wft21_septum_landmark_detection\n",
      "['/gpu:0', '/gpu:1']\n"
     ]
    }
   ],
   "source": [
    "# ------------------------------------------define logging and working directory\n",
    "from ProjectRoot import change_wd_to_project_root\n",
    "change_wd_to_project_root()\n",
    "from src.utils.Tensorflow_helper import choose_gpu_by_id\n",
    "# ------------------------------------------define GPU id/s to use, if given\n",
    "GPU_IDS = '0,1'\n",
    "GPUS = choose_gpu_by_id(GPU_IDS)\n",
    "print(GPUS)\n",
    "# ------------------------------------------jupyter magic config\n",
    "%matplotlib inline\n",
    "%reload_ext autoreload\n",
    "%autoreload 2\n",
    "# ------------------------------------------ import helpers\n",
    "# this should import glob, os, and many other standard libs\n",
    "# local imports\n",
    "from src.utils.Notebook_imports import *\n",
    "from src.utils.Utils_io import Console_and_file_logger, init_config\n",
    "\n",
    "# import external libs\n",
    "from tensorflow.python.client import device_lib\n",
    "import tensorflow as tf\n",
    "tf.get_logger().setLevel('ERROR')\n",
    "import cv2\n",
    "import pandas as pd\n",
    "\n",
    "EXPERIMENT = 'cv_baseline_test/sub-identifier'\n",
    "timestemp = str(datetime.datetime.now().strftime(\"%Y-%m-%d_%H_%M\")) # ad a timestep to each project to make repeated experiments unique\n",
    "\n",
    "EXPERIMENTS_ROOT = 'exp/'\n",
    "EXP_PATH = os.path.join(EXPERIMENTS_ROOT, EXPERIMENT, timestemp)\n",
    "MODEL_PATH = os.path.join(EXP_PATH, 'model', )\n",
    "TENSORBOARD_PATH = os.path.join(EXP_PATH, 'tensorboard_logs')\n",
    "CONFIG_PATH = os.path.join(EXP_PATH,'config')\n",
    "HISTORY_PATH = os.path.join(EXP_PATH, 'history')\n",
    "\n",
    "\n",
    "# define the input data paths and fold \n",
    "# first to the 4D Nrrd files, \n",
    "# second to a dataframe with a mapping of the Fold-number\n",
    "# Finally the path to the metadata\n",
    "DATA_PATH_SAX = 'path_to_cmr_images'\n",
    "DF_FOLDS = 'path_to_patient_fold_mapping'\n",
    "DF_META = 'path_to_df_with_patient_metadata'\n",
    "FOLD = 0\n",
    "\n",
    "# General params\n",
    "SEED = 42 # define a seed for the generator shuffle\n",
    "BATCHSIZE = 8 # 32, 64, 24, 16, 1 depends on the input shape and available memory\n",
    "GENERATOR_WORKER = BATCHSIZE # if not set, use batchsize\n",
    "EPOCHS = 50 # define the max number of epochs to train on\n",
    "\n",
    "DIM = [224, 224] # network input shape for spacing of 3, (z,y,x)\n",
    "SPACING = [1.5,1.5] # if resample, resample to this spacing, (z,y,x)\n",
    "\n",
    "# Model params\n",
    "DEPTH = 4 # depth of the encoder/decoder architecture\n",
    "FILTERS = 32 # initial number of filters, will be doubled after each downsampling block\n",
    "M_POOL = [2, 2]# size of max-pooling used for downsampling and upsampling\n",
    "F_SIZE = [3, 3] # conv filter size\n",
    "BN_FIRST = False # decide if batch normalisation between conv and activation or afterwards\n",
    "BATCH_NORMALISATION = True # apply BN or not\n",
    "PAD = 'same' # padding strategy of the conv layers\n",
    "KERNEL_INIT = 'he_normal' # conv weight initialisation\n",
    "OPTIMIZER = 'adam' # Adam, Adagrad, RMSprop, Adadelta,  # https://keras.io/optimizers/\n",
    "ACTIVATION = 'relu' # tf.keras.layers.LeakyReLU(), relu or any other non linear activation function\n",
    "LEARNING_RATE = 1e-4 # start with a huge lr to converge fast\n",
    "REDUCE_LR_ON_PLAEAU_PATIENCE = 5\n",
    "DECAY_FACTOR = 0.7 # Define a learning rate decay for the ReduceLROnPlateau callback\n",
    "MIN_LR = 1e-12 # minimal lr, smaller lr does not improve the model\n",
    "DROPOUT_min = 0.3 # lower dropout at the shallow layers\n",
    "DROPOUT_max = 0.5 # higher dropout at the deep layers\n",
    "\n",
    "# Callback params\n",
    "MONITOR_FUNCTION = 'loss'\n",
    "MONITOR_MODE = 'min'\n",
    "SAVE_MODEL_FUNCTION = 'loss'\n",
    "SAVE_MODEL_MODE = 'min'\n",
    "MODEL_PATIENCE = 20\n",
    "SAVE_LEARNING_PROGRESS_AS_TF = True\n",
    "\n",
    "# Generator and Augmentation params\n",
    "BORDER_MODE = cv2.BORDER_REFLECT_101 # border mode for the data generation\n",
    "IMG_INTERPOLATION = cv2.INTER_LINEAR # image interpolation in the genarator\n",
    "MSK_INTERPOLATION = cv2.INTER_NEAREST # mask interpolation in the generator\n",
    "AUGMENT = True # a compose of 2D augmentation (grid distortion, 90degree rotation, brightness and shift)\n",
    "AUGMENT_PROB = 0.8\n",
    "SHUFFLE = True\n",
    "RESAMPLE = True\n",
    "SCALER = 'MinMax' # MinMax, Standard or Robust\n",
    "\n",
    "config = init_config(config=locals(), save=True)"
   ]
  },
  {
   "cell_type": "code",
   "execution_count": 2,
   "metadata": {
    "collapsed": true,
    "jupyter": {
     "outputs_hidden": true
    },
    "tags": []
   },
   "outputs": [
    {
     "name": "stderr",
     "output_type": "stream",
     "text": [
      "DEBUG:root:Creating directory /mnt/ssd/git/dynamic-cmr-models/logs/cv_baseline_taug10\n",
      "2021-03-04 00:40:00,059 INFO -------------------- Start --------------------\n",
      "2021-03-04 00:40:00,060 INFO Working directory: /mnt/ssd/git/dynamic-cmr-models.\n",
      "2021-03-04 00:40:00,060 INFO Log file: ./logs/cv_baseline_taug10/8_64_64__8_3_3_4tenc_conv1_MSE_NOnorm_augshiftrot_NOtaug_3_batch8_f0.log\n",
      "2021-03-04 00:40:00,060 INFO Log level for console: INFO\n",
      "2021-03-04 00:40:00,061 INFO Is built with tensorflow: True\n",
      "2021-03-04 00:40:00,110 INFO Visible devices:\n",
      "[PhysicalDevice(name='/physical_device:CPU:0', device_type='CPU'), PhysicalDevice(name='/physical_device:XLA_CPU:0', device_type='XLA_CPU'), PhysicalDevice(name='/physical_device:XLA_GPU:0', device_type='XLA_GPU'), PhysicalDevice(name='/physical_device:XLA_GPU:1', device_type='XLA_GPU'), PhysicalDevice(name='/physical_device:GPU:0', device_type='GPU'), PhysicalDevice(name='/physical_device:GPU:1', device_type='GPU')]\n",
      "2021-03-04 00:40:00,783 INFO Local devices: \n",
      " [name: \"/device:CPU:0\"\n",
      "device_type: \"CPU\"\n",
      "memory_limit: 268435456\n",
      "locality {\n",
      "}\n",
      "incarnation: 2660053038494036305\n",
      ", name: \"/device:XLA_CPU:0\"\n",
      "device_type: \"XLA_CPU\"\n",
      "memory_limit: 17179869184\n",
      "locality {\n",
      "}\n",
      "incarnation: 8839566261266083240\n",
      "physical_device_desc: \"device: XLA_CPU device\"\n",
      ", name: \"/device:XLA_GPU:0\"\n",
      "device_type: \"XLA_GPU\"\n",
      "memory_limit: 17179869184\n",
      "locality {\n",
      "}\n",
      "incarnation: 3306846522700203716\n",
      "physical_device_desc: \"device: XLA_GPU device\"\n",
      ", name: \"/device:XLA_GPU:1\"\n",
      "device_type: \"XLA_GPU\"\n",
      "memory_limit: 17179869184\n",
      "locality {\n",
      "}\n",
      "incarnation: 17156191626709156296\n",
      "physical_device_desc: \"device: XLA_GPU device\"\n",
      ", name: \"/device:GPU:0\"\n",
      "device_type: \"GPU\"\n",
      "memory_limit: 23091460224\n",
      "locality {\n",
      "  bus_id: 1\n",
      "  links {\n",
      "  }\n",
      "}\n",
      "incarnation: 11998359757337024446\n",
      "physical_device_desc: \"device: 0, name: TITAN RTX, pci bus id: 0000:01:00.0, compute capability: 7.5\"\n",
      ", name: \"/device:GPU:1\"\n",
      "device_type: \"GPU\"\n",
      "memory_limit: 23561682304\n",
      "locality {\n",
      "  bus_id: 1\n",
      "  links {\n",
      "  }\n",
      "}\n",
      "incarnation: 10345124616739075604\n",
      "physical_device_desc: \"device: 1, name: TITAN RTX, pci bus id: 0000:02:00.0, compute capability: 7.5\"\n",
      "]\n"
     ]
    },
    {
     "name": "stdout",
     "output_type": "stream",
     "text": [
      "['/gpu:0', '/gpu:1']\n",
      "{'GPU_IDS': '0,1', 'GPUS': ['/gpu:0', '/gpu:1'], 'SEED': 42, 'EXPERIMENT': 'cv_baseline_taug10/8_64_64__8_3_3_4tenc_conv1_MSE_NOnorm_augshiftrot_NOtaug_3_batch8_f0', 'EXPERIMENTS_ROOT': 'exp/', 'EXP_PATH': 'exp/cv_baseline_taug10/8_64_64__8_3_3_4tenc_conv1_MSE_NOnorm_augshiftrot_NOtaug_3_batch8_f0/2021-03-04_00_40', 'MODEL_PATH': 'exp/cv_baseline_taug10/8_64_64__8_3_3_4tenc_conv1_MSE_NOnorm_augshiftrot_NOtaug_3_batch8_f0/2021-03-04_00_40/model', 'TENSORBOARD_PATH': 'exp/cv_baseline_taug10/8_64_64__8_3_3_4tenc_conv1_MSE_NOnorm_augshiftrot_NOtaug_3_batch8_f0/2021-03-04_00_40/tensorboard_logs', 'CONFIG_PATH': 'exp/cv_baseline_taug10/8_64_64__8_3_3_4tenc_conv1_MSE_NOnorm_augshiftrot_NOtaug_3_batch8_f0/2021-03-04_00_40/config', 'HISTORY_PATH': 'exp/cv_baseline_taug10/8_64_64__8_3_3_4tenc_conv1_MSE_NOnorm_augshiftrot_NOtaug_3_batch8_f0/2021-03-04_00_40/history', 'DATA_PATH_SAX': '/mnt/ssd/data/gcn/02_imported_4D_unfiltered/SAX/', 'DF_FOLDS': '/mnt/ssd/data/gcn/02_imported_4D_unfiltered/df_kfold.csv', 'DF_META': '/mnt/ssd/data/gcn/02_imported_4D_unfiltered/SAx_3D_dicomTags_phase', 'FOLD': 0, 'BATCHSIZE': 8, 'GENERATOR_WORKER': 8, 'EPOCHS': 50, 'DIM': [8, 64, 64], 'T_SHAPE': 36, 'SPACING': [8, 3, 3], 'DEPTH': 4, 'FILTERS': 32, 'M_POOL': [1, 2, 2], 'F_SIZE': [3, 3, 3], 'BN_FIRST': False, 'BATCH_NORMALISATION': True, 'PAD': 'same', 'KERNEL_INIT': 'he_normal', 'OPTIMIZER': 'adam', 'ACTIVATION': 'relu', 'LEARNING_RATE': 0.0001, 'REDUCE_LR_ON_PLAEAU_PATIENCE': 5, 'DECAY_FACTOR': 0.7, 'MIN_LR': 1e-12, 'MONITOR_FUNCTION': 'loss', 'MONITOR_MODE': 'min', 'SAVE_MODEL_FUNCTION': 'loss', 'SAVE_MODEL_MODE': 'min', 'MODEL_PATIENCE': 20, 'SAVE_LEARNING_PROGRESS_AS_TF': True, 'BORDER_MODE': 4, 'IMG_INTERPOLATION': 1, 'MSK_INTERPOLATION': 0, 'AUGMENT': True, 'AUGMENT_PROB': 0.8, 'AUGMENT_PHASES': True, 'AUGMENT_PHASES_RANGE': (-10, 10), 'REPEAT_ONEHOT': True, 'SHUFFLE': True, 'RESAMPLE': True, 'SCALER': 'MinMax', 'PHASES': 5, 'TARGET_SMOOTHING': True, 'SMOOTHING_KERNEL_SIZE': 12, 'SMOOTHING_LOWER_BORDER': 1, 'SMOOTHING_UPPER_BORDER': 5, 'SMOOTHING_WEIGHT_CORRECT': 10, 'TENSORBOARD_LOG_DIR': 'reports/tensorboard_logs/cv_baseline_taug10/8_64_64__8_3_3_4tenc_conv1_MSE_NOnorm_augshiftrot_NOtaug_3_batch8'}\n"
     ]
    },
    {
     "name": "stderr",
     "output_type": "stream",
     "text": [
      "2021-03-04 00:40:00,785 INFO no files found, try to load with clean.nrrd/mask.nrrd pattern\n",
      "2021-03-04 00:40:00,793 INFO Found 278 images/masks in /mnt/ssd/data/gcn/02_imported_4D_unfiltered/SAX/\n",
      "2021-03-04 00:40:00,800 INFO Patients train: 209\n",
      "2021-03-04 00:40:00,812 INFO Selected 209 of 278 files with 209 of 279 patients for training fold 0\n",
      "2021-03-04 00:40:00,812 INFO SAX train CMR: 209, SAX train masks: 209\n",
      "2021-03-04 00:40:00,813 INFO SAX val CMR: 69, SAX val masks: 69\n",
      "2021-03-04 00:40:00,826 INFO Check if we find the patient ID and phase mapping for all: 278 files.\n",
      "2021-03-04 00:40:01,093 INFO Done!\n",
      "2021-03-04 00:40:01,094 INFO Create DataGenerator\n",
      "2021-03-04 00:40:01,096 INFO Datagenerator created with: \n",
      " shape: [8, 64, 64]\n",
      " spacing: [8, 3, 3]\n",
      " batchsize: 8\n",
      " Scaler: MinMax\n",
      " Images: 209 \n",
      " Augment: True \n",
      " Thread workers: 8\n",
      "2021-03-04 00:40:01,096 INFO Data will be augmented (shift,scale and rotate) with albumentation\n",
      "2021-03-04 00:40:01,109 INFO Smoothing kernel: \n",
      "[ 1.   1.8  2.6  3.4  4.2  5.  10.   5.   4.2  3.4  2.6  1.8  1. ]\n",
      "2021-03-04 00:40:01,109 INFO Temporal phase augmentation: \n",
      "True\n",
      "Repeat volume: \n",
      "True\n",
      "2021-03-04 00:40:01,109 INFO Create DataGenerator\n",
      "2021-03-04 00:40:01,111 INFO Datagenerator created with: \n",
      " shape: [8, 64, 64]\n",
      " spacing: [8, 3, 3]\n",
      " batchsize: 8\n",
      " Scaler: MinMax\n",
      " Images: 69 \n",
      " Augment: False \n",
      " Thread workers: 8\n",
      "2021-03-04 00:40:01,111 INFO No augmentation\n",
      "2021-03-04 00:40:01,125 INFO Smoothing kernel: \n",
      "[ 1.   1.8  2.6  3.4  4.2  5.  10.   5.   4.2  3.4  2.6  1.8  1. ]\n",
      "2021-03-04 00:40:01,125 INFO Temporal phase augmentation: \n",
      "False\n",
      "Repeat volume: \n",
      "True\n"
     ]
    },
    {
     "name": "stdout",
     "output_type": "stream",
     "text": [
      "Shape after the temporal encoder\n",
      "(None, 36, 8, 4, 4, 512)\n",
      "Shape after GAP\n",
      "(None, 36, 512)\n",
      "Shape after Bi-LSTM layer\n",
      "(None, 36, 512)\n",
      "Shape after final conv layer\n",
      "(None, 36, 5)\n"
     ]
    },
    {
     "name": "stderr",
     "output_type": "stream",
     "text": [
      "2021-03-04 00:40:05,515 INFO feed 4 Tensorboard is ready\n"
     ]
    },
    {
     "name": "stdout",
     "output_type": "stream",
     "text": [
      "Epoch 1/50\n",
      "26/26 [==============================] - ETA: 0s - loss: 1.1957 - mse_wrapper: 1.1957 - ca_wrapper: 0.3673 - meandiff: 18.0288"
     ]
    },
    {
     "name": "stderr",
     "output_type": "stream",
     "text": [
      "2021-03-04 00:41:13,156 INFO (4, 2, 36, 5)\n",
      "2021-03-04 00:41:13,728 INFO (4, 2, 36, 5)\n"
     ]
    },
    {
     "name": "stdout",
     "output_type": "stream",
     "text": [
      "\n",
      "Epoch 00001: loss improved from inf to 1.19573, saving model to exp/cv_baseline_taug10/8_64_64__8_3_3_4tenc_conv1_MSE_NOnorm_augshiftrot_NOtaug_3_batch8_f0/2021-03-04_00_40/model/model.h5\n",
      "26/26 [==============================] - 36s 1s/step - loss: 1.1957 - mse_wrapper: 1.1957 - ca_wrapper: 0.3673 - meandiff: 18.0288 - val_loss: 3.9203 - val_mse_wrapper: 3.9203 - val_ca_wrapper: 0.2891 - val_meandiff: 19.9375 - lr: 1.0000e-04\n",
      "Epoch 2/50\n",
      "26/26 [==============================] - ETA: 0s - loss: 0.8585 - mse_wrapper: 0.8585 - ca_wrapper: 0.5829 - meandiff: 9.4183"
     ]
    },
    {
     "name": "stderr",
     "output_type": "stream",
     "text": [
      "2021-03-04 00:41:46,748 INFO (4, 2, 36, 5)\n",
      "2021-03-04 00:41:47,276 INFO (4, 2, 36, 5)\n"
     ]
    },
    {
     "name": "stdout",
     "output_type": "stream",
     "text": [
      "\n",
      "Epoch 00002: loss improved from 1.19573 to 0.85846, saving model to exp/cv_baseline_taug10/8_64_64__8_3_3_4tenc_conv1_MSE_NOnorm_augshiftrot_NOtaug_3_batch8_f0/2021-03-04_00_40/model/model.h5\n",
      "26/26 [==============================] - 32s 1s/step - loss: 0.8585 - mse_wrapper: 0.8585 - ca_wrapper: 0.5829 - meandiff: 9.4183 - val_loss: 2.2037 - val_mse_wrapper: 2.2037 - val_ca_wrapper: 0.4492 - val_meandiff: 9.5781 - lr: 1.0000e-04\n",
      "Epoch 3/50\n",
      "26/26 [==============================] - ETA: 0s - loss: 0.7912 - mse_wrapper: 0.7912 - ca_wrapper: 0.6548 - meandiff: 8.2500"
     ]
    },
    {
     "name": "stderr",
     "output_type": "stream",
     "text": [
      "2021-03-04 00:42:20,358 INFO (4, 2, 36, 5)\n",
      "2021-03-04 00:42:20,922 INFO (4, 2, 36, 5)\n"
     ]
    },
    {
     "name": "stdout",
     "output_type": "stream",
     "text": [
      "\n",
      "Epoch 00003: loss improved from 0.85846 to 0.79121, saving model to exp/cv_baseline_taug10/8_64_64__8_3_3_4tenc_conv1_MSE_NOnorm_augshiftrot_NOtaug_3_batch8_f0/2021-03-04_00_40/model/model.h5\n",
      "26/26 [==============================] - 32s 1s/step - loss: 0.7912 - mse_wrapper: 0.7912 - ca_wrapper: 0.6548 - meandiff: 8.2500 - val_loss: 1.9321 - val_mse_wrapper: 1.9321 - val_ca_wrapper: 0.4249 - val_meandiff: 7.8125 - lr: 1.0000e-04\n",
      "Epoch 4/50\n",
      "26/26 [==============================] - ETA: 0s - loss: 0.7169 - mse_wrapper: 0.7169 - ca_wrapper: 0.6959 - meandiff: 6.8702"
     ]
    },
    {
     "name": "stderr",
     "output_type": "stream",
     "text": [
      "2021-03-04 00:42:54,634 INFO (4, 2, 36, 5)\n",
      "2021-03-04 00:42:55,167 INFO (4, 2, 36, 5)\n"
     ]
    },
    {
     "name": "stdout",
     "output_type": "stream",
     "text": [
      "\n",
      "Epoch 00004: loss improved from 0.79121 to 0.71692, saving model to exp/cv_baseline_taug10/8_64_64__8_3_3_4tenc_conv1_MSE_NOnorm_augshiftrot_NOtaug_3_batch8_f0/2021-03-04_00_40/model/model.h5\n",
      "26/26 [==============================] - 32s 1s/step - loss: 0.7169 - mse_wrapper: 0.7169 - ca_wrapper: 0.6959 - meandiff: 6.8702 - val_loss: 0.8767 - val_mse_wrapper: 0.8767 - val_ca_wrapper: 0.7240 - val_meandiff: 6.5000 - lr: 1.0000e-04\n",
      "Epoch 5/50\n",
      "26/26 [==============================] - ETA: 0s - loss: 0.6718 - mse_wrapper: 0.6718 - ca_wrapper: 0.7079 - meandiff: 6.2260\n",
      "Epoch 00005: loss improved from 0.71692 to 0.67182, saving model to exp/cv_baseline_taug10/8_64_64__8_3_3_4tenc_conv1_MSE_NOnorm_augshiftrot_NOtaug_3_batch8_f0/2021-03-04_00_40/model/model.h5\n",
      "26/26 [==============================] - 31s 1s/step - loss: 0.6718 - mse_wrapper: 0.6718 - ca_wrapper: 0.7079 - meandiff: 6.2260 - val_loss: 1.1983 - val_mse_wrapper: 1.1983 - val_ca_wrapper: 0.6806 - val_meandiff: 6.0625 - lr: 1.0000e-04\n",
      "Epoch 6/50\n",
      "26/26 [==============================] - ETA: 0s - loss: 0.6332 - mse_wrapper: 0.6332 - ca_wrapper: 0.7365 - meandiff: 5.8702"
     ]
    },
    {
     "name": "stderr",
     "output_type": "stream",
     "text": [
      "2021-03-04 00:44:01,862 INFO (4, 2, 36, 5)\n",
      "2021-03-04 00:44:02,436 INFO (4, 2, 36, 5)\n"
     ]
    },
    {
     "name": "stdout",
     "output_type": "stream",
     "text": [
      "\n",
      "Epoch 00006: loss improved from 0.67182 to 0.63317, saving model to exp/cv_baseline_taug10/8_64_64__8_3_3_4tenc_conv1_MSE_NOnorm_augshiftrot_NOtaug_3_batch8_f0/2021-03-04_00_40/model/model.h5\n",
      "26/26 [==============================] - 32s 1s/step - loss: 0.6332 - mse_wrapper: 0.6332 - ca_wrapper: 0.7365 - meandiff: 5.8702 - val_loss: 0.8616 - val_mse_wrapper: 0.8616 - val_ca_wrapper: 0.7422 - val_meandiff: 5.3438 - lr: 1.0000e-04\n",
      "Epoch 7/50\n",
      "26/26 [==============================] - ETA: 0s - loss: 0.6144 - mse_wrapper: 0.6144 - ca_wrapper: 0.7507 - meandiff: 5.2788\n",
      "Epoch 00007: loss improved from 0.63317 to 0.61440, saving model to exp/cv_baseline_taug10/8_64_64__8_3_3_4tenc_conv1_MSE_NOnorm_augshiftrot_NOtaug_3_batch8_f0/2021-03-04_00_40/model/model.h5\n",
      "26/26 [==============================] - 32s 1s/step - loss: 0.6144 - mse_wrapper: 0.6144 - ca_wrapper: 0.7507 - meandiff: 5.2788 - val_loss: 1.0435 - val_mse_wrapper: 1.0435 - val_ca_wrapper: 0.6988 - val_meandiff: 4.8281 - lr: 1.0000e-04\n",
      "Epoch 8/50\n",
      "26/26 [==============================] - ETA: 0s - loss: 0.6038 - mse_wrapper: 0.6038 - ca_wrapper: 0.7404 - meandiff: 5.1058"
     ]
    },
    {
     "name": "stderr",
     "output_type": "stream",
     "text": [
      "2021-03-04 00:45:10,715 INFO (4, 2, 36, 5)\n",
      "2021-03-04 00:45:11,298 INFO (4, 2, 36, 5)\n"
     ]
    },
    {
     "name": "stdout",
     "output_type": "stream",
     "text": [
      "\n",
      "Epoch 00008: loss improved from 0.61440 to 0.60384, saving model to exp/cv_baseline_taug10/8_64_64__8_3_3_4tenc_conv1_MSE_NOnorm_augshiftrot_NOtaug_3_batch8_f0/2021-03-04_00_40/model/model.h5\n",
      "26/26 [==============================] - 34s 1s/step - loss: 0.6038 - mse_wrapper: 0.6038 - ca_wrapper: 0.7404 - meandiff: 5.1058 - val_loss: 1.2595 - val_mse_wrapper: 1.2595 - val_ca_wrapper: 0.6610 - val_meandiff: 4.6094 - lr: 1.0000e-04\n",
      "Epoch 9/50\n",
      "26/26 [==============================] - ETA: 0s - loss: 0.5788 - mse_wrapper: 0.5788 - ca_wrapper: 0.7603 - meandiff: 4.7356\n",
      "Epoch 00009: loss improved from 0.60384 to 0.57877, saving model to exp/cv_baseline_taug10/8_64_64__8_3_3_4tenc_conv1_MSE_NOnorm_augshiftrot_NOtaug_3_batch8_f0/2021-03-04_00_40/model/model.h5\n",
      "26/26 [==============================] - 33s 1s/step - loss: 0.5788 - mse_wrapper: 0.5788 - ca_wrapper: 0.7603 - meandiff: 4.7356 - val_loss: 1.0845 - val_mse_wrapper: 1.0845 - val_ca_wrapper: 0.6879 - val_meandiff: 4.6094 - lr: 1.0000e-04\n",
      "Epoch 10/50\n",
      "26/26 [==============================] - ETA: 0s - loss: 0.5698 - mse_wrapper: 0.5698 - ca_wrapper: 0.7674 - meandiff: 4.8942"
     ]
    },
    {
     "name": "stderr",
     "output_type": "stream",
     "text": [
      "2021-03-04 00:46:21,302 INFO (4, 2, 36, 5)\n",
      "2021-03-04 00:46:21,877 INFO (4, 2, 36, 5)\n"
     ]
    },
    {
     "name": "stdout",
     "output_type": "stream",
     "text": [
      "\n",
      "Epoch 00010: loss improved from 0.57877 to 0.56977, saving model to exp/cv_baseline_taug10/8_64_64__8_3_3_4tenc_conv1_MSE_NOnorm_augshiftrot_NOtaug_3_batch8_f0/2021-03-04_00_40/model/model.h5\n",
      "26/26 [==============================] - 34s 1s/step - loss: 0.5698 - mse_wrapper: 0.5698 - ca_wrapper: 0.7674 - meandiff: 4.8942 - val_loss: 0.7757 - val_mse_wrapper: 0.7757 - val_ca_wrapper: 0.8043 - val_meandiff: 4.1250 - lr: 1.0000e-04\n",
      "Epoch 11/50\n",
      "26/26 [==============================] - ETA: 0s - loss: 0.5429 - mse_wrapper: 0.5429 - ca_wrapper: 0.7744 - meandiff: 4.4856\n",
      "Epoch 00011: loss improved from 0.56977 to 0.54293, saving model to exp/cv_baseline_taug10/8_64_64__8_3_3_4tenc_conv1_MSE_NOnorm_augshiftrot_NOtaug_3_batch8_f0/2021-03-04_00_40/model/model.h5\n",
      "26/26 [==============================] - 33s 1s/step - loss: 0.5429 - mse_wrapper: 0.5429 - ca_wrapper: 0.7744 - meandiff: 4.4856 - val_loss: 0.8934 - val_mse_wrapper: 0.8934 - val_ca_wrapper: 0.7161 - val_meandiff: 4.1406 - lr: 1.0000e-04\n",
      "Epoch 12/50\n",
      "26/26 [==============================] - ETA: 0s - loss: 0.5538 - mse_wrapper: 0.5538 - ca_wrapper: 0.7712 - meandiff: 4.7644"
     ]
    },
    {
     "name": "stderr",
     "output_type": "stream",
     "text": [
      "2021-03-04 00:47:32,071 INFO (4, 2, 36, 5)\n",
      "2021-03-04 00:47:32,633 INFO (4, 2, 36, 5)\n"
     ]
    },
    {
     "name": "stdout",
     "output_type": "stream",
     "text": [
      "\n",
      "Epoch 00012: loss did not improve from 0.54293\n",
      "26/26 [==============================] - 34s 1s/step - loss: 0.5538 - mse_wrapper: 0.5538 - ca_wrapper: 0.7712 - meandiff: 4.7644 - val_loss: 0.9737 - val_mse_wrapper: 0.9737 - val_ca_wrapper: 0.7049 - val_meandiff: 4.5781 - lr: 1.0000e-04\n",
      "Epoch 13/50\n",
      "26/26 [==============================] - ETA: 0s - loss: 0.5466 - mse_wrapper: 0.5466 - ca_wrapper: 0.7764 - meandiff: 4.6490\n",
      "Epoch 00013: loss did not improve from 0.54293\n",
      "26/26 [==============================] - 33s 1s/step - loss: 0.5466 - mse_wrapper: 0.5466 - ca_wrapper: 0.7764 - meandiff: 4.6490 - val_loss: 0.7627 - val_mse_wrapper: 0.7627 - val_ca_wrapper: 0.7739 - val_meandiff: 4.1562 - lr: 1.0000e-04\n",
      "Epoch 14/50\n",
      "26/26 [==============================] - ETA: 0s - loss: 0.5453 - mse_wrapper: 0.5453 - ca_wrapper: 0.7752 - meandiff: 4.3221"
     ]
    },
    {
     "name": "stderr",
     "output_type": "stream",
     "text": [
      "2021-03-04 00:48:42,909 INFO (4, 2, 36, 5)\n",
      "2021-03-04 00:48:43,455 INFO (4, 2, 36, 5)\n"
     ]
    },
    {
     "name": "stdout",
     "output_type": "stream",
     "text": [
      "\n",
      "Epoch 00014: loss did not improve from 0.54293\n",
      "26/26 [==============================] - 34s 1s/step - loss: 0.5453 - mse_wrapper: 0.5453 - ca_wrapper: 0.7752 - meandiff: 4.3221 - val_loss: 0.7236 - val_mse_wrapper: 0.7236 - val_ca_wrapper: 0.7834 - val_meandiff: 3.8906 - lr: 1.0000e-04\n",
      "Epoch 15/50\n",
      "26/26 [==============================] - ETA: 0s - loss: 0.4992 - mse_wrapper: 0.4992 - ca_wrapper: 0.7915 - meandiff: 4.0962\n",
      "Epoch 00015: loss improved from 0.54293 to 0.49916, saving model to exp/cv_baseline_taug10/8_64_64__8_3_3_4tenc_conv1_MSE_NOnorm_augshiftrot_NOtaug_3_batch8_f0/2021-03-04_00_40/model/model.h5\n",
      "26/26 [==============================] - 33s 1s/step - loss: 0.4992 - mse_wrapper: 0.4992 - ca_wrapper: 0.7915 - meandiff: 4.0962 - val_loss: 0.9057 - val_mse_wrapper: 0.9057 - val_ca_wrapper: 0.7773 - val_meandiff: 3.6875 - lr: 1.0000e-04\n",
      "Epoch 16/50\n",
      "26/26 [==============================] - ETA: 0s - loss: 0.5136 - mse_wrapper: 0.5136 - ca_wrapper: 0.7894 - meandiff: 4.1875"
     ]
    },
    {
     "name": "stderr",
     "output_type": "stream",
     "text": [
      "2021-03-04 00:49:53,250 INFO (4, 2, 36, 5)\n",
      "2021-03-04 00:49:53,824 INFO (4, 2, 36, 5)\n"
     ]
    },
    {
     "name": "stdout",
     "output_type": "stream",
     "text": [
      "\n",
      "Epoch 00016: loss did not improve from 0.49916\n",
      "26/26 [==============================] - 34s 1s/step - loss: 0.5136 - mse_wrapper: 0.5136 - ca_wrapper: 0.7894 - meandiff: 4.1875 - val_loss: 0.9720 - val_mse_wrapper: 0.9720 - val_ca_wrapper: 0.7717 - val_meandiff: 4.0156 - lr: 1.0000e-04\n",
      "Epoch 17/50\n",
      "26/26 [==============================] - ETA: 0s - loss: 0.5090 - mse_wrapper: 0.5090 - ca_wrapper: 0.7859 - meandiff: 4.0481\n",
      "Epoch 00017: loss did not improve from 0.49916\n",
      "26/26 [==============================] - 33s 1s/step - loss: 0.5090 - mse_wrapper: 0.5090 - ca_wrapper: 0.7859 - meandiff: 4.0481 - val_loss: 0.9406 - val_mse_wrapper: 0.9406 - val_ca_wrapper: 0.7487 - val_meandiff: 4.2031 - lr: 1.0000e-04\n",
      "Epoch 18/50\n",
      "26/26 [==============================] - ETA: 0s - loss: 0.4897 - mse_wrapper: 0.4897 - ca_wrapper: 0.7986 - meandiff: 4.2163"
     ]
    },
    {
     "name": "stderr",
     "output_type": "stream",
     "text": [
      "2021-03-04 00:51:03,637 INFO (4, 2, 36, 5)\n",
      "2021-03-04 00:51:04,209 INFO (4, 2, 36, 5)\n"
     ]
    },
    {
     "name": "stdout",
     "output_type": "stream",
     "text": [
      "\n",
      "Epoch 00018: loss improved from 0.49916 to 0.48965, saving model to exp/cv_baseline_taug10/8_64_64__8_3_3_4tenc_conv1_MSE_NOnorm_augshiftrot_NOtaug_3_batch8_f0/2021-03-04_00_40/model/model.h5\n",
      "26/26 [==============================] - 34s 1s/step - loss: 0.4897 - mse_wrapper: 0.4897 - ca_wrapper: 0.7986 - meandiff: 4.2163 - val_loss: 0.6780 - val_mse_wrapper: 0.6780 - val_ca_wrapper: 0.7782 - val_meandiff: 3.9062 - lr: 1.0000e-04\n",
      "Epoch 19/50\n",
      "26/26 [==============================] - ETA: 0s - loss: 0.4922 - mse_wrapper: 0.4922 - ca_wrapper: 0.7997 - meandiff: 3.9904\n",
      "Epoch 00019: loss did not improve from 0.48965\n",
      "26/26 [==============================] - 33s 1s/step - loss: 0.4922 - mse_wrapper: 0.4922 - ca_wrapper: 0.7997 - meandiff: 3.9904 - val_loss: 0.9430 - val_mse_wrapper: 0.9430 - val_ca_wrapper: 0.7834 - val_meandiff: 3.9531 - lr: 1.0000e-04\n",
      "Epoch 20/50\n",
      "26/26 [==============================] - ETA: 0s - loss: 0.4757 - mse_wrapper: 0.4757 - ca_wrapper: 0.7911 - meandiff: 3.8990"
     ]
    },
    {
     "name": "stderr",
     "output_type": "stream",
     "text": [
      "2021-03-04 00:52:14,108 INFO (4, 2, 36, 5)\n",
      "2021-03-04 00:52:14,673 INFO (4, 2, 36, 5)\n"
     ]
    },
    {
     "name": "stdout",
     "output_type": "stream",
     "text": [
      "\n",
      "Epoch 00020: loss improved from 0.48965 to 0.47566, saving model to exp/cv_baseline_taug10/8_64_64__8_3_3_4tenc_conv1_MSE_NOnorm_augshiftrot_NOtaug_3_batch8_f0/2021-03-04_00_40/model/model.h5\n",
      "26/26 [==============================] - 34s 1s/step - loss: 0.4757 - mse_wrapper: 0.4757 - ca_wrapper: 0.7911 - meandiff: 3.8990 - val_loss: 0.7802 - val_mse_wrapper: 0.7802 - val_ca_wrapper: 0.7773 - val_meandiff: 4.3125 - lr: 1.0000e-04\n",
      "Epoch 21/50\n",
      "26/26 [==============================] - ETA: 0s - loss: 0.4821 - mse_wrapper: 0.4821 - ca_wrapper: 0.8015 - meandiff: 3.9663\n",
      "Epoch 00021: loss did not improve from 0.47566\n",
      "26/26 [==============================] - 33s 1s/step - loss: 0.4821 - mse_wrapper: 0.4821 - ca_wrapper: 0.8015 - meandiff: 3.9663 - val_loss: 0.6698 - val_mse_wrapper: 0.6698 - val_ca_wrapper: 0.8047 - val_meandiff: 3.9688 - lr: 1.0000e-04\n",
      "Epoch 22/50\n",
      "26/26 [==============================] - ETA: 0s - loss: 0.4705 - mse_wrapper: 0.4705 - ca_wrapper: 0.8048 - meandiff: 3.9135"
     ]
    },
    {
     "name": "stderr",
     "output_type": "stream",
     "text": [
      "2021-03-04 00:53:24,235 INFO (4, 2, 36, 5)\n",
      "2021-03-04 00:53:24,798 INFO (4, 2, 36, 5)\n"
     ]
    },
    {
     "name": "stdout",
     "output_type": "stream",
     "text": [
      "\n",
      "Epoch 00022: loss improved from 0.47566 to 0.47046, saving model to exp/cv_baseline_taug10/8_64_64__8_3_3_4tenc_conv1_MSE_NOnorm_augshiftrot_NOtaug_3_batch8_f0/2021-03-04_00_40/model/model.h5\n",
      "26/26 [==============================] - 34s 1s/step - loss: 0.4705 - mse_wrapper: 0.4705 - ca_wrapper: 0.8048 - meandiff: 3.9135 - val_loss: 0.6475 - val_mse_wrapper: 0.6475 - val_ca_wrapper: 0.8134 - val_meandiff: 4.2344 - lr: 1.0000e-04\n",
      "Epoch 23/50\n",
      "26/26 [==============================] - ETA: 0s - loss: 0.4820 - mse_wrapper: 0.4820 - ca_wrapper: 0.8053 - meandiff: 4.0000\n",
      "Epoch 00023: loss did not improve from 0.47046\n",
      "26/26 [==============================] - 32s 1s/step - loss: 0.4820 - mse_wrapper: 0.4820 - ca_wrapper: 0.8053 - meandiff: 4.0000 - val_loss: 0.6980 - val_mse_wrapper: 0.6980 - val_ca_wrapper: 0.7799 - val_meandiff: 4.0625 - lr: 1.0000e-04\n",
      "Epoch 24/50\n",
      "26/26 [==============================] - ETA: 0s - loss: 0.4664 - mse_wrapper: 0.4664 - ca_wrapper: 0.8117 - meandiff: 4.0385"
     ]
    },
    {
     "name": "stderr",
     "output_type": "stream",
     "text": [
      "2021-03-04 00:54:34,673 INFO (4, 2, 36, 5)\n",
      "2021-03-04 00:54:35,254 INFO (4, 2, 36, 5)\n"
     ]
    },
    {
     "name": "stdout",
     "output_type": "stream",
     "text": [
      "\n",
      "Epoch 00024: loss improved from 0.47046 to 0.46644, saving model to exp/cv_baseline_taug10/8_64_64__8_3_3_4tenc_conv1_MSE_NOnorm_augshiftrot_NOtaug_3_batch8_f0/2021-03-04_00_40/model/model.h5\n",
      "26/26 [==============================] - 34s 1s/step - loss: 0.4664 - mse_wrapper: 0.4664 - ca_wrapper: 0.8117 - meandiff: 4.0385 - val_loss: 0.8713 - val_mse_wrapper: 0.8713 - val_ca_wrapper: 0.7934 - val_meandiff: 3.5312 - lr: 1.0000e-04\n",
      "Epoch 25/50\n",
      "26/26 [==============================] - ETA: 0s - loss: 0.4645 - mse_wrapper: 0.4645 - ca_wrapper: 0.8072 - meandiff: 3.7163\n",
      "Epoch 00025: loss improved from 0.46644 to 0.46448, saving model to exp/cv_baseline_taug10/8_64_64__8_3_3_4tenc_conv1_MSE_NOnorm_augshiftrot_NOtaug_3_batch8_f0/2021-03-04_00_40/model/model.h5\n",
      "26/26 [==============================] - 33s 1s/step - loss: 0.4645 - mse_wrapper: 0.4645 - ca_wrapper: 0.8072 - meandiff: 3.7163 - val_loss: 0.9068 - val_mse_wrapper: 0.9068 - val_ca_wrapper: 0.7973 - val_meandiff: 3.7656 - lr: 1.0000e-04\n",
      "Epoch 26/50\n",
      "26/26 [==============================] - ETA: 0s - loss: 0.4565 - mse_wrapper: 0.4565 - ca_wrapper: 0.8150 - meandiff: 3.7019"
     ]
    },
    {
     "name": "stderr",
     "output_type": "stream",
     "text": [
      "2021-03-04 00:55:45,467 INFO (4, 2, 36, 5)\n",
      "2021-03-04 00:55:46,030 INFO (4, 2, 36, 5)\n"
     ]
    },
    {
     "name": "stdout",
     "output_type": "stream",
     "text": [
      "\n",
      "Epoch 00026: loss improved from 0.46448 to 0.45648, saving model to exp/cv_baseline_taug10/8_64_64__8_3_3_4tenc_conv1_MSE_NOnorm_augshiftrot_NOtaug_3_batch8_f0/2021-03-04_00_40/model/model.h5\n",
      "26/26 [==============================] - 34s 1s/step - loss: 0.4565 - mse_wrapper: 0.4565 - ca_wrapper: 0.8150 - meandiff: 3.7019 - val_loss: 0.8014 - val_mse_wrapper: 0.8014 - val_ca_wrapper: 0.7899 - val_meandiff: 4.1094 - lr: 1.0000e-04\n",
      "Epoch 27/50\n",
      "26/26 [==============================] - ETA: 0s - loss: 0.4528 - mse_wrapper: 0.4528 - ca_wrapper: 0.8120 - meandiff: 3.7260\n",
      "Epoch 00027: loss improved from 0.45648 to 0.45281, saving model to exp/cv_baseline_taug10/8_64_64__8_3_3_4tenc_conv1_MSE_NOnorm_augshiftrot_NOtaug_3_batch8_f0/2021-03-04_00_40/model/model.h5\n",
      "26/26 [==============================] - 33s 1s/step - loss: 0.4528 - mse_wrapper: 0.4528 - ca_wrapper: 0.8120 - meandiff: 3.7260 - val_loss: 1.0224 - val_mse_wrapper: 1.0224 - val_ca_wrapper: 0.7617 - val_meandiff: 3.6250 - lr: 1.0000e-04\n",
      "Epoch 28/50\n",
      "26/26 [==============================] - ETA: 0s - loss: 0.4458 - mse_wrapper: 0.4458 - ca_wrapper: 0.8085 - meandiff: 3.8029"
     ]
    },
    {
     "name": "stderr",
     "output_type": "stream",
     "text": [
      "2021-03-04 00:56:55,806 INFO (4, 2, 36, 5)\n",
      "2021-03-04 00:56:56,377 INFO (4, 2, 36, 5)\n"
     ]
    },
    {
     "name": "stdout",
     "output_type": "stream",
     "text": [
      "\n",
      "Epoch 00028: loss improved from 0.45281 to 0.44577, saving model to exp/cv_baseline_taug10/8_64_64__8_3_3_4tenc_conv1_MSE_NOnorm_augshiftrot_NOtaug_3_batch8_f0/2021-03-04_00_40/model/model.h5\n",
      "26/26 [==============================] - 34s 1s/step - loss: 0.4458 - mse_wrapper: 0.4458 - ca_wrapper: 0.8085 - meandiff: 3.8029 - val_loss: 0.8925 - val_mse_wrapper: 0.8925 - val_ca_wrapper: 0.7917 - val_meandiff: 3.7344 - lr: 1.0000e-04\n",
      "Epoch 29/50\n",
      "26/26 [==============================] - ETA: 0s - loss: 0.4281 - mse_wrapper: 0.4281 - ca_wrapper: 0.8208 - meandiff: 3.4423\n",
      "Epoch 00029: loss improved from 0.44577 to 0.42812, saving model to exp/cv_baseline_taug10/8_64_64__8_3_3_4tenc_conv1_MSE_NOnorm_augshiftrot_NOtaug_3_batch8_f0/2021-03-04_00_40/model/model.h5\n",
      "26/26 [==============================] - 33s 1s/step - loss: 0.4281 - mse_wrapper: 0.4281 - ca_wrapper: 0.8208 - meandiff: 3.4423 - val_loss: 0.9880 - val_mse_wrapper: 0.9880 - val_ca_wrapper: 0.7973 - val_meandiff: 3.5938 - lr: 1.0000e-04\n",
      "Epoch 30/50\n",
      "26/26 [==============================] - ETA: 0s - loss: 0.4301 - mse_wrapper: 0.4301 - ca_wrapper: 0.8120 - meandiff: 3.7115"
     ]
    },
    {
     "name": "stderr",
     "output_type": "stream",
     "text": [
      "2021-03-04 00:58:05,940 INFO (4, 2, 36, 5)\n",
      "2021-03-04 00:58:06,497 INFO (4, 2, 36, 5)\n"
     ]
    },
    {
     "name": "stdout",
     "output_type": "stream",
     "text": [
      "\n",
      "Epoch 00030: loss did not improve from 0.42812\n",
      "26/26 [==============================] - 34s 1s/step - loss: 0.4301 - mse_wrapper: 0.4301 - ca_wrapper: 0.8120 - meandiff: 3.7115 - val_loss: 0.8916 - val_mse_wrapper: 0.8916 - val_ca_wrapper: 0.8125 - val_meandiff: 3.6094 - lr: 1.0000e-04\n",
      "Epoch 31/50\n",
      "26/26 [==============================] - ETA: 0s - loss: 0.4237 - mse_wrapper: 0.4237 - ca_wrapper: 0.8164 - meandiff: 3.4423\n",
      "Epoch 00031: loss improved from 0.42812 to 0.42366, saving model to exp/cv_baseline_taug10/8_64_64__8_3_3_4tenc_conv1_MSE_NOnorm_augshiftrot_NOtaug_3_batch8_f0/2021-03-04_00_40/model/model.h5\n",
      "26/26 [==============================] - 33s 1s/step - loss: 0.4237 - mse_wrapper: 0.4237 - ca_wrapper: 0.8164 - meandiff: 3.4423 - val_loss: 0.6667 - val_mse_wrapper: 0.6667 - val_ca_wrapper: 0.7786 - val_meandiff: 3.9688 - lr: 1.0000e-04\n",
      "Epoch 32/50\n",
      "26/26 [==============================] - ETA: 0s - loss: 0.4508 - mse_wrapper: 0.4508 - ca_wrapper: 0.8114 - meandiff: 3.5721"
     ]
    },
    {
     "name": "stderr",
     "output_type": "stream",
     "text": [
      "2021-03-04 00:59:15,915 INFO (4, 2, 36, 5)\n",
      "2021-03-04 00:59:16,468 INFO (4, 2, 36, 5)\n"
     ]
    },
    {
     "name": "stdout",
     "output_type": "stream",
     "text": [
      "\n",
      "Epoch 00032: loss did not improve from 0.42366\n",
      "26/26 [==============================] - 34s 1s/step - loss: 0.4508 - mse_wrapper: 0.4508 - ca_wrapper: 0.8114 - meandiff: 3.5721 - val_loss: 0.9823 - val_mse_wrapper: 0.9823 - val_ca_wrapper: 0.7969 - val_meandiff: 3.8750 - lr: 1.0000e-04\n",
      "Epoch 33/50\n",
      "26/26 [==============================] - ETA: 0s - loss: 0.4312 - mse_wrapper: 0.4312 - ca_wrapper: 0.8209 - meandiff: 3.5817\n",
      "Epoch 00033: loss did not improve from 0.42366\n",
      "26/26 [==============================] - 33s 1s/step - loss: 0.4312 - mse_wrapper: 0.4312 - ca_wrapper: 0.8209 - meandiff: 3.5817 - val_loss: 0.7664 - val_mse_wrapper: 0.7664 - val_ca_wrapper: 0.7752 - val_meandiff: 3.9375 - lr: 1.0000e-04\n",
      "Epoch 34/50\n",
      "26/26 [==============================] - ETA: 0s - loss: 0.4268 - mse_wrapper: 0.4268 - ca_wrapper: 0.8249 - meandiff: 3.5481"
     ]
    },
    {
     "name": "stderr",
     "output_type": "stream",
     "text": [
      "2021-03-04 01:00:26,216 INFO (4, 2, 36, 5)\n",
      "2021-03-04 01:00:26,778 INFO (4, 2, 36, 5)\n"
     ]
    },
    {
     "name": "stdout",
     "output_type": "stream",
     "text": [
      "\n",
      "Epoch 00034: loss did not improve from 0.42366\n",
      "26/26 [==============================] - 34s 1s/step - loss: 0.4268 - mse_wrapper: 0.4268 - ca_wrapper: 0.8249 - meandiff: 3.5481 - val_loss: 0.5925 - val_mse_wrapper: 0.5925 - val_ca_wrapper: 0.7956 - val_meandiff: 4.0625 - lr: 1.0000e-04\n",
      "Epoch 35/50\n",
      "26/26 [==============================] - ETA: 0s - loss: 0.4298 - mse_wrapper: 0.4298 - ca_wrapper: 0.8174 - meandiff: 3.4712\n",
      "Epoch 00035: loss did not improve from 0.42366\n",
      "26/26 [==============================] - 33s 1s/step - loss: 0.4298 - mse_wrapper: 0.4298 - ca_wrapper: 0.8174 - meandiff: 3.4712 - val_loss: 1.0082 - val_mse_wrapper: 1.0082 - val_ca_wrapper: 0.7730 - val_meandiff: 3.8281 - lr: 1.0000e-04\n",
      "Epoch 36/50\n",
      "26/26 [==============================] - ETA: 0s - loss: 0.4075 - mse_wrapper: 0.4075 - ca_wrapper: 0.8233 - meandiff: 3.3125"
     ]
    },
    {
     "name": "stderr",
     "output_type": "stream",
     "text": [
      "2021-03-04 01:01:36,402 INFO (4, 2, 36, 5)\n",
      "2021-03-04 01:01:36,974 INFO (4, 2, 36, 5)\n"
     ]
    },
    {
     "name": "stdout",
     "output_type": "stream",
     "text": [
      "\n",
      "Epoch 00036: loss improved from 0.42366 to 0.40752, saving model to exp/cv_baseline_taug10/8_64_64__8_3_3_4tenc_conv1_MSE_NOnorm_augshiftrot_NOtaug_3_batch8_f0/2021-03-04_00_40/model/model.h5\n",
      "26/26 [==============================] - 34s 1s/step - loss: 0.4075 - mse_wrapper: 0.4075 - ca_wrapper: 0.8233 - meandiff: 3.3125 - val_loss: 1.1009 - val_mse_wrapper: 1.1009 - val_ca_wrapper: 0.7808 - val_meandiff: 3.7031 - lr: 1.0000e-04\n",
      "Epoch 37/50\n",
      "26/26 [==============================] - ETA: 0s - loss: 0.4175 - mse_wrapper: 0.4175 - ca_wrapper: 0.8273 - meandiff: 3.2933\n",
      "Epoch 00037: loss did not improve from 0.40752\n",
      "26/26 [==============================] - 33s 1s/step - loss: 0.4175 - mse_wrapper: 0.4175 - ca_wrapper: 0.8273 - meandiff: 3.2933 - val_loss: 0.6412 - val_mse_wrapper: 0.6412 - val_ca_wrapper: 0.8147 - val_meandiff: 3.9219 - lr: 1.0000e-04\n",
      "Epoch 38/50\n",
      "26/26 [==============================] - ETA: 0s - loss: 0.4132 - mse_wrapper: 0.4132 - ca_wrapper: 0.8336 - meandiff: 3.2933"
     ]
    },
    {
     "name": "stderr",
     "output_type": "stream",
     "text": [
      "2021-03-04 01:02:46,586 INFO (4, 2, 36, 5)\n",
      "2021-03-04 01:02:47,154 INFO (4, 2, 36, 5)\n"
     ]
    },
    {
     "name": "stdout",
     "output_type": "stream",
     "text": [
      "\n",
      "Epoch 00038: loss did not improve from 0.40752\n",
      "26/26 [==============================] - 34s 1s/step - loss: 0.4132 - mse_wrapper: 0.4132 - ca_wrapper: 0.8336 - meandiff: 3.2933 - val_loss: 0.8544 - val_mse_wrapper: 0.8544 - val_ca_wrapper: 0.8177 - val_meandiff: 3.7344 - lr: 1.0000e-04\n",
      "Epoch 39/50\n",
      "26/26 [==============================] - ETA: 0s - loss: 0.4065 - mse_wrapper: 0.4065 - ca_wrapper: 0.8261 - meandiff: 3.4135\n",
      "Epoch 00039: loss improved from 0.40752 to 0.40653, saving model to exp/cv_baseline_taug10/8_64_64__8_3_3_4tenc_conv1_MSE_NOnorm_augshiftrot_NOtaug_3_batch8_f0/2021-03-04_00_40/model/model.h5\n",
      "26/26 [==============================] - 33s 1s/step - loss: 0.4065 - mse_wrapper: 0.4065 - ca_wrapper: 0.8261 - meandiff: 3.4135 - val_loss: 0.8903 - val_mse_wrapper: 0.8903 - val_ca_wrapper: 0.7669 - val_meandiff: 4.0000 - lr: 1.0000e-04\n",
      "Epoch 40/50\n",
      "26/26 [==============================] - ETA: 0s - loss: 0.4101 - mse_wrapper: 0.4101 - ca_wrapper: 0.8206 - meandiff: 3.4375"
     ]
    },
    {
     "name": "stderr",
     "output_type": "stream",
     "text": [
      "2021-03-04 01:03:56,949 INFO (4, 2, 36, 5)\n",
      "2021-03-04 01:03:57,520 INFO (4, 2, 36, 5)\n"
     ]
    },
    {
     "name": "stdout",
     "output_type": "stream",
     "text": [
      "\n",
      "Epoch 00040: loss did not improve from 0.40653\n",
      "26/26 [==============================] - 34s 1s/step - loss: 0.4101 - mse_wrapper: 0.4101 - ca_wrapper: 0.8206 - meandiff: 3.4375 - val_loss: 1.1041 - val_mse_wrapper: 1.1041 - val_ca_wrapper: 0.7357 - val_meandiff: 3.6875 - lr: 1.0000e-04\n",
      "Epoch 41/50\n",
      "26/26 [==============================] - ETA: 0s - loss: 0.4000 - mse_wrapper: 0.4000 - ca_wrapper: 0.8279 - meandiff: 3.1779\n",
      "Epoch 00041: loss improved from 0.40653 to 0.39997, saving model to exp/cv_baseline_taug10/8_64_64__8_3_3_4tenc_conv1_MSE_NOnorm_augshiftrot_NOtaug_3_batch8_f0/2021-03-04_00_40/model/model.h5\n",
      "26/26 [==============================] - 33s 1s/step - loss: 0.4000 - mse_wrapper: 0.4000 - ca_wrapper: 0.8279 - meandiff: 3.1779 - val_loss: 1.0143 - val_mse_wrapper: 1.0143 - val_ca_wrapper: 0.7912 - val_meandiff: 3.7344 - lr: 1.0000e-04\n",
      "Epoch 42/50\n",
      "26/26 [==============================] - ETA: 0s - loss: 0.4012 - mse_wrapper: 0.4012 - ca_wrapper: 0.8281 - meandiff: 3.3173"
     ]
    },
    {
     "name": "stderr",
     "output_type": "stream",
     "text": [
      "2021-03-04 01:05:07,367 INFO (4, 2, 36, 5)\n",
      "2021-03-04 01:05:07,935 INFO (4, 2, 36, 5)\n"
     ]
    },
    {
     "name": "stdout",
     "output_type": "stream",
     "text": [
      "\n",
      "Epoch 00042: loss did not improve from 0.39997\n",
      "26/26 [==============================] - 34s 1s/step - loss: 0.4012 - mse_wrapper: 0.4012 - ca_wrapper: 0.8281 - meandiff: 3.3173 - val_loss: 1.0359 - val_mse_wrapper: 1.0359 - val_ca_wrapper: 0.7830 - val_meandiff: 3.8594 - lr: 1.0000e-04\n",
      "Epoch 43/50\n",
      "26/26 [==============================] - ETA: 0s - loss: 0.4157 - mse_wrapper: 0.4157 - ca_wrapper: 0.8243 - meandiff: 3.4567\n",
      "Epoch 00043: loss did not improve from 0.39997\n",
      "26/26 [==============================] - 33s 1s/step - loss: 0.4157 - mse_wrapper: 0.4157 - ca_wrapper: 0.8243 - meandiff: 3.4567 - val_loss: 0.9205 - val_mse_wrapper: 0.9205 - val_ca_wrapper: 0.7895 - val_meandiff: 3.7031 - lr: 1.0000e-04\n",
      "Epoch 44/50\n",
      "26/26 [==============================] - ETA: 0s - loss: 0.3936 - mse_wrapper: 0.3936 - ca_wrapper: 0.8288 - meandiff: 3.0721"
     ]
    },
    {
     "name": "stderr",
     "output_type": "stream",
     "text": [
      "2021-03-04 01:06:17,359 INFO (4, 2, 36, 5)\n",
      "2021-03-04 01:06:17,930 INFO (4, 2, 36, 5)\n"
     ]
    },
    {
     "name": "stdout",
     "output_type": "stream",
     "text": [
      "\n",
      "Epoch 00044: loss improved from 0.39997 to 0.39365, saving model to exp/cv_baseline_taug10/8_64_64__8_3_3_4tenc_conv1_MSE_NOnorm_augshiftrot_NOtaug_3_batch8_f0/2021-03-04_00_40/model/model.h5\n",
      "26/26 [==============================] - 34s 1s/step - loss: 0.3936 - mse_wrapper: 0.3936 - ca_wrapper: 0.8288 - meandiff: 3.0721 - val_loss: 0.8427 - val_mse_wrapper: 0.8427 - val_ca_wrapper: 0.7986 - val_meandiff: 3.7500 - lr: 1.0000e-04\n",
      "Epoch 45/50\n",
      "26/26 [==============================] - ETA: 0s - loss: 0.4005 - mse_wrapper: 0.4005 - ca_wrapper: 0.8237 - meandiff: 3.1010\n",
      "Epoch 00045: loss did not improve from 0.39365\n",
      "26/26 [==============================] - 33s 1s/step - loss: 0.4005 - mse_wrapper: 0.4005 - ca_wrapper: 0.8237 - meandiff: 3.1010 - val_loss: 0.7392 - val_mse_wrapper: 0.7392 - val_ca_wrapper: 0.8147 - val_meandiff: 3.8438 - lr: 1.0000e-04\n",
      "Epoch 46/50\n",
      "26/26 [==============================] - ETA: 0s - loss: 0.3907 - mse_wrapper: 0.3907 - ca_wrapper: 0.8299 - meandiff: 3.2356"
     ]
    },
    {
     "name": "stderr",
     "output_type": "stream",
     "text": [
      "2021-03-04 01:07:27,654 INFO (4, 2, 36, 5)\n",
      "2021-03-04 01:07:28,185 INFO (4, 2, 36, 5)\n"
     ]
    },
    {
     "name": "stdout",
     "output_type": "stream",
     "text": [
      "\n",
      "Epoch 00046: loss improved from 0.39365 to 0.39070, saving model to exp/cv_baseline_taug10/8_64_64__8_3_3_4tenc_conv1_MSE_NOnorm_augshiftrot_NOtaug_3_batch8_f0/2021-03-04_00_40/model/model.h5\n",
      "26/26 [==============================] - 34s 1s/step - loss: 0.3907 - mse_wrapper: 0.3907 - ca_wrapper: 0.8299 - meandiff: 3.2356 - val_loss: 0.7948 - val_mse_wrapper: 0.7948 - val_ca_wrapper: 0.7951 - val_meandiff: 4.0469 - lr: 1.0000e-04\n",
      "Epoch 47/50\n",
      "26/26 [==============================] - ETA: 0s - loss: 0.3980 - mse_wrapper: 0.3980 - ca_wrapper: 0.8272 - meandiff: 3.3702\n",
      "Epoch 00047: loss did not improve from 0.39070\n",
      "26/26 [==============================] - 32s 1s/step - loss: 0.3980 - mse_wrapper: 0.3980 - ca_wrapper: 0.8272 - meandiff: 3.3702 - val_loss: 0.6144 - val_mse_wrapper: 0.6144 - val_ca_wrapper: 0.8142 - val_meandiff: 3.7188 - lr: 1.0000e-04\n",
      "Epoch 48/50\n",
      "26/26 [==============================] - ETA: 0s - loss: 0.3843 - mse_wrapper: 0.3843 - ca_wrapper: 0.8311 - meandiff: 3.0529"
     ]
    },
    {
     "name": "stderr",
     "output_type": "stream",
     "text": [
      "2021-03-04 01:08:37,464 INFO (4, 2, 36, 5)\n",
      "2021-03-04 01:08:38,035 INFO (4, 2, 36, 5)\n"
     ]
    },
    {
     "name": "stdout",
     "output_type": "stream",
     "text": [
      "\n",
      "Epoch 00048: loss improved from 0.39070 to 0.38430, saving model to exp/cv_baseline_taug10/8_64_64__8_3_3_4tenc_conv1_MSE_NOnorm_augshiftrot_NOtaug_3_batch8_f0/2021-03-04_00_40/model/model.h5\n",
      "26/26 [==============================] - 34s 1s/step - loss: 0.3843 - mse_wrapper: 0.3843 - ca_wrapper: 0.8311 - meandiff: 3.0529 - val_loss: 0.9426 - val_mse_wrapper: 0.9426 - val_ca_wrapper: 0.7990 - val_meandiff: 4.0000 - lr: 1.0000e-04\n",
      "Epoch 49/50\n",
      "26/26 [==============================] - ETA: 0s - loss: 0.3857 - mse_wrapper: 0.3857 - ca_wrapper: 0.8327 - meandiff: 3.1394\n",
      "Epoch 00049: loss did not improve from 0.38430\n",
      "26/26 [==============================] - 32s 1s/step - loss: 0.3857 - mse_wrapper: 0.3857 - ca_wrapper: 0.8327 - meandiff: 3.1394 - val_loss: 0.6455 - val_mse_wrapper: 0.6455 - val_ca_wrapper: 0.8138 - val_meandiff: 3.7344 - lr: 1.0000e-04\n",
      "Epoch 50/50\n",
      "26/26 [==============================] - ETA: 0s - loss: 0.3719 - mse_wrapper: 0.3719 - ca_wrapper: 0.8328 - meandiff: 3.0385"
     ]
    },
    {
     "name": "stderr",
     "output_type": "stream",
     "text": [
      "2021-03-04 01:09:47,319 INFO (4, 2, 36, 5)\n",
      "2021-03-04 01:09:47,874 INFO (4, 2, 36, 5)\n"
     ]
    },
    {
     "name": "stdout",
     "output_type": "stream",
     "text": [
      "\n",
      "Epoch 00050: loss improved from 0.38430 to 0.37186, saving model to exp/cv_baseline_taug10/8_64_64__8_3_3_4tenc_conv1_MSE_NOnorm_augshiftrot_NOtaug_3_batch8_f0/2021-03-04_00_40/model/model.h5\n",
      "26/26 [==============================] - 34s 1s/step - loss: 0.3719 - mse_wrapper: 0.3719 - ca_wrapper: 0.8328 - meandiff: 3.0385 - val_loss: 1.2341 - val_mse_wrapper: 1.2341 - val_ca_wrapper: 0.8056 - val_meandiff: 3.8281 - lr: 1.0000e-04\n"
     ]
    },
    {
     "name": "stderr",
     "output_type": "stream",
     "text": [
      "2021-03-04 01:09:49,461 INFO Fold 0 finished after 1788.648 sec\n"
     ]
    },
    {
     "data": {
      "text/plain": [
       "True"
      ]
     },
     "execution_count": 2,
     "metadata": {},
     "output_type": "execute_result"
    },
    {
     "name": "stderr",
     "output_type": "stream",
     "text": [
      "2021-03-04 01:09:49,466 INFO starting fold: 1\n",
      "2021-03-04 01:09:49,472 INFO -------------------- Start --------------------\n",
      "2021-03-04 01:09:49,472 INFO Working directory: /mnt/ssd/git/dynamic-cmr-models.\n",
      "2021-03-04 01:09:49,472 INFO Log file: ./logs/cv_baseline_taug10/8_64_64__8_3_3_4tenc_conv1_MSE_NOnorm_augshiftrot_NOtaug_3_batch8_f1.log\n",
      "2021-03-04 01:09:49,473 INFO Log level for console: INFO\n",
      "2021-03-04 01:09:49,474 INFO Is built with tensorflow: True\n",
      "2021-03-04 01:09:49,475 INFO Visible devices:\n",
      "[PhysicalDevice(name='/physical_device:CPU:0', device_type='CPU'), PhysicalDevice(name='/physical_device:XLA_CPU:0', device_type='XLA_CPU'), PhysicalDevice(name='/physical_device:XLA_GPU:0', device_type='XLA_GPU'), PhysicalDevice(name='/physical_device:XLA_GPU:1', device_type='XLA_GPU'), PhysicalDevice(name='/physical_device:GPU:0', device_type='GPU'), PhysicalDevice(name='/physical_device:GPU:1', device_type='GPU')]\n",
      "2021-03-04 01:09:49,480 INFO Local devices: \n",
      " [name: \"/device:CPU:0\"\n",
      "device_type: \"CPU\"\n",
      "memory_limit: 268435456\n",
      "locality {\n",
      "}\n",
      "incarnation: 7042651213259586560\n",
      ", name: \"/device:XLA_CPU:0\"\n",
      "device_type: \"XLA_CPU\"\n",
      "memory_limit: 17179869184\n",
      "locality {\n",
      "}\n",
      "incarnation: 10214518660176930431\n",
      "physical_device_desc: \"device: XLA_CPU device\"\n",
      ", name: \"/device:XLA_GPU:0\"\n",
      "device_type: \"XLA_GPU\"\n",
      "memory_limit: 17179869184\n",
      "locality {\n",
      "}\n",
      "incarnation: 10451151811729093431\n",
      "physical_device_desc: \"device: XLA_GPU device\"\n",
      ", name: \"/device:XLA_GPU:1\"\n",
      "device_type: \"XLA_GPU\"\n",
      "memory_limit: 17179869184\n",
      "locality {\n",
      "}\n",
      "incarnation: 13010216685946235061\n",
      "physical_device_desc: \"device: XLA_GPU device\"\n",
      ", name: \"/device:GPU:0\"\n",
      "device_type: \"GPU\"\n",
      "memory_limit: 23091460224\n",
      "locality {\n",
      "  bus_id: 1\n",
      "  links {\n",
      "  }\n",
      "}\n",
      "incarnation: 17555209467276108411\n",
      "physical_device_desc: \"device: 0, name: TITAN RTX, pci bus id: 0000:01:00.0, compute capability: 7.5\"\n",
      ", name: \"/device:GPU:1\"\n",
      "device_type: \"GPU\"\n",
      "memory_limit: 23561682304\n",
      "locality {\n",
      "  bus_id: 1\n",
      "  links {\n",
      "  }\n",
      "}\n",
      "incarnation: 5785939031811528597\n",
      "physical_device_desc: \"device: 1, name: TITAN RTX, pci bus id: 0000:02:00.0, compute capability: 7.5\"\n",
      "]\n",
      "2021-03-04 01:09:49,481 INFO no files found, try to load with clean.nrrd/mask.nrrd pattern\n",
      "2021-03-04 01:09:49,488 INFO Found 278 images/masks in /mnt/ssd/data/gcn/02_imported_4D_unfiltered/SAX/\n",
      "2021-03-04 01:09:49,489 INFO Patients train: 209\n",
      "2021-03-04 01:09:49,499 INFO Selected 208 of 278 files with 209 of 279 patients for training fold 1\n",
      "2021-03-04 01:09:49,500 INFO SAX train CMR: 208, SAX train masks: 208\n",
      "2021-03-04 01:09:49,500 INFO SAX val CMR: 70, SAX val masks: 70\n",
      "2021-03-04 01:09:49,514 INFO Check if we find the patient ID and phase mapping for all: 278 files.\n"
     ]
    },
    {
     "name": "stdout",
     "output_type": "stream",
     "text": [
      "['/gpu:0', '/gpu:1']\n",
      "{'GPU_IDS': '0,1', 'GPUS': ['/gpu:0', '/gpu:1'], 'SEED': 42, 'EXPERIMENT': 'cv_baseline_taug10/8_64_64__8_3_3_4tenc_conv1_MSE_NOnorm_augshiftrot_NOtaug_3_batch8_f1', 'EXPERIMENTS_ROOT': 'exp/', 'EXP_PATH': 'exp/cv_baseline_taug10/8_64_64__8_3_3_4tenc_conv1_MSE_NOnorm_augshiftrot_NOtaug_3_batch8_f1/2021-03-04_01_09', 'MODEL_PATH': 'exp/cv_baseline_taug10/8_64_64__8_3_3_4tenc_conv1_MSE_NOnorm_augshiftrot_NOtaug_3_batch8_f1/2021-03-04_01_09/model', 'TENSORBOARD_PATH': 'exp/cv_baseline_taug10/8_64_64__8_3_3_4tenc_conv1_MSE_NOnorm_augshiftrot_NOtaug_3_batch8_f1/2021-03-04_01_09/tensorboard_logs', 'CONFIG_PATH': 'exp/cv_baseline_taug10/8_64_64__8_3_3_4tenc_conv1_MSE_NOnorm_augshiftrot_NOtaug_3_batch8_f1/2021-03-04_01_09/config', 'HISTORY_PATH': 'exp/cv_baseline_taug10/8_64_64__8_3_3_4tenc_conv1_MSE_NOnorm_augshiftrot_NOtaug_3_batch8_f1/2021-03-04_01_09/history', 'DATA_PATH_SAX': '/mnt/ssd/data/gcn/02_imported_4D_unfiltered/SAX/', 'DF_FOLDS': '/mnt/ssd/data/gcn/02_imported_4D_unfiltered/df_kfold.csv', 'DF_META': '/mnt/ssd/data/gcn/02_imported_4D_unfiltered/SAx_3D_dicomTags_phase', 'FOLD': 1, 'BATCHSIZE': 8, 'GENERATOR_WORKER': 8, 'EPOCHS': 50, 'DIM': [8, 64, 64], 'T_SHAPE': 36, 'SPACING': [8, 3, 3], 'DEPTH': 4, 'FILTERS': 32, 'M_POOL': [1, 2, 2], 'F_SIZE': [3, 3, 3], 'BN_FIRST': False, 'BATCH_NORMALISATION': True, 'PAD': 'same', 'KERNEL_INIT': 'he_normal', 'OPTIMIZER': 'adam', 'ACTIVATION': 'relu', 'LEARNING_RATE': 0.0001, 'REDUCE_LR_ON_PLAEAU_PATIENCE': 5, 'DECAY_FACTOR': 0.7, 'MIN_LR': 1e-12, 'MONITOR_FUNCTION': 'loss', 'MONITOR_MODE': 'min', 'SAVE_MODEL_FUNCTION': 'loss', 'SAVE_MODEL_MODE': 'min', 'MODEL_PATIENCE': 20, 'SAVE_LEARNING_PROGRESS_AS_TF': True, 'BORDER_MODE': 4, 'IMG_INTERPOLATION': 1, 'MSK_INTERPOLATION': 0, 'AUGMENT': True, 'AUGMENT_PROB': 0.8, 'AUGMENT_PHASES': True, 'AUGMENT_PHASES_RANGE': (-10, 10), 'REPEAT_ONEHOT': True, 'SHUFFLE': True, 'RESAMPLE': True, 'SCALER': 'MinMax', 'PHASES': 5, 'TARGET_SMOOTHING': True, 'SMOOTHING_KERNEL_SIZE': 12, 'SMOOTHING_LOWER_BORDER': 1, 'SMOOTHING_UPPER_BORDER': 5, 'SMOOTHING_WEIGHT_CORRECT': 10, 'TENSORBOARD_LOG_DIR': 'reports/tensorboard_logs/cv_baseline_taug10/8_64_64__8_3_3_4tenc_conv1_MSE_NOnorm_augshiftrot_NOtaug_3_batch8'}\n"
     ]
    },
    {
     "name": "stderr",
     "output_type": "stream",
     "text": [
      "2021-03-04 01:09:49,763 INFO Done!\n",
      "2021-03-04 01:09:49,763 INFO Create DataGenerator\n",
      "2021-03-04 01:09:49,764 INFO Datagenerator created with: \n",
      " shape: [8, 64, 64]\n",
      " spacing: [8, 3, 3]\n",
      " batchsize: 8\n",
      " Scaler: MinMax\n",
      " Images: 208 \n",
      " Augment: True \n",
      " Thread workers: 8\n",
      "2021-03-04 01:09:49,765 INFO Data will be augmented (shift,scale and rotate) with albumentation\n",
      "2021-03-04 01:09:49,778 INFO Smoothing kernel: \n",
      "[ 1.   1.8  2.6  3.4  4.2  5.  10.   5.   4.2  3.4  2.6  1.8  1. ]\n",
      "2021-03-04 01:09:49,779 INFO Temporal phase augmentation: \n",
      "True\n",
      "Repeat volume: \n",
      "True\n",
      "2021-03-04 01:09:49,779 INFO Create DataGenerator\n",
      "2021-03-04 01:09:49,780 INFO Datagenerator created with: \n",
      " shape: [8, 64, 64]\n",
      " spacing: [8, 3, 3]\n",
      " batchsize: 8\n",
      " Scaler: MinMax\n",
      " Images: 70 \n",
      " Augment: False \n",
      " Thread workers: 8\n",
      "2021-03-04 01:09:49,780 INFO No augmentation\n",
      "2021-03-04 01:09:49,794 INFO Smoothing kernel: \n",
      "[ 1.   1.8  2.6  3.4  4.2  5.  10.   5.   4.2  3.4  2.6  1.8  1. ]\n",
      "2021-03-04 01:09:49,794 INFO Temporal phase augmentation: \n",
      "False\n",
      "Repeat volume: \n",
      "True\n"
     ]
    },
    {
     "name": "stdout",
     "output_type": "stream",
     "text": [
      "Shape after the temporal encoder\n",
      "(None, 36, 8, 4, 4, 512)\n",
      "Shape after GAP\n",
      "(None, 36, 512)\n",
      "Shape after Bi-LSTM layer\n",
      "(None, 36, 512)\n",
      "Shape after final conv layer\n",
      "(None, 36, 5)\n"
     ]
    },
    {
     "name": "stderr",
     "output_type": "stream",
     "text": [
      "2021-03-04 01:09:54,210 INFO feed 4 Tensorboard is ready\n"
     ]
    },
    {
     "name": "stdout",
     "output_type": "stream",
     "text": [
      "Epoch 1/50\n",
      "26/26 [==============================] - ETA: 0s - loss: 1.0856 - mse_wrapper: 1.0856 - ca_wrapper: 0.4340 - meandiff: 16.1442"
     ]
    },
    {
     "name": "stderr",
     "output_type": "stream",
     "text": [
      "2021-03-04 01:10:58,218 INFO (4, 2, 36, 5)\n",
      "2021-03-04 01:10:58,802 INFO (4, 2, 36, 5)\n"
     ]
    },
    {
     "name": "stdout",
     "output_type": "stream",
     "text": [
      "\n",
      "Epoch 00001: loss improved from inf to 1.08561, saving model to exp/cv_baseline_taug10/8_64_64__8_3_3_4tenc_conv1_MSE_NOnorm_augshiftrot_NOtaug_3_batch8_f1/2021-03-04_01_09/model/model.h5\n",
      "26/26 [==============================] - 37s 1s/step - loss: 1.0856 - mse_wrapper: 1.0856 - ca_wrapper: 0.4340 - meandiff: 16.1442 - val_loss: 0.9847 - val_mse_wrapper: 0.9847 - val_ca_wrapper: 0.5312 - val_meandiff: 10.1719 - lr: 1.0000e-04\n",
      "Epoch 2/50\n",
      "26/26 [==============================] - ETA: 0s - loss: 0.8220 - mse_wrapper: 0.8220 - ca_wrapper: 0.6221 - meandiff: 9.4135"
     ]
    },
    {
     "name": "stderr",
     "output_type": "stream",
     "text": [
      "2021-03-04 01:11:34,366 INFO (4, 2, 36, 5)\n",
      "2021-03-04 01:11:34,929 INFO (4, 2, 36, 5)\n"
     ]
    },
    {
     "name": "stdout",
     "output_type": "stream",
     "text": [
      "\n",
      "Epoch 00002: loss improved from 1.08561 to 0.82202, saving model to exp/cv_baseline_taug10/8_64_64__8_3_3_4tenc_conv1_MSE_NOnorm_augshiftrot_NOtaug_3_batch8_f1/2021-03-04_01_09/model/model.h5\n",
      "26/26 [==============================] - 34s 1s/step - loss: 0.8220 - mse_wrapper: 0.8220 - ca_wrapper: 0.6221 - meandiff: 9.4135 - val_loss: 1.1390 - val_mse_wrapper: 1.1390 - val_ca_wrapper: 0.5734 - val_meandiff: 13.2344 - lr: 1.0000e-04\n",
      "Epoch 3/50\n",
      "26/26 [==============================] - ETA: 0s - loss: 0.7792 - mse_wrapper: 0.7792 - ca_wrapper: 0.6425 - meandiff: 8.2212"
     ]
    },
    {
     "name": "stderr",
     "output_type": "stream",
     "text": [
      "2021-03-04 01:12:10,876 INFO (4, 2, 36, 5)\n",
      "2021-03-04 01:12:11,463 INFO (4, 2, 36, 5)\n"
     ]
    },
    {
     "name": "stdout",
     "output_type": "stream",
     "text": [
      "\n",
      "Epoch 00003: loss improved from 0.82202 to 0.77922, saving model to exp/cv_baseline_taug10/8_64_64__8_3_3_4tenc_conv1_MSE_NOnorm_augshiftrot_NOtaug_3_batch8_f1/2021-03-04_01_09/model/model.h5\n",
      "26/26 [==============================] - 35s 1s/step - loss: 0.7792 - mse_wrapper: 0.7792 - ca_wrapper: 0.6425 - meandiff: 8.2212 - val_loss: 0.7155 - val_mse_wrapper: 0.7155 - val_ca_wrapper: 0.7062 - val_meandiff: 5.3125 - lr: 1.0000e-04\n",
      "Epoch 4/50\n",
      "26/26 [==============================] - ETA: 0s - loss: 0.6902 - mse_wrapper: 0.6902 - ca_wrapper: 0.7087 - meandiff: 6.5288"
     ]
    },
    {
     "name": "stderr",
     "output_type": "stream",
     "text": [
      "2021-03-04 01:12:47,404 INFO (4, 2, 36, 5)\n",
      "2021-03-04 01:12:47,934 INFO (4, 2, 36, 5)\n"
     ]
    },
    {
     "name": "stdout",
     "output_type": "stream",
     "text": [
      "\n",
      "Epoch 00004: loss improved from 0.77922 to 0.69021, saving model to exp/cv_baseline_taug10/8_64_64__8_3_3_4tenc_conv1_MSE_NOnorm_augshiftrot_NOtaug_3_batch8_f1/2021-03-04_01_09/model/model.h5\n",
      "26/26 [==============================] - 34s 1s/step - loss: 0.6902 - mse_wrapper: 0.6902 - ca_wrapper: 0.7087 - meandiff: 6.5288 - val_loss: 1.3971 - val_mse_wrapper: 1.3971 - val_ca_wrapper: 0.7135 - val_meandiff: 4.9531 - lr: 1.0000e-04\n",
      "Epoch 5/50\n",
      "26/26 [==============================] - ETA: 0s - loss: 0.6470 - mse_wrapper: 0.6470 - ca_wrapper: 0.7390 - meandiff: 5.4808\n",
      "Epoch 00005: loss improved from 0.69021 to 0.64700, saving model to exp/cv_baseline_taug10/8_64_64__8_3_3_4tenc_conv1_MSE_NOnorm_augshiftrot_NOtaug_3_batch8_f1/2021-03-04_01_09/model/model.h5\n",
      "26/26 [==============================] - 34s 1s/step - loss: 0.6470 - mse_wrapper: 0.6470 - ca_wrapper: 0.7390 - meandiff: 5.4808 - val_loss: 0.8674 - val_mse_wrapper: 0.8674 - val_ca_wrapper: 0.7669 - val_meandiff: 4.4375 - lr: 1.0000e-04\n",
      "Epoch 6/50\n",
      "26/26 [==============================] - ETA: 0s - loss: 0.6410 - mse_wrapper: 0.6410 - ca_wrapper: 0.7415 - meandiff: 5.8990"
     ]
    },
    {
     "name": "stderr",
     "output_type": "stream",
     "text": [
      "2021-03-04 01:13:58,862 INFO (4, 2, 36, 5)\n",
      "2021-03-04 01:13:59,430 INFO (4, 2, 36, 5)\n"
     ]
    },
    {
     "name": "stdout",
     "output_type": "stream",
     "text": [
      "\n",
      "Epoch 00006: loss improved from 0.64700 to 0.64095, saving model to exp/cv_baseline_taug10/8_64_64__8_3_3_4tenc_conv1_MSE_NOnorm_augshiftrot_NOtaug_3_batch8_f1/2021-03-04_01_09/model/model.h5\n",
      "26/26 [==============================] - 34s 1s/step - loss: 0.6410 - mse_wrapper: 0.6410 - ca_wrapper: 0.7415 - meandiff: 5.8990 - val_loss: 0.9463 - val_mse_wrapper: 0.9463 - val_ca_wrapper: 0.7418 - val_meandiff: 6.7031 - lr: 1.0000e-04\n",
      "Epoch 7/50\n",
      "26/26 [==============================] - ETA: 0s - loss: 0.6026 - mse_wrapper: 0.6026 - ca_wrapper: 0.7567 - meandiff: 5.5577\n",
      "Epoch 00007: loss improved from 0.64095 to 0.60257, saving model to exp/cv_baseline_taug10/8_64_64__8_3_3_4tenc_conv1_MSE_NOnorm_augshiftrot_NOtaug_3_batch8_f1/2021-03-04_01_09/model/model.h5\n",
      "26/26 [==============================] - 33s 1s/step - loss: 0.6026 - mse_wrapper: 0.6026 - ca_wrapper: 0.7567 - meandiff: 5.5577 - val_loss: 0.7888 - val_mse_wrapper: 0.7888 - val_ca_wrapper: 0.7873 - val_meandiff: 4.1094 - lr: 1.0000e-04\n",
      "Epoch 8/50\n",
      "26/26 [==============================] - ETA: 0s - loss: 0.5664 - mse_wrapper: 0.5664 - ca_wrapper: 0.7722 - meandiff: 4.4760"
     ]
    },
    {
     "name": "stderr",
     "output_type": "stream",
     "text": [
      "2021-03-04 01:15:09,897 INFO (4, 2, 36, 5)\n",
      "2021-03-04 01:15:10,465 INFO (4, 2, 36, 5)\n"
     ]
    },
    {
     "name": "stdout",
     "output_type": "stream",
     "text": [
      "\n",
      "Epoch 00008: loss improved from 0.60257 to 0.56640, saving model to exp/cv_baseline_taug10/8_64_64__8_3_3_4tenc_conv1_MSE_NOnorm_augshiftrot_NOtaug_3_batch8_f1/2021-03-04_01_09/model/model.h5\n",
      "26/26 [==============================] - 34s 1s/step - loss: 0.5664 - mse_wrapper: 0.5664 - ca_wrapper: 0.7722 - meandiff: 4.4760 - val_loss: 0.8804 - val_mse_wrapper: 0.8804 - val_ca_wrapper: 0.7878 - val_meandiff: 4.0625 - lr: 1.0000e-04\n",
      "Epoch 9/50\n",
      "26/26 [==============================] - ETA: 0s - loss: 0.5654 - mse_wrapper: 0.5654 - ca_wrapper: 0.7780 - meandiff: 4.8365\n",
      "Epoch 00009: loss improved from 0.56640 to 0.56543, saving model to exp/cv_baseline_taug10/8_64_64__8_3_3_4tenc_conv1_MSE_NOnorm_augshiftrot_NOtaug_3_batch8_f1/2021-03-04_01_09/model/model.h5\n",
      "26/26 [==============================] - 33s 1s/step - loss: 0.5654 - mse_wrapper: 0.5654 - ca_wrapper: 0.7780 - meandiff: 4.8365 - val_loss: 0.5407 - val_mse_wrapper: 0.5407 - val_ca_wrapper: 0.8177 - val_meandiff: 3.7812 - lr: 1.0000e-04\n",
      "Epoch 10/50\n",
      "26/26 [==============================] - ETA: 0s - loss: 0.5534 - mse_wrapper: 0.5534 - ca_wrapper: 0.7791 - meandiff: 4.3606"
     ]
    },
    {
     "name": "stderr",
     "output_type": "stream",
     "text": [
      "2021-03-04 01:16:20,826 INFO (4, 2, 36, 5)\n",
      "2021-03-04 01:16:21,406 INFO (4, 2, 36, 5)\n"
     ]
    },
    {
     "name": "stdout",
     "output_type": "stream",
     "text": [
      "\n",
      "Epoch 00010: loss improved from 0.56543 to 0.55345, saving model to exp/cv_baseline_taug10/8_64_64__8_3_3_4tenc_conv1_MSE_NOnorm_augshiftrot_NOtaug_3_batch8_f1/2021-03-04_01_09/model/model.h5\n",
      "26/26 [==============================] - 34s 1s/step - loss: 0.5534 - mse_wrapper: 0.5534 - ca_wrapper: 0.7791 - meandiff: 4.3606 - val_loss: 0.5913 - val_mse_wrapper: 0.5913 - val_ca_wrapper: 0.7951 - val_meandiff: 3.7812 - lr: 1.0000e-04\n",
      "Epoch 11/50\n",
      "26/26 [==============================] - ETA: 0s - loss: 0.5495 - mse_wrapper: 0.5495 - ca_wrapper: 0.7791 - meandiff: 4.5962\n",
      "Epoch 00011: loss improved from 0.55345 to 0.54955, saving model to exp/cv_baseline_taug10/8_64_64__8_3_3_4tenc_conv1_MSE_NOnorm_augshiftrot_NOtaug_3_batch8_f1/2021-03-04_01_09/model/model.h5\n",
      "26/26 [==============================] - 33s 1s/step - loss: 0.5495 - mse_wrapper: 0.5495 - ca_wrapper: 0.7791 - meandiff: 4.5962 - val_loss: 1.0171 - val_mse_wrapper: 1.0171 - val_ca_wrapper: 0.6905 - val_meandiff: 5.9531 - lr: 1.0000e-04\n",
      "Epoch 12/50\n",
      "26/26 [==============================] - ETA: 0s - loss: 0.5386 - mse_wrapper: 0.5386 - ca_wrapper: 0.7806 - meandiff: 4.3510"
     ]
    },
    {
     "name": "stderr",
     "output_type": "stream",
     "text": [
      "2021-03-04 01:17:31,117 INFO (4, 2, 36, 5)\n",
      "2021-03-04 01:17:31,675 INFO (4, 2, 36, 5)\n"
     ]
    },
    {
     "name": "stdout",
     "output_type": "stream",
     "text": [
      "\n",
      "Epoch 00012: loss improved from 0.54955 to 0.53859, saving model to exp/cv_baseline_taug10/8_64_64__8_3_3_4tenc_conv1_MSE_NOnorm_augshiftrot_NOtaug_3_batch8_f1/2021-03-04_01_09/model/model.h5\n",
      "26/26 [==============================] - 34s 1s/step - loss: 0.5386 - mse_wrapper: 0.5386 - ca_wrapper: 0.7806 - meandiff: 4.3510 - val_loss: 0.6267 - val_mse_wrapper: 0.6267 - val_ca_wrapper: 0.7839 - val_meandiff: 3.5781 - lr: 1.0000e-04\n",
      "Epoch 13/50\n",
      "26/26 [==============================] - ETA: 0s - loss: 0.5280 - mse_wrapper: 0.5280 - ca_wrapper: 0.7898 - meandiff: 4.5288\n",
      "Epoch 00013: loss improved from 0.53859 to 0.52801, saving model to exp/cv_baseline_taug10/8_64_64__8_3_3_4tenc_conv1_MSE_NOnorm_augshiftrot_NOtaug_3_batch8_f1/2021-03-04_01_09/model/model.h5\n",
      "26/26 [==============================] - 33s 1s/step - loss: 0.5280 - mse_wrapper: 0.5280 - ca_wrapper: 0.7898 - meandiff: 4.5288 - val_loss: 0.7553 - val_mse_wrapper: 0.7553 - val_ca_wrapper: 0.7661 - val_meandiff: 4.1719 - lr: 1.0000e-04\n",
      "Epoch 14/50\n",
      "26/26 [==============================] - ETA: 0s - loss: 0.5376 - mse_wrapper: 0.5376 - ca_wrapper: 0.7830 - meandiff: 4.4375"
     ]
    },
    {
     "name": "stderr",
     "output_type": "stream",
     "text": [
      "2021-03-04 01:18:41,459 INFO (4, 2, 36, 5)\n",
      "2021-03-04 01:18:42,026 INFO (4, 2, 36, 5)\n"
     ]
    },
    {
     "name": "stdout",
     "output_type": "stream",
     "text": [
      "\n",
      "Epoch 00014: loss did not improve from 0.52801\n",
      "26/26 [==============================] - 34s 1s/step - loss: 0.5376 - mse_wrapper: 0.5376 - ca_wrapper: 0.7830 - meandiff: 4.4375 - val_loss: 0.9288 - val_mse_wrapper: 0.9288 - val_ca_wrapper: 0.7543 - val_meandiff: 3.8906 - lr: 1.0000e-04\n",
      "Epoch 15/50\n",
      "26/26 [==============================] - ETA: 0s - loss: 0.5183 - mse_wrapper: 0.5183 - ca_wrapper: 0.7926 - meandiff: 4.1394\n",
      "Epoch 00015: loss improved from 0.52801 to 0.51825, saving model to exp/cv_baseline_taug10/8_64_64__8_3_3_4tenc_conv1_MSE_NOnorm_augshiftrot_NOtaug_3_batch8_f1/2021-03-04_01_09/model/model.h5\n",
      "26/26 [==============================] - 33s 1s/step - loss: 0.5183 - mse_wrapper: 0.5183 - ca_wrapper: 0.7926 - meandiff: 4.1394 - val_loss: 0.5912 - val_mse_wrapper: 0.5912 - val_ca_wrapper: 0.7826 - val_meandiff: 3.9844 - lr: 1.0000e-04\n",
      "Epoch 16/50\n",
      "26/26 [==============================] - ETA: 0s - loss: 0.5014 - mse_wrapper: 0.5014 - ca_wrapper: 0.8003 - meandiff: 4.0096"
     ]
    },
    {
     "name": "stderr",
     "output_type": "stream",
     "text": [
      "2021-03-04 01:19:51,785 INFO (4, 2, 36, 5)\n",
      "2021-03-04 01:19:52,358 INFO (4, 2, 36, 5)\n"
     ]
    },
    {
     "name": "stdout",
     "output_type": "stream",
     "text": [
      "\n",
      "Epoch 00016: loss improved from 0.51825 to 0.50136, saving model to exp/cv_baseline_taug10/8_64_64__8_3_3_4tenc_conv1_MSE_NOnorm_augshiftrot_NOtaug_3_batch8_f1/2021-03-04_01_09/model/model.h5\n",
      "26/26 [==============================] - 34s 1s/step - loss: 0.5014 - mse_wrapper: 0.5014 - ca_wrapper: 0.8003 - meandiff: 4.0096 - val_loss: 0.8537 - val_mse_wrapper: 0.8537 - val_ca_wrapper: 0.7587 - val_meandiff: 3.7812 - lr: 1.0000e-04\n",
      "Epoch 17/50\n",
      "26/26 [==============================] - ETA: 0s - loss: 0.5145 - mse_wrapper: 0.5145 - ca_wrapper: 0.7939 - meandiff: 4.2981\n",
      "Epoch 00017: loss did not improve from 0.50136\n",
      "26/26 [==============================] - 32s 1s/step - loss: 0.5145 - mse_wrapper: 0.5145 - ca_wrapper: 0.7939 - meandiff: 4.2981 - val_loss: 0.6210 - val_mse_wrapper: 0.6210 - val_ca_wrapper: 0.8082 - val_meandiff: 3.5469 - lr: 1.0000e-04\n",
      "Epoch 18/50\n",
      "26/26 [==============================] - ETA: 0s - loss: 0.5105 - mse_wrapper: 0.5105 - ca_wrapper: 0.7966 - meandiff: 4.1202"
     ]
    },
    {
     "name": "stderr",
     "output_type": "stream",
     "text": [
      "2021-03-04 01:21:01,095 INFO (4, 2, 36, 5)\n",
      "2021-03-04 01:21:01,668 INFO (4, 2, 36, 5)\n"
     ]
    },
    {
     "name": "stdout",
     "output_type": "stream",
     "text": [
      "\n",
      "Epoch 00018: loss did not improve from 0.50136\n",
      "26/26 [==============================] - 33s 1s/step - loss: 0.5105 - mse_wrapper: 0.5105 - ca_wrapper: 0.7966 - meandiff: 4.1202 - val_loss: 0.6724 - val_mse_wrapper: 0.6724 - val_ca_wrapper: 0.8329 - val_meandiff: 3.8594 - lr: 1.0000e-04\n",
      "Epoch 19/50\n",
      "26/26 [==============================] - ETA: 0s - loss: 0.4971 - mse_wrapper: 0.4971 - ca_wrapper: 0.8069 - meandiff: 4.1298\n",
      "Epoch 00019: loss improved from 0.50136 to 0.49708, saving model to exp/cv_baseline_taug10/8_64_64__8_3_3_4tenc_conv1_MSE_NOnorm_augshiftrot_NOtaug_3_batch8_f1/2021-03-04_01_09/model/model.h5\n",
      "26/26 [==============================] - 33s 1s/step - loss: 0.4971 - mse_wrapper: 0.4971 - ca_wrapper: 0.8069 - meandiff: 4.1298 - val_loss: 0.5586 - val_mse_wrapper: 0.5586 - val_ca_wrapper: 0.8138 - val_meandiff: 3.7188 - lr: 1.0000e-04\n",
      "Epoch 20/50\n",
      "26/26 [==============================] - ETA: 0s - loss: 0.4984 - mse_wrapper: 0.4984 - ca_wrapper: 0.7989 - meandiff: 4.1875"
     ]
    },
    {
     "name": "stderr",
     "output_type": "stream",
     "text": [
      "2021-03-04 01:22:10,987 INFO (4, 2, 36, 5)\n",
      "2021-03-04 01:22:11,540 INFO (4, 2, 36, 5)\n"
     ]
    },
    {
     "name": "stdout",
     "output_type": "stream",
     "text": [
      "\n",
      "Epoch 00020: loss did not improve from 0.49708\n",
      "26/26 [==============================] - 34s 1s/step - loss: 0.4984 - mse_wrapper: 0.4984 - ca_wrapper: 0.7989 - meandiff: 4.1875 - val_loss: 0.7079 - val_mse_wrapper: 0.7079 - val_ca_wrapper: 0.8012 - val_meandiff: 3.4219 - lr: 1.0000e-04\n",
      "Epoch 21/50\n",
      "26/26 [==============================] - ETA: 0s - loss: 0.4996 - mse_wrapper: 0.4996 - ca_wrapper: 0.8050 - meandiff: 3.8702\n",
      "Epoch 00021: loss did not improve from 0.49708\n",
      "26/26 [==============================] - 33s 1s/step - loss: 0.4996 - mse_wrapper: 0.4996 - ca_wrapper: 0.8050 - meandiff: 3.8702 - val_loss: 0.7550 - val_mse_wrapper: 0.7550 - val_ca_wrapper: 0.7895 - val_meandiff: 3.8125 - lr: 1.0000e-04\n",
      "Epoch 22/50\n",
      "26/26 [==============================] - ETA: 0s - loss: 0.4788 - mse_wrapper: 0.4788 - ca_wrapper: 0.8064 - meandiff: 3.9038"
     ]
    },
    {
     "name": "stderr",
     "output_type": "stream",
     "text": [
      "2021-03-04 01:23:20,828 INFO (4, 2, 36, 5)\n",
      "2021-03-04 01:23:21,398 INFO (4, 2, 36, 5)\n"
     ]
    },
    {
     "name": "stdout",
     "output_type": "stream",
     "text": [
      "\n",
      "Epoch 00022: loss improved from 0.49708 to 0.47881, saving model to exp/cv_baseline_taug10/8_64_64__8_3_3_4tenc_conv1_MSE_NOnorm_augshiftrot_NOtaug_3_batch8_f1/2021-03-04_01_09/model/model.h5\n",
      "26/26 [==============================] - 34s 1s/step - loss: 0.4788 - mse_wrapper: 0.4788 - ca_wrapper: 0.8064 - meandiff: 3.9038 - val_loss: 0.7556 - val_mse_wrapper: 0.7556 - val_ca_wrapper: 0.7986 - val_meandiff: 3.4844 - lr: 1.0000e-04\n",
      "Epoch 23/50\n",
      "26/26 [==============================] - ETA: 0s - loss: 0.4734 - mse_wrapper: 0.4734 - ca_wrapper: 0.8084 - meandiff: 3.8846\n",
      "Epoch 00023: loss improved from 0.47881 to 0.47343, saving model to exp/cv_baseline_taug10/8_64_64__8_3_3_4tenc_conv1_MSE_NOnorm_augshiftrot_NOtaug_3_batch8_f1/2021-03-04_01_09/model/model.h5\n",
      "26/26 [==============================] - 33s 1s/step - loss: 0.4734 - mse_wrapper: 0.4734 - ca_wrapper: 0.8084 - meandiff: 3.8846 - val_loss: 1.0750 - val_mse_wrapper: 1.0750 - val_ca_wrapper: 0.6849 - val_meandiff: 4.3438 - lr: 1.0000e-04\n",
      "Epoch 24/50\n",
      "26/26 [==============================] - ETA: 0s - loss: 0.4768 - mse_wrapper: 0.4768 - ca_wrapper: 0.8073 - meandiff: 3.9471"
     ]
    },
    {
     "name": "stderr",
     "output_type": "stream",
     "text": [
      "2021-03-04 01:24:31,147 INFO (4, 2, 36, 5)\n",
      "2021-03-04 01:24:31,710 INFO (4, 2, 36, 5)\n"
     ]
    },
    {
     "name": "stdout",
     "output_type": "stream",
     "text": [
      "\n",
      "Epoch 00024: loss did not improve from 0.47343\n",
      "26/26 [==============================] - 34s 1s/step - loss: 0.4768 - mse_wrapper: 0.4768 - ca_wrapper: 0.8073 - meandiff: 3.9471 - val_loss: 0.6980 - val_mse_wrapper: 0.6980 - val_ca_wrapper: 0.7908 - val_meandiff: 3.4219 - lr: 1.0000e-04\n",
      "Epoch 25/50\n",
      "26/26 [==============================] - ETA: 0s - loss: 0.4776 - mse_wrapper: 0.4776 - ca_wrapper: 0.8026 - meandiff: 3.9279\n",
      "Epoch 00025: loss did not improve from 0.47343\n",
      "26/26 [==============================] - 32s 1s/step - loss: 0.4776 - mse_wrapper: 0.4776 - ca_wrapper: 0.8026 - meandiff: 3.9279 - val_loss: 0.9512 - val_mse_wrapper: 0.9512 - val_ca_wrapper: 0.7192 - val_meandiff: 4.4375 - lr: 1.0000e-04\n",
      "Epoch 26/50\n",
      "26/26 [==============================] - ETA: 0s - loss: 0.4779 - mse_wrapper: 0.4779 - ca_wrapper: 0.8070 - meandiff: 3.9904"
     ]
    },
    {
     "name": "stderr",
     "output_type": "stream",
     "text": [
      "2021-03-04 01:25:40,890 INFO (4, 2, 36, 5)\n",
      "2021-03-04 01:25:41,447 INFO (4, 2, 36, 5)\n"
     ]
    },
    {
     "name": "stdout",
     "output_type": "stream",
     "text": [
      "\n",
      "Epoch 00026: loss did not improve from 0.47343\n",
      "26/26 [==============================] - 34s 1s/step - loss: 0.4779 - mse_wrapper: 0.4779 - ca_wrapper: 0.8070 - meandiff: 3.9904 - val_loss: 1.3848 - val_mse_wrapper: 1.3848 - val_ca_wrapper: 0.7444 - val_meandiff: 4.2344 - lr: 1.0000e-04\n",
      "Epoch 27/50\n",
      "26/26 [==============================] - ETA: 0s - loss: 0.4730 - mse_wrapper: 0.4730 - ca_wrapper: 0.8044 - meandiff: 3.9423\n",
      "Epoch 00027: loss improved from 0.47343 to 0.47304, saving model to exp/cv_baseline_taug10/8_64_64__8_3_3_4tenc_conv1_MSE_NOnorm_augshiftrot_NOtaug_3_batch8_f1/2021-03-04_01_09/model/model.h5\n",
      "26/26 [==============================] - 33s 1s/step - loss: 0.4730 - mse_wrapper: 0.4730 - ca_wrapper: 0.8044 - meandiff: 3.9423 - val_loss: 0.6274 - val_mse_wrapper: 0.6274 - val_ca_wrapper: 0.8320 - val_meandiff: 3.4531 - lr: 1.0000e-04\n",
      "Epoch 28/50\n",
      "26/26 [==============================] - ETA: 0s - loss: 0.4562 - mse_wrapper: 0.4562 - ca_wrapper: 0.8170 - meandiff: 3.7260"
     ]
    },
    {
     "name": "stderr",
     "output_type": "stream",
     "text": [
      "2021-03-04 01:26:51,077 INFO (4, 2, 36, 5)\n",
      "2021-03-04 01:26:51,599 INFO (4, 2, 36, 5)\n"
     ]
    },
    {
     "name": "stdout",
     "output_type": "stream",
     "text": [
      "\n",
      "Epoch 00028: loss improved from 0.47304 to 0.45617, saving model to exp/cv_baseline_taug10/8_64_64__8_3_3_4tenc_conv1_MSE_NOnorm_augshiftrot_NOtaug_3_batch8_f1/2021-03-04_01_09/model/model.h5\n",
      "26/26 [==============================] - 34s 1s/step - loss: 0.4562 - mse_wrapper: 0.4562 - ca_wrapper: 0.8170 - meandiff: 3.7260 - val_loss: 0.6237 - val_mse_wrapper: 0.6237 - val_ca_wrapper: 0.8320 - val_meandiff: 3.4062 - lr: 1.0000e-04\n",
      "Epoch 29/50\n",
      "26/26 [==============================] - ETA: 0s - loss: 0.4472 - mse_wrapper: 0.4472 - ca_wrapper: 0.8166 - meandiff: 3.5625\n",
      "Epoch 00029: loss improved from 0.45617 to 0.44725, saving model to exp/cv_baseline_taug10/8_64_64__8_3_3_4tenc_conv1_MSE_NOnorm_augshiftrot_NOtaug_3_batch8_f1/2021-03-04_01_09/model/model.h5\n",
      "26/26 [==============================] - 33s 1s/step - loss: 0.4472 - mse_wrapper: 0.4472 - ca_wrapper: 0.8166 - meandiff: 3.5625 - val_loss: 0.7307 - val_mse_wrapper: 0.7307 - val_ca_wrapper: 0.7999 - val_meandiff: 3.5469 - lr: 1.0000e-04\n",
      "Epoch 30/50\n",
      "26/26 [==============================] - ETA: 0s - loss: 0.4497 - mse_wrapper: 0.4497 - ca_wrapper: 0.8173 - meandiff: 3.7981"
     ]
    },
    {
     "name": "stderr",
     "output_type": "stream",
     "text": [
      "2021-03-04 01:28:01,101 INFO (4, 2, 36, 5)\n",
      "2021-03-04 01:28:01,649 INFO (4, 2, 36, 5)\n"
     ]
    },
    {
     "name": "stdout",
     "output_type": "stream",
     "text": [
      "\n",
      "Epoch 00030: loss did not improve from 0.44725\n",
      "26/26 [==============================] - 34s 1s/step - loss: 0.4497 - mse_wrapper: 0.4497 - ca_wrapper: 0.8173 - meandiff: 3.7981 - val_loss: 0.5394 - val_mse_wrapper: 0.5394 - val_ca_wrapper: 0.8082 - val_meandiff: 3.6250 - lr: 1.0000e-04\n",
      "Epoch 31/50\n",
      "26/26 [==============================] - ETA: 0s - loss: 0.4531 - mse_wrapper: 0.4531 - ca_wrapper: 0.8136 - meandiff: 3.8269\n",
      "Epoch 00031: loss did not improve from 0.44725\n",
      "26/26 [==============================] - 33s 1s/step - loss: 0.4531 - mse_wrapper: 0.4531 - ca_wrapper: 0.8136 - meandiff: 3.8269 - val_loss: 1.1129 - val_mse_wrapper: 1.1129 - val_ca_wrapper: 0.7253 - val_meandiff: 4.1719 - lr: 1.0000e-04\n",
      "Epoch 32/50\n",
      "26/26 [==============================] - ETA: 0s - loss: 0.4683 - mse_wrapper: 0.4683 - ca_wrapper: 0.8138 - meandiff: 3.8702"
     ]
    },
    {
     "name": "stderr",
     "output_type": "stream",
     "text": [
      "2021-03-04 01:29:11,114 INFO (4, 2, 36, 5)\n",
      "2021-03-04 01:29:11,684 INFO (4, 2, 36, 5)\n"
     ]
    },
    {
     "name": "stdout",
     "output_type": "stream",
     "text": [
      "\n",
      "Epoch 00032: loss did not improve from 0.44725\n",
      "26/26 [==============================] - 33s 1s/step - loss: 0.4683 - mse_wrapper: 0.4683 - ca_wrapper: 0.8138 - meandiff: 3.8702 - val_loss: 0.7626 - val_mse_wrapper: 0.7626 - val_ca_wrapper: 0.8255 - val_meandiff: 3.5312 - lr: 1.0000e-04\n",
      "Epoch 33/50\n",
      "26/26 [==============================] - ETA: 0s - loss: 0.4486 - mse_wrapper: 0.4486 - ca_wrapper: 0.8233 - meandiff: 3.7163\n",
      "Epoch 00033: loss did not improve from 0.44725\n",
      "26/26 [==============================] - 33s 1s/step - loss: 0.4486 - mse_wrapper: 0.4486 - ca_wrapper: 0.8233 - meandiff: 3.7163 - val_loss: 0.7225 - val_mse_wrapper: 0.7225 - val_ca_wrapper: 0.8186 - val_meandiff: 3.3750 - lr: 1.0000e-04\n",
      "Epoch 34/50\n",
      "26/26 [==============================] - ETA: 0s - loss: 0.4330 - mse_wrapper: 0.4330 - ca_wrapper: 0.8162 - meandiff: 3.6683"
     ]
    },
    {
     "name": "stderr",
     "output_type": "stream",
     "text": [
      "2021-03-04 01:30:21,148 INFO (4, 2, 36, 5)\n",
      "2021-03-04 01:30:21,702 INFO (4, 2, 36, 5)\n"
     ]
    },
    {
     "name": "stdout",
     "output_type": "stream",
     "text": [
      "\n",
      "Epoch 00034: loss improved from 0.44725 to 0.43300, saving model to exp/cv_baseline_taug10/8_64_64__8_3_3_4tenc_conv1_MSE_NOnorm_augshiftrot_NOtaug_3_batch8_f1/2021-03-04_01_09/model/model.h5\n",
      "26/26 [==============================] - 34s 1s/step - loss: 0.4330 - mse_wrapper: 0.4330 - ca_wrapper: 0.8162 - meandiff: 3.6683 - val_loss: 0.7261 - val_mse_wrapper: 0.7261 - val_ca_wrapper: 0.8038 - val_meandiff: 3.4531 - lr: 1.0000e-04\n",
      "Epoch 35/50\n",
      "26/26 [==============================] - ETA: 0s - loss: 0.4352 - mse_wrapper: 0.4352 - ca_wrapper: 0.8202 - meandiff: 3.5865\n",
      "Epoch 00035: loss did not improve from 0.43300\n",
      "26/26 [==============================] - 32s 1s/step - loss: 0.4352 - mse_wrapper: 0.4352 - ca_wrapper: 0.8202 - meandiff: 3.5865 - val_loss: 0.5401 - val_mse_wrapper: 0.5401 - val_ca_wrapper: 0.8012 - val_meandiff: 3.4531 - lr: 1.0000e-04\n",
      "Epoch 36/50\n",
      "26/26 [==============================] - ETA: 0s - loss: 0.4415 - mse_wrapper: 0.4415 - ca_wrapper: 0.8226 - meandiff: 3.6010"
     ]
    },
    {
     "name": "stderr",
     "output_type": "stream",
     "text": [
      "2021-03-04 01:31:30,955 INFO (4, 2, 36, 5)\n",
      "2021-03-04 01:31:31,504 INFO (4, 2, 36, 5)\n"
     ]
    },
    {
     "name": "stdout",
     "output_type": "stream",
     "text": [
      "\n",
      "Epoch 00036: loss did not improve from 0.43300\n",
      "26/26 [==============================] - 34s 1s/step - loss: 0.4415 - mse_wrapper: 0.4415 - ca_wrapper: 0.8226 - meandiff: 3.6010 - val_loss: 0.9574 - val_mse_wrapper: 0.9574 - val_ca_wrapper: 0.7760 - val_meandiff: 3.6875 - lr: 1.0000e-04\n",
      "Epoch 37/50\n",
      "26/26 [==============================] - ETA: 0s - loss: 0.4605 - mse_wrapper: 0.4605 - ca_wrapper: 0.8145 - meandiff: 3.6010\n",
      "Epoch 00037: loss did not improve from 0.43300\n",
      "26/26 [==============================] - 33s 1s/step - loss: 0.4605 - mse_wrapper: 0.4605 - ca_wrapper: 0.8145 - meandiff: 3.6010 - val_loss: 0.8802 - val_mse_wrapper: 0.8802 - val_ca_wrapper: 0.7739 - val_meandiff: 3.5469 - lr: 1.0000e-04\n",
      "Epoch 38/50\n",
      "26/26 [==============================] - ETA: 0s - loss: 0.4337 - mse_wrapper: 0.4337 - ca_wrapper: 0.8166 - meandiff: 3.4904"
     ]
    },
    {
     "name": "stderr",
     "output_type": "stream",
     "text": [
      "2021-03-04 01:32:41,435 INFO (4, 2, 36, 5)\n",
      "2021-03-04 01:32:41,999 INFO (4, 2, 36, 5)\n"
     ]
    },
    {
     "name": "stdout",
     "output_type": "stream",
     "text": [
      "\n",
      "Epoch 00038: loss did not improve from 0.43300\n",
      "26/26 [==============================] - 34s 1s/step - loss: 0.4337 - mse_wrapper: 0.4337 - ca_wrapper: 0.8166 - meandiff: 3.4904 - val_loss: 0.7315 - val_mse_wrapper: 0.7315 - val_ca_wrapper: 0.8359 - val_meandiff: 3.3438 - lr: 1.0000e-04\n",
      "Epoch 39/50\n",
      "26/26 [==============================] - ETA: 0s - loss: 0.4157 - mse_wrapper: 0.4157 - ca_wrapper: 0.8237 - meandiff: 3.4038\n",
      "Epoch 00039: loss improved from 0.43300 to 0.41572, saving model to exp/cv_baseline_taug10/8_64_64__8_3_3_4tenc_conv1_MSE_NOnorm_augshiftrot_NOtaug_3_batch8_f1/2021-03-04_01_09/model/model.h5\n",
      "26/26 [==============================] - 33s 1s/step - loss: 0.4157 - mse_wrapper: 0.4157 - ca_wrapper: 0.8237 - meandiff: 3.4038 - val_loss: 1.3905 - val_mse_wrapper: 1.3905 - val_ca_wrapper: 0.7665 - val_meandiff: 3.6094 - lr: 1.0000e-04\n",
      "Epoch 40/50\n",
      "26/26 [==============================] - ETA: 0s - loss: 0.4288 - mse_wrapper: 0.4288 - ca_wrapper: 0.8200 - meandiff: 3.5048"
     ]
    },
    {
     "name": "stderr",
     "output_type": "stream",
     "text": [
      "2021-03-04 01:33:51,359 INFO (4, 2, 36, 5)\n",
      "2021-03-04 01:33:51,917 INFO (4, 2, 36, 5)\n"
     ]
    },
    {
     "name": "stdout",
     "output_type": "stream",
     "text": [
      "\n",
      "Epoch 00040: loss did not improve from 0.41572\n",
      "26/26 [==============================] - 34s 1s/step - loss: 0.4288 - mse_wrapper: 0.4288 - ca_wrapper: 0.8200 - meandiff: 3.5048 - val_loss: 0.6747 - val_mse_wrapper: 0.6747 - val_ca_wrapper: 0.8242 - val_meandiff: 3.4219 - lr: 1.0000e-04\n",
      "Epoch 41/50\n",
      "26/26 [==============================] - ETA: 0s - loss: 0.4069 - mse_wrapper: 0.4069 - ca_wrapper: 0.8252 - meandiff: 3.3510\n",
      "Epoch 00041: loss improved from 0.41572 to 0.40686, saving model to exp/cv_baseline_taug10/8_64_64__8_3_3_4tenc_conv1_MSE_NOnorm_augshiftrot_NOtaug_3_batch8_f1/2021-03-04_01_09/model/model.h5\n",
      "26/26 [==============================] - 33s 1s/step - loss: 0.4069 - mse_wrapper: 0.4069 - ca_wrapper: 0.8252 - meandiff: 3.3510 - val_loss: 0.6805 - val_mse_wrapper: 0.6805 - val_ca_wrapper: 0.8164 - val_meandiff: 3.2344 - lr: 1.0000e-04\n",
      "Epoch 42/50\n",
      "26/26 [==============================] - ETA: 0s - loss: 0.4150 - mse_wrapper: 0.4150 - ca_wrapper: 0.8244 - meandiff: 3.4183"
     ]
    },
    {
     "name": "stderr",
     "output_type": "stream",
     "text": [
      "2021-03-04 01:35:01,008 INFO (4, 2, 36, 5)\n",
      "2021-03-04 01:35:01,552 INFO (4, 2, 36, 5)\n"
     ]
    },
    {
     "name": "stdout",
     "output_type": "stream",
     "text": [
      "\n",
      "Epoch 00042: loss did not improve from 0.40686\n",
      "26/26 [==============================] - 34s 1s/step - loss: 0.4150 - mse_wrapper: 0.4150 - ca_wrapper: 0.8244 - meandiff: 3.4183 - val_loss: 0.9100 - val_mse_wrapper: 0.9100 - val_ca_wrapper: 0.7756 - val_meandiff: 3.5000 - lr: 1.0000e-04\n",
      "Epoch 43/50\n",
      "26/26 [==============================] - ETA: 0s - loss: 0.4271 - mse_wrapper: 0.4271 - ca_wrapper: 0.8210 - meandiff: 3.4856\n",
      "Epoch 00043: loss did not improve from 0.40686\n",
      "26/26 [==============================] - 32s 1s/step - loss: 0.4271 - mse_wrapper: 0.4271 - ca_wrapper: 0.8210 - meandiff: 3.4856 - val_loss: 0.7672 - val_mse_wrapper: 0.7672 - val_ca_wrapper: 0.7960 - val_meandiff: 3.2500 - lr: 1.0000e-04\n",
      "Epoch 44/50\n",
      "26/26 [==============================] - ETA: 0s - loss: 0.3978 - mse_wrapper: 0.3978 - ca_wrapper: 0.8218 - meandiff: 3.3942"
     ]
    },
    {
     "name": "stderr",
     "output_type": "stream",
     "text": [
      "2021-03-04 01:36:11,211 INFO (4, 2, 36, 5)\n",
      "2021-03-04 01:36:11,752 INFO (4, 2, 36, 5)\n"
     ]
    },
    {
     "name": "stdout",
     "output_type": "stream",
     "text": [
      "\n",
      "Epoch 00044: loss improved from 0.40686 to 0.39780, saving model to exp/cv_baseline_taug10/8_64_64__8_3_3_4tenc_conv1_MSE_NOnorm_augshiftrot_NOtaug_3_batch8_f1/2021-03-04_01_09/model/model.h5\n",
      "26/26 [==============================] - 34s 1s/step - loss: 0.3978 - mse_wrapper: 0.3978 - ca_wrapper: 0.8218 - meandiff: 3.3942 - val_loss: 0.7529 - val_mse_wrapper: 0.7529 - val_ca_wrapper: 0.8277 - val_meandiff: 3.3594 - lr: 1.0000e-04\n",
      "Epoch 45/50\n",
      "26/26 [==============================] - ETA: 0s - loss: 0.4069 - mse_wrapper: 0.4069 - ca_wrapper: 0.8271 - meandiff: 3.1490\n",
      "Epoch 00045: loss did not improve from 0.39780\n",
      "26/26 [==============================] - 33s 1s/step - loss: 0.4069 - mse_wrapper: 0.4069 - ca_wrapper: 0.8271 - meandiff: 3.1490 - val_loss: 0.8585 - val_mse_wrapper: 0.8585 - val_ca_wrapper: 0.8325 - val_meandiff: 3.3594 - lr: 1.0000e-04\n",
      "Epoch 46/50\n",
      "26/26 [==============================] - ETA: 0s - loss: 0.3812 - mse_wrapper: 0.3812 - ca_wrapper: 0.8284 - meandiff: 3.0865"
     ]
    },
    {
     "name": "stderr",
     "output_type": "stream",
     "text": [
      "2021-03-04 01:37:21,203 INFO (4, 2, 36, 5)\n",
      "2021-03-04 01:37:21,789 INFO (4, 2, 36, 5)\n"
     ]
    },
    {
     "name": "stdout",
     "output_type": "stream",
     "text": [
      "\n",
      "Epoch 00046: loss improved from 0.39780 to 0.38116, saving model to exp/cv_baseline_taug10/8_64_64__8_3_3_4tenc_conv1_MSE_NOnorm_augshiftrot_NOtaug_3_batch8_f1/2021-03-04_01_09/model/model.h5\n",
      "26/26 [==============================] - 34s 1s/step - loss: 0.3812 - mse_wrapper: 0.3812 - ca_wrapper: 0.8284 - meandiff: 3.0865 - val_loss: 0.6278 - val_mse_wrapper: 0.6278 - val_ca_wrapper: 0.8103 - val_meandiff: 3.3438 - lr: 1.0000e-04\n",
      "Epoch 47/50\n",
      "26/26 [==============================] - ETA: 0s - loss: 0.4077 - mse_wrapper: 0.4077 - ca_wrapper: 0.8257 - meandiff: 3.3173\n",
      "Epoch 00047: loss did not improve from 0.38116\n",
      "26/26 [==============================] - 32s 1s/step - loss: 0.4077 - mse_wrapper: 0.4077 - ca_wrapper: 0.8257 - meandiff: 3.3173 - val_loss: 0.9902 - val_mse_wrapper: 0.9902 - val_ca_wrapper: 0.7322 - val_meandiff: 3.8281 - lr: 1.0000e-04\n",
      "Epoch 48/50\n",
      "26/26 [==============================] - ETA: 0s - loss: 0.4052 - mse_wrapper: 0.4052 - ca_wrapper: 0.8206 - meandiff: 3.2740"
     ]
    },
    {
     "name": "stderr",
     "output_type": "stream",
     "text": [
      "2021-03-04 01:38:31,127 INFO (4, 2, 36, 5)\n",
      "2021-03-04 01:38:31,685 INFO (4, 2, 36, 5)\n"
     ]
    },
    {
     "name": "stdout",
     "output_type": "stream",
     "text": [
      "\n",
      "Epoch 00048: loss did not improve from 0.38116\n",
      "26/26 [==============================] - 34s 1s/step - loss: 0.4052 - mse_wrapper: 0.4052 - ca_wrapper: 0.8206 - meandiff: 3.2740 - val_loss: 0.6045 - val_mse_wrapper: 0.6045 - val_ca_wrapper: 0.8220 - val_meandiff: 3.5938 - lr: 1.0000e-04\n",
      "Epoch 49/50\n",
      "26/26 [==============================] - ETA: 0s - loss: 0.4025 - mse_wrapper: 0.4025 - ca_wrapper: 0.8279 - meandiff: 3.3846\n",
      "Epoch 00049: loss did not improve from 0.38116\n",
      "26/26 [==============================] - 32s 1s/step - loss: 0.4025 - mse_wrapper: 0.4025 - ca_wrapper: 0.8279 - meandiff: 3.3846 - val_loss: 0.7954 - val_mse_wrapper: 0.7954 - val_ca_wrapper: 0.7899 - val_meandiff: 3.7188 - lr: 1.0000e-04\n",
      "Epoch 50/50\n",
      "26/26 [==============================] - ETA: 0s - loss: 0.3980 - mse_wrapper: 0.3980 - ca_wrapper: 0.8252 - meandiff: 3.2596"
     ]
    },
    {
     "name": "stderr",
     "output_type": "stream",
     "text": [
      "2021-03-04 01:39:41,115 INFO (4, 2, 36, 5)\n",
      "2021-03-04 01:39:41,675 INFO (4, 2, 36, 5)\n"
     ]
    },
    {
     "name": "stdout",
     "output_type": "stream",
     "text": [
      "\n",
      "Epoch 00050: loss did not improve from 0.38116\n",
      "26/26 [==============================] - 34s 1s/step - loss: 0.3980 - mse_wrapper: 0.3980 - ca_wrapper: 0.8252 - meandiff: 3.2596 - val_loss: 0.5664 - val_mse_wrapper: 0.5664 - val_ca_wrapper: 0.8116 - val_meandiff: 3.3125 - lr: 1.0000e-04\n"
     ]
    },
    {
     "name": "stderr",
     "output_type": "stream",
     "text": [
      "2021-03-04 01:39:43,373 INFO Fold 1 finished after 1793.872 sec\n"
     ]
    },
    {
     "data": {
      "text/plain": [
       "True"
      ]
     },
     "execution_count": 2,
     "metadata": {},
     "output_type": "execute_result"
    },
    {
     "name": "stderr",
     "output_type": "stream",
     "text": [
      "2021-03-04 01:39:43,376 INFO starting fold: 2\n",
      "2021-03-04 01:39:43,385 INFO -------------------- Start --------------------\n",
      "2021-03-04 01:39:43,386 INFO Working directory: /mnt/ssd/git/dynamic-cmr-models.\n",
      "2021-03-04 01:39:43,386 INFO Log file: ./logs/cv_baseline_taug10/8_64_64__8_3_3_4tenc_conv1_MSE_NOnorm_augshiftrot_NOtaug_3_batch8_f2.log\n",
      "2021-03-04 01:39:43,387 INFO Log level for console: INFO\n",
      "2021-03-04 01:39:43,387 INFO Is built with tensorflow: True\n",
      "2021-03-04 01:39:43,388 INFO Visible devices:\n",
      "[PhysicalDevice(name='/physical_device:CPU:0', device_type='CPU'), PhysicalDevice(name='/physical_device:XLA_CPU:0', device_type='XLA_CPU'), PhysicalDevice(name='/physical_device:XLA_GPU:0', device_type='XLA_GPU'), PhysicalDevice(name='/physical_device:XLA_GPU:1', device_type='XLA_GPU'), PhysicalDevice(name='/physical_device:GPU:0', device_type='GPU'), PhysicalDevice(name='/physical_device:GPU:1', device_type='GPU')]\n",
      "2021-03-04 01:39:43,392 INFO Local devices: \n",
      " [name: \"/device:CPU:0\"\n",
      "device_type: \"CPU\"\n",
      "memory_limit: 268435456\n",
      "locality {\n",
      "}\n",
      "incarnation: 9130123573452683694\n",
      ", name: \"/device:XLA_CPU:0\"\n",
      "device_type: \"XLA_CPU\"\n",
      "memory_limit: 17179869184\n",
      "locality {\n",
      "}\n",
      "incarnation: 11582256821437355278\n",
      "physical_device_desc: \"device: XLA_CPU device\"\n",
      ", name: \"/device:XLA_GPU:0\"\n",
      "device_type: \"XLA_GPU\"\n",
      "memory_limit: 17179869184\n",
      "locality {\n",
      "}\n",
      "incarnation: 14315214858924997640\n",
      "physical_device_desc: \"device: XLA_GPU device\"\n",
      ", name: \"/device:XLA_GPU:1\"\n",
      "device_type: \"XLA_GPU\"\n",
      "memory_limit: 17179869184\n",
      "locality {\n",
      "}\n",
      "incarnation: 8353580199905657910\n",
      "physical_device_desc: \"device: XLA_GPU device\"\n",
      ", name: \"/device:GPU:0\"\n",
      "device_type: \"GPU\"\n",
      "memory_limit: 23091460224\n",
      "locality {\n",
      "  bus_id: 1\n",
      "  links {\n",
      "  }\n",
      "}\n",
      "incarnation: 744436440637223610\n",
      "physical_device_desc: \"device: 0, name: TITAN RTX, pci bus id: 0000:01:00.0, compute capability: 7.5\"\n",
      ", name: \"/device:GPU:1\"\n",
      "device_type: \"GPU\"\n",
      "memory_limit: 23561682304\n",
      "locality {\n",
      "  bus_id: 1\n",
      "  links {\n",
      "  }\n",
      "}\n",
      "incarnation: 14107199801826033423\n",
      "physical_device_desc: \"device: 1, name: TITAN RTX, pci bus id: 0000:02:00.0, compute capability: 7.5\"\n",
      "]\n",
      "2021-03-04 01:39:43,394 INFO no files found, try to load with clean.nrrd/mask.nrrd pattern\n",
      "2021-03-04 01:39:43,400 INFO Found 278 images/masks in /mnt/ssd/data/gcn/02_imported_4D_unfiltered/SAX/\n",
      "2021-03-04 01:39:43,400 INFO Patients train: 209\n",
      "2021-03-04 01:39:43,411 INFO Selected 208 of 278 files with 209 of 279 patients for training fold 2\n",
      "2021-03-04 01:39:43,411 INFO SAX train CMR: 208, SAX train masks: 208\n",
      "2021-03-04 01:39:43,412 INFO SAX val CMR: 70, SAX val masks: 70\n",
      "2021-03-04 01:39:43,425 INFO Check if we find the patient ID and phase mapping for all: 278 files.\n"
     ]
    },
    {
     "name": "stdout",
     "output_type": "stream",
     "text": [
      "['/gpu:0', '/gpu:1']\n",
      "{'GPU_IDS': '0,1', 'GPUS': ['/gpu:0', '/gpu:1'], 'SEED': 42, 'EXPERIMENT': 'cv_baseline_taug10/8_64_64__8_3_3_4tenc_conv1_MSE_NOnorm_augshiftrot_NOtaug_3_batch8_f2', 'EXPERIMENTS_ROOT': 'exp/', 'EXP_PATH': 'exp/cv_baseline_taug10/8_64_64__8_3_3_4tenc_conv1_MSE_NOnorm_augshiftrot_NOtaug_3_batch8_f2/2021-03-04_01_39', 'MODEL_PATH': 'exp/cv_baseline_taug10/8_64_64__8_3_3_4tenc_conv1_MSE_NOnorm_augshiftrot_NOtaug_3_batch8_f2/2021-03-04_01_39/model', 'TENSORBOARD_PATH': 'exp/cv_baseline_taug10/8_64_64__8_3_3_4tenc_conv1_MSE_NOnorm_augshiftrot_NOtaug_3_batch8_f2/2021-03-04_01_39/tensorboard_logs', 'CONFIG_PATH': 'exp/cv_baseline_taug10/8_64_64__8_3_3_4tenc_conv1_MSE_NOnorm_augshiftrot_NOtaug_3_batch8_f2/2021-03-04_01_39/config', 'HISTORY_PATH': 'exp/cv_baseline_taug10/8_64_64__8_3_3_4tenc_conv1_MSE_NOnorm_augshiftrot_NOtaug_3_batch8_f2/2021-03-04_01_39/history', 'DATA_PATH_SAX': '/mnt/ssd/data/gcn/02_imported_4D_unfiltered/SAX/', 'DF_FOLDS': '/mnt/ssd/data/gcn/02_imported_4D_unfiltered/df_kfold.csv', 'DF_META': '/mnt/ssd/data/gcn/02_imported_4D_unfiltered/SAx_3D_dicomTags_phase', 'FOLD': 2, 'BATCHSIZE': 8, 'GENERATOR_WORKER': 8, 'EPOCHS': 50, 'DIM': [8, 64, 64], 'T_SHAPE': 36, 'SPACING': [8, 3, 3], 'DEPTH': 4, 'FILTERS': 32, 'M_POOL': [1, 2, 2], 'F_SIZE': [3, 3, 3], 'BN_FIRST': False, 'BATCH_NORMALISATION': True, 'PAD': 'same', 'KERNEL_INIT': 'he_normal', 'OPTIMIZER': 'adam', 'ACTIVATION': 'relu', 'LEARNING_RATE': 0.0001, 'REDUCE_LR_ON_PLAEAU_PATIENCE': 5, 'DECAY_FACTOR': 0.7, 'MIN_LR': 1e-12, 'MONITOR_FUNCTION': 'loss', 'MONITOR_MODE': 'min', 'SAVE_MODEL_FUNCTION': 'loss', 'SAVE_MODEL_MODE': 'min', 'MODEL_PATIENCE': 20, 'SAVE_LEARNING_PROGRESS_AS_TF': True, 'BORDER_MODE': 4, 'IMG_INTERPOLATION': 1, 'MSK_INTERPOLATION': 0, 'AUGMENT': True, 'AUGMENT_PROB': 0.8, 'AUGMENT_PHASES': True, 'AUGMENT_PHASES_RANGE': (-10, 10), 'REPEAT_ONEHOT': True, 'SHUFFLE': True, 'RESAMPLE': True, 'SCALER': 'MinMax', 'PHASES': 5, 'TARGET_SMOOTHING': True, 'SMOOTHING_KERNEL_SIZE': 12, 'SMOOTHING_LOWER_BORDER': 1, 'SMOOTHING_UPPER_BORDER': 5, 'SMOOTHING_WEIGHT_CORRECT': 10, 'TENSORBOARD_LOG_DIR': 'reports/tensorboard_logs/cv_baseline_taug10/8_64_64__8_3_3_4tenc_conv1_MSE_NOnorm_augshiftrot_NOtaug_3_batch8'}\n"
     ]
    },
    {
     "name": "stderr",
     "output_type": "stream",
     "text": [
      "2021-03-04 01:39:43,674 INFO Done!\n",
      "2021-03-04 01:39:43,674 INFO Create DataGenerator\n",
      "2021-03-04 01:39:43,675 INFO Datagenerator created with: \n",
      " shape: [8, 64, 64]\n",
      " spacing: [8, 3, 3]\n",
      " batchsize: 8\n",
      " Scaler: MinMax\n",
      " Images: 208 \n",
      " Augment: True \n",
      " Thread workers: 8\n",
      "2021-03-04 01:39:43,676 INFO Data will be augmented (shift,scale and rotate) with albumentation\n",
      "2021-03-04 01:39:43,689 INFO Smoothing kernel: \n",
      "[ 1.   1.8  2.6  3.4  4.2  5.  10.   5.   4.2  3.4  2.6  1.8  1. ]\n",
      "2021-03-04 01:39:43,689 INFO Temporal phase augmentation: \n",
      "True\n",
      "Repeat volume: \n",
      "True\n",
      "2021-03-04 01:39:43,690 INFO Create DataGenerator\n",
      "2021-03-04 01:39:43,690 INFO Datagenerator created with: \n",
      " shape: [8, 64, 64]\n",
      " spacing: [8, 3, 3]\n",
      " batchsize: 8\n",
      " Scaler: MinMax\n",
      " Images: 70 \n",
      " Augment: False \n",
      " Thread workers: 8\n",
      "2021-03-04 01:39:43,691 INFO No augmentation\n",
      "2021-03-04 01:39:43,704 INFO Smoothing kernel: \n",
      "[ 1.   1.8  2.6  3.4  4.2  5.  10.   5.   4.2  3.4  2.6  1.8  1. ]\n",
      "2021-03-04 01:39:43,704 INFO Temporal phase augmentation: \n",
      "False\n",
      "Repeat volume: \n",
      "True\n"
     ]
    },
    {
     "name": "stdout",
     "output_type": "stream",
     "text": [
      "Shape after the temporal encoder\n",
      "(None, 36, 8, 4, 4, 512)\n",
      "Shape after GAP\n",
      "(None, 36, 512)\n",
      "Shape after Bi-LSTM layer\n",
      "(None, 36, 512)\n",
      "Shape after final conv layer\n",
      "(None, 36, 5)\n"
     ]
    },
    {
     "name": "stderr",
     "output_type": "stream",
     "text": [
      "2021-03-04 01:39:47,783 INFO feed 4 Tensorboard is ready\n"
     ]
    },
    {
     "name": "stdout",
     "output_type": "stream",
     "text": [
      "Epoch 1/50\n",
      "26/26 [==============================] - ETA: 0s - loss: 1.0650 - mse_wrapper: 1.0650 - ca_wrapper: 0.4403 - meandiff: 14.8942"
     ]
    },
    {
     "name": "stderr",
     "output_type": "stream",
     "text": [
      "2021-03-04 01:40:51,447 INFO (4, 2, 36, 5)\n",
      "2021-03-04 01:40:52,002 INFO (4, 2, 36, 5)\n"
     ]
    },
    {
     "name": "stdout",
     "output_type": "stream",
     "text": [
      "\n",
      "Epoch 00001: loss improved from inf to 1.06500, saving model to exp/cv_baseline_taug10/8_64_64__8_3_3_4tenc_conv1_MSE_NOnorm_augshiftrot_NOtaug_3_batch8_f2/2021-03-04_01_39/model/model.h5\n",
      "26/26 [==============================] - 36s 1s/step - loss: 1.0650 - mse_wrapper: 1.0650 - ca_wrapper: 0.4403 - meandiff: 14.8942 - val_loss: 2.3942 - val_mse_wrapper: 2.3942 - val_ca_wrapper: 0.2973 - val_meandiff: 20.3125 - lr: 1.0000e-04\n",
      "Epoch 2/50\n",
      "26/26 [==============================] - ETA: 0s - loss: 0.8217 - mse_wrapper: 0.8217 - ca_wrapper: 0.6051 - meandiff: 9.0913"
     ]
    },
    {
     "name": "stderr",
     "output_type": "stream",
     "text": [
      "2021-03-04 01:41:26,996 INFO (4, 2, 36, 5)\n",
      "2021-03-04 01:41:27,562 INFO (4, 2, 36, 5)\n"
     ]
    },
    {
     "name": "stdout",
     "output_type": "stream",
     "text": [
      "\n",
      "Epoch 00002: loss improved from 1.06500 to 0.82172, saving model to exp/cv_baseline_taug10/8_64_64__8_3_3_4tenc_conv1_MSE_NOnorm_augshiftrot_NOtaug_3_batch8_f2/2021-03-04_01_39/model/model.h5\n",
      "26/26 [==============================] - 34s 1s/step - loss: 0.8217 - mse_wrapper: 0.8217 - ca_wrapper: 0.6051 - meandiff: 9.0913 - val_loss: 1.5151 - val_mse_wrapper: 1.5151 - val_ca_wrapper: 0.4579 - val_meandiff: 14.1875 - lr: 1.0000e-04\n",
      "Epoch 3/50\n",
      "26/26 [==============================] - ETA: 0s - loss: 0.7434 - mse_wrapper: 0.7434 - ca_wrapper: 0.6835 - meandiff: 7.1875"
     ]
    },
    {
     "name": "stderr",
     "output_type": "stream",
     "text": [
      "2021-03-04 01:42:03,887 INFO (4, 2, 36, 5)\n",
      "2021-03-04 01:42:04,436 INFO (4, 2, 36, 5)\n"
     ]
    },
    {
     "name": "stdout",
     "output_type": "stream",
     "text": [
      "\n",
      "Epoch 00003: loss improved from 0.82172 to 0.74345, saving model to exp/cv_baseline_taug10/8_64_64__8_3_3_4tenc_conv1_MSE_NOnorm_augshiftrot_NOtaug_3_batch8_f2/2021-03-04_01_39/model/model.h5\n",
      "26/26 [==============================] - 35s 1s/step - loss: 0.7434 - mse_wrapper: 0.7434 - ca_wrapper: 0.6835 - meandiff: 7.1875 - val_loss: 0.9234 - val_mse_wrapper: 0.9234 - val_ca_wrapper: 0.5651 - val_meandiff: 8.7656 - lr: 1.0000e-04\n",
      "Epoch 4/50\n",
      "26/26 [==============================] - ETA: 0s - loss: 0.6983 - mse_wrapper: 0.6983 - ca_wrapper: 0.7103 - meandiff: 6.5000"
     ]
    },
    {
     "name": "stderr",
     "output_type": "stream",
     "text": [
      "2021-03-04 01:42:40,165 INFO (4, 2, 36, 5)\n",
      "2021-03-04 01:42:40,733 INFO (4, 2, 36, 5)\n"
     ]
    },
    {
     "name": "stdout",
     "output_type": "stream",
     "text": [
      "\n",
      "Epoch 00004: loss improved from 0.74345 to 0.69832, saving model to exp/cv_baseline_taug10/8_64_64__8_3_3_4tenc_conv1_MSE_NOnorm_augshiftrot_NOtaug_3_batch8_f2/2021-03-04_01_39/model/model.h5\n",
      "26/26 [==============================] - 35s 1s/step - loss: 0.6983 - mse_wrapper: 0.6983 - ca_wrapper: 0.7103 - meandiff: 6.5000 - val_loss: 0.8519 - val_mse_wrapper: 0.8519 - val_ca_wrapper: 0.6845 - val_meandiff: 5.4219 - lr: 1.0000e-04\n",
      "Epoch 5/50\n",
      "26/26 [==============================] - ETA: 0s - loss: 0.6272 - mse_wrapper: 0.6272 - ca_wrapper: 0.7452 - meandiff: 5.6250\n",
      "Epoch 00005: loss improved from 0.69832 to 0.62716, saving model to exp/cv_baseline_taug10/8_64_64__8_3_3_4tenc_conv1_MSE_NOnorm_augshiftrot_NOtaug_3_batch8_f2/2021-03-04_01_39/model/model.h5\n",
      "26/26 [==============================] - 33s 1s/step - loss: 0.6272 - mse_wrapper: 0.6272 - ca_wrapper: 0.7452 - meandiff: 5.6250 - val_loss: 1.1922 - val_mse_wrapper: 1.1922 - val_ca_wrapper: 0.5777 - val_meandiff: 6.5625 - lr: 1.0000e-04\n",
      "Epoch 6/50\n",
      "26/26 [==============================] - ETA: 0s - loss: 0.6187 - mse_wrapper: 0.6187 - ca_wrapper: 0.7440 - meandiff: 5.2019"
     ]
    },
    {
     "name": "stderr",
     "output_type": "stream",
     "text": [
      "2021-03-04 01:43:51,724 INFO (4, 2, 36, 5)\n",
      "2021-03-04 01:43:52,288 INFO (4, 2, 36, 5)\n"
     ]
    },
    {
     "name": "stdout",
     "output_type": "stream",
     "text": [
      "\n",
      "Epoch 00006: loss improved from 0.62716 to 0.61874, saving model to exp/cv_baseline_taug10/8_64_64__8_3_3_4tenc_conv1_MSE_NOnorm_augshiftrot_NOtaug_3_batch8_f2/2021-03-04_01_39/model/model.h5\n",
      "26/26 [==============================] - 34s 1s/step - loss: 0.6187 - mse_wrapper: 0.6187 - ca_wrapper: 0.7440 - meandiff: 5.2019 - val_loss: 0.9783 - val_mse_wrapper: 0.9783 - val_ca_wrapper: 0.7027 - val_meandiff: 5.2031 - lr: 1.0000e-04\n",
      "Epoch 7/50\n",
      "26/26 [==============================] - ETA: 0s - loss: 0.5984 - mse_wrapper: 0.5984 - ca_wrapper: 0.7593 - meandiff: 4.8125\n",
      "Epoch 00007: loss improved from 0.61874 to 0.59839, saving model to exp/cv_baseline_taug10/8_64_64__8_3_3_4tenc_conv1_MSE_NOnorm_augshiftrot_NOtaug_3_batch8_f2/2021-03-04_01_39/model/model.h5\n",
      "26/26 [==============================] - 33s 1s/step - loss: 0.5984 - mse_wrapper: 0.5984 - ca_wrapper: 0.7593 - meandiff: 4.8125 - val_loss: 0.8182 - val_mse_wrapper: 0.8182 - val_ca_wrapper: 0.7378 - val_meandiff: 4.2812 - lr: 1.0000e-04\n",
      "Epoch 8/50\n",
      "26/26 [==============================] - ETA: 0s - loss: 0.5545 - mse_wrapper: 0.5545 - ca_wrapper: 0.7719 - meandiff: 4.4567"
     ]
    },
    {
     "name": "stderr",
     "output_type": "stream",
     "text": [
      "2021-03-04 01:45:01,832 INFO (4, 2, 36, 5)\n",
      "2021-03-04 01:45:02,399 INFO (4, 2, 36, 5)\n"
     ]
    },
    {
     "name": "stdout",
     "output_type": "stream",
     "text": [
      "\n",
      "Epoch 00008: loss improved from 0.59839 to 0.55451, saving model to exp/cv_baseline_taug10/8_64_64__8_3_3_4tenc_conv1_MSE_NOnorm_augshiftrot_NOtaug_3_batch8_f2/2021-03-04_01_39/model/model.h5\n",
      "26/26 [==============================] - 34s 1s/step - loss: 0.5545 - mse_wrapper: 0.5545 - ca_wrapper: 0.7719 - meandiff: 4.4567 - val_loss: 0.8874 - val_mse_wrapper: 0.8874 - val_ca_wrapper: 0.7201 - val_meandiff: 4.3594 - lr: 1.0000e-04\n",
      "Epoch 9/50\n",
      "26/26 [==============================] - ETA: 0s - loss: 0.5571 - mse_wrapper: 0.5571 - ca_wrapper: 0.7925 - meandiff: 4.5385\n",
      "Epoch 00009: loss did not improve from 0.55451\n",
      "26/26 [==============================] - 33s 1s/step - loss: 0.5571 - mse_wrapper: 0.5571 - ca_wrapper: 0.7925 - meandiff: 4.5385 - val_loss: 1.2316 - val_mse_wrapper: 1.2316 - val_ca_wrapper: 0.6740 - val_meandiff: 4.2500 - lr: 1.0000e-04\n",
      "Epoch 10/50\n",
      "26/26 [==============================] - ETA: 0s - loss: 0.5349 - mse_wrapper: 0.5349 - ca_wrapper: 0.7874 - meandiff: 4.2260"
     ]
    },
    {
     "name": "stderr",
     "output_type": "stream",
     "text": [
      "2021-03-04 01:46:12,243 INFO (4, 2, 36, 5)\n",
      "2021-03-04 01:46:12,801 INFO (4, 2, 36, 5)\n"
     ]
    },
    {
     "name": "stdout",
     "output_type": "stream",
     "text": [
      "\n",
      "Epoch 00010: loss improved from 0.55451 to 0.53487, saving model to exp/cv_baseline_taug10/8_64_64__8_3_3_4tenc_conv1_MSE_NOnorm_augshiftrot_NOtaug_3_batch8_f2/2021-03-04_01_39/model/model.h5\n",
      "26/26 [==============================] - 34s 1s/step - loss: 0.5349 - mse_wrapper: 0.5349 - ca_wrapper: 0.7874 - meandiff: 4.2260 - val_loss: 1.0544 - val_mse_wrapper: 1.0544 - val_ca_wrapper: 0.6076 - val_meandiff: 5.0312 - lr: 1.0000e-04\n",
      "Epoch 11/50\n",
      "26/26 [==============================] - ETA: 0s - loss: 0.5367 - mse_wrapper: 0.5367 - ca_wrapper: 0.7842 - meandiff: 4.4567\n",
      "Epoch 00011: loss did not improve from 0.53487\n",
      "26/26 [==============================] - 33s 1s/step - loss: 0.5367 - mse_wrapper: 0.5367 - ca_wrapper: 0.7842 - meandiff: 4.4567 - val_loss: 0.7605 - val_mse_wrapper: 0.7605 - val_ca_wrapper: 0.7457 - val_meandiff: 4.7188 - lr: 1.0000e-04\n",
      "Epoch 12/50\n",
      "26/26 [==============================] - ETA: 0s - loss: 0.5232 - mse_wrapper: 0.5232 - ca_wrapper: 0.7897 - meandiff: 4.2933"
     ]
    },
    {
     "name": "stderr",
     "output_type": "stream",
     "text": [
      "2021-03-04 01:47:22,469 INFO (4, 2, 36, 5)\n",
      "2021-03-04 01:47:23,034 INFO (4, 2, 36, 5)\n"
     ]
    },
    {
     "name": "stdout",
     "output_type": "stream",
     "text": [
      "\n",
      "Epoch 00012: loss improved from 0.53487 to 0.52319, saving model to exp/cv_baseline_taug10/8_64_64__8_3_3_4tenc_conv1_MSE_NOnorm_augshiftrot_NOtaug_3_batch8_f2/2021-03-04_01_39/model/model.h5\n",
      "26/26 [==============================] - 34s 1s/step - loss: 0.5232 - mse_wrapper: 0.5232 - ca_wrapper: 0.7897 - meandiff: 4.2933 - val_loss: 0.6642 - val_mse_wrapper: 0.6642 - val_ca_wrapper: 0.7400 - val_meandiff: 4.0469 - lr: 1.0000e-04\n",
      "Epoch 13/50\n",
      "26/26 [==============================] - ETA: 0s - loss: 0.5101 - mse_wrapper: 0.5101 - ca_wrapper: 0.7982 - meandiff: 4.0673\n",
      "Epoch 00013: loss improved from 0.52319 to 0.51009, saving model to exp/cv_baseline_taug10/8_64_64__8_3_3_4tenc_conv1_MSE_NOnorm_augshiftrot_NOtaug_3_batch8_f2/2021-03-04_01_39/model/model.h5\n",
      "26/26 [==============================] - 33s 1s/step - loss: 0.5101 - mse_wrapper: 0.5101 - ca_wrapper: 0.7982 - meandiff: 4.0673 - val_loss: 1.2498 - val_mse_wrapper: 1.2498 - val_ca_wrapper: 0.6788 - val_meandiff: 3.8906 - lr: 1.0000e-04\n",
      "Epoch 14/50\n",
      "26/26 [==============================] - ETA: 0s - loss: 0.5166 - mse_wrapper: 0.5166 - ca_wrapper: 0.7973 - meandiff: 4.0288"
     ]
    },
    {
     "name": "stderr",
     "output_type": "stream",
     "text": [
      "2021-03-04 01:48:32,776 INFO (4, 2, 36, 5)\n",
      "2021-03-04 01:48:33,340 INFO (4, 2, 36, 5)\n"
     ]
    },
    {
     "name": "stdout",
     "output_type": "stream",
     "text": [
      "\n",
      "Epoch 00014: loss did not improve from 0.51009\n",
      "26/26 [==============================] - 34s 1s/step - loss: 0.5166 - mse_wrapper: 0.5166 - ca_wrapper: 0.7973 - meandiff: 4.0288 - val_loss: 0.6364 - val_mse_wrapper: 0.6364 - val_ca_wrapper: 0.7756 - val_meandiff: 4.3906 - lr: 1.0000e-04\n",
      "Epoch 15/50\n",
      "26/26 [==============================] - ETA: 0s - loss: 0.5030 - mse_wrapper: 0.5030 - ca_wrapper: 0.7935 - meandiff: 4.1490\n",
      "Epoch 00015: loss improved from 0.51009 to 0.50299, saving model to exp/cv_baseline_taug10/8_64_64__8_3_3_4tenc_conv1_MSE_NOnorm_augshiftrot_NOtaug_3_batch8_f2/2021-03-04_01_39/model/model.h5\n",
      "26/26 [==============================] - 33s 1s/step - loss: 0.5030 - mse_wrapper: 0.5030 - ca_wrapper: 0.7935 - meandiff: 4.1490 - val_loss: 1.0884 - val_mse_wrapper: 1.0884 - val_ca_wrapper: 0.7352 - val_meandiff: 3.7500 - lr: 1.0000e-04\n",
      "Epoch 16/50\n",
      "26/26 [==============================] - ETA: 0s - loss: 0.4952 - mse_wrapper: 0.4952 - ca_wrapper: 0.8019 - meandiff: 3.9038"
     ]
    },
    {
     "name": "stderr",
     "output_type": "stream",
     "text": [
      "2021-03-04 01:49:42,872 INFO (4, 2, 36, 5)\n",
      "2021-03-04 01:49:43,427 INFO (4, 2, 36, 5)\n"
     ]
    },
    {
     "name": "stdout",
     "output_type": "stream",
     "text": [
      "\n",
      "Epoch 00016: loss improved from 0.50299 to 0.49522, saving model to exp/cv_baseline_taug10/8_64_64__8_3_3_4tenc_conv1_MSE_NOnorm_augshiftrot_NOtaug_3_batch8_f2/2021-03-04_01_39/model/model.h5\n",
      "26/26 [==============================] - 34s 1s/step - loss: 0.4952 - mse_wrapper: 0.4952 - ca_wrapper: 0.8019 - meandiff: 3.9038 - val_loss: 0.7547 - val_mse_wrapper: 0.7547 - val_ca_wrapper: 0.7561 - val_meandiff: 4.1562 - lr: 1.0000e-04\n",
      "Epoch 17/50\n",
      "26/26 [==============================] - ETA: 0s - loss: 0.5096 - mse_wrapper: 0.5096 - ca_wrapper: 0.7943 - meandiff: 3.8702\n",
      "Epoch 00017: loss did not improve from 0.49522\n",
      "26/26 [==============================] - 32s 1s/step - loss: 0.5096 - mse_wrapper: 0.5096 - ca_wrapper: 0.7943 - meandiff: 3.8702 - val_loss: 0.8206 - val_mse_wrapper: 0.8206 - val_ca_wrapper: 0.7383 - val_meandiff: 3.9375 - lr: 1.0000e-04\n",
      "Epoch 18/50\n",
      "26/26 [==============================] - ETA: 0s - loss: 0.5063 - mse_wrapper: 0.5063 - ca_wrapper: 0.7946 - meandiff: 3.8990"
     ]
    },
    {
     "name": "stderr",
     "output_type": "stream",
     "text": [
      "2021-03-04 01:50:52,757 INFO (4, 2, 36, 5)\n",
      "2021-03-04 01:50:53,322 INFO (4, 2, 36, 5)\n"
     ]
    },
    {
     "name": "stdout",
     "output_type": "stream",
     "text": [
      "\n",
      "Epoch 00018: loss did not improve from 0.49522\n",
      "26/26 [==============================] - 34s 1s/step - loss: 0.5063 - mse_wrapper: 0.5063 - ca_wrapper: 0.7946 - meandiff: 3.8990 - val_loss: 0.8192 - val_mse_wrapper: 0.8192 - val_ca_wrapper: 0.7682 - val_meandiff: 3.9375 - lr: 1.0000e-04\n",
      "Epoch 19/50\n",
      "26/26 [==============================] - ETA: 0s - loss: 0.4932 - mse_wrapper: 0.4932 - ca_wrapper: 0.8037 - meandiff: 3.9327\n",
      "Epoch 00019: loss improved from 0.49522 to 0.49319, saving model to exp/cv_baseline_taug10/8_64_64__8_3_3_4tenc_conv1_MSE_NOnorm_augshiftrot_NOtaug_3_batch8_f2/2021-03-04_01_39/model/model.h5\n",
      "26/26 [==============================] - 32s 1s/step - loss: 0.4932 - mse_wrapper: 0.4932 - ca_wrapper: 0.8037 - meandiff: 3.9327 - val_loss: 0.6984 - val_mse_wrapper: 0.6984 - val_ca_wrapper: 0.7222 - val_meandiff: 4.5469 - lr: 1.0000e-04\n",
      "Epoch 20/50\n",
      "26/26 [==============================] - ETA: 0s - loss: 0.4859 - mse_wrapper: 0.4859 - ca_wrapper: 0.8002 - meandiff: 3.8702"
     ]
    },
    {
     "name": "stderr",
     "output_type": "stream",
     "text": [
      "2021-03-04 01:52:02,715 INFO (4, 2, 36, 5)\n",
      "2021-03-04 01:52:04,167 INFO (4, 2, 36, 5)\n"
     ]
    },
    {
     "name": "stdout",
     "output_type": "stream",
     "text": [
      "\n",
      "Epoch 00020: loss improved from 0.49319 to 0.48588, saving model to exp/cv_baseline_taug10/8_64_64__8_3_3_4tenc_conv1_MSE_NOnorm_augshiftrot_NOtaug_3_batch8_f2/2021-03-04_01_39/model/model.h5\n",
      "26/26 [==============================] - 35s 1s/step - loss: 0.4859 - mse_wrapper: 0.4859 - ca_wrapper: 0.8002 - meandiff: 3.8702 - val_loss: 0.7900 - val_mse_wrapper: 0.7900 - val_ca_wrapper: 0.7448 - val_meandiff: 4.5781 - lr: 1.0000e-04\n",
      "Epoch 21/50\n",
      "26/26 [==============================] - ETA: 0s - loss: 0.4828 - mse_wrapper: 0.4828 - ca_wrapper: 0.8116 - meandiff: 3.8173\n",
      "Epoch 00021: loss improved from 0.48588 to 0.48276, saving model to exp/cv_baseline_taug10/8_64_64__8_3_3_4tenc_conv1_MSE_NOnorm_augshiftrot_NOtaug_3_batch8_f2/2021-03-04_01_39/model/model.h5\n",
      "26/26 [==============================] - 32s 1s/step - loss: 0.4828 - mse_wrapper: 0.4828 - ca_wrapper: 0.8116 - meandiff: 3.8173 - val_loss: 0.6642 - val_mse_wrapper: 0.6642 - val_ca_wrapper: 0.7834 - val_meandiff: 3.8281 - lr: 1.0000e-04\n",
      "Epoch 22/50\n",
      "26/26 [==============================] - ETA: 0s - loss: 0.4691 - mse_wrapper: 0.4691 - ca_wrapper: 0.8064 - meandiff: 3.7452"
     ]
    },
    {
     "name": "stderr",
     "output_type": "stream",
     "text": [
      "2021-03-04 01:53:13,527 INFO (4, 2, 36, 5)\n",
      "2021-03-04 01:53:14,092 INFO (4, 2, 36, 5)\n"
     ]
    },
    {
     "name": "stdout",
     "output_type": "stream",
     "text": [
      "\n",
      "Epoch 00022: loss improved from 0.48276 to 0.46913, saving model to exp/cv_baseline_taug10/8_64_64__8_3_3_4tenc_conv1_MSE_NOnorm_augshiftrot_NOtaug_3_batch8_f2/2021-03-04_01_39/model/model.h5\n",
      "26/26 [==============================] - 34s 1s/step - loss: 0.4691 - mse_wrapper: 0.4691 - ca_wrapper: 0.8064 - meandiff: 3.7452 - val_loss: 0.6735 - val_mse_wrapper: 0.6735 - val_ca_wrapper: 0.7951 - val_meandiff: 3.6094 - lr: 1.0000e-04\n",
      "Epoch 23/50\n",
      "26/26 [==============================] - ETA: 0s - loss: 0.4596 - mse_wrapper: 0.4596 - ca_wrapper: 0.8176 - meandiff: 3.5962\n",
      "Epoch 00023: loss improved from 0.46913 to 0.45960, saving model to exp/cv_baseline_taug10/8_64_64__8_3_3_4tenc_conv1_MSE_NOnorm_augshiftrot_NOtaug_3_batch8_f2/2021-03-04_01_39/model/model.h5\n",
      "26/26 [==============================] - 33s 1s/step - loss: 0.4596 - mse_wrapper: 0.4596 - ca_wrapper: 0.8176 - meandiff: 3.5962 - val_loss: 0.8032 - val_mse_wrapper: 0.8032 - val_ca_wrapper: 0.7821 - val_meandiff: 4.1250 - lr: 1.0000e-04\n",
      "Epoch 24/50\n",
      "26/26 [==============================] - ETA: 0s - loss: 0.4578 - mse_wrapper: 0.4578 - ca_wrapper: 0.8076 - meandiff: 3.9279"
     ]
    },
    {
     "name": "stderr",
     "output_type": "stream",
     "text": [
      "2021-03-04 01:54:23,955 INFO (4, 2, 36, 5)\n",
      "2021-03-04 01:54:24,510 INFO (4, 2, 36, 5)\n"
     ]
    },
    {
     "name": "stdout",
     "output_type": "stream",
     "text": [
      "\n",
      "Epoch 00024: loss improved from 0.45960 to 0.45775, saving model to exp/cv_baseline_taug10/8_64_64__8_3_3_4tenc_conv1_MSE_NOnorm_augshiftrot_NOtaug_3_batch8_f2/2021-03-04_01_39/model/model.h5\n",
      "26/26 [==============================] - 34s 1s/step - loss: 0.4578 - mse_wrapper: 0.4578 - ca_wrapper: 0.8076 - meandiff: 3.9279 - val_loss: 1.1615 - val_mse_wrapper: 1.1615 - val_ca_wrapper: 0.7331 - val_meandiff: 4.2812 - lr: 1.0000e-04\n",
      "Epoch 25/50\n",
      "26/26 [==============================] - ETA: 0s - loss: 0.4501 - mse_wrapper: 0.4501 - ca_wrapper: 0.8142 - meandiff: 3.5865\n",
      "Epoch 00025: loss improved from 0.45775 to 0.45007, saving model to exp/cv_baseline_taug10/8_64_64__8_3_3_4tenc_conv1_MSE_NOnorm_augshiftrot_NOtaug_3_batch8_f2/2021-03-04_01_39/model/model.h5\n",
      "26/26 [==============================] - 33s 1s/step - loss: 0.4501 - mse_wrapper: 0.4501 - ca_wrapper: 0.8142 - meandiff: 3.5865 - val_loss: 0.7029 - val_mse_wrapper: 0.7029 - val_ca_wrapper: 0.7587 - val_meandiff: 3.7344 - lr: 1.0000e-04\n",
      "Epoch 26/50\n",
      "26/26 [==============================] - ETA: 0s - loss: 0.4506 - mse_wrapper: 0.4506 - ca_wrapper: 0.8150 - meandiff: 3.5240"
     ]
    },
    {
     "name": "stderr",
     "output_type": "stream",
     "text": [
      "2021-03-04 01:55:34,336 INFO (4, 2, 36, 5)\n",
      "2021-03-04 01:55:34,875 INFO (4, 2, 36, 5)\n"
     ]
    },
    {
     "name": "stdout",
     "output_type": "stream",
     "text": [
      "\n",
      "Epoch 00026: loss did not improve from 0.45007\n",
      "26/26 [==============================] - 34s 1s/step - loss: 0.4506 - mse_wrapper: 0.4506 - ca_wrapper: 0.8150 - meandiff: 3.5240 - val_loss: 0.6856 - val_mse_wrapper: 0.6856 - val_ca_wrapper: 0.7517 - val_meandiff: 3.8281 - lr: 1.0000e-04\n",
      "Epoch 27/50\n",
      "26/26 [==============================] - ETA: 0s - loss: 0.4459 - mse_wrapper: 0.4459 - ca_wrapper: 0.8212 - meandiff: 3.7356\n",
      "Epoch 00027: loss improved from 0.45007 to 0.44590, saving model to exp/cv_baseline_taug10/8_64_64__8_3_3_4tenc_conv1_MSE_NOnorm_augshiftrot_NOtaug_3_batch8_f2/2021-03-04_01_39/model/model.h5\n",
      "26/26 [==============================] - 33s 1s/step - loss: 0.4459 - mse_wrapper: 0.4459 - ca_wrapper: 0.8212 - meandiff: 3.7356 - val_loss: 0.8674 - val_mse_wrapper: 0.8674 - val_ca_wrapper: 0.7786 - val_meandiff: 3.8438 - lr: 1.0000e-04\n",
      "Epoch 28/50\n",
      "26/26 [==============================] - ETA: 0s - loss: 0.4395 - mse_wrapper: 0.4395 - ca_wrapper: 0.8165 - meandiff: 3.6779"
     ]
    },
    {
     "name": "stderr",
     "output_type": "stream",
     "text": [
      "2021-03-04 01:56:44,212 INFO (4, 2, 36, 5)\n",
      "2021-03-04 01:56:44,772 INFO (4, 2, 36, 5)\n"
     ]
    },
    {
     "name": "stdout",
     "output_type": "stream",
     "text": [
      "\n",
      "Epoch 00028: loss improved from 0.44590 to 0.43953, saving model to exp/cv_baseline_taug10/8_64_64__8_3_3_4tenc_conv1_MSE_NOnorm_augshiftrot_NOtaug_3_batch8_f2/2021-03-04_01_39/model/model.h5\n",
      "26/26 [==============================] - 34s 1s/step - loss: 0.4395 - mse_wrapper: 0.4395 - ca_wrapper: 0.8165 - meandiff: 3.6779 - val_loss: 0.8176 - val_mse_wrapper: 0.8176 - val_ca_wrapper: 0.7682 - val_meandiff: 3.5469 - lr: 1.0000e-04\n",
      "Epoch 29/50\n",
      "26/26 [==============================] - ETA: 0s - loss: 0.4320 - mse_wrapper: 0.4320 - ca_wrapper: 0.8172 - meandiff: 3.5240\n",
      "Epoch 00029: loss improved from 0.43953 to 0.43201, saving model to exp/cv_baseline_taug10/8_64_64__8_3_3_4tenc_conv1_MSE_NOnorm_augshiftrot_NOtaug_3_batch8_f2/2021-03-04_01_39/model/model.h5\n",
      "26/26 [==============================] - 32s 1s/step - loss: 0.4320 - mse_wrapper: 0.4320 - ca_wrapper: 0.8172 - meandiff: 3.5240 - val_loss: 0.7531 - val_mse_wrapper: 0.7531 - val_ca_wrapper: 0.7812 - val_meandiff: 3.8594 - lr: 1.0000e-04\n",
      "Epoch 30/50\n",
      "26/26 [==============================] - ETA: 0s - loss: 0.4321 - mse_wrapper: 0.4321 - ca_wrapper: 0.8239 - meandiff: 3.5240"
     ]
    },
    {
     "name": "stderr",
     "output_type": "stream",
     "text": [
      "2021-03-04 01:57:54,083 INFO (4, 2, 36, 5)\n",
      "2021-03-04 01:57:54,605 INFO (4, 2, 36, 5)\n"
     ]
    },
    {
     "name": "stdout",
     "output_type": "stream",
     "text": [
      "\n",
      "Epoch 00030: loss did not improve from 0.43201\n",
      "26/26 [==============================] - 34s 1s/step - loss: 0.4321 - mse_wrapper: 0.4321 - ca_wrapper: 0.8239 - meandiff: 3.5240 - val_loss: 0.6753 - val_mse_wrapper: 0.6753 - val_ca_wrapper: 0.8099 - val_meandiff: 3.7812 - lr: 1.0000e-04\n",
      "Epoch 31/50\n",
      "26/26 [==============================] - ETA: 0s - loss: 0.4231 - mse_wrapper: 0.4231 - ca_wrapper: 0.8232 - meandiff: 3.3125\n",
      "Epoch 00031: loss improved from 0.43201 to 0.42307, saving model to exp/cv_baseline_taug10/8_64_64__8_3_3_4tenc_conv1_MSE_NOnorm_augshiftrot_NOtaug_3_batch8_f2/2021-03-04_01_39/model/model.h5\n",
      "26/26 [==============================] - 33s 1s/step - loss: 0.4231 - mse_wrapper: 0.4231 - ca_wrapper: 0.8232 - meandiff: 3.3125 - val_loss: 0.6472 - val_mse_wrapper: 0.6472 - val_ca_wrapper: 0.7951 - val_meandiff: 4.1719 - lr: 1.0000e-04\n",
      "Epoch 32/50\n",
      "26/26 [==============================] - ETA: 0s - loss: 0.4301 - mse_wrapper: 0.4301 - ca_wrapper: 0.8249 - meandiff: 3.3221"
     ]
    },
    {
     "name": "stderr",
     "output_type": "stream",
     "text": [
      "2021-03-04 01:59:03,969 INFO (4, 2, 36, 5)\n",
      "2021-03-04 01:59:04,532 INFO (4, 2, 36, 5)\n"
     ]
    },
    {
     "name": "stdout",
     "output_type": "stream",
     "text": [
      "\n",
      "Epoch 00032: loss did not improve from 0.42307\n",
      "26/26 [==============================] - 34s 1s/step - loss: 0.4301 - mse_wrapper: 0.4301 - ca_wrapper: 0.8249 - meandiff: 3.3221 - val_loss: 0.8688 - val_mse_wrapper: 0.8688 - val_ca_wrapper: 0.7400 - val_meandiff: 4.0000 - lr: 1.0000e-04\n",
      "Epoch 33/50\n",
      "26/26 [==============================] - ETA: 0s - loss: 0.4453 - mse_wrapper: 0.4453 - ca_wrapper: 0.8184 - meandiff: 3.5865\n",
      "Epoch 00033: loss did not improve from 0.42307\n",
      "26/26 [==============================] - 33s 1s/step - loss: 0.4453 - mse_wrapper: 0.4453 - ca_wrapper: 0.8184 - meandiff: 3.5865 - val_loss: 0.7045 - val_mse_wrapper: 0.7045 - val_ca_wrapper: 0.7674 - val_meandiff: 4.1250 - lr: 1.0000e-04\n",
      "Epoch 34/50\n",
      "26/26 [==============================] - ETA: 0s - loss: 0.4268 - mse_wrapper: 0.4268 - ca_wrapper: 0.8176 - meandiff: 3.3558"
     ]
    },
    {
     "name": "stderr",
     "output_type": "stream",
     "text": [
      "2021-03-04 02:00:13,909 INFO (4, 2, 36, 5)\n",
      "2021-03-04 02:00:14,475 INFO (4, 2, 36, 5)\n"
     ]
    },
    {
     "name": "stdout",
     "output_type": "stream",
     "text": [
      "\n",
      "Epoch 00034: loss did not improve from 0.42307\n",
      "26/26 [==============================] - 34s 1s/step - loss: 0.4268 - mse_wrapper: 0.4268 - ca_wrapper: 0.8176 - meandiff: 3.3558 - val_loss: 0.6251 - val_mse_wrapper: 0.6251 - val_ca_wrapper: 0.7591 - val_meandiff: 4.3438 - lr: 1.0000e-04\n",
      "Epoch 35/50\n",
      "26/26 [==============================] - ETA: 0s - loss: 0.4200 - mse_wrapper: 0.4200 - ca_wrapper: 0.8231 - meandiff: 3.4712\n",
      "Epoch 00035: loss improved from 0.42307 to 0.41999, saving model to exp/cv_baseline_taug10/8_64_64__8_3_3_4tenc_conv1_MSE_NOnorm_augshiftrot_NOtaug_3_batch8_f2/2021-03-04_01_39/model/model.h5\n",
      "26/26 [==============================] - 33s 1s/step - loss: 0.4200 - mse_wrapper: 0.4200 - ca_wrapper: 0.8231 - meandiff: 3.4712 - val_loss: 0.6799 - val_mse_wrapper: 0.6799 - val_ca_wrapper: 0.7639 - val_meandiff: 4.0469 - lr: 1.0000e-04\n",
      "Epoch 36/50\n",
      "26/26 [==============================] - ETA: 0s - loss: 0.4153 - mse_wrapper: 0.4153 - ca_wrapper: 0.8226 - meandiff: 3.2500"
     ]
    },
    {
     "name": "stderr",
     "output_type": "stream",
     "text": [
      "2021-03-04 02:01:23,836 INFO (4, 2, 36, 5)\n",
      "2021-03-04 02:01:24,399 INFO (4, 2, 36, 5)\n"
     ]
    },
    {
     "name": "stdout",
     "output_type": "stream",
     "text": [
      "\n",
      "Epoch 00036: loss improved from 0.41999 to 0.41528, saving model to exp/cv_baseline_taug10/8_64_64__8_3_3_4tenc_conv1_MSE_NOnorm_augshiftrot_NOtaug_3_batch8_f2/2021-03-04_01_39/model/model.h5\n",
      "26/26 [==============================] - 34s 1s/step - loss: 0.4153 - mse_wrapper: 0.4153 - ca_wrapper: 0.8226 - meandiff: 3.2500 - val_loss: 0.7913 - val_mse_wrapper: 0.7913 - val_ca_wrapper: 0.7865 - val_meandiff: 4.0312 - lr: 1.0000e-04\n",
      "Epoch 37/50\n",
      "26/26 [==============================] - ETA: 0s - loss: 0.4200 - mse_wrapper: 0.4200 - ca_wrapper: 0.8303 - meandiff: 3.2019\n",
      "Epoch 00037: loss did not improve from 0.41528\n",
      "26/26 [==============================] - 32s 1s/step - loss: 0.4200 - mse_wrapper: 0.4200 - ca_wrapper: 0.8303 - meandiff: 3.2019 - val_loss: 0.8014 - val_mse_wrapper: 0.8014 - val_ca_wrapper: 0.7960 - val_meandiff: 3.6406 - lr: 1.0000e-04\n",
      "Epoch 38/50\n",
      "26/26 [==============================] - ETA: 0s - loss: 0.4177 - mse_wrapper: 0.4177 - ca_wrapper: 0.8193 - meandiff: 3.2356"
     ]
    },
    {
     "name": "stderr",
     "output_type": "stream",
     "text": [
      "2021-03-04 02:02:33,406 INFO (4, 2, 36, 5)\n",
      "2021-03-04 02:02:33,970 INFO (4, 2, 36, 5)\n"
     ]
    },
    {
     "name": "stdout",
     "output_type": "stream",
     "text": [
      "\n",
      "Epoch 00038: loss did not improve from 0.41528\n",
      "26/26 [==============================] - 34s 1s/step - loss: 0.4177 - mse_wrapper: 0.4177 - ca_wrapper: 0.8193 - meandiff: 3.2356 - val_loss: 0.7534 - val_mse_wrapper: 0.7534 - val_ca_wrapper: 0.8064 - val_meandiff: 3.3750 - lr: 1.0000e-04\n",
      "Epoch 39/50\n",
      "26/26 [==============================] - ETA: 0s - loss: 0.4137 - mse_wrapper: 0.4137 - ca_wrapper: 0.8212 - meandiff: 3.3654\n",
      "Epoch 00039: loss improved from 0.41528 to 0.41369, saving model to exp/cv_baseline_taug10/8_64_64__8_3_3_4tenc_conv1_MSE_NOnorm_augshiftrot_NOtaug_3_batch8_f2/2021-03-04_01_39/model/model.h5\n",
      "26/26 [==============================] - 33s 1s/step - loss: 0.4137 - mse_wrapper: 0.4137 - ca_wrapper: 0.8212 - meandiff: 3.3654 - val_loss: 0.7071 - val_mse_wrapper: 0.7071 - val_ca_wrapper: 0.7470 - val_meandiff: 4.0625 - lr: 1.0000e-04\n",
      "Epoch 40/50\n",
      "26/26 [==============================] - ETA: 0s - loss: 0.4195 - mse_wrapper: 0.4195 - ca_wrapper: 0.8228 - meandiff: 3.3365"
     ]
    },
    {
     "name": "stderr",
     "output_type": "stream",
     "text": [
      "2021-03-04 02:03:43,490 INFO (4, 2, 36, 5)\n",
      "2021-03-04 02:03:44,072 INFO (4, 2, 36, 5)\n"
     ]
    },
    {
     "name": "stdout",
     "output_type": "stream",
     "text": [
      "\n",
      "Epoch 00040: loss did not improve from 0.41369\n",
      "26/26 [==============================] - 34s 1s/step - loss: 0.4195 - mse_wrapper: 0.4195 - ca_wrapper: 0.8228 - meandiff: 3.3365 - val_loss: 0.8507 - val_mse_wrapper: 0.8507 - val_ca_wrapper: 0.7799 - val_meandiff: 3.9688 - lr: 1.0000e-04\n",
      "Epoch 41/50\n",
      "26/26 [==============================] - ETA: 0s - loss: 0.4070 - mse_wrapper: 0.4070 - ca_wrapper: 0.8229 - meandiff: 3.3654\n",
      "Epoch 00041: loss improved from 0.41369 to 0.40704, saving model to exp/cv_baseline_taug10/8_64_64__8_3_3_4tenc_conv1_MSE_NOnorm_augshiftrot_NOtaug_3_batch8_f2/2021-03-04_01_39/model/model.h5\n",
      "26/26 [==============================] - 33s 1s/step - loss: 0.4070 - mse_wrapper: 0.4070 - ca_wrapper: 0.8229 - meandiff: 3.3654 - val_loss: 0.7302 - val_mse_wrapper: 0.7302 - val_ca_wrapper: 0.7925 - val_meandiff: 3.7031 - lr: 1.0000e-04\n",
      "Epoch 42/50\n",
      "26/26 [==============================] - ETA: 0s - loss: 0.4072 - mse_wrapper: 0.4072 - ca_wrapper: 0.8321 - meandiff: 3.2260"
     ]
    },
    {
     "name": "stderr",
     "output_type": "stream",
     "text": [
      "2021-03-04 02:04:53,186 INFO (4, 2, 36, 5)\n",
      "2021-03-04 02:04:53,714 INFO (4, 2, 36, 5)\n"
     ]
    },
    {
     "name": "stdout",
     "output_type": "stream",
     "text": [
      "\n",
      "Epoch 00042: loss did not improve from 0.40704\n",
      "26/26 [==============================] - 33s 1s/step - loss: 0.4072 - mse_wrapper: 0.4072 - ca_wrapper: 0.8321 - meandiff: 3.2260 - val_loss: 0.8100 - val_mse_wrapper: 0.8100 - val_ca_wrapper: 0.7765 - val_meandiff: 3.8125 - lr: 1.0000e-04\n",
      "Epoch 43/50\n",
      "26/26 [==============================] - ETA: 0s - loss: 0.4024 - mse_wrapper: 0.4024 - ca_wrapper: 0.8268 - meandiff: 3.2740\n",
      "Epoch 00043: loss improved from 0.40704 to 0.40243, saving model to exp/cv_baseline_taug10/8_64_64__8_3_3_4tenc_conv1_MSE_NOnorm_augshiftrot_NOtaug_3_batch8_f2/2021-03-04_01_39/model/model.h5\n",
      "26/26 [==============================] - 33s 1s/step - loss: 0.4024 - mse_wrapper: 0.4024 - ca_wrapper: 0.8268 - meandiff: 3.2740 - val_loss: 0.7365 - val_mse_wrapper: 0.7365 - val_ca_wrapper: 0.7999 - val_meandiff: 3.8594 - lr: 1.0000e-04\n",
      "Epoch 44/50\n",
      "26/26 [==============================] - ETA: 0s - loss: 0.3918 - mse_wrapper: 0.3918 - ca_wrapper: 0.8313 - meandiff: 3.0769"
     ]
    },
    {
     "name": "stderr",
     "output_type": "stream",
     "text": [
      "2021-03-04 02:06:02,764 INFO (4, 2, 36, 5)\n",
      "2021-03-04 02:06:03,325 INFO (4, 2, 36, 5)\n"
     ]
    },
    {
     "name": "stdout",
     "output_type": "stream",
     "text": [
      "\n",
      "Epoch 00044: loss improved from 0.40243 to 0.39176, saving model to exp/cv_baseline_taug10/8_64_64__8_3_3_4tenc_conv1_MSE_NOnorm_augshiftrot_NOtaug_3_batch8_f2/2021-03-04_01_39/model/model.h5\n",
      "26/26 [==============================] - 33s 1s/step - loss: 0.3918 - mse_wrapper: 0.3918 - ca_wrapper: 0.8313 - meandiff: 3.0769 - val_loss: 0.6447 - val_mse_wrapper: 0.6447 - val_ca_wrapper: 0.8073 - val_meandiff: 3.5312 - lr: 1.0000e-04\n",
      "Epoch 45/50\n",
      "26/26 [==============================] - ETA: 0s - loss: 0.3950 - mse_wrapper: 0.3950 - ca_wrapper: 0.8352 - meandiff: 3.1538\n",
      "Epoch 00045: loss did not improve from 0.39176\n",
      "26/26 [==============================] - 33s 1s/step - loss: 0.3950 - mse_wrapper: 0.3950 - ca_wrapper: 0.8352 - meandiff: 3.1538 - val_loss: 0.5426 - val_mse_wrapper: 0.5426 - val_ca_wrapper: 0.7882 - val_meandiff: 4.2344 - lr: 1.0000e-04\n",
      "Epoch 46/50\n",
      "26/26 [==============================] - ETA: 0s - loss: 0.4008 - mse_wrapper: 0.4008 - ca_wrapper: 0.8241 - meandiff: 3.1827"
     ]
    },
    {
     "name": "stderr",
     "output_type": "stream",
     "text": [
      "2021-03-04 02:07:12,832 INFO (4, 2, 36, 5)\n",
      "2021-03-04 02:07:13,381 INFO (4, 2, 36, 5)\n"
     ]
    },
    {
     "name": "stdout",
     "output_type": "stream",
     "text": [
      "\n",
      "Epoch 00046: loss did not improve from 0.39176\n",
      "26/26 [==============================] - 33s 1s/step - loss: 0.4008 - mse_wrapper: 0.4008 - ca_wrapper: 0.8241 - meandiff: 3.1827 - val_loss: 1.3255 - val_mse_wrapper: 1.3255 - val_ca_wrapper: 0.7687 - val_meandiff: 3.8281 - lr: 1.0000e-04\n",
      "Epoch 47/50\n",
      "26/26 [==============================] - ETA: 0s - loss: 0.3882 - mse_wrapper: 0.3882 - ca_wrapper: 0.8301 - meandiff: 3.0817\n",
      "Epoch 00047: loss improved from 0.39176 to 0.38822, saving model to exp/cv_baseline_taug10/8_64_64__8_3_3_4tenc_conv1_MSE_NOnorm_augshiftrot_NOtaug_3_batch8_f2/2021-03-04_01_39/model/model.h5\n",
      "26/26 [==============================] - 33s 1s/step - loss: 0.3882 - mse_wrapper: 0.3882 - ca_wrapper: 0.8301 - meandiff: 3.0817 - val_loss: 0.8738 - val_mse_wrapper: 0.8738 - val_ca_wrapper: 0.7487 - val_meandiff: 3.9531 - lr: 1.0000e-04\n",
      "Epoch 48/50\n",
      "26/26 [==============================] - ETA: 0s - loss: 0.3875 - mse_wrapper: 0.3875 - ca_wrapper: 0.8311 - meandiff: 2.9952"
     ]
    },
    {
     "name": "stderr",
     "output_type": "stream",
     "text": [
      "2021-03-04 02:08:22,872 INFO (4, 2, 36, 5)\n",
      "2021-03-04 02:08:23,431 INFO (4, 2, 36, 5)\n"
     ]
    },
    {
     "name": "stdout",
     "output_type": "stream",
     "text": [
      "\n",
      "Epoch 00048: loss improved from 0.38822 to 0.38754, saving model to exp/cv_baseline_taug10/8_64_64__8_3_3_4tenc_conv1_MSE_NOnorm_augshiftrot_NOtaug_3_batch8_f2/2021-03-04_01_39/model/model.h5\n",
      "26/26 [==============================] - 34s 1s/step - loss: 0.3875 - mse_wrapper: 0.3875 - ca_wrapper: 0.8311 - meandiff: 2.9952 - val_loss: 1.0700 - val_mse_wrapper: 1.0700 - val_ca_wrapper: 0.8056 - val_meandiff: 3.5625 - lr: 1.0000e-04\n",
      "Epoch 49/50\n",
      "26/26 [==============================] - ETA: 0s - loss: 0.3908 - mse_wrapper: 0.3908 - ca_wrapper: 0.8335 - meandiff: 3.0096\n",
      "Epoch 00049: loss did not improve from 0.38754\n",
      "26/26 [==============================] - 33s 1s/step - loss: 0.3908 - mse_wrapper: 0.3908 - ca_wrapper: 0.8335 - meandiff: 3.0096 - val_loss: 0.7690 - val_mse_wrapper: 0.7690 - val_ca_wrapper: 0.7687 - val_meandiff: 3.9688 - lr: 1.0000e-04\n",
      "Epoch 50/50\n",
      "26/26 [==============================] - ETA: 0s - loss: 0.3848 - mse_wrapper: 0.3848 - ca_wrapper: 0.8349 - meandiff: 3.0625"
     ]
    },
    {
     "name": "stderr",
     "output_type": "stream",
     "text": [
      "2021-03-04 02:09:32,981 INFO (4, 2, 36, 5)\n",
      "2021-03-04 02:09:33,562 INFO (4, 2, 36, 5)\n"
     ]
    },
    {
     "name": "stdout",
     "output_type": "stream",
     "text": [
      "\n",
      "Epoch 00050: loss improved from 0.38754 to 0.38484, saving model to exp/cv_baseline_taug10/8_64_64__8_3_3_4tenc_conv1_MSE_NOnorm_augshiftrot_NOtaug_3_batch8_f2/2021-03-04_01_39/model/model.h5\n",
      "26/26 [==============================] - 34s 1s/step - loss: 0.3848 - mse_wrapper: 0.3848 - ca_wrapper: 0.8349 - meandiff: 3.0625 - val_loss: 0.6183 - val_mse_wrapper: 0.6183 - val_ca_wrapper: 0.7982 - val_meandiff: 3.9219 - lr: 1.0000e-04\n"
     ]
    },
    {
     "name": "stderr",
     "output_type": "stream",
     "text": [
      "2021-03-04 02:09:35,786 INFO Fold 2 finished after 1792.374 sec\n"
     ]
    },
    {
     "data": {
      "text/plain": [
       "True"
      ]
     },
     "execution_count": 2,
     "metadata": {},
     "output_type": "execute_result"
    },
    {
     "name": "stderr",
     "output_type": "stream",
     "text": [
      "2021-03-04 02:09:35,790 INFO starting fold: 3\n",
      "2021-03-04 02:09:35,804 INFO -------------------- Start --------------------\n",
      "2021-03-04 02:09:35,804 INFO Working directory: /mnt/ssd/git/dynamic-cmr-models.\n",
      "2021-03-04 02:09:35,804 INFO Log file: ./logs/cv_baseline_taug10/8_64_64__8_3_3_4tenc_conv1_MSE_NOnorm_augshiftrot_NOtaug_3_batch8_f3.log\n",
      "2021-03-04 02:09:35,805 INFO Log level for console: INFO\n",
      "2021-03-04 02:09:35,806 INFO Is built with tensorflow: True\n",
      "2021-03-04 02:09:35,806 INFO Visible devices:\n",
      "[PhysicalDevice(name='/physical_device:CPU:0', device_type='CPU'), PhysicalDevice(name='/physical_device:XLA_CPU:0', device_type='XLA_CPU'), PhysicalDevice(name='/physical_device:XLA_GPU:0', device_type='XLA_GPU'), PhysicalDevice(name='/physical_device:XLA_GPU:1', device_type='XLA_GPU'), PhysicalDevice(name='/physical_device:GPU:0', device_type='GPU'), PhysicalDevice(name='/physical_device:GPU:1', device_type='GPU')]\n",
      "2021-03-04 02:09:35,811 INFO Local devices: \n",
      " [name: \"/device:CPU:0\"\n",
      "device_type: \"CPU\"\n",
      "memory_limit: 268435456\n",
      "locality {\n",
      "}\n",
      "incarnation: 14007893516164406168\n",
      ", name: \"/device:XLA_CPU:0\"\n",
      "device_type: \"XLA_CPU\"\n",
      "memory_limit: 17179869184\n",
      "locality {\n",
      "}\n",
      "incarnation: 16042969663199538862\n",
      "physical_device_desc: \"device: XLA_CPU device\"\n",
      ", name: \"/device:XLA_GPU:0\"\n",
      "device_type: \"XLA_GPU\"\n",
      "memory_limit: 17179869184\n",
      "locality {\n",
      "}\n",
      "incarnation: 4764654403771203171\n",
      "physical_device_desc: \"device: XLA_GPU device\"\n",
      ", name: \"/device:XLA_GPU:1\"\n",
      "device_type: \"XLA_GPU\"\n",
      "memory_limit: 17179869184\n",
      "locality {\n",
      "}\n",
      "incarnation: 10305930468586020888\n",
      "physical_device_desc: \"device: XLA_GPU device\"\n",
      ", name: \"/device:GPU:0\"\n",
      "device_type: \"GPU\"\n",
      "memory_limit: 23091460224\n",
      "locality {\n",
      "  bus_id: 1\n",
      "  links {\n",
      "  }\n",
      "}\n",
      "incarnation: 2280058105506590504\n",
      "physical_device_desc: \"device: 0, name: TITAN RTX, pci bus id: 0000:01:00.0, compute capability: 7.5\"\n",
      ", name: \"/device:GPU:1\"\n",
      "device_type: \"GPU\"\n",
      "memory_limit: 23561682304\n",
      "locality {\n",
      "  bus_id: 1\n",
      "  links {\n",
      "  }\n",
      "}\n",
      "incarnation: 9642655866416287382\n",
      "physical_device_desc: \"device: 1, name: TITAN RTX, pci bus id: 0000:02:00.0, compute capability: 7.5\"\n",
      "]\n",
      "2021-03-04 02:09:35,813 INFO no files found, try to load with clean.nrrd/mask.nrrd pattern\n",
      "2021-03-04 02:09:35,820 INFO Found 278 images/masks in /mnt/ssd/data/gcn/02_imported_4D_unfiltered/SAX/\n",
      "2021-03-04 02:09:35,820 INFO Patients train: 210\n",
      "2021-03-04 02:09:35,831 INFO Selected 209 of 278 files with 210 of 279 patients for training fold 3\n",
      "2021-03-04 02:09:35,832 INFO SAX train CMR: 209, SAX train masks: 209\n",
      "2021-03-04 02:09:35,832 INFO SAX val CMR: 69, SAX val masks: 69\n",
      "2021-03-04 02:09:35,846 INFO Check if we find the patient ID and phase mapping for all: 278 files.\n"
     ]
    },
    {
     "name": "stdout",
     "output_type": "stream",
     "text": [
      "['/gpu:0', '/gpu:1']\n",
      "{'GPU_IDS': '0,1', 'GPUS': ['/gpu:0', '/gpu:1'], 'SEED': 42, 'EXPERIMENT': 'cv_baseline_taug10/8_64_64__8_3_3_4tenc_conv1_MSE_NOnorm_augshiftrot_NOtaug_3_batch8_f3', 'EXPERIMENTS_ROOT': 'exp/', 'EXP_PATH': 'exp/cv_baseline_taug10/8_64_64__8_3_3_4tenc_conv1_MSE_NOnorm_augshiftrot_NOtaug_3_batch8_f3/2021-03-04_02_09', 'MODEL_PATH': 'exp/cv_baseline_taug10/8_64_64__8_3_3_4tenc_conv1_MSE_NOnorm_augshiftrot_NOtaug_3_batch8_f3/2021-03-04_02_09/model', 'TENSORBOARD_PATH': 'exp/cv_baseline_taug10/8_64_64__8_3_3_4tenc_conv1_MSE_NOnorm_augshiftrot_NOtaug_3_batch8_f3/2021-03-04_02_09/tensorboard_logs', 'CONFIG_PATH': 'exp/cv_baseline_taug10/8_64_64__8_3_3_4tenc_conv1_MSE_NOnorm_augshiftrot_NOtaug_3_batch8_f3/2021-03-04_02_09/config', 'HISTORY_PATH': 'exp/cv_baseline_taug10/8_64_64__8_3_3_4tenc_conv1_MSE_NOnorm_augshiftrot_NOtaug_3_batch8_f3/2021-03-04_02_09/history', 'DATA_PATH_SAX': '/mnt/ssd/data/gcn/02_imported_4D_unfiltered/SAX/', 'DF_FOLDS': '/mnt/ssd/data/gcn/02_imported_4D_unfiltered/df_kfold.csv', 'DF_META': '/mnt/ssd/data/gcn/02_imported_4D_unfiltered/SAx_3D_dicomTags_phase', 'FOLD': 3, 'BATCHSIZE': 8, 'GENERATOR_WORKER': 8, 'EPOCHS': 50, 'DIM': [8, 64, 64], 'T_SHAPE': 36, 'SPACING': [8, 3, 3], 'DEPTH': 4, 'FILTERS': 32, 'M_POOL': [1, 2, 2], 'F_SIZE': [3, 3, 3], 'BN_FIRST': False, 'BATCH_NORMALISATION': True, 'PAD': 'same', 'KERNEL_INIT': 'he_normal', 'OPTIMIZER': 'adam', 'ACTIVATION': 'relu', 'LEARNING_RATE': 0.0001, 'REDUCE_LR_ON_PLAEAU_PATIENCE': 5, 'DECAY_FACTOR': 0.7, 'MIN_LR': 1e-12, 'MONITOR_FUNCTION': 'loss', 'MONITOR_MODE': 'min', 'SAVE_MODEL_FUNCTION': 'loss', 'SAVE_MODEL_MODE': 'min', 'MODEL_PATIENCE': 20, 'SAVE_LEARNING_PROGRESS_AS_TF': True, 'BORDER_MODE': 4, 'IMG_INTERPOLATION': 1, 'MSK_INTERPOLATION': 0, 'AUGMENT': True, 'AUGMENT_PROB': 0.8, 'AUGMENT_PHASES': True, 'AUGMENT_PHASES_RANGE': (-10, 10), 'REPEAT_ONEHOT': True, 'SHUFFLE': True, 'RESAMPLE': True, 'SCALER': 'MinMax', 'PHASES': 5, 'TARGET_SMOOTHING': True, 'SMOOTHING_KERNEL_SIZE': 12, 'SMOOTHING_LOWER_BORDER': 1, 'SMOOTHING_UPPER_BORDER': 5, 'SMOOTHING_WEIGHT_CORRECT': 10, 'TENSORBOARD_LOG_DIR': 'reports/tensorboard_logs/cv_baseline_taug10/8_64_64__8_3_3_4tenc_conv1_MSE_NOnorm_augshiftrot_NOtaug_3_batch8'}\n"
     ]
    },
    {
     "name": "stderr",
     "output_type": "stream",
     "text": [
      "2021-03-04 02:09:36,102 INFO Done!\n",
      "2021-03-04 02:09:36,102 INFO Create DataGenerator\n",
      "2021-03-04 02:09:36,104 INFO Datagenerator created with: \n",
      " shape: [8, 64, 64]\n",
      " spacing: [8, 3, 3]\n",
      " batchsize: 8\n",
      " Scaler: MinMax\n",
      " Images: 209 \n",
      " Augment: True \n",
      " Thread workers: 8\n",
      "2021-03-04 02:09:36,104 INFO Data will be augmented (shift,scale and rotate) with albumentation\n",
      "2021-03-04 02:09:36,119 INFO Smoothing kernel: \n",
      "[ 1.   1.8  2.6  3.4  4.2  5.  10.   5.   4.2  3.4  2.6  1.8  1. ]\n",
      "2021-03-04 02:09:36,119 INFO Temporal phase augmentation: \n",
      "True\n",
      "Repeat volume: \n",
      "True\n",
      "2021-03-04 02:09:36,120 INFO Create DataGenerator\n",
      "2021-03-04 02:09:36,121 INFO Datagenerator created with: \n",
      " shape: [8, 64, 64]\n",
      " spacing: [8, 3, 3]\n",
      " batchsize: 8\n",
      " Scaler: MinMax\n",
      " Images: 69 \n",
      " Augment: False \n",
      " Thread workers: 8\n",
      "2021-03-04 02:09:36,121 INFO No augmentation\n",
      "2021-03-04 02:09:36,136 INFO Smoothing kernel: \n",
      "[ 1.   1.8  2.6  3.4  4.2  5.  10.   5.   4.2  3.4  2.6  1.8  1. ]\n",
      "2021-03-04 02:09:36,136 INFO Temporal phase augmentation: \n",
      "False\n",
      "Repeat volume: \n",
      "True\n"
     ]
    },
    {
     "name": "stdout",
     "output_type": "stream",
     "text": [
      "Shape after the temporal encoder\n",
      "(None, 36, 8, 4, 4, 512)\n",
      "Shape after GAP\n",
      "(None, 36, 512)\n",
      "Shape after Bi-LSTM layer\n",
      "(None, 36, 512)\n",
      "Shape after final conv layer\n",
      "(None, 36, 5)\n"
     ]
    },
    {
     "name": "stderr",
     "output_type": "stream",
     "text": [
      "2021-03-04 02:09:40,401 INFO feed 4 Tensorboard is ready\n"
     ]
    },
    {
     "name": "stdout",
     "output_type": "stream",
     "text": [
      "Epoch 1/50\n",
      "26/26 [==============================] - ETA: 0s - loss: 1.0732 - mse_wrapper: 1.0732 - ca_wrapper: 0.4582 - meandiff: 14.4279"
     ]
    },
    {
     "name": "stderr",
     "output_type": "stream",
     "text": [
      "2021-03-04 02:10:45,005 INFO (4, 2, 36, 5)\n",
      "2021-03-04 02:10:45,549 INFO (4, 2, 36, 5)\n"
     ]
    },
    {
     "name": "stdout",
     "output_type": "stream",
     "text": [
      "\n",
      "Epoch 00001: loss improved from inf to 1.07318, saving model to exp/cv_baseline_taug10/8_64_64__8_3_3_4tenc_conv1_MSE_NOnorm_augshiftrot_NOtaug_3_batch8_f3/2021-03-04_02_09/model/model.h5\n",
      "26/26 [==============================] - 37s 1s/step - loss: 1.0732 - mse_wrapper: 1.0732 - ca_wrapper: 0.4582 - meandiff: 14.4279 - val_loss: 1.3658 - val_mse_wrapper: 1.3658 - val_ca_wrapper: 0.2036 - val_meandiff: 21.1875 - lr: 1.0000e-04\n",
      "Epoch 2/50\n",
      "26/26 [==============================] - ETA: 0s - loss: 0.8281 - mse_wrapper: 0.8281 - ca_wrapper: 0.6257 - meandiff: 8.6971"
     ]
    },
    {
     "name": "stderr",
     "output_type": "stream",
     "text": [
      "2021-03-04 02:11:22,101 INFO (4, 2, 36, 5)\n",
      "2021-03-04 02:11:22,664 INFO (4, 2, 36, 5)\n"
     ]
    },
    {
     "name": "stdout",
     "output_type": "stream",
     "text": [
      "\n",
      "Epoch 00002: loss improved from 1.07318 to 0.82806, saving model to exp/cv_baseline_taug10/8_64_64__8_3_3_4tenc_conv1_MSE_NOnorm_augshiftrot_NOtaug_3_batch8_f3/2021-03-04_02_09/model/model.h5\n",
      "26/26 [==============================] - 34s 1s/step - loss: 0.8281 - mse_wrapper: 0.8281 - ca_wrapper: 0.6257 - meandiff: 8.6971 - val_loss: 1.0035 - val_mse_wrapper: 1.0035 - val_ca_wrapper: 0.5161 - val_meandiff: 13.3125 - lr: 1.0000e-04\n",
      "Epoch 3/50\n",
      "26/26 [==============================] - ETA: 0s - loss: 0.7513 - mse_wrapper: 0.7513 - ca_wrapper: 0.6864 - meandiff: 7.4856"
     ]
    },
    {
     "name": "stderr",
     "output_type": "stream",
     "text": [
      "2021-03-04 02:11:59,007 INFO (4, 2, 36, 5)\n",
      "2021-03-04 02:11:59,575 INFO (4, 2, 36, 5)\n"
     ]
    },
    {
     "name": "stdout",
     "output_type": "stream",
     "text": [
      "\n",
      "Epoch 00003: loss improved from 0.82806 to 0.75135, saving model to exp/cv_baseline_taug10/8_64_64__8_3_3_4tenc_conv1_MSE_NOnorm_augshiftrot_NOtaug_3_batch8_f3/2021-03-04_02_09/model/model.h5\n",
      "26/26 [==============================] - 35s 1s/step - loss: 0.7513 - mse_wrapper: 0.7513 - ca_wrapper: 0.6864 - meandiff: 7.4856 - val_loss: 0.8736 - val_mse_wrapper: 0.8736 - val_ca_wrapper: 0.6246 - val_meandiff: 7.8438 - lr: 1.0000e-04\n",
      "Epoch 4/50\n",
      "26/26 [==============================] - ETA: 0s - loss: 0.6753 - mse_wrapper: 0.6753 - ca_wrapper: 0.7249 - meandiff: 5.9712"
     ]
    },
    {
     "name": "stderr",
     "output_type": "stream",
     "text": [
      "2021-03-04 02:12:35,467 INFO (4, 2, 36, 5)\n",
      "2021-03-04 02:12:36,029 INFO (4, 2, 36, 5)\n"
     ]
    },
    {
     "name": "stdout",
     "output_type": "stream",
     "text": [
      "\n",
      "Epoch 00004: loss improved from 0.75135 to 0.67531, saving model to exp/cv_baseline_taug10/8_64_64__8_3_3_4tenc_conv1_MSE_NOnorm_augshiftrot_NOtaug_3_batch8_f3/2021-03-04_02_09/model/model.h5\n",
      "26/26 [==============================] - 35s 1s/step - loss: 0.6753 - mse_wrapper: 0.6753 - ca_wrapper: 0.7249 - meandiff: 5.9712 - val_loss: 0.7917 - val_mse_wrapper: 0.7917 - val_ca_wrapper: 0.7018 - val_meandiff: 6.8750 - lr: 1.0000e-04\n",
      "Epoch 5/50\n",
      "26/26 [==============================] - ETA: 0s - loss: 0.6383 - mse_wrapper: 0.6383 - ca_wrapper: 0.7344 - meandiff: 5.3990\n",
      "Epoch 00005: loss improved from 0.67531 to 0.63834, saving model to exp/cv_baseline_taug10/8_64_64__8_3_3_4tenc_conv1_MSE_NOnorm_augshiftrot_NOtaug_3_batch8_f3/2021-03-04_02_09/model/model.h5\n",
      "26/26 [==============================] - 34s 1s/step - loss: 0.6383 - mse_wrapper: 0.6383 - ca_wrapper: 0.7344 - meandiff: 5.3990 - val_loss: 0.7635 - val_mse_wrapper: 0.7635 - val_ca_wrapper: 0.7214 - val_meandiff: 7.3750 - lr: 1.0000e-04\n",
      "Epoch 6/50\n",
      "26/26 [==============================] - ETA: 0s - loss: 0.5964 - mse_wrapper: 0.5964 - ca_wrapper: 0.7593 - meandiff: 4.6683"
     ]
    },
    {
     "name": "stderr",
     "output_type": "stream",
     "text": [
      "2021-03-04 02:13:47,624 INFO (4, 2, 36, 5)\n",
      "2021-03-04 02:13:48,179 INFO (4, 2, 36, 5)\n"
     ]
    },
    {
     "name": "stdout",
     "output_type": "stream",
     "text": [
      "\n",
      "Epoch 00006: loss improved from 0.63834 to 0.59637, saving model to exp/cv_baseline_taug10/8_64_64__8_3_3_4tenc_conv1_MSE_NOnorm_augshiftrot_NOtaug_3_batch8_f3/2021-03-04_02_09/model/model.h5\n",
      "26/26 [==============================] - 35s 1s/step - loss: 0.5964 - mse_wrapper: 0.5964 - ca_wrapper: 0.7593 - meandiff: 4.6683 - val_loss: 0.7629 - val_mse_wrapper: 0.7629 - val_ca_wrapper: 0.7174 - val_meandiff: 6.3125 - lr: 1.0000e-04\n",
      "Epoch 7/50\n",
      "26/26 [==============================] - ETA: 0s - loss: 0.5949 - mse_wrapper: 0.5949 - ca_wrapper: 0.7652 - meandiff: 5.0625\n",
      "Epoch 00007: loss improved from 0.59637 to 0.59488, saving model to exp/cv_baseline_taug10/8_64_64__8_3_3_4tenc_conv1_MSE_NOnorm_augshiftrot_NOtaug_3_batch8_f3/2021-03-04_02_09/model/model.h5\n",
      "26/26 [==============================] - 33s 1s/step - loss: 0.5949 - mse_wrapper: 0.5949 - ca_wrapper: 0.7652 - meandiff: 5.0625 - val_loss: 0.7691 - val_mse_wrapper: 0.7691 - val_ca_wrapper: 0.7708 - val_meandiff: 5.5312 - lr: 1.0000e-04\n",
      "Epoch 8/50\n",
      "26/26 [==============================] - ETA: 0s - loss: 0.5628 - mse_wrapper: 0.5628 - ca_wrapper: 0.7731 - meandiff: 4.6731"
     ]
    },
    {
     "name": "stderr",
     "output_type": "stream",
     "text": [
      "2021-03-04 02:14:59,291 INFO (4, 2, 36, 5)\n",
      "2021-03-04 02:14:59,832 INFO (4, 2, 36, 5)\n"
     ]
    },
    {
     "name": "stdout",
     "output_type": "stream",
     "text": [
      "\n",
      "Epoch 00008: loss improved from 0.59488 to 0.56277, saving model to exp/cv_baseline_taug10/8_64_64__8_3_3_4tenc_conv1_MSE_NOnorm_augshiftrot_NOtaug_3_batch8_f3/2021-03-04_02_09/model/model.h5\n",
      "26/26 [==============================] - 35s 1s/step - loss: 0.5628 - mse_wrapper: 0.5628 - ca_wrapper: 0.7731 - meandiff: 4.6731 - val_loss: 0.8107 - val_mse_wrapper: 0.8107 - val_ca_wrapper: 0.6567 - val_meandiff: 5.5156 - lr: 1.0000e-04\n",
      "Epoch 9/50\n",
      "26/26 [==============================] - ETA: 0s - loss: 0.5697 - mse_wrapper: 0.5697 - ca_wrapper: 0.7659 - meandiff: 4.5673\n",
      "Epoch 00009: loss did not improve from 0.56277\n",
      "26/26 [==============================] - 33s 1s/step - loss: 0.5697 - mse_wrapper: 0.5697 - ca_wrapper: 0.7659 - meandiff: 4.5673 - val_loss: 0.7412 - val_mse_wrapper: 0.7412 - val_ca_wrapper: 0.7214 - val_meandiff: 5.0156 - lr: 1.0000e-04\n",
      "Epoch 10/50\n",
      "26/26 [==============================] - ETA: 0s - loss: 0.5434 - mse_wrapper: 0.5434 - ca_wrapper: 0.7826 - meandiff: 4.2163"
     ]
    },
    {
     "name": "stderr",
     "output_type": "stream",
     "text": [
      "2021-03-04 02:16:10,137 INFO (4, 2, 36, 5)\n",
      "2021-03-04 02:16:10,709 INFO (4, 2, 36, 5)\n"
     ]
    },
    {
     "name": "stdout",
     "output_type": "stream",
     "text": [
      "\n",
      "Epoch 00010: loss improved from 0.56277 to 0.54340, saving model to exp/cv_baseline_taug10/8_64_64__8_3_3_4tenc_conv1_MSE_NOnorm_augshiftrot_NOtaug_3_batch8_f3/2021-03-04_02_09/model/model.h5\n",
      "26/26 [==============================] - 35s 1s/step - loss: 0.5434 - mse_wrapper: 0.5434 - ca_wrapper: 0.7826 - meandiff: 4.2163 - val_loss: 0.7921 - val_mse_wrapper: 0.7921 - val_ca_wrapper: 0.7222 - val_meandiff: 4.8906 - lr: 1.0000e-04\n",
      "Epoch 11/50\n",
      "26/26 [==============================] - ETA: 0s - loss: 0.5344 - mse_wrapper: 0.5344 - ca_wrapper: 0.7873 - meandiff: 4.2548\n",
      "Epoch 00011: loss improved from 0.54340 to 0.53435, saving model to exp/cv_baseline_taug10/8_64_64__8_3_3_4tenc_conv1_MSE_NOnorm_augshiftrot_NOtaug_3_batch8_f3/2021-03-04_02_09/model/model.h5\n",
      "26/26 [==============================] - 33s 1s/step - loss: 0.5344 - mse_wrapper: 0.5344 - ca_wrapper: 0.7873 - meandiff: 4.2548 - val_loss: 1.0020 - val_mse_wrapper: 1.0020 - val_ca_wrapper: 0.6897 - val_meandiff: 4.6562 - lr: 1.0000e-04\n",
      "Epoch 12/50\n",
      "26/26 [==============================] - ETA: 0s - loss: 0.5384 - mse_wrapper: 0.5384 - ca_wrapper: 0.7776 - meandiff: 4.4375"
     ]
    },
    {
     "name": "stderr",
     "output_type": "stream",
     "text": [
      "2021-03-04 02:17:21,461 INFO (4, 2, 36, 5)\n",
      "2021-03-04 02:17:22,018 INFO (4, 2, 36, 5)\n"
     ]
    },
    {
     "name": "stdout",
     "output_type": "stream",
     "text": [
      "\n",
      "Epoch 00012: loss did not improve from 0.53435\n",
      "26/26 [==============================] - 35s 1s/step - loss: 0.5384 - mse_wrapper: 0.5384 - ca_wrapper: 0.7776 - meandiff: 4.4375 - val_loss: 0.8948 - val_mse_wrapper: 0.8948 - val_ca_wrapper: 0.7240 - val_meandiff: 4.6875 - lr: 1.0000e-04\n",
      "Epoch 13/50\n",
      "26/26 [==============================] - ETA: 0s - loss: 0.5301 - mse_wrapper: 0.5301 - ca_wrapper: 0.7867 - meandiff: 4.2837\n",
      "Epoch 00013: loss improved from 0.53435 to 0.53009, saving model to exp/cv_baseline_taug10/8_64_64__8_3_3_4tenc_conv1_MSE_NOnorm_augshiftrot_NOtaug_3_batch8_f3/2021-03-04_02_09/model/model.h5\n",
      "26/26 [==============================] - 33s 1s/step - loss: 0.5301 - mse_wrapper: 0.5301 - ca_wrapper: 0.7867 - meandiff: 4.2837 - val_loss: 1.1519 - val_mse_wrapper: 1.1519 - val_ca_wrapper: 0.6510 - val_meandiff: 4.8438 - lr: 1.0000e-04\n",
      "Epoch 14/50\n",
      "26/26 [==============================] - ETA: 0s - loss: 0.5205 - mse_wrapper: 0.5205 - ca_wrapper: 0.7927 - meandiff: 4.1106"
     ]
    },
    {
     "name": "stderr",
     "output_type": "stream",
     "text": [
      "2021-03-04 02:18:32,712 INFO (4, 2, 36, 5)\n",
      "2021-03-04 02:18:33,297 INFO (4, 2, 36, 5)\n"
     ]
    },
    {
     "name": "stdout",
     "output_type": "stream",
     "text": [
      "\n",
      "Epoch 00014: loss improved from 0.53009 to 0.52049, saving model to exp/cv_baseline_taug10/8_64_64__8_3_3_4tenc_conv1_MSE_NOnorm_augshiftrot_NOtaug_3_batch8_f3/2021-03-04_02_09/model/model.h5\n",
      "26/26 [==============================] - 34s 1s/step - loss: 0.5205 - mse_wrapper: 0.5205 - ca_wrapper: 0.7927 - meandiff: 4.1106 - val_loss: 0.7689 - val_mse_wrapper: 0.7689 - val_ca_wrapper: 0.7166 - val_meandiff: 5.0938 - lr: 1.0000e-04\n",
      "Epoch 15/50\n",
      "26/26 [==============================] - ETA: 0s - loss: 0.5176 - mse_wrapper: 0.5176 - ca_wrapper: 0.7869 - meandiff: 4.1106\n",
      "Epoch 00015: loss improved from 0.52049 to 0.51760, saving model to exp/cv_baseline_taug10/8_64_64__8_3_3_4tenc_conv1_MSE_NOnorm_augshiftrot_NOtaug_3_batch8_f3/2021-03-04_02_09/model/model.h5\n",
      "26/26 [==============================] - 33s 1s/step - loss: 0.5176 - mse_wrapper: 0.5176 - ca_wrapper: 0.7869 - meandiff: 4.1106 - val_loss: 0.9163 - val_mse_wrapper: 0.9163 - val_ca_wrapper: 0.7370 - val_meandiff: 4.5625 - lr: 1.0000e-04\n",
      "Epoch 16/50\n",
      "26/26 [==============================] - ETA: 0s - loss: 0.5061 - mse_wrapper: 0.5061 - ca_wrapper: 0.7978 - meandiff: 3.8221"
     ]
    },
    {
     "name": "stderr",
     "output_type": "stream",
     "text": [
      "2021-03-04 02:19:43,692 INFO (4, 2, 36, 5)\n",
      "2021-03-04 02:19:44,246 INFO (4, 2, 36, 5)\n"
     ]
    },
    {
     "name": "stdout",
     "output_type": "stream",
     "text": [
      "\n",
      "Epoch 00016: loss improved from 0.51760 to 0.50611, saving model to exp/cv_baseline_taug10/8_64_64__8_3_3_4tenc_conv1_MSE_NOnorm_augshiftrot_NOtaug_3_batch8_f3/2021-03-04_02_09/model/model.h5\n",
      "26/26 [==============================] - 34s 1s/step - loss: 0.5061 - mse_wrapper: 0.5061 - ca_wrapper: 0.7978 - meandiff: 3.8221 - val_loss: 0.9001 - val_mse_wrapper: 0.9001 - val_ca_wrapper: 0.7539 - val_meandiff: 5.1875 - lr: 1.0000e-04\n",
      "Epoch 17/50\n",
      "26/26 [==============================] - ETA: 0s - loss: 0.5069 - mse_wrapper: 0.5069 - ca_wrapper: 0.7978 - meandiff: 3.8269\n",
      "Epoch 00017: loss did not improve from 0.50611\n",
      "26/26 [==============================] - 33s 1s/step - loss: 0.5069 - mse_wrapper: 0.5069 - ca_wrapper: 0.7978 - meandiff: 3.8269 - val_loss: 0.7439 - val_mse_wrapper: 0.7439 - val_ca_wrapper: 0.7153 - val_meandiff: 5.5625 - lr: 1.0000e-04\n",
      "Epoch 18/50\n",
      "26/26 [==============================] - ETA: 0s - loss: 0.5089 - mse_wrapper: 0.5089 - ca_wrapper: 0.7969 - meandiff: 4.2260"
     ]
    },
    {
     "name": "stderr",
     "output_type": "stream",
     "text": [
      "2021-03-04 02:20:54,944 INFO (4, 2, 36, 5)\n",
      "2021-03-04 02:20:55,522 INFO (4, 2, 36, 5)\n"
     ]
    },
    {
     "name": "stdout",
     "output_type": "stream",
     "text": [
      "\n",
      "Epoch 00018: loss did not improve from 0.50611\n",
      "26/26 [==============================] - 34s 1s/step - loss: 0.5089 - mse_wrapper: 0.5089 - ca_wrapper: 0.7969 - meandiff: 4.2260 - val_loss: 0.6261 - val_mse_wrapper: 0.6261 - val_ca_wrapper: 0.7908 - val_meandiff: 4.5156 - lr: 1.0000e-04\n",
      "Epoch 19/50\n",
      "26/26 [==============================] - ETA: 0s - loss: 0.4930 - mse_wrapper: 0.4930 - ca_wrapper: 0.8011 - meandiff: 3.8510\n",
      "Epoch 00019: loss improved from 0.50611 to 0.49296, saving model to exp/cv_baseline_taug10/8_64_64__8_3_3_4tenc_conv1_MSE_NOnorm_augshiftrot_NOtaug_3_batch8_f3/2021-03-04_02_09/model/model.h5\n",
      "26/26 [==============================] - 33s 1s/step - loss: 0.4930 - mse_wrapper: 0.4930 - ca_wrapper: 0.8011 - meandiff: 3.8510 - val_loss: 0.8020 - val_mse_wrapper: 0.8020 - val_ca_wrapper: 0.7283 - val_meandiff: 5.1875 - lr: 1.0000e-04\n",
      "Epoch 20/50\n",
      "26/26 [==============================] - ETA: 0s - loss: 0.4952 - mse_wrapper: 0.4952 - ca_wrapper: 0.8054 - meandiff: 3.8173"
     ]
    },
    {
     "name": "stderr",
     "output_type": "stream",
     "text": [
      "2021-03-04 02:22:05,548 INFO (4, 2, 36, 5)\n",
      "2021-03-04 02:22:06,125 INFO (4, 2, 36, 5)\n"
     ]
    },
    {
     "name": "stdout",
     "output_type": "stream",
     "text": [
      "\n",
      "Epoch 00020: loss did not improve from 0.49296\n",
      "26/26 [==============================] - 34s 1s/step - loss: 0.4952 - mse_wrapper: 0.4952 - ca_wrapper: 0.8054 - meandiff: 3.8173 - val_loss: 0.6800 - val_mse_wrapper: 0.6800 - val_ca_wrapper: 0.7747 - val_meandiff: 4.8594 - lr: 1.0000e-04\n",
      "Epoch 21/50\n",
      "26/26 [==============================] - ETA: 0s - loss: 0.4892 - mse_wrapper: 0.4892 - ca_wrapper: 0.8005 - meandiff: 3.8173\n",
      "Epoch 00021: loss improved from 0.49296 to 0.48920, saving model to exp/cv_baseline_taug10/8_64_64__8_3_3_4tenc_conv1_MSE_NOnorm_augshiftrot_NOtaug_3_batch8_f3/2021-03-04_02_09/model/model.h5\n",
      "26/26 [==============================] - 33s 1s/step - loss: 0.4892 - mse_wrapper: 0.4892 - ca_wrapper: 0.8005 - meandiff: 3.8173 - val_loss: 0.7754 - val_mse_wrapper: 0.7754 - val_ca_wrapper: 0.7435 - val_meandiff: 5.2188 - lr: 1.0000e-04\n",
      "Epoch 22/50\n",
      "26/26 [==============================] - ETA: 0s - loss: 0.4879 - mse_wrapper: 0.4879 - ca_wrapper: 0.8060 - meandiff: 3.8846"
     ]
    },
    {
     "name": "stderr",
     "output_type": "stream",
     "text": [
      "2021-03-04 02:23:16,064 INFO (4, 2, 36, 5)\n",
      "2021-03-04 02:23:16,623 INFO (4, 2, 36, 5)\n"
     ]
    },
    {
     "name": "stdout",
     "output_type": "stream",
     "text": [
      "\n",
      "Epoch 00022: loss improved from 0.48920 to 0.48795, saving model to exp/cv_baseline_taug10/8_64_64__8_3_3_4tenc_conv1_MSE_NOnorm_augshiftrot_NOtaug_3_batch8_f3/2021-03-04_02_09/model/model.h5\n",
      "26/26 [==============================] - 34s 1s/step - loss: 0.4879 - mse_wrapper: 0.4879 - ca_wrapper: 0.8060 - meandiff: 3.8846 - val_loss: 1.2885 - val_mse_wrapper: 1.2885 - val_ca_wrapper: 0.6584 - val_meandiff: 4.9531 - lr: 1.0000e-04\n",
      "Epoch 23/50\n",
      "26/26 [==============================] - ETA: 0s - loss: 0.4699 - mse_wrapper: 0.4699 - ca_wrapper: 0.8072 - meandiff: 3.7452\n",
      "Epoch 00023: loss improved from 0.48795 to 0.46990, saving model to exp/cv_baseline_taug10/8_64_64__8_3_3_4tenc_conv1_MSE_NOnorm_augshiftrot_NOtaug_3_batch8_f3/2021-03-04_02_09/model/model.h5\n",
      "26/26 [==============================] - 33s 1s/step - loss: 0.4699 - mse_wrapper: 0.4699 - ca_wrapper: 0.8072 - meandiff: 3.7452 - val_loss: 0.5844 - val_mse_wrapper: 0.5844 - val_ca_wrapper: 0.8168 - val_meandiff: 4.8750 - lr: 1.0000e-04\n",
      "Epoch 24/50\n",
      "26/26 [==============================] - ETA: 0s - loss: 0.4853 - mse_wrapper: 0.4853 - ca_wrapper: 0.8025 - meandiff: 3.9712"
     ]
    },
    {
     "name": "stderr",
     "output_type": "stream",
     "text": [
      "2021-03-04 02:24:26,851 INFO (4, 2, 36, 5)\n",
      "2021-03-04 02:24:27,421 INFO (4, 2, 36, 5)\n"
     ]
    },
    {
     "name": "stdout",
     "output_type": "stream",
     "text": [
      "\n",
      "Epoch 00024: loss did not improve from 0.46990\n",
      "26/26 [==============================] - 34s 1s/step - loss: 0.4853 - mse_wrapper: 0.4853 - ca_wrapper: 0.8025 - meandiff: 3.9712 - val_loss: 0.6837 - val_mse_wrapper: 0.6837 - val_ca_wrapper: 0.7114 - val_meandiff: 5.3125 - lr: 1.0000e-04\n",
      "Epoch 25/50\n",
      "26/26 [==============================] - ETA: 0s - loss: 0.4634 - mse_wrapper: 0.4634 - ca_wrapper: 0.8081 - meandiff: 3.8462\n",
      "Epoch 00025: loss improved from 0.46990 to 0.46338, saving model to exp/cv_baseline_taug10/8_64_64__8_3_3_4tenc_conv1_MSE_NOnorm_augshiftrot_NOtaug_3_batch8_f3/2021-03-04_02_09/model/model.h5\n",
      "26/26 [==============================] - 33s 1s/step - loss: 0.4634 - mse_wrapper: 0.4634 - ca_wrapper: 0.8081 - meandiff: 3.8462 - val_loss: 0.6476 - val_mse_wrapper: 0.6476 - val_ca_wrapper: 0.7821 - val_meandiff: 5.1719 - lr: 1.0000e-04\n",
      "Epoch 26/50\n",
      "26/26 [==============================] - ETA: 0s - loss: 0.4689 - mse_wrapper: 0.4689 - ca_wrapper: 0.8130 - meandiff: 3.7308"
     ]
    },
    {
     "name": "stderr",
     "output_type": "stream",
     "text": [
      "2021-03-04 02:25:37,728 INFO (4, 2, 36, 5)\n",
      "2021-03-04 02:25:38,303 INFO (4, 2, 36, 5)\n"
     ]
    },
    {
     "name": "stdout",
     "output_type": "stream",
     "text": [
      "\n",
      "Epoch 00026: loss did not improve from 0.46338\n",
      "26/26 [==============================] - 34s 1s/step - loss: 0.4689 - mse_wrapper: 0.4689 - ca_wrapper: 0.8130 - meandiff: 3.7308 - val_loss: 0.9092 - val_mse_wrapper: 0.9092 - val_ca_wrapper: 0.7357 - val_meandiff: 4.7031 - lr: 1.0000e-04\n",
      "Epoch 27/50\n",
      "26/26 [==============================] - ETA: 0s - loss: 0.4642 - mse_wrapper: 0.4642 - ca_wrapper: 0.8082 - meandiff: 3.7596\n",
      "Epoch 00027: loss did not improve from 0.46338\n",
      "26/26 [==============================] - 33s 1s/step - loss: 0.4642 - mse_wrapper: 0.4642 - ca_wrapper: 0.8082 - meandiff: 3.7596 - val_loss: 1.0478 - val_mse_wrapper: 1.0478 - val_ca_wrapper: 0.7231 - val_meandiff: 4.4688 - lr: 1.0000e-04\n",
      "Epoch 28/50\n",
      "26/26 [==============================] - ETA: 0s - loss: 0.4547 - mse_wrapper: 0.4547 - ca_wrapper: 0.8164 - meandiff: 3.6442"
     ]
    },
    {
     "name": "stderr",
     "output_type": "stream",
     "text": [
      "2021-03-04 02:26:48,419 INFO (4, 2, 36, 5)\n",
      "2021-03-04 02:26:48,961 INFO (4, 2, 36, 5)\n"
     ]
    },
    {
     "name": "stdout",
     "output_type": "stream",
     "text": [
      "\n",
      "Epoch 00028: loss improved from 0.46338 to 0.45469, saving model to exp/cv_baseline_taug10/8_64_64__8_3_3_4tenc_conv1_MSE_NOnorm_augshiftrot_NOtaug_3_batch8_f3/2021-03-04_02_09/model/model.h5\n",
      "26/26 [==============================] - 34s 1s/step - loss: 0.4547 - mse_wrapper: 0.4547 - ca_wrapper: 0.8164 - meandiff: 3.6442 - val_loss: 0.7638 - val_mse_wrapper: 0.7638 - val_ca_wrapper: 0.7730 - val_meandiff: 4.9219 - lr: 1.0000e-04\n",
      "Epoch 29/50\n",
      "26/26 [==============================] - ETA: 0s - loss: 0.4502 - mse_wrapper: 0.4502 - ca_wrapper: 0.8144 - meandiff: 3.5721\n",
      "Epoch 00029: loss improved from 0.45469 to 0.45022, saving model to exp/cv_baseline_taug10/8_64_64__8_3_3_4tenc_conv1_MSE_NOnorm_augshiftrot_NOtaug_3_batch8_f3/2021-03-04_02_09/model/model.h5\n",
      "26/26 [==============================] - 33s 1s/step - loss: 0.4502 - mse_wrapper: 0.4502 - ca_wrapper: 0.8144 - meandiff: 3.5721 - val_loss: 0.8698 - val_mse_wrapper: 0.8698 - val_ca_wrapper: 0.7457 - val_meandiff: 4.6250 - lr: 1.0000e-04\n",
      "Epoch 30/50\n",
      "26/26 [==============================] - ETA: 0s - loss: 0.4373 - mse_wrapper: 0.4373 - ca_wrapper: 0.8188 - meandiff: 3.6202"
     ]
    },
    {
     "name": "stderr",
     "output_type": "stream",
     "text": [
      "2021-03-04 02:27:58,810 INFO (4, 2, 36, 5)\n",
      "2021-03-04 02:27:59,324 INFO (4, 2, 36, 5)\n"
     ]
    },
    {
     "name": "stdout",
     "output_type": "stream",
     "text": [
      "\n",
      "Epoch 00030: loss improved from 0.45022 to 0.43733, saving model to exp/cv_baseline_taug10/8_64_64__8_3_3_4tenc_conv1_MSE_NOnorm_augshiftrot_NOtaug_3_batch8_f3/2021-03-04_02_09/model/model.h5\n",
      "26/26 [==============================] - 34s 1s/step - loss: 0.4373 - mse_wrapper: 0.4373 - ca_wrapper: 0.8188 - meandiff: 3.6202 - val_loss: 0.9334 - val_mse_wrapper: 0.9334 - val_ca_wrapper: 0.7235 - val_meandiff: 5.0156 - lr: 1.0000e-04\n",
      "Epoch 31/50\n",
      "26/26 [==============================] - ETA: 0s - loss: 0.4543 - mse_wrapper: 0.4543 - ca_wrapper: 0.8120 - meandiff: 3.6298\n",
      "Epoch 00031: loss did not improve from 0.43733\n",
      "26/26 [==============================] - 33s 1s/step - loss: 0.4543 - mse_wrapper: 0.4543 - ca_wrapper: 0.8120 - meandiff: 3.6298 - val_loss: 1.0955 - val_mse_wrapper: 1.0955 - val_ca_wrapper: 0.7057 - val_meandiff: 4.5156 - lr: 1.0000e-04\n",
      "Epoch 32/50\n",
      "26/26 [==============================] - ETA: 0s - loss: 0.4415 - mse_wrapper: 0.4415 - ca_wrapper: 0.8181 - meandiff: 3.4663"
     ]
    },
    {
     "name": "stderr",
     "output_type": "stream",
     "text": [
      "2021-03-04 02:29:09,568 INFO (4, 2, 36, 5)\n",
      "2021-03-04 02:29:10,133 INFO (4, 2, 36, 5)\n"
     ]
    },
    {
     "name": "stdout",
     "output_type": "stream",
     "text": [
      "\n",
      "Epoch 00032: loss did not improve from 0.43733\n",
      "26/26 [==============================] - 34s 1s/step - loss: 0.4415 - mse_wrapper: 0.4415 - ca_wrapper: 0.8181 - meandiff: 3.4663 - val_loss: 0.9473 - val_mse_wrapper: 0.9473 - val_ca_wrapper: 0.7083 - val_meandiff: 4.6875 - lr: 1.0000e-04\n",
      "Epoch 33/50\n",
      "26/26 [==============================] - ETA: 0s - loss: 0.4349 - mse_wrapper: 0.4349 - ca_wrapper: 0.8154 - meandiff: 3.5529\n",
      "Epoch 00033: loss improved from 0.43733 to 0.43491, saving model to exp/cv_baseline_taug10/8_64_64__8_3_3_4tenc_conv1_MSE_NOnorm_augshiftrot_NOtaug_3_batch8_f3/2021-03-04_02_09/model/model.h5\n",
      "26/26 [==============================] - 33s 1s/step - loss: 0.4349 - mse_wrapper: 0.4349 - ca_wrapper: 0.8154 - meandiff: 3.5529 - val_loss: 0.7591 - val_mse_wrapper: 0.7591 - val_ca_wrapper: 0.7457 - val_meandiff: 4.5938 - lr: 1.0000e-04\n",
      "Epoch 34/50\n",
      "26/26 [==============================] - ETA: 0s - loss: 0.4337 - mse_wrapper: 0.4337 - ca_wrapper: 0.8157 - meandiff: 3.3990"
     ]
    },
    {
     "name": "stderr",
     "output_type": "stream",
     "text": [
      "2021-03-04 02:30:20,861 INFO (4, 2, 36, 5)\n",
      "2021-03-04 02:30:21,427 INFO (4, 2, 36, 5)\n"
     ]
    },
    {
     "name": "stdout",
     "output_type": "stream",
     "text": [
      "\n",
      "Epoch 00034: loss improved from 0.43491 to 0.43369, saving model to exp/cv_baseline_taug10/8_64_64__8_3_3_4tenc_conv1_MSE_NOnorm_augshiftrot_NOtaug_3_batch8_f3/2021-03-04_02_09/model/model.h5\n",
      "26/26 [==============================] - 35s 1s/step - loss: 0.4337 - mse_wrapper: 0.4337 - ca_wrapper: 0.8157 - meandiff: 3.3990 - val_loss: 0.7060 - val_mse_wrapper: 0.7060 - val_ca_wrapper: 0.7982 - val_meandiff: 4.5938 - lr: 1.0000e-04\n",
      "Epoch 35/50\n",
      "26/26 [==============================] - ETA: 0s - loss: 0.4254 - mse_wrapper: 0.4254 - ca_wrapper: 0.8222 - meandiff: 3.4279\n",
      "Epoch 00035: loss improved from 0.43369 to 0.42544, saving model to exp/cv_baseline_taug10/8_64_64__8_3_3_4tenc_conv1_MSE_NOnorm_augshiftrot_NOtaug_3_batch8_f3/2021-03-04_02_09/model/model.h5\n",
      "26/26 [==============================] - 33s 1s/step - loss: 0.4254 - mse_wrapper: 0.4254 - ca_wrapper: 0.8222 - meandiff: 3.4279 - val_loss: 0.7458 - val_mse_wrapper: 0.7458 - val_ca_wrapper: 0.7656 - val_meandiff: 4.1719 - lr: 1.0000e-04\n",
      "Epoch 36/50\n",
      "26/26 [==============================] - ETA: 0s - loss: 0.4275 - mse_wrapper: 0.4275 - ca_wrapper: 0.8249 - meandiff: 3.3317"
     ]
    },
    {
     "name": "stderr",
     "output_type": "stream",
     "text": [
      "2021-03-04 02:31:31,499 INFO (4, 2, 36, 5)\n",
      "2021-03-04 02:31:32,016 INFO (4, 2, 36, 5)\n"
     ]
    },
    {
     "name": "stdout",
     "output_type": "stream",
     "text": [
      "\n",
      "Epoch 00036: loss did not improve from 0.42544\n",
      "26/26 [==============================] - 34s 1s/step - loss: 0.4275 - mse_wrapper: 0.4275 - ca_wrapper: 0.8249 - meandiff: 3.3317 - val_loss: 0.8714 - val_mse_wrapper: 0.8714 - val_ca_wrapper: 0.7704 - val_meandiff: 4.7031 - lr: 1.0000e-04\n",
      "Epoch 37/50\n",
      "26/26 [==============================] - ETA: 0s - loss: 0.4214 - mse_wrapper: 0.4214 - ca_wrapper: 0.8213 - meandiff: 3.5385\n",
      "Epoch 00037: loss improved from 0.42544 to 0.42141, saving model to exp/cv_baseline_taug10/8_64_64__8_3_3_4tenc_conv1_MSE_NOnorm_augshiftrot_NOtaug_3_batch8_f3/2021-03-04_02_09/model/model.h5\n",
      "26/26 [==============================] - 33s 1s/step - loss: 0.4214 - mse_wrapper: 0.4214 - ca_wrapper: 0.8213 - meandiff: 3.5385 - val_loss: 0.7853 - val_mse_wrapper: 0.7853 - val_ca_wrapper: 0.7539 - val_meandiff: 4.8438 - lr: 1.0000e-04\n",
      "Epoch 38/50\n",
      "26/26 [==============================] - ETA: 0s - loss: 0.4319 - mse_wrapper: 0.4319 - ca_wrapper: 0.8194 - meandiff: 3.3510"
     ]
    },
    {
     "name": "stderr",
     "output_type": "stream",
     "text": [
      "2021-03-04 02:32:42,183 INFO (4, 2, 36, 5)\n",
      "2021-03-04 02:32:42,745 INFO (4, 2, 36, 5)\n"
     ]
    },
    {
     "name": "stdout",
     "output_type": "stream",
     "text": [
      "\n",
      "Epoch 00038: loss did not improve from 0.42141\n",
      "26/26 [==============================] - 34s 1s/step - loss: 0.4319 - mse_wrapper: 0.4319 - ca_wrapper: 0.8194 - meandiff: 3.3510 - val_loss: 0.7314 - val_mse_wrapper: 0.7314 - val_ca_wrapper: 0.7726 - val_meandiff: 4.4062 - lr: 1.0000e-04\n",
      "Epoch 39/50\n",
      "26/26 [==============================] - ETA: 0s - loss: 0.4157 - mse_wrapper: 0.4157 - ca_wrapper: 0.8226 - meandiff: 3.2740\n",
      "Epoch 00039: loss improved from 0.42141 to 0.41567, saving model to exp/cv_baseline_taug10/8_64_64__8_3_3_4tenc_conv1_MSE_NOnorm_augshiftrot_NOtaug_3_batch8_f3/2021-03-04_02_09/model/model.h5\n",
      "26/26 [==============================] - 33s 1s/step - loss: 0.4157 - mse_wrapper: 0.4157 - ca_wrapper: 0.8226 - meandiff: 3.2740 - val_loss: 0.7425 - val_mse_wrapper: 0.7425 - val_ca_wrapper: 0.7847 - val_meandiff: 4.6250 - lr: 1.0000e-04\n",
      "Epoch 40/50\n",
      "26/26 [==============================] - ETA: 0s - loss: 0.4209 - mse_wrapper: 0.4209 - ca_wrapper: 0.8202 - meandiff: 3.4615"
     ]
    },
    {
     "name": "stderr",
     "output_type": "stream",
     "text": [
      "2021-03-04 02:33:52,644 INFO (4, 2, 36, 5)\n",
      "2021-03-04 02:33:53,199 INFO (4, 2, 36, 5)\n"
     ]
    },
    {
     "name": "stdout",
     "output_type": "stream",
     "text": [
      "\n",
      "Epoch 00040: loss did not improve from 0.41567\n",
      "26/26 [==============================] - 34s 1s/step - loss: 0.4209 - mse_wrapper: 0.4209 - ca_wrapper: 0.8202 - meandiff: 3.4615 - val_loss: 0.6549 - val_mse_wrapper: 0.6549 - val_ca_wrapper: 0.8038 - val_meandiff: 4.7500 - lr: 1.0000e-04\n",
      "Epoch 41/50\n",
      "26/26 [==============================] - ETA: 0s - loss: 0.4042 - mse_wrapper: 0.4042 - ca_wrapper: 0.8213 - meandiff: 3.3654\n",
      "Epoch 00041: loss improved from 0.41567 to 0.40416, saving model to exp/cv_baseline_taug10/8_64_64__8_3_3_4tenc_conv1_MSE_NOnorm_augshiftrot_NOtaug_3_batch8_f3/2021-03-04_02_09/model/model.h5\n",
      "26/26 [==============================] - 33s 1s/step - loss: 0.4042 - mse_wrapper: 0.4042 - ca_wrapper: 0.8213 - meandiff: 3.3654 - val_loss: 0.9665 - val_mse_wrapper: 0.9665 - val_ca_wrapper: 0.7934 - val_meandiff: 4.1250 - lr: 1.0000e-04\n",
      "Epoch 42/50\n",
      "26/26 [==============================] - ETA: 0s - loss: 0.4217 - mse_wrapper: 0.4217 - ca_wrapper: 0.8265 - meandiff: 3.3317"
     ]
    },
    {
     "name": "stderr",
     "output_type": "stream",
     "text": [
      "2021-03-04 02:35:03,600 INFO (4, 2, 36, 5)\n",
      "2021-03-04 02:35:04,179 INFO (4, 2, 36, 5)\n"
     ]
    },
    {
     "name": "stdout",
     "output_type": "stream",
     "text": [
      "\n",
      "Epoch 00042: loss did not improve from 0.40416\n",
      "26/26 [==============================] - 34s 1s/step - loss: 0.4217 - mse_wrapper: 0.4217 - ca_wrapper: 0.8265 - meandiff: 3.3317 - val_loss: 0.8229 - val_mse_wrapper: 0.8229 - val_ca_wrapper: 0.7839 - val_meandiff: 4.4062 - lr: 1.0000e-04\n",
      "Epoch 43/50\n",
      "26/26 [==============================] - ETA: 0s - loss: 0.4017 - mse_wrapper: 0.4017 - ca_wrapper: 0.8296 - meandiff: 3.3317\n",
      "Epoch 00043: loss improved from 0.40416 to 0.40166, saving model to exp/cv_baseline_taug10/8_64_64__8_3_3_4tenc_conv1_MSE_NOnorm_augshiftrot_NOtaug_3_batch8_f3/2021-03-04_02_09/model/model.h5\n",
      "26/26 [==============================] - 33s 1s/step - loss: 0.4017 - mse_wrapper: 0.4017 - ca_wrapper: 0.8296 - meandiff: 3.3317 - val_loss: 0.7481 - val_mse_wrapper: 0.7481 - val_ca_wrapper: 0.7418 - val_meandiff: 4.1562 - lr: 1.0000e-04\n",
      "Epoch 44/50\n",
      "26/26 [==============================] - ETA: 0s - loss: 0.3981 - mse_wrapper: 0.3981 - ca_wrapper: 0.8285 - meandiff: 3.2163"
     ]
    },
    {
     "name": "stderr",
     "output_type": "stream",
     "text": [
      "2021-03-04 02:36:14,666 INFO (4, 2, 36, 5)\n",
      "2021-03-04 02:36:16,660 INFO (4, 2, 36, 5)\n"
     ]
    },
    {
     "name": "stdout",
     "output_type": "stream",
     "text": [
      "\n",
      "Epoch 00044: loss improved from 0.40166 to 0.39814, saving model to exp/cv_baseline_taug10/8_64_64__8_3_3_4tenc_conv1_MSE_NOnorm_augshiftrot_NOtaug_3_batch8_f3/2021-03-04_02_09/model/model.h5\n",
      "26/26 [==============================] - 36s 1s/step - loss: 0.3981 - mse_wrapper: 0.3981 - ca_wrapper: 0.8285 - meandiff: 3.2163 - val_loss: 0.7909 - val_mse_wrapper: 0.7909 - val_ca_wrapper: 0.7422 - val_meandiff: 4.7031 - lr: 1.0000e-04\n",
      "Epoch 45/50\n",
      "26/26 [==============================] - ETA: 0s - loss: 0.4000 - mse_wrapper: 0.4000 - ca_wrapper: 0.8216 - meandiff: 3.1731\n",
      "Epoch 00045: loss did not improve from 0.39814\n",
      "26/26 [==============================] - 33s 1s/step - loss: 0.4000 - mse_wrapper: 0.4000 - ca_wrapper: 0.8216 - meandiff: 3.1731 - val_loss: 0.8489 - val_mse_wrapper: 0.8489 - val_ca_wrapper: 0.7656 - val_meandiff: 4.3281 - lr: 1.0000e-04\n",
      "Epoch 46/50\n",
      "26/26 [==============================] - ETA: 0s - loss: 0.3932 - mse_wrapper: 0.3932 - ca_wrapper: 0.8305 - meandiff: 3.1731"
     ]
    },
    {
     "name": "stderr",
     "output_type": "stream",
     "text": [
      "2021-03-04 02:37:26,870 INFO (4, 2, 36, 5)\n",
      "2021-03-04 02:37:27,421 INFO (4, 2, 36, 5)\n"
     ]
    },
    {
     "name": "stdout",
     "output_type": "stream",
     "text": [
      "\n",
      "Epoch 00046: loss improved from 0.39814 to 0.39324, saving model to exp/cv_baseline_taug10/8_64_64__8_3_3_4tenc_conv1_MSE_NOnorm_augshiftrot_NOtaug_3_batch8_f3/2021-03-04_02_09/model/model.h5\n",
      "26/26 [==============================] - 34s 1s/step - loss: 0.3932 - mse_wrapper: 0.3932 - ca_wrapper: 0.8305 - meandiff: 3.1731 - val_loss: 1.1125 - val_mse_wrapper: 1.1125 - val_ca_wrapper: 0.7587 - val_meandiff: 4.5469 - lr: 1.0000e-04\n",
      "Epoch 47/50\n",
      "26/26 [==============================] - ETA: 0s - loss: 0.3917 - mse_wrapper: 0.3917 - ca_wrapper: 0.8265 - meandiff: 3.2212\n",
      "Epoch 00047: loss improved from 0.39324 to 0.39167, saving model to exp/cv_baseline_taug10/8_64_64__8_3_3_4tenc_conv1_MSE_NOnorm_augshiftrot_NOtaug_3_batch8_f3/2021-03-04_02_09/model/model.h5\n",
      "26/26 [==============================] - 33s 1s/step - loss: 0.3917 - mse_wrapper: 0.3917 - ca_wrapper: 0.8265 - meandiff: 3.2212 - val_loss: 0.6439 - val_mse_wrapper: 0.6439 - val_ca_wrapper: 0.7795 - val_meandiff: 4.7812 - lr: 1.0000e-04\n",
      "Epoch 48/50\n",
      "26/26 [==============================] - ETA: 0s - loss: 0.3984 - mse_wrapper: 0.3984 - ca_wrapper: 0.8316 - meandiff: 3.0288"
     ]
    },
    {
     "name": "stderr",
     "output_type": "stream",
     "text": [
      "2021-03-04 02:38:37,842 INFO (4, 2, 36, 5)\n",
      "2021-03-04 02:38:38,401 INFO (4, 2, 36, 5)\n"
     ]
    },
    {
     "name": "stdout",
     "output_type": "stream",
     "text": [
      "\n",
      "Epoch 00048: loss did not improve from 0.39167\n",
      "26/26 [==============================] - 34s 1s/step - loss: 0.3984 - mse_wrapper: 0.3984 - ca_wrapper: 0.8316 - meandiff: 3.0288 - val_loss: 0.8109 - val_mse_wrapper: 0.8109 - val_ca_wrapper: 0.7700 - val_meandiff: 4.5938 - lr: 1.0000e-04\n",
      "Epoch 49/50\n",
      "26/26 [==============================] - ETA: 0s - loss: 0.3808 - mse_wrapper: 0.3808 - ca_wrapper: 0.8341 - meandiff: 3.0769\n",
      "Epoch 00049: loss improved from 0.39167 to 0.38079, saving model to exp/cv_baseline_taug10/8_64_64__8_3_3_4tenc_conv1_MSE_NOnorm_augshiftrot_NOtaug_3_batch8_f3/2021-03-04_02_09/model/model.h5\n",
      "26/26 [==============================] - 33s 1s/step - loss: 0.3808 - mse_wrapper: 0.3808 - ca_wrapper: 0.8341 - meandiff: 3.0769 - val_loss: 0.5763 - val_mse_wrapper: 0.5763 - val_ca_wrapper: 0.8086 - val_meandiff: 4.2500 - lr: 1.0000e-04\n",
      "Epoch 50/50\n",
      "26/26 [==============================] - ETA: 0s - loss: 0.3864 - mse_wrapper: 0.3864 - ca_wrapper: 0.8309 - meandiff: 2.9375"
     ]
    },
    {
     "name": "stderr",
     "output_type": "stream",
     "text": [
      "2021-03-04 02:39:48,729 INFO (4, 2, 36, 5)\n",
      "2021-03-04 02:39:49,287 INFO (4, 2, 36, 5)\n"
     ]
    },
    {
     "name": "stdout",
     "output_type": "stream",
     "text": [
      "\n",
      "Epoch 00050: loss did not improve from 0.38079\n",
      "26/26 [==============================] - 34s 1s/step - loss: 0.3864 - mse_wrapper: 0.3864 - ca_wrapper: 0.8309 - meandiff: 2.9375 - val_loss: 1.3529 - val_mse_wrapper: 1.3529 - val_ca_wrapper: 0.7396 - val_meandiff: 4.2812 - lr: 1.0000e-04\n"
     ]
    },
    {
     "name": "stderr",
     "output_type": "stream",
     "text": [
      "2021-03-04 02:39:51,639 INFO Fold 3 finished after 1815.806 sec\n"
     ]
    },
    {
     "data": {
      "text/plain": [
       "True"
      ]
     },
     "execution_count": 2,
     "metadata": {},
     "output_type": "execute_result"
    }
   ],
   "source": [
    "from src.models.train_model import train_fold\n",
    "\n",
    "folds = [i for i in range(0, 4, 1)]\n",
    "\n",
    "for f in folds:\n",
    "    info('starting fold: {}'.format(f))\n",
    "    config_ = config.copy()\n",
    "    config_['FOLD'] = f\n",
    "    train_fold(config_)"
   ]
  },
  {
   "cell_type": "code",
   "execution_count": null,
   "metadata": {},
   "outputs": [],
   "source": []
  },
  {
   "cell_type": "code",
   "execution_count": null,
   "metadata": {},
   "outputs": [],
   "source": []
  }
 ],
 "metadata": {
  "kernelspec": {
   "display_name": "septum",
   "language": "python",
   "name": "septum_detection"
  },
  "language_info": {
   "codemirror_mode": {
    "name": "ipython",
    "version": 3
   },
   "file_extension": ".py",
   "mimetype": "text/x-python",
   "name": "python",
   "nbconvert_exporter": "python",
   "pygments_lexer": "ipython3",
   "version": "3.6.9"
  },
  "widgets": {
   "application/vnd.jupyter.widget-state+json": {
    "state": {},
    "version_major": 2,
    "version_minor": 0
   }
  }
 },
 "nbformat": 4,
 "nbformat_minor": 4
}
