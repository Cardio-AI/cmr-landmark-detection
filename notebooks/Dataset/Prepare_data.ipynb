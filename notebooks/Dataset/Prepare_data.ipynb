{
 "cells": [
  {
   "cell_type": "markdown",
   "id": "6c2d469d",
   "metadata": {},
   "source": [
    "# This notebook could be used to download and pre-process the ACDC RVIP data and labels and slice them into 2D"
   ]
  },
  {
   "cell_type": "code",
   "execution_count": 1,
   "id": "8c8b48a8",
   "metadata": {},
   "outputs": [
    {
     "name": "stdout",
     "output_type": "stream",
     "text": [
      "search for root_dir and set working directory\n",
      "Working directory set to: /mnt/ssd/git/rvip_landmark_detection\n"
     ]
    }
   ],
   "source": [
    "# ------------------------------------------define logging and working directory\n",
    "from ProjectRoot import change_wd_to_project_root\n",
    "change_wd_to_project_root()\n",
    "from src.utils.Tensorflow_helper import choose_gpu_by_id\n",
    "\n",
    "# ------------------------------------------jupyter magic config\n",
    "%matplotlib inline\n",
    "%reload_ext autoreload\n",
    "%autoreload 2\n",
    "# ------------------------------------------ import helpers\n",
    "# Notebook_imports should import glob, os, and many other standard libs\n",
    "from src.utils.Notebook_imports import *\n",
    "# load helper function to slice 3d_volumes into 2d_slices\n",
    "from src.data.Dataset import ensure_dir, create_2d_slices_from_3d_volume_files\n",
    "from ipyfilechooser import FileChooser"
   ]
  },
  {
   "cell_type": "markdown",
   "id": "0aa6057e",
   "metadata": {},
   "source": [
    "# Load CMR and mask file names"
   ]
  },
  {
   "cell_type": "code",
   "execution_count": 2,
   "id": "412aae1f",
   "metadata": {},
   "outputs": [],
   "source": [
    "# Download and unpack the raw data\n",
    "# small helper\n",
    "def clean_import(dir_path):\n",
    "    import shutil\n",
    "    try:\n",
    "        shutil.rmtree(dir_path)\n",
    "    except OSError as e:\n",
    "        print(\"Info: %s : %s\" % (dir_path, e.strerror))\n",
    "        print('Dont worry, Directory will be created.')\n",
    "    ensure_dir(dir_path)"
   ]
  },
  {
   "cell_type": "code",
   "execution_count": 3,
   "id": "b41ea607",
   "metadata": {},
   "outputs": [
    {
     "data": {
      "application/vnd.jupyter.widget-view+json": {
       "model_id": "607f3fd61bcd4131aa3f29254e3eec68",
       "version_major": 2,
       "version_minor": 0
      },
      "text/plain": [
       "FileChooser(path='data', filename='', title='HTML(value='<b>Choose a data root, data will be downloaded and ex…"
      ]
     },
     "metadata": {},
     "output_type": "display_data"
    }
   ],
   "source": [
    "# Please change only the data_root var, e.g. data/import\n",
    "dataroot_path = FileChooser('data')\n",
    "dataroot_path.title = '<b>Choose a data root, data will be downloaded and extracted in this dir</b>'\n",
    "display(dataroot_path)"
   ]
  },
  {
   "cell_type": "code",
   "execution_count": 4,
   "id": "54b1be43",
   "metadata": {},
   "outputs": [
    {
     "data": {
      "application/vnd.jupyter.widget-view+json": {
       "model_id": "2c262c4d93fd4f078da4548acbdc0cb9",
       "version_major": 2,
       "version_minor": 0
      },
      "text/plain": [
       "FileChooser(path='data', filename='', title='HTML(value='<b>Choose the path to the original \"acdc\" root-folder…"
      ]
     },
     "metadata": {},
     "output_type": "display_data"
    }
   ],
   "source": [
    "path_to_original_acdc_files = FileChooser('data')\n",
    "path_to_original_acdc_files.title = '<b>Choose the path to the original \"acdc\" root-folder with the patient sub-folders</b>'\n",
    "display(path_to_original_acdc_files)"
   ]
  },
  {
   "cell_type": "code",
   "execution_count": 5,
   "id": "da4cf04f",
   "metadata": {},
   "outputs": [
    {
     "name": "stdout",
     "output_type": "stream",
     "text": [
      "Info: data/import : No such file or directory\n",
      "Dont worry, Directory will be created.\n"
     ]
    }
   ],
   "source": [
    "# define a folder for the acdc cmr and masks, make sure not to use an existing folder\n",
    "data_root = dataroot_path.selected\n",
    "import_path = os.path.join(data_root, 'import')\n",
    "ensure_dir(data_root)\n",
    "clean_import(import_path)"
   ]
  },
  {
   "cell_type": "code",
   "execution_count": 6,
   "id": "7a73df85",
   "metadata": {
    "collapsed": true,
    "jupyter": {
     "outputs_hidden": true
    },
    "tags": []
   },
   "outputs": [
    {
     "name": "stdout",
     "output_type": "stream",
     "text": [
      "--2022-01-28 17:59:29--  https://heibox.uni-heidelberg.de/f/aa4baab97b78481a9bac/?dl=1\n",
      "Resolving heibox.uni-heidelberg.de (heibox.uni-heidelberg.de)... 129.206.7.113\n",
      "Connecting to heibox.uni-heidelberg.de (heibox.uni-heidelberg.de)|129.206.7.113|:443... connected.\n",
      "HTTP request sent, awaiting response... 302 Found\n",
      "Location: https://heibox.uni-heidelberg.de/seafhttp/files/899b0d56-44dc-4259-be1a-abc2517e9fa7/rvips_public.zip [following]\n",
      "--2022-01-28 17:59:29--  https://heibox.uni-heidelberg.de/seafhttp/files/899b0d56-44dc-4259-be1a-abc2517e9fa7/rvips_public.zip\n",
      "Reusing existing connection to heibox.uni-heidelberg.de:443.\n",
      "HTTP request sent, awaiting response... 200 OK\n",
      "Length: 258932 (253K) [application/zip]\n",
      "Saving to: ‘data/import/index.html?dl=1’\n",
      "\n",
      "index.html?dl=1     100%[===================>] 252,86K  --.-KB/s    in 0,05s   \n",
      "\n",
      "2022-01-28 17:59:29 (4,68 MB/s) - ‘data/import/index.html?dl=1’ saved [258932/258932]\n",
      "\n",
      "downloaded\n",
      "Archive:  data/import/index.html?dl=1\n",
      "   creating: data/rvips/\n",
      "   creating: data/rvips/pp/\n",
      "  inflating: data/rvips/pp/patient001_frame01_rvip.nrrd  \n",
      "  inflating: data/rvips/pp/patient092_frame01_rvip.nrrd  \n",
      "  inflating: data/rvips/pp/patient048_frame01_rvip.nrrd  \n",
      "  inflating: data/rvips/pp/patient064_frame01_rvip.nrrd  \n",
      "  inflating: data/rvips/pp/patient053_frame12_rvip.nrrd  \n",
      "  inflating: data/rvips/pp/patient081_frame07_rvip.nrrd  \n",
      "  inflating: data/rvips/pp/patient023_frame09_rvip.nrrd  \n",
      "  inflating: data/rvips/pp/patient038_frame11_rvip.nrrd  \n",
      "  inflating: data/rvips/pp/patient071_frame09_rvip.nrrd  \n",
      "  inflating: data/rvips/pp/patient078_frame01_rvip.nrrd  \n",
      "  inflating: data/rvips/pp/patient001_frame12_rvip.nrrd  \n",
      "  inflating: data/rvips/pp/patient036_frame01_rvip.nrrd  \n",
      "  inflating: data/rvips/pp/patient029_frame12_rvip.nrrd  \n",
      "  inflating: data/rvips/pp/patient050_frame01_rvip.nrrd  \n",
      "  inflating: data/rvips/pp/patient080_frame01_rvip.nrrd  \n",
      "  inflating: data/rvips/pp/patient059_frame09_rvip.nrrd  \n",
      "  inflating: data/rvips/pp/patient017_frame09_rvip.nrrd  \n",
      "  inflating: data/rvips/pp/patient049_frame01_rvip.nrrd  \n",
      "  inflating: data/rvips/pp/patient007_frame01_rvip.nrrd  \n",
      "  inflating: data/rvips/pp/patient097_frame11_rvip.nrrd  \n",
      "  inflating: data/rvips/pp/patient030_frame12_rvip.nrrd  \n",
      "  inflating: data/rvips/pp/patient099_frame01_rvip.nrrd  \n",
      "  inflating: data/rvips/pp/patient061_frame01_rvip.nrrd  \n",
      "  inflating: data/rvips/pp/patient056_frame12_rvip.nrrd  \n",
      "  inflating: data/rvips/pp/patient033_frame01_rvip.nrrd  \n",
      "  inflating: data/rvips/pp/patient089_frame10_rvip.nrrd  \n",
      "  inflating: data/rvips/pp/patient085_frame01_rvip.nrrd  \n",
      "  inflating: data/rvips/pp/patient081_frame01_rvip.nrrd  \n",
      "  inflating: data/rvips/pp/patient055_frame01_rvip.nrrd  \n",
      "  inflating: data/rvips/pp/patient003_frame01_rvip.nrrd  \n",
      "  inflating: data/rvips/pp/patient065_frame01_rvip.nrrd  \n",
      "  inflating: data/rvips/pp/patient003_frame15_rvip.nrrd  \n",
      "  inflating: data/rvips/pp/patient096_frame08_rvip.nrrd  \n",
      "  inflating: data/rvips/pp/.DS_Store  \n",
      "  inflating: data/rvips/pp/patient037_frame01_rvip.nrrd  \n",
      "  inflating: data/rvips/pp/patient079_frame01_rvip.nrrd  \n",
      "  inflating: data/rvips/pp/patient051_frame01_rvip.nrrd  \n",
      "  inflating: data/rvips/pp/patient006_frame01_rvip.nrrd  \n",
      "  inflating: data/rvips/pp/patient058_frame01_rvip.nrrd  \n",
      "  inflating: data/rvips/pp/patient091_frame09_rvip.nrrd  \n",
      "  inflating: data/rvips/pp/patient098_frame01_rvip.nrrd  \n",
      "  inflating: data/rvips/pp/patient020_frame11_rvip.nrrd  \n",
      "  inflating: data/rvips/pp/patient060_frame01_rvip.nrrd  \n",
      "  inflating: data/rvips/pp/patient011_frame08_rvip.nrrd  \n",
      "  inflating: data/rvips/pp/patient032_frame01_rvip.nrrd  \n",
      "  inflating: data/rvips/pp/patient072_frame11_rvip.nrrd  \n",
      "  inflating: data/rvips/pp/patient007_frame07_rvip.nrrd  \n",
      "  inflating: data/rvips/pp/patient084_frame01_rvip.nrrd  \n",
      "  inflating: data/rvips/pp/patient054_frame01_rvip.nrrd  \n",
      "  inflating: data/rvips/pp/patient070_frame10_rvip.nrrd  \n",
      "  inflating: data/rvips/pp/patient047_frame09_rvip.nrrd  \n",
      "  inflating: data/rvips/pp/patient037_frame12_rvip.nrrd  \n",
      "  inflating: data/rvips/pp/patient090_frame11_rvip.nrrd  \n",
      "  inflating: data/rvips/pp/patient028_frame01_rvip.nrrd  \n",
      "  inflating: data/rvips/pp/patient066_frame01_rvip.nrrd  \n",
      "  inflating: data/rvips/pp/patient100_frame01_rvip.nrrd  \n",
      "  inflating: data/rvips/pp/patient034_frame01_rvip.nrrd  \n",
      "  inflating: data/rvips/pp/patient052_frame01_rvip.nrrd  \n",
      "  inflating: data/rvips/pp/patient082_frame01_rvip.nrrd  \n",
      "  inflating: data/rvips/pp/patient032_frame12_rvip.nrrd  \n",
      "  inflating: data/rvips/pp/patient005_frame01_rvip.nrrd  \n",
      "  inflating: data/rvips/pp/patient024_frame09_rvip.nrrd  \n",
      "  inflating: data/rvips/pp/patient054_frame12_rvip.nrrd  \n",
      "  inflating: data/rvips/pp/patient063_frame01_rvip.nrrd  \n",
      "  inflating: data/rvips/pp/patient015_frame10_rvip.nrrd  \n",
      "  inflating: data/rvips/pp/patient031_frame01_rvip.nrrd  \n",
      "  inflating: data/rvips/pp/patient033_frame14_rvip.nrrd  \n",
      "  inflating: data/rvips/pp/patient087_frame01_rvip.nrrd  \n",
      "  inflating: data/rvips/pp/patient073_frame10_rvip.nrrd  \n",
      "  inflating: data/rvips/pp/patient019_frame01_rvip.nrrd  \n",
      "  inflating: data/rvips/pp/patient057_frame01_rvip.nrrd  \n",
      "  inflating: data/rvips/pp/patient041_frame11_rvip.nrrd  \n",
      "  inflating: data/rvips/pp/patient002_frame01_rvip.nrrd  \n",
      "  inflating: data/rvips/pp/patient036_frame12_rvip.nrrd  \n",
      "  inflating: data/rvips/pp/patient048_frame08_rvip.nrrd  \n",
      "  inflating: data/rvips/pp/patient067_frame01_rvip.nrrd  \n",
      "  inflating: data/rvips/pp/patient050_frame12_rvip.nrrd  \n",
      "  inflating: data/rvips/pp/patient082_frame07_rvip.nrrd  \n",
      "  inflating: data/rvips/pp/patient100_frame13_rvip.nrrd  \n",
      "  inflating: data/rvips/pp/patient029_frame01_rvip.nrrd  \n",
      "  inflating: data/rvips/pp/patient027_frame11_rvip.nrrd  \n",
      "  inflating: data/rvips/pp/patient065_frame14_rvip.nrrd  \n",
      "  inflating: data/rvips/pp/patient002_frame12_rvip.nrrd  \n",
      "  inflating: data/rvips/pp/patient035_frame01_rvip.nrrd  \n",
      "  inflating: data/rvips/pp/patient039_frame10_rvip.nrrd  \n",
      "  inflating: data/rvips/pp/patient064_frame12_rvip.nrrd  \n",
      "  inflating: data/rvips/pp/patient053_frame01_rvip.nrrd  \n",
      "  inflating: data/rvips/pp/patient042_frame16_rvip.nrrd  \n",
      "  inflating: data/rvips/pp/patient083_frame01_rvip.nrrd  \n",
      "  inflating: data/rvips/pp/patient004_frame01_rvip.nrrd  \n",
      "  inflating: data/rvips/pp/patient044_frame11_rvip.nrrd  \n",
      "  inflating: data/rvips/pp/patient025_frame09_rvip.nrrd  \n",
      "  inflating: data/rvips/pp/patient022_frame11_rvip.nrrd  \n",
      "  inflating: data/rvips/pp/patient060_frame14_rvip.nrrd  \n",
      "  inflating: data/rvips/pp/patient004_frame15_rvip.nrrd  \n",
      "  inflating: data/rvips/pp/patient046_frame10_rvip.nrrd  \n",
      "  inflating: data/rvips/pp/patient062_frame01_rvip.nrrd  \n",
      "  inflating: data/rvips/pp/patient030_frame01_rvip.nrrd  \n",
      "  inflating: data/rvips/pp/patient077_frame09_rvip.nrrd  \n",
      "  inflating: data/rvips/pp/patient005_frame13_rvip.nrrd  \n",
      "  inflating: data/rvips/pp/patient086_frame01_rvip.nrrd  \n",
      "  inflating: data/rvips/pp/patient056_frame01_rvip.nrrd  \n",
      "  inflating: data/rvips/pp/patient018_frame01_rvip.nrrd  \n",
      "  inflating: data/rvips/pp/patient034_frame16_rvip.nrrd  \n",
      "  inflating: data/rvips/pp/patient062_frame09_rvip.nrrd  \n",
      "  inflating: data/rvips/pp/patient025_frame01_rvip.nrrd  \n",
      "  inflating: data/rvips/pp/patient043_frame01_rvip.nrrd  \n",
      "  inflating: data/rvips/pp/patient074_frame12_rvip.nrrd  \n",
      "  inflating: data/rvips/pp/patient067_frame10_rvip.nrrd  \n",
      "  inflating: data/rvips/pp/patient093_frame01_rvip.nrrd  \n",
      "  inflating: data/rvips/pp/patient010_frame13_rvip.nrrd  \n",
      "  inflating: data/rvips/pp/patient051_frame11_rvip.nrrd  \n",
      "  inflating: data/rvips/pp/patient013_frame14_rvip.nrrd  \n",
      "  inflating: data/rvips/pp/patient068_frame12_rvip.nrrd  \n",
      "  inflating: data/rvips/pp/patient026_frame12_rvip.nrrd  \n",
      "  inflating: data/rvips/pp/patient011_frame01_rvip.nrrd  \n",
      "  inflating: data/rvips/pp/patient039_frame01_rvip.nrrd  \n",
      "  inflating: data/rvips/pp/patient077_frame01_rvip.nrrd  \n",
      "  inflating: data/rvips/pp/patient087_frame10_rvip.nrrd  \n",
      "  inflating: data/rvips/pp/patient079_frame11_rvip.nrrd  \n",
      "  inflating: data/rvips/pp/patient020_frame01_rvip.nrrd  \n",
      "  inflating: data/rvips/pp/patient008_frame01_rvip.nrrd  \n",
      "  inflating: data/rvips/pp/patient046_frame01_rvip.nrrd  \n",
      "  inflating: data/rvips/pp/patient014_frame01_rvip.nrrd  \n",
      "  inflating: data/rvips/pp/patient058_frame14_rvip.nrrd  \n",
      "  inflating: data/rvips/pp/patient009_frame13_rvip.nrrd  \n",
      "  inflating: data/rvips/pp/patient095_frame12_rvip.nrrd  \n",
      "  inflating: data/rvips/pp/patient021_frame13_rvip.nrrd  \n",
      "  inflating: data/rvips/pp/patient063_frame16_rvip.nrrd  \n",
      "  inflating: data/rvips/pp/patient072_frame01_rvip.nrrd  \n",
      "  inflating: data/rvips/pp/patient018_frame10_rvip.nrrd  \n",
      "  inflating: data/rvips/pp/patient024_frame01_rvip.nrrd  \n",
      "  inflating: data/rvips/pp/patient075_frame06_rvip.nrrd  \n",
      "  inflating: data/rvips/pp/patient042_frame01_rvip.nrrd  \n",
      "  inflating: data/rvips/pp/patient096_frame01_rvip.nrrd  \n",
      "  inflating: data/rvips/pp/patient057_frame09_rvip.nrrd  \n",
      "  inflating: data/rvips/pp/patient010_frame01_rvip.nrrd  \n",
      "  inflating: data/rvips/pp/patient069_frame12_rvip.nrrd  \n",
      "  inflating: data/rvips/pp/patient076_frame01_rvip.nrrd  \n",
      "  inflating: data/rvips/pp/patient038_frame01_rvip.nrrd  \n",
      "  inflating: data/rvips/pp/patient043_frame07_rvip.nrrd  \n",
      "  inflating: data/rvips/pp/patient016_frame12_rvip.nrrd  \n",
      "  inflating: data/rvips/pp/patient021_frame01_rvip.nrrd  \n",
      "  inflating: data/rvips/pp/patient088_frame12_rvip.nrrd  \n",
      "  inflating: data/rvips/pp/patient028_frame09_rvip.nrrd  \n",
      "  inflating: data/rvips/pp/patient049_frame11_rvip.nrrd  \n",
      "  inflating: data/rvips/pp/patient097_frame01_rvip.nrrd  \n",
      "  inflating: data/rvips/pp/patient014_frame13_rvip.nrrd  \n",
      "  inflating: data/rvips/pp/patient047_frame01_rvip.nrrd  \n",
      "  inflating: data/rvips/pp/patient009_frame01_rvip.nrrd  \n",
      "  inflating: data/rvips/pp/patient015_frame01_rvip.nrrd  \n",
      "  inflating: data/rvips/pp/patient031_frame10_rvip.nrrd  \n",
      "  inflating: data/rvips/pp/patient008_frame13_rvip.nrrd  \n",
      "  inflating: data/rvips/pp/patient052_frame09_rvip.nrrd  \n",
      "  inflating: data/rvips/pp/patient073_frame01_rvip.nrrd  \n",
      "  inflating: data/rvips/pp/patient069_frame01_rvip.nrrd  \n",
      "  inflating: data/rvips/pp/patient027_frame01_rvip.nrrd  \n",
      "  inflating: data/rvips/pp/patient098_frame09_rvip.nrrd  \n",
      "  inflating: data/rvips/pp/patient076_frame12_rvip.nrrd  \n",
      "  inflating: data/rvips/pp/patient093_frame14_rvip.nrrd  \n",
      "  inflating: data/rvips/pp/patient041_frame01_rvip.nrrd  \n",
      "  inflating: data/rvips/pp/patient012_frame13_rvip.nrrd  \n",
      "  inflating: data/rvips/pp/patient091_frame01_rvip.nrrd  \n",
      "  inflating: data/rvips/pp/patient040_frame13_rvip.nrrd  \n",
      "  inflating: data/rvips/pp/patient092_frame06_rvip.nrrd  \n",
      "  inflating: data/rvips/pp/patient013_frame01_rvip.nrrd  \n",
      "  inflating: data/rvips/pp/patient075_frame01_rvip.nrrd  \n",
      "  inflating: data/rvips/pp/patient035_frame11_rvip.nrrd  \n",
      "  inflating: data/rvips/pp/patient086_frame08_rvip.nrrd  \n",
      "  inflating: data/rvips/pp/patient022_frame01_rvip.nrrd  \n",
      "  inflating: data/rvips/pp/patient094_frame01_rvip.nrrd  \n",
      "  inflating: data/rvips/pp/patient044_frame01_rvip.nrrd  \n",
      "  inflating: data/rvips/pp/patient090_frame04_rvip.nrrd  \n",
      "  inflating: data/rvips/pp/patient016_frame01_rvip.nrrd  \n",
      "  inflating: data/rvips/pp/patient045_frame13_rvip.nrrd  \n",
      "  inflating: data/rvips/pp/patient088_frame01_rvip.nrrd  \n",
      "  inflating: data/rvips/pp/patient084_frame10_rvip.nrrd  \n",
      "  inflating: data/rvips/pp/patient083_frame08_rvip.nrrd  \n",
      "  inflating: data/rvips/pp/patient070_frame01_rvip.nrrd  \n",
      "  inflating: data/rvips/pp/patient066_frame11_rvip.nrrd  \n",
      "  inflating: data/rvips/pp/patient026_frame01_rvip.nrrd  \n",
      "  inflating: data/rvips/pp/patient068_frame01_rvip.nrrd  \n",
      "  inflating: data/rvips/pp/patient099_frame09_rvip.nrrd  \n",
      "  inflating: data/rvips/pp/patient040_frame01_rvip.nrrd  \n",
      "  inflating: data/rvips/pp/patient085_frame09_rvip.nrrd  \n",
      "  inflating: data/rvips/pp/patient012_frame01_rvip.nrrd  \n",
      "  inflating: data/rvips/pp/patient074_frame01_rvip.nrrd  \n",
      "  inflating: data/rvips/pp/patient080_frame10_rvip.nrrd  \n",
      "  inflating: data/rvips/pp/patient023_frame01_rvip.nrrd  \n",
      "  inflating: data/rvips/pp/patient095_frame01_rvip.nrrd  \n",
      "  inflating: data/rvips/pp/patient061_frame10_rvip.nrrd  \n",
      "  inflating: data/rvips/pp/patient045_frame01_rvip.nrrd  \n",
      "  inflating: data/rvips/pp/patient017_frame01_rvip.nrrd  \n",
      "  inflating: data/rvips/pp/patient059_frame01_rvip.nrrd  \n",
      "  inflating: data/rvips/pp/patient006_frame16_rvip.nrrd  \n",
      "  inflating: data/rvips/pp/patient019_frame11_rvip.nrrd  \n",
      "  inflating: data/rvips/pp/patient089_frame01_rvip.nrrd  \n",
      "  inflating: data/rvips/pp/patient078_frame09_rvip.nrrd  \n",
      "  inflating: data/rvips/pp/patient055_frame10_rvip.nrrd  \n",
      "  inflating: data/rvips/pp/patient094_frame07_rvip.nrrd  \n",
      "  inflating: data/rvips/pp/patient071_frame01_rvip.nrrd  \n"
     ]
    }
   ],
   "source": [
    "# download cleaned rvip 3D cmr and masks\n",
    "!wget https://heibox.uni-heidelberg.de/f/aa4baab97b78481a9bac/?dl=1 -P {import_path}\n",
    "print('downloaded')\n",
    "# unzip and replace\n",
    "zip_file = glob.glob(os.path.join(import_path,'index.html?dl=*'))[0]\n",
    "!unzip -o {zip_file} -d {data_root}\n",
    "# clean temp import older\n",
    "clean_import(import_path)"
   ]
  },
  {
   "cell_type": "code",
   "execution_count": 7,
   "id": "2d4a8f68",
   "metadata": {
    "tags": []
   },
   "outputs": [
    {
     "name": "stdout",
     "output_type": "stream",
     "text": [
      "--2022-01-28 17:59:38--  https://heibox.uni-heidelberg.de/f/03f57e89dc8b46668144/?dl=1\n",
      "Resolving heibox.uni-heidelberg.de (heibox.uni-heidelberg.de)... 129.206.7.113\n",
      "Connecting to heibox.uni-heidelberg.de (heibox.uni-heidelberg.de)|129.206.7.113|:443... connected.\n",
      "HTTP request sent, awaiting response... 302 Found\n",
      "Location: https://heibox.uni-heidelberg.de/seafhttp/files/1e6af05d-a4c0-4aea-9ce9-ab0b3d6f71b5/df_kfold.zip [following]\n",
      "--2022-01-28 17:59:38--  https://heibox.uni-heidelberg.de/seafhttp/files/1e6af05d-a4c0-4aea-9ce9-ab0b3d6f71b5/df_kfold.zip\n",
      "Reusing existing connection to heibox.uni-heidelberg.de:443.\n",
      "HTTP request sent, awaiting response... 200 OK\n",
      "Length: 20549 (20K) [application/zip]\n",
      "Saving to: ‘data/import/index.html?dl=1’\n",
      "\n",
      "index.html?dl=1     100%[===================>]  20,07K  --.-KB/s    in 0,05s   \n",
      "\n",
      "2022-01-28 17:59:38 (374 KB/s) - ‘data/import/index.html?dl=1’ saved [20549/20549]\n",
      "\n",
      "downloaded\n",
      "Archive:  data/import/index.html?dl=1\n",
      "  inflating: data/df_kfold.csv       \n"
     ]
    }
   ],
   "source": [
    "# remove old and download new cv-dataframe\n",
    "!rm {data_root}df_kfold.csv -f\n",
    "!wget https://heibox.uni-heidelberg.de/f/03f57e89dc8b46668144/?dl=1 -P {import_path}\n",
    "print('downloaded')\n",
    "# unzip and replace\n",
    "zip_file = glob.glob(os.path.join(import_path,'index.html?dl=*'))[0]\n",
    "!unzip -o {zip_file} -d {data_root}\n",
    "# clean temp import older\n",
    "clean_import(import_path)"
   ]
  },
  {
   "cell_type": "markdown",
   "id": "852cf60a",
   "metadata": {},
   "source": [
    "# Check the folder structure in data_root"
   ]
  },
  {
   "cell_type": "code",
   "execution_count": 8,
   "id": "b3325df5",
   "metadata": {},
   "outputs": [
    {
     "name": "stdout",
     "output_type": "stream",
     "text": [
      "\u001b[01;34mdata/\u001b[00m\n",
      "├── df_kfold.csv\n",
      "├── \u001b[01;34mimport\u001b[00m\n",
      "└── \u001b[01;34mrvips\u001b[00m\n",
      "\n",
      "2 directories, 1 file\n"
     ]
    }
   ],
   "source": [
    "# pp == 100 patients x phases xrvip/cmr = 200 files\n",
    "!tree -L 1 {data_root}"
   ]
  },
  {
   "cell_type": "markdown",
   "id": "ad43c1aa",
   "metadata": {},
   "source": [
    "# Collect the original 3D CMR files from an existing ACDC-data directory\n",
    "(link to original data)[https://acdc.creatis.insa-lyon.fr/description/databases.html]\n",
    "\n",
    "\n",
    "--> Use the 3D CMR files from the original ACDC download folder"
   ]
  },
  {
   "cell_type": "code",
   "execution_count": 10,
   "id": "5a97ab31",
   "metadata": {},
   "outputs": [
    {
     "name": "stdout",
     "output_type": "stream",
     "text": [
      "collect 3D CMR from: /mnt/ssd/data/acdc/orig_save/all/\n",
      "images: 200\n"
     ]
    }
   ],
   "source": [
    "path_to_acdc_original = path_to_original_acdc_files.selected\n",
    "print('collect 3D CMR from: {}'.format(path_to_acdc_original))\n",
    "#searches in all patient folders for any 3D CMR (2 frames per patient) as nifti\n",
    "images = sorted(glob.glob(os.path.join(path_to_acdc_original, '*/*frame[0-9][0-9].nii.gz')))\n",
    "print('images: {}'.format(len(images)))"
   ]
  },
  {
   "cell_type": "markdown",
   "id": "d542db88",
   "metadata": {},
   "source": [
    "# Collect 3D CMR and labels/masks in sorted order\n",
    "\n",
    "--> make sure both lists are of equal length"
   ]
  },
  {
   "cell_type": "code",
   "execution_count": 14,
   "id": "63db34f5",
   "metadata": {},
   "outputs": [
    {
     "name": "stdout",
     "output_type": "stream",
     "text": [
      "images: 200\n",
      "masks: 200\n"
     ]
    }
   ],
   "source": [
    "# quality check of the image and mask names, find names with wrong names\n",
    "# give input and output path here\n",
    "input_path = os.path.join(data_root, 'rvips','pp')\n",
    "export_path = os.path.join(data_root, '2D')\n",
    "#searches in all first level folders for any mask as nrrd\n",
    "masks = sorted(glob.glob(os.path.join(input_path, '*frame[0-9][0-9]_rvip.nrrd'))) \n",
    "print('images: {}'.format(len(images)))\n",
    "print('masks: {}'.format(len(masks)))\n",
    "assert(len(images) == len(masks)), 'len(images)-> {} != len(masks)-> {} '.format(len(images), len(masks))\n",
    "# in the optimal case there should be as many images as masks. If not, some of the annotations might have been saved with a wrong name."
   ]
  },
  {
   "cell_type": "code",
   "execution_count": 15,
   "id": "b60602cd",
   "metadata": {
    "collapsed": true,
    "jupyter": {
     "outputs_hidden": true
    },
    "tags": []
   },
   "outputs": [
    {
     "data": {
      "text/plain": [
       "[['01', [10, 256, 216]],\n",
       " ['12', [10, 256, 216]],\n",
       " ['01', [10, 256, 232]],\n",
       " ['12', [10, 256, 232]],\n",
       " ['01', [10, 256, 256]],\n",
       " ['15', [10, 256, 256]],\n",
       " ['01', [10, 256, 232]],\n",
       " ['15', [10, 256, 232]],\n",
       " ['01', [10, 216, 256]],\n",
       " ['13', [10, 216, 256]],\n",
       " ['01', [11, 256, 232]],\n",
       " ['16', [11, 256, 232]],\n",
       " ['01', [10, 224, 222]],\n",
       " ['07', [10, 224, 222]],\n",
       " ['01', [10, 256, 200]],\n",
       " ['13', [10, 256, 200]],\n",
       " ['01', [10, 256, 208]],\n",
       " ['13', [10, 256, 208]],\n",
       " ['01', [10, 256, 208]],\n",
       " ['13', [10, 256, 208]],\n",
       " ['01', [9, 256, 216]],\n",
       " ['08', [9, 256, 216]],\n",
       " ['01', [10, 256, 184]],\n",
       " ['13', [10, 256, 184]],\n",
       " ['01', [10, 256, 216]],\n",
       " ['14', [10, 256, 216]],\n",
       " ['01', [10, 216, 256]],\n",
       " ['13', [10, 216, 256]],\n",
       " ['01', [9, 216, 256]],\n",
       " ['10', [9, 216, 256]],\n",
       " ['01', [10, 256, 192]],\n",
       " ['12', [10, 256, 192]],\n",
       " ['01', [9, 256, 216]],\n",
       " ['09', [9, 256, 216]],\n",
       " ['01', [8, 256, 216]],\n",
       " ['10', [8, 256, 216]],\n",
       " ['01', [11, 256, 216]],\n",
       " ['11', [11, 256, 216]],\n",
       " ['01', [8, 256, 208]],\n",
       " ['11', [8, 256, 208]],\n",
       " ['01', [10, 256, 240]],\n",
       " ['13', [10, 256, 240]],\n",
       " ['01', [7, 256, 200]],\n",
       " ['11', [7, 256, 200]],\n",
       " ['01', [9, 256, 216]],\n",
       " ['09', [9, 256, 216]],\n",
       " ['01', [8, 256, 208]],\n",
       " ['09', [8, 256, 208]],\n",
       " ['01', [9, 256, 256]],\n",
       " ['09', [9, 256, 256]],\n",
       " ['01', [10, 256, 216]],\n",
       " ['12', [10, 256, 216]],\n",
       " ['01', [10, 256, 216]],\n",
       " ['11', [10, 256, 216]],\n",
       " ['01', [10, 256, 224]],\n",
       " ['09', [10, 256, 224]],\n",
       " ['01', [11, 256, 192]],\n",
       " ['12', [11, 256, 192]],\n",
       " ['01', [10, 256, 216]],\n",
       " ['12', [10, 256, 216]],\n",
       " ['01', [10, 256, 216]],\n",
       " ['10', [10, 256, 216]],\n",
       " ['01', [10, 256, 240]],\n",
       " ['12', [10, 256, 240]],\n",
       " ['01', [10, 256, 216]],\n",
       " ['14', [10, 256, 216]],\n",
       " ['01', [10, 256, 224]],\n",
       " ['16', [10, 256, 224]],\n",
       " ['01', [13, 256, 208]],\n",
       " ['11', [13, 256, 208]],\n",
       " ['01', [8, 256, 216]],\n",
       " ['12', [8, 256, 216]],\n",
       " ['01', [7, 256, 216]],\n",
       " ['12', [7, 256, 216]],\n",
       " ['01', [8, 384, 276]],\n",
       " ['11', [8, 384, 276]],\n",
       " ['01', [9, 256, 208]],\n",
       " ['10', [9, 256, 208]],\n",
       " ['01', [10, 256, 208]],\n",
       " ['13', [10, 256, 208]],\n",
       " ['01', [6, 224, 154]],\n",
       " ['11', [6, 224, 154]],\n",
       " ['01', [9, 256, 232]],\n",
       " ['16', [9, 256, 232]],\n",
       " ['01', [12, 224, 174]],\n",
       " ['07', [12, 224, 174]],\n",
       " ['01', [9, 216, 256]],\n",
       " ['11', [9, 216, 256]],\n",
       " ['01', [8, 256, 208]],\n",
       " ['13', [8, 256, 208]],\n",
       " ['01', [9, 216, 256]],\n",
       " ['10', [9, 216, 256]],\n",
       " ['01', [9, 208, 256]],\n",
       " ['09', [9, 208, 256]],\n",
       " ['01', [8, 256, 208]],\n",
       " ['08', [8, 256, 208]],\n",
       " ['01', [7, 216, 256]],\n",
       " ['11', [7, 216, 256]],\n",
       " ['01', [10, 256, 248]],\n",
       " ['12', [10, 256, 248]],\n",
       " ['01', [10, 256, 224]],\n",
       " ['11', [10, 256, 224]],\n",
       " ['01', [8, 256, 216]],\n",
       " ['09', [8, 256, 216]],\n",
       " ['01', [7, 256, 216]],\n",
       " ['12', [7, 256, 216]],\n",
       " ['01', [8, 256, 216]],\n",
       " ['12', [8, 256, 216]],\n",
       " ['01', [9, 216, 256]],\n",
       " ['10', [9, 216, 256]],\n",
       " ['01', [9, 256, 216]],\n",
       " ['12', [9, 256, 216]],\n",
       " ['01', [8, 512, 428]],\n",
       " ['09', [8, 512, 428]],\n",
       " ['01', [9, 256, 216]],\n",
       " ['14', [9, 256, 216]],\n",
       " ['01', [9, 216, 256]],\n",
       " ['09', [9, 216, 256]],\n",
       " ['01', [9, 256, 216]],\n",
       " ['14', [9, 256, 216]],\n",
       " ['01', [9, 256, 216]],\n",
       " ['10', [9, 256, 216]],\n",
       " ['01', [10, 216, 256]],\n",
       " ['09', [10, 216, 256]],\n",
       " ['01', [8, 176, 256]],\n",
       " ['16', [8, 176, 256]],\n",
       " ['01', [10, 256, 216]],\n",
       " ['12', [10, 256, 216]],\n",
       " ['01', [8, 224, 210]],\n",
       " ['14', [8, 224, 210]],\n",
       " ['01', [9, 256, 240]],\n",
       " ['11', [9, 256, 240]],\n",
       " ['01', [10, 216, 256]],\n",
       " ['10', [10, 216, 256]],\n",
       " ['01', [7, 208, 256]],\n",
       " ['12', [7, 208, 256]],\n",
       " ['01', [7, 256, 216]],\n",
       " ['12', [7, 256, 216]],\n",
       " ['01', [6, 256, 208]],\n",
       " ['10', [6, 256, 208]],\n",
       " ['01', [10, 256, 192]],\n",
       " ['09', [10, 256, 192]],\n",
       " ['01', [8, 256, 216]],\n",
       " ['11', [8, 256, 216]],\n",
       " ['01', [7, 256, 208]],\n",
       " ['10', [7, 256, 208]],\n",
       " ['01', [8, 256, 256]],\n",
       " ['12', [8, 256, 256]],\n",
       " ['01', [14, 224, 168]],\n",
       " ['06', [14, 224, 168]],\n",
       " ['01', [8, 256, 256]],\n",
       " ['12', [8, 256, 256]],\n",
       " ['01', [8, 256, 214]],\n",
       " ['09', [8, 256, 214]],\n",
       " ['01', [8, 256, 216]],\n",
       " ['09', [8, 256, 216]],\n",
       " ['01', [9, 256, 216]],\n",
       " ['11', [9, 256, 216]],\n",
       " ['01', [6, 256, 216]],\n",
       " ['10', [6, 256, 216]],\n",
       " ['01', [17, 224, 154]],\n",
       " ['07', [17, 224, 154]],\n",
       " ['01', [16, 154, 224]],\n",
       " ['07', [16, 154, 224]],\n",
       " ['01', [6, 256, 208]],\n",
       " ['08', [6, 256, 208]],\n",
       " ['01', [12, 256, 208]],\n",
       " ['10', [12, 256, 208]],\n",
       " ['01', [15, 288, 184]],\n",
       " ['09', [15, 288, 184]],\n",
       " ['01', [7, 256, 192]],\n",
       " ['08', [7, 256, 192]],\n",
       " ['01', [8, 184, 256]],\n",
       " ['10', [8, 184, 256]],\n",
       " ['01', [16, 154, 224]],\n",
       " ['12', [16, 154, 224]],\n",
       " ['01', [6, 288, 264]],\n",
       " ['10', [6, 288, 264]],\n",
       " ['04', [7, 224, 154]],\n",
       " ['11', [7, 224, 154]],\n",
       " ['01', [8, 224, 180]],\n",
       " ['09', [8, 224, 180]],\n",
       " ['01', [15, 208, 174]],\n",
       " ['06', [15, 208, 174]],\n",
       " ['01', [10, 224, 180]],\n",
       " ['14', [10, 224, 180]],\n",
       " ['01', [10, 174, 208]],\n",
       " ['07', [10, 174, 208]],\n",
       " ['01', [14, 224, 180]],\n",
       " ['12', [14, 224, 180]],\n",
       " ['01', [18, 208, 174]],\n",
       " ['08', [18, 208, 174]],\n",
       " ['01', [8, 256, 216]],\n",
       " ['11', [8, 256, 216]],\n",
       " ['01', [7, 256, 216]],\n",
       " ['09', [7, 256, 216]],\n",
       " ['01', [16, 224, 154]],\n",
       " ['09', [16, 224, 154]],\n",
       " ['01', [8, 304, 216]],\n",
       " ['13', [8, 304, 216]]]"
      ]
     },
     "execution_count": 15,
     "metadata": {},
     "output_type": "execute_result"
    }
   ],
   "source": [
    "# Slice the 3D vol in 2D slices\n",
    "ensure_dir(export_path)\n",
    "[create_2d_slices_from_3d_volume_files(img_f=img,mask_f=msk, export_path=export_path) for img,msk in zip(images,masks)]"
   ]
  },
  {
   "cell_type": "markdown",
   "id": "21257d33",
   "metadata": {},
   "source": [
    "# Finally check the folder structure in data_root again"
   ]
  },
  {
   "cell_type": "code",
   "execution_count": 17,
   "id": "669c8983",
   "metadata": {},
   "outputs": [
    {
     "name": "stdout",
     "output_type": "stream",
     "text": [
      "\u001b[01;34mdata/\u001b[00m\n",
      "├── \u001b[01;34m2D\u001b[00m\n",
      "├── df_kfold.csv\n",
      "├── \u001b[01;34mimport\u001b[00m\n",
      "└── \u001b[01;34mrvips\u001b[00m\n",
      "\n",
      "3 directories, 1 file\n"
     ]
    }
   ],
   "source": [
    "# folder 2D should contain the 2D rvip masks and the corresponding CMR slices\n",
    "!tree -L 1 {data_root}"
   ]
  },
  {
   "cell_type": "code",
   "execution_count": null,
   "id": "6408b674",
   "metadata": {},
   "outputs": [],
   "source": []
  }
 ],
 "metadata": {
  "kernelspec": {
   "display_name": "septum",
   "language": "python",
   "name": "septum_detection"
  },
  "language_info": {
   "codemirror_mode": {
    "name": "ipython",
    "version": 3
   },
   "file_extension": ".py",
   "mimetype": "text/x-python",
   "name": "python",
   "nbconvert_exporter": "python",
   "pygments_lexer": "ipython3",
   "version": "3.6.9"
  },
  "widgets": {
   "application/vnd.jupyter.widget-state+json": {
    "state": {
     "1ca97be3dfbe4e109ce7ab01630ccf62": {
      "model_module": "@jupyter-widgets/controls",
      "model_module_version": "1.5.0",
      "model_name": "ButtonModel",
      "state": {
       "description": "Change",
       "layout": "IPY_MODEL_fc508ff46e964d8a97891bab0a04e76a",
       "style": "IPY_MODEL_efa596c5966b46e5b0fe34a3e1386cc0"
      }
     },
     "22219112a79649608fedeb09fa88b056": {
      "model_module": "@jupyter-widgets/controls",
      "model_module_version": "1.5.0",
      "model_name": "HBoxModel",
      "state": {
       "children": [
        "IPY_MODEL_1ca97be3dfbe4e109ce7ab01630ccf62",
        "IPY_MODEL_8af89346590649caa48b20c6bf6613fb",
        "IPY_MODEL_39d3de3cd23e431f9c7f687d2eea76d0"
       ],
       "layout": "IPY_MODEL_be4311da8d2540fdb1d1ab3007580d34"
      }
     },
     "2c262c4d93fd4f078da4548acbdc0cb9": {
      "model_module": "@jupyter-widgets/controls",
      "model_module_version": "1.5.0",
      "model_name": "VBoxModel",
      "state": {
       "children": [
        "IPY_MODEL_c7758c3fb4f949deb224b3862d51a83c",
        "IPY_MODEL_949e15c7da2044dc887c879105377e88",
        "IPY_MODEL_b43ac4339e8c4b4cb7a0a126d899717d"
       ],
       "layout": "IPY_MODEL_ec76e67b89814a2b908eb5cb22d617fe"
      }
     },
     "39d3de3cd23e431f9c7f687d2eea76d0": {
      "model_module": "@jupyter-widgets/controls",
      "model_module_version": "1.5.0",
      "model_name": "HTMLModel",
      "state": {
       "layout": "IPY_MODEL_f42b9e3af59d441998e1d546a4489f01",
       "placeholder": "",
       "style": "IPY_MODEL_e41d5725f7c642549acd7337d643deb1",
       "value": "<span style=\"margin-left:10px; color:green;\">data/</span>"
      }
     },
     "3dcca06cb17f4c92b928bc9091306fc9": {
      "model_module": "@jupyter-widgets/controls",
      "model_module_version": "1.5.0",
      "model_name": "DescriptionStyleModel",
      "state": {
       "description_width": ""
      }
     },
     "43e6fa0ff3dd457fbe8bd7be7ff4b450": {
      "model_module": "@jupyter-widgets/controls",
      "model_module_version": "1.5.0",
      "model_name": "SelectModel",
      "state": {
       "_options_labels": [
        ".."
       ],
       "index": null,
       "layout": "IPY_MODEL_b20d7fa41ceb4a0796d61d9613561c2e",
       "rows": 8,
       "style": "IPY_MODEL_e412e66fe7664db8a1113b79255ac22b"
      }
     },
     "525a09c421aa47f1958e638e0fed0037": {
      "model_module": "@jupyter-widgets/base",
      "model_module_version": "1.2.0",
      "model_name": "LayoutModel",
      "state": {
       "display": "none",
       "grid_gap": "0px 0px",
       "grid_template_areas": "\n                    'pathlist filename'\n                    'dircontent dircontent'\n                    ",
       "grid_template_columns": "60% 40%",
       "grid_template_rows": "auto auto",
       "width": "500px"
      }
     },
     "54e5bc6bc2e9490d8761d765105ad740": {
      "model_module": "@jupyter-widgets/base",
      "model_module_version": "1.2.0",
      "model_name": "LayoutModel",
      "state": {}
     },
     "607f3fd61bcd4131aa3f29254e3eec68": {
      "model_module": "@jupyter-widgets/controls",
      "model_module_version": "1.5.0",
      "model_name": "VBoxModel",
      "state": {
       "children": [
        "IPY_MODEL_f44793c1b7fd4fa18d1bd8c2c191922b",
        "IPY_MODEL_ef8f7fb758364c0e84447b69a0ac976f",
        "IPY_MODEL_22219112a79649608fedeb09fa88b056"
       ],
       "layout": "IPY_MODEL_7a7f6b04f3994fac8d55d7a222d1f9a4"
      }
     },
     "62cdcb0fb81142ccbce73034d90e8326": {
      "model_module": "@jupyter-widgets/controls",
      "model_module_version": "1.5.0",
      "model_name": "DescriptionStyleModel",
      "state": {
       "description_width": ""
      }
     },
     "69f1ec6c8b114e2b9a7dba7bdbd983e9": {
      "model_module": "@jupyter-widgets/base",
      "model_module_version": "1.2.0",
      "model_name": "LayoutModel",
      "state": {
       "grid_area": "pathlist",
       "width": "auto"
      }
     },
     "700991027c824e7098ac4d068056e0c0": {
      "model_module": "@jupyter-widgets/controls",
      "model_module_version": "1.5.0",
      "model_name": "ButtonModel",
      "state": {
       "description": "Cancel",
       "layout": "IPY_MODEL_f82ded65c4bf43bba5e2d88eee81e84a",
       "style": "IPY_MODEL_b71705a859004287beed5b64df26a98e"
      }
     },
     "72f3ce5d230741cfa77935499cc6d9c5": {
      "model_module": "@jupyter-widgets/controls",
      "model_module_version": "1.5.0",
      "model_name": "SelectModel",
      "state": {
       "_options_labels": [
        "..",
        "patient001",
        "patient002",
        "patient003",
        "patient004",
        "patient005",
        "patient006",
        "patient007",
        "patient008",
        "patient009",
        "patient010",
        "patient011",
        "patient012",
        "patient013",
        "patient014",
        "patient015",
        "patient016",
        "patient017",
        "patient018",
        "patient019",
        "patient020",
        "patient021",
        "patient022",
        "patient023",
        "patient024",
        "patient025",
        "patient026",
        "patient027",
        "patient028",
        "patient029",
        "patient030",
        "patient031",
        "patient032",
        "patient033",
        "patient034",
        "patient035",
        "patient036",
        "patient037",
        "patient038",
        "patient039",
        "patient040",
        "patient041",
        "patient042",
        "patient043",
        "patient044",
        "patient045",
        "patient046",
        "patient047",
        "patient048",
        "patient049",
        "patient050",
        "patient051",
        "patient052",
        "patient053",
        "patient054",
        "patient055",
        "patient056",
        "patient057",
        "patient058",
        "patient059",
        "patient060",
        "patient061",
        "patient062",
        "patient063",
        "patient064",
        "patient065",
        "patient066",
        "patient067",
        "patient068",
        "patient069",
        "patient070",
        "patient071",
        "patient072",
        "patient073",
        "patient074",
        "patient075",
        "patient076",
        "patient077",
        "patient078",
        "patient079",
        "patient080",
        "patient081",
        "patient082",
        "patient083",
        "patient084",
        "patient085",
        "patient086",
        "patient087",
        "patient088",
        "patient089",
        "patient090",
        "patient091",
        "patient092",
        "patient093",
        "patient094",
        "patient095",
        "patient096",
        "patient097",
        "patient098",
        "patient099",
        "patient100"
       ],
       "index": null,
       "layout": "IPY_MODEL_cd3014d3040248798a618ab8e942112c",
       "rows": 8,
       "style": "IPY_MODEL_62cdcb0fb81142ccbce73034d90e8326"
      }
     },
     "7a7f6b04f3994fac8d55d7a222d1f9a4": {
      "model_module": "@jupyter-widgets/base",
      "model_module_version": "1.2.0",
      "model_name": "LayoutModel",
      "state": {
       "width": "auto"
      }
     },
     "7b9bc762740042bdb508ae203501e6f6": {
      "model_module": "@jupyter-widgets/controls",
      "model_module_version": "1.5.0",
      "model_name": "ButtonStyleModel",
      "state": {}
     },
     "7d4d716204944ab5a148b3d45b865c9e": {
      "model_module": "@jupyter-widgets/base",
      "model_module_version": "1.2.0",
      "model_name": "LayoutModel",
      "state": {
       "width": "auto"
      }
     },
     "809a8429adaf4f198583ac4b6d0df368": {
      "model_module": "@jupyter-widgets/base",
      "model_module_version": "1.2.0",
      "model_name": "LayoutModel",
      "state": {
       "grid_area": "filename",
       "width": "auto"
      }
     },
     "811e3dacf41841dcb11211ce1aad2120": {
      "model_module": "@jupyter-widgets/base",
      "model_module_version": "1.2.0",
      "model_name": "LayoutModel",
      "state": {
       "display": "none",
       "grid_gap": "0px 0px",
       "grid_template_areas": "\n                    'pathlist filename'\n                    'dircontent dircontent'\n                    ",
       "grid_template_columns": "60% 40%",
       "grid_template_rows": "auto auto",
       "width": "500px"
      }
     },
     "8af89346590649caa48b20c6bf6613fb": {
      "model_module": "@jupyter-widgets/controls",
      "model_module_version": "1.5.0",
      "model_name": "ButtonModel",
      "state": {
       "description": "Cancel",
       "layout": "IPY_MODEL_92634328e4444f5ea7df9df7886a025f",
       "style": "IPY_MODEL_7b9bc762740042bdb508ae203501e6f6"
      }
     },
     "9199d183a45c4c829448640018106c32": {
      "model_module": "@jupyter-widgets/controls",
      "model_module_version": "1.5.0",
      "model_name": "ButtonStyleModel",
      "state": {}
     },
     "92634328e4444f5ea7df9df7886a025f": {
      "model_module": "@jupyter-widgets/base",
      "model_module_version": "1.2.0",
      "model_name": "LayoutModel",
      "state": {
       "display": "none",
       "width": "auto"
      }
     },
     "949e15c7da2044dc887c879105377e88": {
      "model_module": "@jupyter-widgets/controls",
      "model_module_version": "1.5.0",
      "model_name": "GridBoxModel",
      "state": {
       "children": [
        "IPY_MODEL_ff6e9bda08f24f06bde35354ce393333",
        "IPY_MODEL_e733ae311b4545bc86fcd7b183ea47c5",
        "IPY_MODEL_72f3ce5d230741cfa77935499cc6d9c5"
       ],
       "layout": "IPY_MODEL_811e3dacf41841dcb11211ce1aad2120"
      }
     },
     "9aff5eadd2e744f0869e1a7253174b11": {
      "model_module": "@jupyter-widgets/controls",
      "model_module_version": "1.5.0",
      "model_name": "TextModel",
      "state": {
       "layout": "IPY_MODEL_809a8429adaf4f198583ac4b6d0df368",
       "placeholder": "output filename",
       "style": "IPY_MODEL_3dcca06cb17f4c92b928bc9091306fc9"
      }
     },
     "9e2ca02fd617445dbcfadfbb5624dca7": {
      "model_module": "@jupyter-widgets/base",
      "model_module_version": "1.2.0",
      "model_name": "LayoutModel",
      "state": {}
     },
     "9f3c7cc3492549159c543d02f719fa52": {
      "model_module": "@jupyter-widgets/controls",
      "model_module_version": "1.5.0",
      "model_name": "ButtonModel",
      "state": {
       "description": "Change",
       "layout": "IPY_MODEL_7d4d716204944ab5a148b3d45b865c9e",
       "style": "IPY_MODEL_9199d183a45c4c829448640018106c32"
      }
     },
     "9f982acb00754a508046d6274bbde0b3": {
      "model_module": "@jupyter-widgets/base",
      "model_module_version": "1.2.0",
      "model_name": "LayoutModel",
      "state": {
       "width": "auto"
      }
     },
     "ac29a697c09c456fb4817a4c013a471f": {
      "model_module": "@jupyter-widgets/controls",
      "model_module_version": "1.5.0",
      "model_name": "DescriptionStyleModel",
      "state": {
       "description_width": ""
      }
     },
     "acfe37d2879548e9b1b22dcc76560272": {
      "model_module": "@jupyter-widgets/controls",
      "model_module_version": "1.5.0",
      "model_name": "DescriptionStyleModel",
      "state": {
       "description_width": ""
      }
     },
     "aef089e604c34a41b49d90a1c46c58fc": {
      "model_module": "@jupyter-widgets/controls",
      "model_module_version": "1.5.0",
      "model_name": "DescriptionStyleModel",
      "state": {
       "description_width": ""
      }
     },
     "b04dc63dd6684fcb810ad7e7e9619323": {
      "model_module": "@jupyter-widgets/controls",
      "model_module_version": "1.5.0",
      "model_name": "DescriptionStyleModel",
      "state": {
       "description_width": ""
      }
     },
     "b20d7fa41ceb4a0796d61d9613561c2e": {
      "model_module": "@jupyter-widgets/base",
      "model_module_version": "1.2.0",
      "model_name": "LayoutModel",
      "state": {
       "grid_area": "dircontent",
       "width": "auto"
      }
     },
     "b43ac4339e8c4b4cb7a0a126d899717d": {
      "model_module": "@jupyter-widgets/controls",
      "model_module_version": "1.5.0",
      "model_name": "HBoxModel",
      "state": {
       "children": [
        "IPY_MODEL_9f3c7cc3492549159c543d02f719fa52",
        "IPY_MODEL_700991027c824e7098ac4d068056e0c0",
        "IPY_MODEL_fe1b813448bb49d1bab76c02eb13df2f"
       ],
       "layout": "IPY_MODEL_9f982acb00754a508046d6274bbde0b3"
      }
     },
     "b625bbf066884600a4b2f12ef97fa8ba": {
      "model_module": "@jupyter-widgets/controls",
      "model_module_version": "1.5.0",
      "model_name": "DropdownModel",
      "state": {
       "_options_labels": [
        "data",
        ""
       ],
       "index": 0,
       "layout": "IPY_MODEL_69f1ec6c8b114e2b9a7dba7bdbd983e9",
       "style": "IPY_MODEL_c395cf5e71514563ac6b70dbc5dbf837"
      }
     },
     "b71705a859004287beed5b64df26a98e": {
      "model_module": "@jupyter-widgets/controls",
      "model_module_version": "1.5.0",
      "model_name": "ButtonStyleModel",
      "state": {}
     },
     "be4311da8d2540fdb1d1ab3007580d34": {
      "model_module": "@jupyter-widgets/base",
      "model_module_version": "1.2.0",
      "model_name": "LayoutModel",
      "state": {
       "width": "auto"
      }
     },
     "c395cf5e71514563ac6b70dbc5dbf837": {
      "model_module": "@jupyter-widgets/controls",
      "model_module_version": "1.5.0",
      "model_name": "DescriptionStyleModel",
      "state": {
       "description_width": ""
      }
     },
     "c7758c3fb4f949deb224b3862d51a83c": {
      "model_module": "@jupyter-widgets/controls",
      "model_module_version": "1.5.0",
      "model_name": "HTMLModel",
      "state": {
       "layout": "IPY_MODEL_9e2ca02fd617445dbcfadfbb5624dca7",
       "style": "IPY_MODEL_ac29a697c09c456fb4817a4c013a471f",
       "value": "<b>Choose the path to the original \"acdc\" root-folder with the patient sub-folders</b>"
      }
     },
     "c9c781462a78409db0263939bf01aed2": {
      "model_module": "@jupyter-widgets/base",
      "model_module_version": "1.2.0",
      "model_name": "LayoutModel",
      "state": {}
     },
     "cd3014d3040248798a618ab8e942112c": {
      "model_module": "@jupyter-widgets/base",
      "model_module_version": "1.2.0",
      "model_name": "LayoutModel",
      "state": {
       "grid_area": "dircontent",
       "width": "auto"
      }
     },
     "d9bb97302f824d4d8c70c2893317d34d": {
      "model_module": "@jupyter-widgets/controls",
      "model_module_version": "1.5.0",
      "model_name": "DescriptionStyleModel",
      "state": {
       "description_width": ""
      }
     },
     "e3c4c21b8520427eb4ac8d074a882cef": {
      "model_module": "@jupyter-widgets/base",
      "model_module_version": "1.2.0",
      "model_name": "LayoutModel",
      "state": {
       "grid_area": "filename",
       "width": "auto"
      }
     },
     "e412e66fe7664db8a1113b79255ac22b": {
      "model_module": "@jupyter-widgets/controls",
      "model_module_version": "1.5.0",
      "model_name": "DescriptionStyleModel",
      "state": {
       "description_width": ""
      }
     },
     "e41d5725f7c642549acd7337d643deb1": {
      "model_module": "@jupyter-widgets/controls",
      "model_module_version": "1.5.0",
      "model_name": "DescriptionStyleModel",
      "state": {
       "description_width": ""
      }
     },
     "e733ae311b4545bc86fcd7b183ea47c5": {
      "model_module": "@jupyter-widgets/controls",
      "model_module_version": "1.5.0",
      "model_name": "TextModel",
      "state": {
       "layout": "IPY_MODEL_e3c4c21b8520427eb4ac8d074a882cef",
       "placeholder": "output filename",
       "style": "IPY_MODEL_aef089e604c34a41b49d90a1c46c58fc"
      }
     },
     "ec76e67b89814a2b908eb5cb22d617fe": {
      "model_module": "@jupyter-widgets/base",
      "model_module_version": "1.2.0",
      "model_name": "LayoutModel",
      "state": {
       "width": "auto"
      }
     },
     "ef8f7fb758364c0e84447b69a0ac976f": {
      "model_module": "@jupyter-widgets/controls",
      "model_module_version": "1.5.0",
      "model_name": "GridBoxModel",
      "state": {
       "children": [
        "IPY_MODEL_b625bbf066884600a4b2f12ef97fa8ba",
        "IPY_MODEL_9aff5eadd2e744f0869e1a7253174b11",
        "IPY_MODEL_43e6fa0ff3dd457fbe8bd7be7ff4b450"
       ],
       "layout": "IPY_MODEL_525a09c421aa47f1958e638e0fed0037"
      }
     },
     "efa596c5966b46e5b0fe34a3e1386cc0": {
      "model_module": "@jupyter-widgets/controls",
      "model_module_version": "1.5.0",
      "model_name": "ButtonStyleModel",
      "state": {}
     },
     "f42b9e3af59d441998e1d546a4489f01": {
      "model_module": "@jupyter-widgets/base",
      "model_module_version": "1.2.0",
      "model_name": "LayoutModel",
      "state": {}
     },
     "f44793c1b7fd4fa18d1bd8c2c191922b": {
      "model_module": "@jupyter-widgets/controls",
      "model_module_version": "1.5.0",
      "model_name": "HTMLModel",
      "state": {
       "layout": "IPY_MODEL_54e5bc6bc2e9490d8761d765105ad740",
       "style": "IPY_MODEL_acfe37d2879548e9b1b22dcc76560272",
       "value": "<b>Choose a data root, data will be downloaded and extracted in this dir</b>"
      }
     },
     "f5833260789c4da59608c22b366cc65f": {
      "model_module": "@jupyter-widgets/base",
      "model_module_version": "1.2.0",
      "model_name": "LayoutModel",
      "state": {
       "grid_area": "pathlist",
       "width": "auto"
      }
     },
     "f82ded65c4bf43bba5e2d88eee81e84a": {
      "model_module": "@jupyter-widgets/base",
      "model_module_version": "1.2.0",
      "model_name": "LayoutModel",
      "state": {
       "display": "none",
       "width": "auto"
      }
     },
     "fc508ff46e964d8a97891bab0a04e76a": {
      "model_module": "@jupyter-widgets/base",
      "model_module_version": "1.2.0",
      "model_name": "LayoutModel",
      "state": {
       "width": "auto"
      }
     },
     "fe1b813448bb49d1bab76c02eb13df2f": {
      "model_module": "@jupyter-widgets/controls",
      "model_module_version": "1.5.0",
      "model_name": "HTMLModel",
      "state": {
       "layout": "IPY_MODEL_c9c781462a78409db0263939bf01aed2",
       "placeholder": "",
       "style": "IPY_MODEL_b04dc63dd6684fcb810ad7e7e9619323",
       "value": "<span style=\"margin-left:10px; color:green;\">/mnt/ssd/data/acdc/orig_save/all/</span>"
      }
     },
     "ff6e9bda08f24f06bde35354ce393333": {
      "model_module": "@jupyter-widgets/controls",
      "model_module_version": "1.5.0",
      "model_name": "DropdownModel",
      "state": {
       "_options_labels": [
        "/mnt/ssd/data/acdc/orig_save/all",
        "/mnt/ssd/data/acdc/orig_save",
        "/mnt/ssd/data/acdc",
        "/mnt/ssd/data",
        "/mnt/ssd",
        "/mnt",
        "/"
       ],
       "index": 0,
       "layout": "IPY_MODEL_f5833260789c4da59608c22b366cc65f",
       "style": "IPY_MODEL_d9bb97302f824d4d8c70c2893317d34d"
      }
     }
    },
    "version_major": 2,
    "version_minor": 0
   }
  }
 },
 "nbformat": 4,
 "nbformat_minor": 5
}
