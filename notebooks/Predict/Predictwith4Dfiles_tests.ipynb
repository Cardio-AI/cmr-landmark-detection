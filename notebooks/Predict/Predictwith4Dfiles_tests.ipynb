{
 "cells": [
  {
   "cell_type": "code",
   "execution_count": 1,
   "id": "1bb54a3c",
   "metadata": {},
   "outputs": [
    {
     "name": "stdout",
     "output_type": "stream",
     "text": [
      "search for root_dir and set working directory\n",
      "Working directory set to: /mnt/ssd/git/rvip_landmark_detection\n"
     ]
    },
    {
     "name": "stderr",
     "output_type": "stream",
     "text": [
      "2022-05-12 09:59:02,961 INFO -------------------- Start --------------------\n",
      "2022-05-12 09:59:02,962 INFO Working directory: /mnt/ssd/git/rvip_landmark_detection.\n",
      "2022-05-12 09:59:02,962 INFO Log file: ./logs/temp.log\n",
      "2022-05-12 09:59:02,962 INFO Log level for console: INFO\n"
     ]
    },
    {
     "data": {
      "text/plain": [
       "<src.utils.Utils_io.Console_and_file_logger at 0x7f11d35cf8e0>"
      ]
     },
     "execution_count": 1,
     "metadata": {},
     "output_type": "execute_result"
    }
   ],
   "source": [
    "# ------------------------------------------define logging and working directory\n",
    "from ProjectRoot import change_wd_to_project_root\n",
    "change_wd_to_project_root()\n",
    "# ------------------------------------------jupyter magic config\n",
    "%matplotlib inline\n",
    "%reload_ext autoreload\n",
    "%autoreload 2\n",
    "# ------------------------------------------ import helpers\n",
    "# this should import glob, os, and some other standard libs to keep this cell clean\n",
    "# local imports\n",
    "import tensorflow as tf\n",
    "tf.get_logger().setLevel('FATAL')\n",
    "\n",
    "from src.utils.Notebook_imports import *\n",
    "from src.utils.Utils_io import Console_and_file_logger, init_config\n",
    "from src.data.Dataset import get_trainings_files\n",
    "from src.data.Dataset import get_patients, get_patient\n",
    "from src.data.Dataset import create_2d_slices_from_4d_volume_file\n",
    "from src.data.Dataset import describe_sitk\n",
    "from src.models.predict_4d_on_seg import predict_4d_on_2d_cv\n",
    "\n",
    "from ipyfilechooser import FileChooser\n",
    "from src.data.Generators import DataGenerator\n",
    "import glob\n",
    "import SimpleITK as sitk\n",
    "import pandas as pd\n",
    "Console_and_file_logger('temp')"
   ]
  },
  {
   "cell_type": "markdown",
   "id": "a046ecb2",
   "metadata": {},
   "source": [
    "# Collect a list of 4D CMR files for inference"
   ]
  },
  {
   "cell_type": "code",
   "execution_count": 3,
   "id": "7eb1e556",
   "metadata": {},
   "outputs": [
    {
     "name": "stderr",
     "output_type": "stream",
     "text": [
      "2022-05-12 09:59:49,405 INFO 4D files: 100\n"
     ]
    }
   ],
   "source": [
    "# acdc 4d files\n",
    "files_ = sorted(glob.glob('/mnt/ssd/data/acdc/2D/original/all/*/*4d.nii.gz'))\n",
    "logging.info('4D files: {}'.format(len(files_)))"
   ]
  },
  {
   "cell_type": "code",
   "execution_count": 96,
   "id": "4847f2e2",
   "metadata": {},
   "outputs": [
    {
     "name": "stderr",
     "output_type": "stream",
     "text": [
      "2022-05-08 20:23:21,367 INFO 4D files: 278\n"
     ]
    }
   ],
   "source": [
    "# tof 4d files\n",
    "files_ = sorted(glob.glob('/mnt/ssd/data/tof/02_imported_4D_unfiltered/original/*clean.nrrd'))\n",
    "logging.info('4D files: {}'.format(len(files_)))"
   ]
  },
  {
   "cell_type": "markdown",
   "id": "bf7521f6",
   "metadata": {},
   "source": [
    "# Predict 4D Masks based on a 2D segmentation model"
   ]
  },
  {
   "cell_type": "code",
   "execution_count": 4,
   "id": "ca2b2b16",
   "metadata": {
    "collapsed": true,
    "jupyter": {
     "outputs_hidden": true
    },
    "tags": []
   },
   "outputs": [
    {
     "name": "stderr",
     "output_type": "stream",
     "text": [
      "2022-05-12 09:59:51,879 INFO found: 4 cfgs.\n",
      "2022-05-12 09:59:51,879 INFO got 100 files for inference\n",
      "2022-05-12 09:59:51,917 INFO expect 25 patients for validation in fold 0\n",
      "2022-05-12 09:59:51,918 INFO 4d files filtered: 25\n",
      "2022-05-12 09:59:51,920 INFO Create model\n"
     ]
    },
    {
     "name": "stdout",
     "output_type": "stream",
     "text": [
      "using tensorflow, need to monkey patch\n",
      "tf.python.backend.slice overwritten by monkey patch\n",
      "monkey patch failed, override methods\n",
      "(None, 224, 224, 1)\n"
     ]
    },
    {
     "name": "stderr",
     "output_type": "stream",
     "text": [
      "/home/sven/anaconda3/envs/dcmr/lib/python3.8/site-packages/keras/optimizer_v2/adam.py:105: UserWarning: The `lr` argument is deprecated, use `learning_rate` instead.\n",
      "  super(Adam, self).__init__(name, **kwargs)\n",
      "2022-05-12 09:59:53,743 INFO loaded model weights as h5 file\n",
      "2022-05-12 09:59:53,916 INFO found 25 4D files, will return one generator per file with t x z slices\n",
      "2022-05-12 09:59:54,220 INFO x_sliced: 300, example: data/interim/patient001_4d_t0_z0_img.nrrd\n",
      "2022-05-12 09:59:54,220 INFO inference mode, no masks given, will use x as placeholder for y in fix processing\n",
      "2022-05-12 09:59:54,220 INFO Create DataGenerator\n",
      "2022-05-12 09:59:54,221 INFO Datagenerator created with: \n",
      " shape: [224, 224]\n",
      " spacing: [1.2, 1.2]\n",
      " batchsize: 1\n",
      " Scaler: MinMax\n",
      " Images: 300 \n",
      " Augment: False \n",
      " Thread workers: 32\n",
      "2022-05-12 09:59:54,550 INFO x_sliced: 300, example: data/interim/patient002_4d_t0_z0_img.nrrd\n",
      "2022-05-12 09:59:54,551 INFO inference mode, no masks given, will use x as placeholder for y in fix processing\n",
      "2022-05-12 09:59:54,551 INFO Create DataGenerator\n",
      "2022-05-12 09:59:54,552 INFO Datagenerator created with: \n",
      " shape: [224, 224]\n",
      " spacing: [1.2, 1.2]\n",
      " batchsize: 1\n",
      " Scaler: MinMax\n",
      " Images: 300 \n",
      " Augment: False \n",
      " Thread workers: 32\n",
      "2022-05-12 09:59:55,075 INFO x_sliced: 350, example: data/interim/patient009_4d_t0_z0_img.nrrd\n",
      "2022-05-12 09:59:55,075 INFO inference mode, no masks given, will use x as placeholder for y in fix processing\n",
      "2022-05-12 09:59:55,076 INFO Create DataGenerator\n",
      "2022-05-12 09:59:55,076 INFO Datagenerator created with: \n",
      " shape: [224, 224]\n",
      " spacing: [1.2, 1.2]\n",
      " batchsize: 1\n",
      " Scaler: MinMax\n",
      " Images: 350 \n",
      " Augment: False \n",
      " Thread workers: 32\n",
      "2022-05-12 09:59:55,472 INFO x_sliced: 300, example: data/interim/patient016_4d_t0_z0_img.nrrd\n",
      "2022-05-12 09:59:55,473 INFO inference mode, no masks given, will use x as placeholder for y in fix processing\n",
      "2022-05-12 09:59:55,473 INFO Create DataGenerator\n",
      "2022-05-12 09:59:55,474 INFO Datagenerator created with: \n",
      " shape: [224, 224]\n",
      " spacing: [1.2, 1.2]\n",
      " batchsize: 1\n",
      " Scaler: MinMax\n",
      " Images: 300 \n",
      " Augment: False \n",
      " Thread workers: 32\n",
      "2022-05-12 09:59:55,623 INFO x_sliced: 104, example: data/interim/patient018_4d_t0_z0_img.nrrd\n",
      "2022-05-12 09:59:55,623 INFO inference mode, no masks given, will use x as placeholder for y in fix processing\n",
      "2022-05-12 09:59:55,624 INFO Create DataGenerator\n",
      "2022-05-12 09:59:55,624 INFO Datagenerator created with: \n",
      " shape: [224, 224]\n",
      " spacing: [1.2, 1.2]\n",
      " batchsize: 1\n",
      " Scaler: MinMax\n",
      " Images: 104 \n",
      " Augment: False \n",
      " Thread workers: 32\n",
      "2022-05-12 09:59:55,930 INFO x_sliced: 300, example: data/interim/patient021_4d_t0_z0_img.nrrd\n",
      "2022-05-12 09:59:55,930 INFO inference mode, no masks given, will use x as placeholder for y in fix processing\n",
      "2022-05-12 09:59:55,931 INFO Create DataGenerator\n",
      "2022-05-12 09:59:55,931 INFO Datagenerator created with: \n",
      " shape: [224, 224]\n",
      " spacing: [1.2, 1.2]\n",
      " batchsize: 1\n",
      " Scaler: MinMax\n",
      " Images: 300 \n",
      " Augment: False \n",
      " Thread workers: 32\n",
      "2022-05-12 09:59:56,124 INFO x_sliced: 196, example: data/interim/patient022_4d_t0_z0_img.nrrd\n",
      "2022-05-12 09:59:56,124 INFO inference mode, no masks given, will use x as placeholder for y in fix processing\n",
      "2022-05-12 09:59:56,124 INFO Create DataGenerator\n",
      "2022-05-12 09:59:56,125 INFO Datagenerator created with: \n",
      " shape: [224, 224]\n",
      " spacing: [1.2, 1.2]\n",
      " batchsize: 1\n",
      " Scaler: MinMax\n",
      " Images: 196 \n",
      " Augment: False \n",
      " Thread workers: 32\n",
      "2022-05-12 09:59:56,416 INFO x_sliced: 330, example: data/interim/patient029_4d_t0_z0_img.nrrd\n",
      "2022-05-12 09:59:56,416 INFO inference mode, no masks given, will use x as placeholder for y in fix processing\n",
      "2022-05-12 09:59:56,416 INFO Create DataGenerator\n",
      "2022-05-12 09:59:56,417 INFO Datagenerator created with: \n",
      " shape: [224, 224]\n",
      " spacing: [1.2, 1.2]\n",
      " batchsize: 1\n",
      " Scaler: MinMax\n",
      " Images: 330 \n",
      " Augment: False \n",
      " Thread workers: 32\n",
      "2022-05-12 09:59:56,811 INFO x_sliced: 280, example: data/interim/patient036_4d_t0_z0_img.nrrd\n",
      "2022-05-12 09:59:56,811 INFO inference mode, no masks given, will use x as placeholder for y in fix processing\n",
      "2022-05-12 09:59:56,811 INFO Create DataGenerator\n",
      "2022-05-12 09:59:56,812 INFO Datagenerator created with: \n",
      " shape: [224, 224]\n",
      " spacing: [1.2, 1.2]\n",
      " batchsize: 1\n",
      " Scaler: MinMax\n",
      " Images: 280 \n",
      " Augment: False \n",
      " Thread workers: 32\n",
      "2022-05-12 09:59:57,293 INFO x_sliced: 192, example: data/interim/patient038_4d_t0_z0_img.nrrd\n",
      "2022-05-12 09:59:57,294 INFO inference mode, no masks given, will use x as placeholder for y in fix processing\n",
      "2022-05-12 09:59:57,294 INFO Create DataGenerator\n",
      "2022-05-12 09:59:57,294 INFO Datagenerator created with: \n",
      " shape: [224, 224]\n",
      " spacing: [1.2, 1.2]\n",
      " batchsize: 1\n",
      " Scaler: MinMax\n",
      " Images: 192 \n",
      " Augment: False \n",
      " Thread workers: 32\n",
      "2022-05-12 09:59:57,405 INFO x_sliced: 102, example: data/interim/patient041_4d_t0_z0_img.nrrd\n",
      "2022-05-12 09:59:57,406 INFO inference mode, no masks given, will use x as placeholder for y in fix processing\n",
      "2022-05-12 09:59:57,406 INFO Create DataGenerator\n",
      "2022-05-12 09:59:57,406 INFO Datagenerator created with: \n",
      " shape: [224, 224]\n",
      " spacing: [1.2, 1.2]\n",
      " batchsize: 1\n",
      " Scaler: MinMax\n",
      " Images: 102 \n",
      " Augment: False \n",
      " Thread workers: 32\n",
      "2022-05-12 09:59:57,733 INFO x_sliced: 315, example: data/interim/patient042_4d_t0_z0_img.nrrd\n",
      "2022-05-12 09:59:57,733 INFO inference mode, no masks given, will use x as placeholder for y in fix processing\n",
      "2022-05-12 09:59:57,734 INFO Create DataGenerator\n",
      "2022-05-12 09:59:57,734 INFO Datagenerator created with: \n",
      " shape: [224, 224]\n",
      " spacing: [1.2, 1.2]\n",
      " batchsize: 1\n",
      " Scaler: MinMax\n",
      " Images: 315 \n",
      " Augment: False \n",
      " Thread workers: 32\n",
      "2022-05-12 09:59:57,979 INFO x_sliced: 245, example: data/interim/patient049_4d_t0_z0_img.nrrd\n",
      "2022-05-12 09:59:57,980 INFO inference mode, no masks given, will use x as placeholder for y in fix processing\n",
      "2022-05-12 09:59:57,980 INFO Create DataGenerator\n",
      "2022-05-12 09:59:57,981 INFO Datagenerator created with: \n",
      " shape: [224, 224]\n",
      " spacing: [1.2, 1.2]\n",
      " batchsize: 1\n",
      " Scaler: MinMax\n",
      " Images: 245 \n",
      " Augment: False \n",
      " Thread workers: 32\n",
      "2022-05-12 09:59:58,352 INFO x_sliced: 270, example: data/interim/patient056_4d_t0_z0_img.nrrd\n",
      "2022-05-12 09:59:58,352 INFO inference mode, no masks given, will use x as placeholder for y in fix processing\n",
      "2022-05-12 09:59:58,353 INFO Create DataGenerator\n",
      "2022-05-12 09:59:58,353 INFO Datagenerator created with: \n",
      " shape: [224, 224]\n",
      " spacing: [1.2, 1.2]\n",
      " batchsize: 1\n",
      " Scaler: MinMax\n",
      " Images: 270 \n",
      " Augment: False \n",
      " Thread workers: 32\n",
      "2022-05-12 09:59:58,731 INFO x_sliced: 270, example: data/interim/patient058_4d_t0_z0_img.nrrd\n",
      "2022-05-12 09:59:58,732 INFO inference mode, no masks given, will use x as placeholder for y in fix processing\n",
      "2022-05-12 09:59:58,732 INFO Create DataGenerator\n",
      "2022-05-12 09:59:58,733 INFO Datagenerator created with: \n",
      " shape: [224, 224]\n",
      " spacing: [1.2, 1.2]\n",
      " batchsize: 1\n",
      " Scaler: MinMax\n",
      " Images: 270 \n",
      " Augment: False \n",
      " Thread workers: 32\n",
      "2022-05-12 09:59:58,994 INFO x_sliced: 270, example: data/interim/patient061_4d_t0_z0_img.nrrd\n",
      "2022-05-12 09:59:58,994 INFO inference mode, no masks given, will use x as placeholder for y in fix processing\n",
      "2022-05-12 09:59:58,994 INFO Create DataGenerator\n",
      "2022-05-12 09:59:58,995 INFO Datagenerator created with: \n",
      " shape: [224, 224]\n",
      " spacing: [1.2, 1.2]\n",
      " batchsize: 1\n",
      " Scaler: MinMax\n",
      " Images: 270 \n",
      " Augment: False \n",
      " Thread workers: 32\n",
      "2022-05-12 09:59:59,271 INFO x_sliced: 300, example: data/interim/patient062_4d_t0_z0_img.nrrd\n",
      "2022-05-12 09:59:59,271 INFO inference mode, no masks given, will use x as placeholder for y in fix processing\n",
      "2022-05-12 09:59:59,271 INFO Create DataGenerator\n",
      "2022-05-12 09:59:59,272 INFO Datagenerator created with: \n",
      " shape: [224, 224]\n",
      " spacing: [1.2, 1.2]\n",
      " batchsize: 1\n",
      " Scaler: MinMax\n",
      " Images: 300 \n",
      " Augment: False \n",
      " Thread workers: 32\n",
      "2022-05-12 09:59:59,568 INFO x_sliced: 210, example: data/interim/patient069_4d_t0_z0_img.nrrd\n",
      "2022-05-12 09:59:59,568 INFO inference mode, no masks given, will use x as placeholder for y in fix processing\n",
      "2022-05-12 09:59:59,568 INFO Create DataGenerator\n",
      "2022-05-12 09:59:59,569 INFO Datagenerator created with: \n",
      " shape: [224, 224]\n",
      " spacing: [1.2, 1.2]\n",
      " batchsize: 1\n",
      " Scaler: MinMax\n",
      " Images: 210 \n",
      " Augment: False \n",
      " Thread workers: 32\n",
      "2022-05-12 09:59:59,959 INFO x_sliced: 240, example: data/interim/patient076_4d_t0_z0_img.nrrd\n",
      "2022-05-12 09:59:59,960 INFO inference mode, no masks given, will use x as placeholder for y in fix processing\n",
      "2022-05-12 09:59:59,960 INFO Create DataGenerator\n",
      "2022-05-12 09:59:59,961 INFO Datagenerator created with: \n",
      " shape: [224, 224]\n",
      " spacing: [1.2, 1.2]\n",
      " batchsize: 1\n",
      " Scaler: MinMax\n",
      " Images: 240 \n",
      " Augment: False \n",
      " Thread workers: 32\n",
      "2022-05-12 10:00:00,311 INFO x_sliced: 240, example: data/interim/patient078_4d_t0_z0_img.nrrd\n",
      "2022-05-12 10:00:00,312 INFO inference mode, no masks given, will use x as placeholder for y in fix processing\n",
      "2022-05-12 10:00:00,312 INFO Create DataGenerator\n",
      "2022-05-12 10:00:00,312 INFO Datagenerator created with: \n",
      " shape: [224, 224]\n",
      " spacing: [1.2, 1.2]\n",
      " batchsize: 1\n",
      " Scaler: MinMax\n",
      " Images: 240 \n",
      " Augment: False \n",
      " Thread workers: 32\n",
      "2022-05-12 10:00:00,620 INFO x_sliced: 272, example: data/interim/patient081_4d_t0_z0_img.nrrd\n",
      "2022-05-12 10:00:00,621 INFO inference mode, no masks given, will use x as placeholder for y in fix processing\n",
      "2022-05-12 10:00:00,621 INFO Create DataGenerator\n",
      "2022-05-12 10:00:00,621 INFO Datagenerator created with: \n",
      " shape: [224, 224]\n",
      " spacing: [1.2, 1.2]\n",
      " batchsize: 1\n",
      " Scaler: MinMax\n",
      " Images: 272 \n",
      " Augment: False \n",
      " Thread workers: 32\n",
      "2022-05-12 10:00:00,927 INFO x_sliced: 272, example: data/interim/patient082_4d_t0_z0_img.nrrd\n",
      "2022-05-12 10:00:00,927 INFO inference mode, no masks given, will use x as placeholder for y in fix processing\n",
      "2022-05-12 10:00:00,927 INFO Create DataGenerator\n",
      "2022-05-12 10:00:00,928 INFO Datagenerator created with: \n",
      " shape: [224, 224]\n",
      " spacing: [1.2, 1.2]\n",
      " batchsize: 1\n",
      " Scaler: MinMax\n",
      " Images: 272 \n",
      " Augment: False \n",
      " Thread workers: 32\n",
      "2022-05-12 10:00:01,257 INFO x_sliced: 180, example: data/interim/patient089_4d_t0_z0_img.nrrd\n",
      "2022-05-12 10:00:01,257 INFO inference mode, no masks given, will use x as placeholder for y in fix processing\n",
      "2022-05-12 10:00:01,257 INFO Create DataGenerator\n",
      "2022-05-12 10:00:01,258 INFO Datagenerator created with: \n",
      " shape: [224, 224]\n",
      " spacing: [1.2, 1.2]\n",
      " batchsize: 1\n",
      " Scaler: MinMax\n",
      " Images: 180 \n",
      " Augment: False \n",
      " Thread workers: 32\n",
      "2022-05-12 10:00:01,555 INFO x_sliced: 270, example: data/interim/patient096_4d_t0_z0_img.nrrd\n",
      "2022-05-12 10:00:01,555 INFO inference mode, no masks given, will use x as placeholder for y in fix processing\n",
      "2022-05-12 10:00:01,556 INFO Create DataGenerator\n",
      "2022-05-12 10:00:01,556 INFO Datagenerator created with: \n",
      " shape: [224, 224]\n",
      " spacing: [1.2, 1.2]\n",
      " batchsize: 1\n",
      " Scaler: MinMax\n",
      " Images: 270 \n",
      " Augment: False \n",
      " Thread workers: 32\n",
      "2022-05-12 10:00:01,777 INFO x_sliced: 154, example: data/interim/patient098_4d_t0_z0_img.nrrd\n",
      "2022-05-12 10:00:01,778 INFO inference mode, no masks given, will use x as placeholder for y in fix processing\n",
      "2022-05-12 10:00:01,778 INFO Create DataGenerator\n",
      "2022-05-12 10:00:01,778 INFO Datagenerator created with: \n",
      " shape: [224, 224]\n",
      " spacing: [1.2, 1.2]\n",
      " batchsize: 1\n",
      " Scaler: MinMax\n",
      " Images: 154 \n",
      " Augment: False \n",
      " Thread workers: 32\n",
      "2022-05-12 10:00:01,929 INFO size: (216, 256, 10, 30)\n",
      "2022-05-12 10:00:01,929 INFO spacing: (1.5625, 1.5625, 10.0, 1.0)\n",
      "2022-05-12 10:00:01,930 INFO origin: (0.0, 0.0, 0.0, 0.0)\n",
      "2022-05-12 10:00:01,930 INFO direction: (1.0, 0.0, 0.0, 0.0, 0.0, 1.0, 0.0, 0.0, 0.0, 0.0, 1.0, 0.0, 0.0, 0.0, 0.0, 1.0)\n",
      "2022-05-12 10:00:01,930 INFO pixel type: 16-bit signed integer\n",
      "2022-05-12 10:00:01,931 INFO number of pixel components: 1\n",
      "2022-05-12 10:00:06,878 INFO size: (232, 256, 10, 30)\n",
      "2022-05-12 10:00:06,878 INFO spacing: (1.3671875, 1.3671875, 10.0, 1.0)\n",
      "2022-05-12 10:00:06,878 INFO origin: (0.0, 0.0, 0.0, 0.0)\n",
      "2022-05-12 10:00:06,879 INFO direction: (1.0, 0.0, 0.0, 0.0, 0.0, 1.0, 0.0, 0.0, 0.0, 0.0, 1.0, 0.0, 0.0, 0.0, 0.0, 1.0)\n",
      "2022-05-12 10:00:06,879 INFO pixel type: 16-bit signed integer\n",
      "2022-05-12 10:00:06,879 INFO number of pixel components: 1\n"
     ]
    },
    {
     "name": "stdout",
     "output_type": "stream",
     "text": [
      "(224, 224, 10, 30)\n",
      "(1.2, 1.2, 10.0, 1)\n",
      "(224, 224, 10, 30)\n",
      "(1.2, 1.2, 10.0, 1)\n"
     ]
    },
    {
     "name": "stderr",
     "output_type": "stream",
     "text": [
      "2022-05-12 10:00:09,245 INFO size: (208, 256, 10, 35)\n",
      "2022-05-12 10:00:09,245 INFO spacing: (1.3671900033950806, 1.3671900033950806, 10.0, 1.0)\n",
      "2022-05-12 10:00:09,246 INFO origin: (0.0, 0.0, 0.0, 0.0)\n",
      "2022-05-12 10:00:09,246 INFO direction: (1.0, 0.0, 0.0, 0.0, 0.0, 1.0, 0.0, 0.0, 0.0, 0.0, 1.0, 0.0, 0.0, 0.0, 0.0, 1.0)\n",
      "2022-05-12 10:00:09,246 INFO pixel type: 32-bit float\n",
      "2022-05-12 10:00:09,246 INFO number of pixel components: 1\n"
     ]
    },
    {
     "name": "stdout",
     "output_type": "stream",
     "text": [
      "(224, 224, 10, 35)\n",
      "(1.2, 1.2, 10.0, 1)\n"
     ]
    },
    {
     "name": "stderr",
     "output_type": "stream",
     "text": [
      "2022-05-12 10:00:11,833 INFO size: (192, 256, 10, 30)\n",
      "2022-05-12 10:00:11,834 INFO spacing: (1.4453099966049194, 1.4453099966049194, 10.0, 1.0)\n",
      "2022-05-12 10:00:11,834 INFO origin: (0.0, 0.0, 0.0, 0.0)\n",
      "2022-05-12 10:00:11,834 INFO direction: (1.0, 0.0, 0.0, 0.0, 0.0, 1.0, 0.0, 0.0, 0.0, 0.0, 1.0, 0.0, 0.0, 0.0, 0.0, 1.0)\n",
      "2022-05-12 10:00:11,835 INFO pixel type: 32-bit float\n",
      "2022-05-12 10:00:11,835 INFO number of pixel components: 1\n",
      "2022-05-12 10:00:13,958 INFO size: (216, 256, 8, 13)\n",
      "2022-05-12 10:00:13,959 INFO spacing: (1.3671900033950806, 1.3671900033950806, 10.0, 1.0)\n",
      "2022-05-12 10:00:13,959 INFO origin: (0.0, 0.0, 0.0, 0.0)\n",
      "2022-05-12 10:00:13,960 INFO direction: (1.0, 0.0, 0.0, 0.0, 0.0, 1.0, 0.0, 0.0, 0.0, 0.0, 1.0, 0.0, 0.0, 0.0, 0.0, 1.0)\n",
      "2022-05-12 10:00:13,960 INFO pixel type: 32-bit float\n",
      "2022-05-12 10:00:13,960 INFO number of pixel components: 1\n"
     ]
    },
    {
     "name": "stdout",
     "output_type": "stream",
     "text": [
      "(224, 224, 10, 30)\n",
      "(1.2, 1.2, 10.0, 1)\n"
     ]
    },
    {
     "name": "stderr",
     "output_type": "stream",
     "text": [
      "2022-05-12 10:00:14,913 INFO size: (240, 256, 10, 30)\n",
      "2022-05-12 10:00:14,914 INFO spacing: (1.6796875, 1.6796875, 10.0, 1.0)\n",
      "2022-05-12 10:00:14,914 INFO origin: (0.0, 0.0, 0.0, 0.0)\n",
      "2022-05-12 10:00:14,914 INFO direction: (1.0, 0.0, 0.0, 0.0, 0.0, 1.0, 0.0, 0.0, 0.0, 0.0, 1.0, 0.0, 0.0, 0.0, 0.0, 1.0)\n",
      "2022-05-12 10:00:14,915 INFO pixel type: 16-bit signed integer\n",
      "2022-05-12 10:00:14,915 INFO number of pixel components: 1\n"
     ]
    },
    {
     "name": "stdout",
     "output_type": "stream",
     "text": [
      "(224, 224, 8, 13)\n",
      "(1.2, 1.2, 10.0, 1)\n"
     ]
    },
    {
     "name": "stderr",
     "output_type": "stream",
     "text": [
      "2022-05-12 10:00:17,071 INFO size: (200, 256, 7, 28)\n",
      "2022-05-12 10:00:17,071 INFO spacing: (1.40625, 1.40625, 10.0, 1.0)\n",
      "2022-05-12 10:00:17,072 INFO origin: (0.0, 0.0, 0.0, 0.0)\n",
      "2022-05-12 10:00:17,072 INFO direction: (1.0, 0.0, 0.0, 0.0, 0.0, 1.0, 0.0, 0.0, 0.0, 0.0, 1.0, 0.0, 0.0, 0.0, 0.0, 1.0)\n",
      "2022-05-12 10:00:17,073 INFO pixel type: 16-bit signed integer\n",
      "2022-05-12 10:00:17,073 INFO number of pixel components: 1\n"
     ]
    },
    {
     "name": "stdout",
     "output_type": "stream",
     "text": [
      "(224, 224, 10, 30)\n",
      "(1.2, 1.2, 10.0, 1)\n"
     ]
    },
    {
     "name": "stderr",
     "output_type": "stream",
     "text": [
      "2022-05-12 10:00:18,586 INFO size: (192, 256, 11, 30)\n",
      "2022-05-12 10:00:18,587 INFO spacing: (1.3671875, 1.3671875, 10.0, 1.0)\n",
      "2022-05-12 10:00:18,587 INFO origin: (0.0, 0.0, 0.0, 0.0)\n",
      "2022-05-12 10:00:18,587 INFO direction: (1.0, 0.0, 0.0, 0.0, 0.0, 1.0, 0.0, 0.0, 0.0, 0.0, 1.0, 0.0, 0.0, 0.0, 0.0, 1.0)\n",
      "2022-05-12 10:00:18,587 INFO pixel type: 16-bit signed integer\n",
      "2022-05-12 10:00:18,588 INFO number of pixel components: 1\n"
     ]
    },
    {
     "name": "stdout",
     "output_type": "stream",
     "text": [
      "(224, 224, 7, 28)\n",
      "(1.2, 1.2, 10.0, 1)\n",
      "(224, 224, 11, 30)\n",
      "(1.2, 1.2, 10.0, 1)\n"
     ]
    },
    {
     "name": "stderr",
     "output_type": "stream",
     "text": [
      "2022-05-12 10:00:21,043 INFO size: (216, 256, 8, 35)\n",
      "2022-05-12 10:00:21,043 INFO spacing: (1.4453099966049194, 1.4453099966049194, 10.0, 1.0)\n",
      "2022-05-12 10:00:21,044 INFO origin: (0.0, 0.0, 0.0, 0.0)\n",
      "2022-05-12 10:00:21,044 INFO direction: (1.0, 0.0, 0.0, 0.0, 0.0, 1.0, 0.0, 0.0, 0.0, 0.0, 1.0, 0.0, 0.0, 0.0, 0.0, 1.0)\n",
      "2022-05-12 10:00:21,044 INFO pixel type: 32-bit float\n",
      "2022-05-12 10:00:21,044 INFO number of pixel components: 1\n"
     ]
    },
    {
     "name": "stdout",
     "output_type": "stream",
     "text": [
      "(224, 224, 8, 35)\n",
      "(1.2, 1.2, 10.0, 1)\n"
     ]
    },
    {
     "name": "stderr",
     "output_type": "stream",
     "text": [
      "2022-05-12 10:00:23,313 INFO size: (276, 384, 8, 24)\n",
      "2022-05-12 10:00:23,314 INFO spacing: (0.8333330154418945, 0.8333330154418945, 10.0, 1.0)\n",
      "2022-05-12 10:00:23,314 INFO origin: (0.0, 0.0, 0.0, 0.0)\n",
      "2022-05-12 10:00:23,314 INFO direction: (1.0, 0.0, 0.0, 0.0, 0.0, 1.0, 0.0, 0.0, 0.0, 0.0, 1.0, 0.0, 0.0, 0.0, 0.0, 1.0)\n",
      "2022-05-12 10:00:23,315 INFO pixel type: 32-bit float\n",
      "2022-05-12 10:00:23,315 INFO number of pixel components: 1\n",
      "2022-05-12 10:00:24,736 INFO size: (154, 224, 6, 17)\n",
      "2022-05-12 10:00:24,737 INFO spacing: (1.7857099771499634, 1.7857099771499634, 10.0, 1.0)\n",
      "2022-05-12 10:00:24,737 INFO origin: (0.0, 0.0, 0.0, 0.0)\n",
      "2022-05-12 10:00:24,738 INFO direction: (1.0, 0.0, 0.0, 0.0, 0.0, 1.0, 0.0, 0.0, 0.0, 0.0, 1.0, 0.0, 0.0, 0.0, 0.0, 1.0)\n",
      "2022-05-12 10:00:24,738 INFO pixel type: 32-bit float\n",
      "2022-05-12 10:00:24,739 INFO number of pixel components: 1\n"
     ]
    },
    {
     "name": "stdout",
     "output_type": "stream",
     "text": [
      "(224, 224, 8, 24)\n",
      "(1.2, 1.2, 10.0, 1)\n"
     ]
    },
    {
     "name": "stderr",
     "output_type": "stream",
     "text": [
      "2022-05-12 10:00:25,692 INFO size: (232, 256, 9, 35)\n",
      "2022-05-12 10:00:25,692 INFO spacing: (1.7578125, 1.7578125, 10.0, 1.0)\n",
      "2022-05-12 10:00:25,693 INFO origin: (0.0, 0.0, 0.0, 0.0)\n",
      "2022-05-12 10:00:25,693 INFO direction: (1.0, 0.0, 0.0, 0.0, 0.0, 1.0, 0.0, 0.0, 0.0, 0.0, 1.0, 0.0, 0.0, 0.0, 0.0, 1.0)\n",
      "2022-05-12 10:00:25,693 INFO pixel type: 16-bit signed integer\n",
      "2022-05-12 10:00:25,694 INFO number of pixel components: 1\n"
     ]
    },
    {
     "name": "stdout",
     "output_type": "stream",
     "text": [
      "(224, 224, 6, 17)\n",
      "(1.2, 1.2, 10.0, 1)\n"
     ]
    },
    {
     "name": "stderr",
     "output_type": "stream",
     "text": [
      "2022-05-12 10:00:27,994 INFO size: (256, 216, 7, 35)\n",
      "2022-05-12 10:00:27,994 INFO spacing: (1.3671875, 1.3671875, 10.0, 1.0)\n",
      "2022-05-12 10:00:27,995 INFO origin: (0.0, 0.0, 0.0, 0.0)\n",
      "2022-05-12 10:00:27,995 INFO direction: (1.0, 0.0, 0.0, 0.0, 0.0, 1.0, 0.0, 0.0, 0.0, 0.0, 1.0, 0.0, 0.0, 0.0, 0.0, 1.0)\n",
      "2022-05-12 10:00:27,995 INFO pixel type: 16-bit signed integer\n",
      "2022-05-12 10:00:27,996 INFO number of pixel components: 1\n"
     ]
    },
    {
     "name": "stdout",
     "output_type": "stream",
     "text": [
      "(224, 224, 9, 35)\n",
      "(1.2, 1.2, 10.0, 1)\n",
      "(224, 224, 7, 35)\n",
      "(1.2, 1.2, 10.0, 1)\n"
     ]
    },
    {
     "name": "stderr",
     "output_type": "stream",
     "text": [
      "2022-05-12 10:00:29,902 INFO size: (216, 256, 9, 30)\n",
      "2022-05-12 10:00:29,903 INFO spacing: (1.3671900033950806, 1.3671900033950806, 10.0, 1.0)\n",
      "2022-05-12 10:00:29,903 INFO origin: (0.0, 0.0, 0.0, 0.0)\n",
      "2022-05-12 10:00:29,903 INFO direction: (1.0, 0.0, 0.0, 0.0, 0.0, 1.0, 0.0, 0.0, 0.0, 0.0, 1.0, 0.0, 0.0, 0.0, 0.0, 1.0)\n",
      "2022-05-12 10:00:29,904 INFO pixel type: 32-bit float\n",
      "2022-05-12 10:00:29,904 INFO number of pixel components: 1\n"
     ]
    },
    {
     "name": "stdout",
     "output_type": "stream",
     "text": [
      "(224, 224, 9, 30)\n",
      "(1.2, 1.2, 10.0, 1)\n"
     ]
    },
    {
     "name": "stderr",
     "output_type": "stream",
     "text": [
      "2022-05-12 10:00:31,972 INFO size: (216, 256, 9, 30)\n",
      "2022-05-12 10:00:31,973 INFO spacing: (1.40625, 1.40625, 10.0, 1.0)\n",
      "2022-05-12 10:00:31,973 INFO origin: (0.0, 0.0, 0.0, 0.0)\n",
      "2022-05-12 10:00:31,974 INFO direction: (1.0, 0.0, 0.0, 0.0, 0.0, 1.0, 0.0, 0.0, 0.0, 0.0, 1.0, 0.0, 0.0, 0.0, 0.0, 1.0)\n",
      "2022-05-12 10:00:31,974 INFO pixel type: 32-bit float\n",
      "2022-05-12 10:00:31,974 INFO number of pixel components: 1\n",
      "2022-05-12 10:00:33,979 INFO size: (216, 256, 9, 30)\n",
      "2022-05-12 10:00:33,979 INFO spacing: (1.3671875, 1.3671875, 10.0, 1.0)\n",
      "2022-05-12 10:00:33,979 INFO origin: (0.0, 0.0, 0.0, 0.0)\n",
      "2022-05-12 10:00:33,980 INFO direction: (1.0, 0.0, 0.0, 0.0, 0.0, 1.0, 0.0, 0.0, 0.0, 0.0, 1.0, 0.0, 0.0, 0.0, 0.0, 1.0)\n",
      "2022-05-12 10:00:33,980 INFO pixel type: 16-bit signed integer\n",
      "2022-05-12 10:00:33,980 INFO number of pixel components: 1\n"
     ]
    },
    {
     "name": "stdout",
     "output_type": "stream",
     "text": [
      "(224, 224, 9, 30)\n",
      "(1.2, 1.2, 10.0, 1)\n"
     ]
    },
    {
     "name": "stderr",
     "output_type": "stream",
     "text": [
      "2022-05-12 10:00:35,944 INFO size: (256, 216, 10, 30)\n",
      "2022-05-12 10:00:35,944 INFO spacing: (1.3671875, 1.3671875, 10.0, 1.0)\n",
      "2022-05-12 10:00:35,945 INFO origin: (0.0, 0.0, 0.0, 0.0)\n",
      "2022-05-12 10:00:35,945 INFO direction: (1.0, 0.0, 0.0, 0.0, 0.0, 1.0, 0.0, 0.0, 0.0, 0.0, 1.0, 0.0, 0.0, 0.0, 0.0, 1.0)\n",
      "2022-05-12 10:00:35,946 INFO pixel type: 16-bit signed integer\n",
      "2022-05-12 10:00:35,946 INFO number of pixel components: 1\n"
     ]
    },
    {
     "name": "stdout",
     "output_type": "stream",
     "text": [
      "(224, 224, 9, 30)\n",
      "(1.2, 1.2, 10.0, 1)\n"
     ]
    },
    {
     "name": "stderr",
     "output_type": "stream",
     "text": [
      "2022-05-12 10:00:38,139 INFO size: (216, 256, 7, 30)\n",
      "2022-05-12 10:00:38,139 INFO spacing: (1.5625, 1.5625, 10.0, 1.0)\n",
      "2022-05-12 10:00:38,140 INFO origin: (0.0, 0.0, 0.0, 0.0)\n",
      "2022-05-12 10:00:38,140 INFO direction: (1.0, 0.0, 0.0, 0.0, 0.0, 1.0, 0.0, 0.0, 0.0, 0.0, 1.0, 0.0, 0.0, 0.0, 0.0, 1.0)\n",
      "2022-05-12 10:00:38,140 INFO pixel type: 32-bit float\n",
      "2022-05-12 10:00:38,141 INFO number of pixel components: 1\n"
     ]
    },
    {
     "name": "stdout",
     "output_type": "stream",
     "text": [
      "(224, 224, 10, 30)\n",
      "(1.2, 1.2, 10.0, 1)\n",
      "(224, 224, 7, 30)\n",
      "(1.2, 1.2, 10.0, 1)\n"
     ]
    },
    {
     "name": "stderr",
     "output_type": "stream",
     "text": [
      "2022-05-12 10:00:39,892 INFO size: (256, 256, 8, 30)\n",
      "2022-05-12 10:00:39,893 INFO spacing: (1.5625, 1.5625, 10.0, 1.0)\n",
      "2022-05-12 10:00:39,893 INFO origin: (0.0, 0.0, 0.0, 0.0)\n",
      "2022-05-12 10:00:39,893 INFO direction: (1.0, 0.0, 0.0, 0.0, 0.0, 1.0, 0.0, 0.0, 0.0, 0.0, 1.0, 0.0, 0.0, 0.0, 0.0, 1.0)\n",
      "2022-05-12 10:00:39,894 INFO pixel type: 32-bit float\n",
      "2022-05-12 10:00:39,894 INFO number of pixel components: 1\n"
     ]
    },
    {
     "name": "stdout",
     "output_type": "stream",
     "text": [
      "(224, 224, 8, 30)\n",
      "(1.2, 1.2, 10.0, 1)\n"
     ]
    },
    {
     "name": "stderr",
     "output_type": "stream",
     "text": [
      "2022-05-12 10:00:41,806 INFO size: (216, 256, 8, 30)\n",
      "2022-05-12 10:00:41,806 INFO spacing: (1.3671900033950806, 1.3671900033950806, 10.0, 1.0)\n",
      "2022-05-12 10:00:41,806 INFO origin: (0.0, 0.0, 0.0, 0.0)\n",
      "2022-05-12 10:00:41,807 INFO direction: (1.0, 0.0, 0.0, 0.0, 0.0, 1.0, 0.0, 0.0, 0.0, 0.0, 1.0, 0.0, 0.0, 0.0, 0.0, 1.0)\n",
      "2022-05-12 10:00:41,807 INFO pixel type: 32-bit float\n",
      "2022-05-12 10:00:41,807 INFO number of pixel components: 1\n",
      "2022-05-12 10:00:43,629 INFO size: (154, 224, 17, 16)\n",
      "2022-05-12 10:00:43,630 INFO spacing: (1.6517900228500366, 1.6517900228500366, 5.0, 1.0)\n",
      "2022-05-12 10:00:43,630 INFO origin: (0.0, 0.0, 0.0, 0.0)\n",
      "2022-05-12 10:00:43,630 INFO direction: (1.0, 0.0, 0.0, 0.0, 0.0, 1.0, 0.0, 0.0, 0.0, 0.0, 1.0, 0.0, 0.0, 0.0, 0.0, 1.0)\n",
      "2022-05-12 10:00:43,631 INFO pixel type: 32-bit float\n",
      "2022-05-12 10:00:43,631 INFO number of pixel components: 1\n"
     ]
    },
    {
     "name": "stdout",
     "output_type": "stream",
     "text": [
      "(224, 224, 8, 30)\n",
      "(1.2, 1.2, 10.0, 1)\n"
     ]
    },
    {
     "name": "stderr",
     "output_type": "stream",
     "text": [
      "2022-05-12 10:00:45,640 INFO size: (224, 154, 16, 17)\n",
      "2022-05-12 10:00:45,641 INFO spacing: (1.7857099771499634, 1.7857099771499634, 5.0, 1.0)\n",
      "2022-05-12 10:00:45,641 INFO origin: (0.0, 0.0, 0.0, 0.0)\n",
      "2022-05-12 10:00:45,641 INFO direction: (1.0, 0.0, 0.0, 0.0, 0.0, 1.0, 0.0, 0.0, 0.0, 0.0, 1.0, 0.0, 0.0, 0.0, 0.0, 1.0)\n",
      "2022-05-12 10:00:45,642 INFO pixel type: 32-bit float\n",
      "2022-05-12 10:00:45,642 INFO number of pixel components: 1\n"
     ]
    },
    {
     "name": "stdout",
     "output_type": "stream",
     "text": [
      "(224, 224, 17, 16)\n",
      "(1.2, 1.2, 5.0, 1)\n",
      "(224, 224, 16, 17)\n",
      "(1.2, 1.2, 5.0, 1)\n"
     ]
    },
    {
     "name": "stderr",
     "output_type": "stream",
     "text": [
      "2022-05-12 10:00:47,717 INFO size: (264, 288, 6, 30)\n",
      "2022-05-12 10:00:47,718 INFO spacing: (1.4583300352096558, 1.4583300352096558, 10.0, 1.0)\n",
      "2022-05-12 10:00:47,718 INFO origin: (0.0, 0.0, 0.0, 0.0)\n",
      "2022-05-12 10:00:47,718 INFO direction: (1.0, 0.0, 0.0, 0.0, 0.0, 1.0, 0.0, 0.0, 0.0, 0.0, 1.0, 0.0, 0.0, 0.0, 0.0, 1.0)\n",
      "2022-05-12 10:00:47,718 INFO pixel type: 32-bit float\n",
      "2022-05-12 10:00:47,719 INFO number of pixel components: 1\n",
      "2022-05-12 10:00:49,215 INFO size: (174, 208, 18, 15)\n",
      "2022-05-12 10:00:49,215 INFO spacing: (1.6826900243759155, 1.6826900243759155, 5.0, 1.0)\n",
      "2022-05-12 10:00:49,216 INFO origin: (0.0, 0.0, 0.0, 0.0)\n",
      "2022-05-12 10:00:49,216 INFO direction: (1.0, 0.0, 0.0, 0.0, 0.0, 1.0, 0.0, 0.0, 0.0, 0.0, 1.0, 0.0, 0.0, 0.0, 0.0, 1.0)\n",
      "2022-05-12 10:00:49,216 INFO pixel type: 32-bit float\n",
      "2022-05-12 10:00:49,216 INFO number of pixel components: 1\n"
     ]
    },
    {
     "name": "stdout",
     "output_type": "stream",
     "text": [
      "(224, 224, 6, 30)\n",
      "(1.2, 1.2, 10.0, 1)\n"
     ]
    },
    {
     "name": "stderr",
     "output_type": "stream",
     "text": [
      "2022-05-12 10:00:51,174 INFO size: (216, 256, 7, 22)\n",
      "2022-05-12 10:00:51,175 INFO spacing: (1.25, 1.25, 10.0, 1.0)\n",
      "2022-05-12 10:00:51,175 INFO origin: (0.0, 0.0, 0.0, 0.0)\n",
      "2022-05-12 10:00:51,175 INFO direction: (1.0, 0.0, 0.0, 0.0, 0.0, 1.0, 0.0, 0.0, 0.0, 0.0, 1.0, 0.0, 0.0, 0.0, 0.0, 1.0)\n",
      "2022-05-12 10:00:51,176 INFO pixel type: 32-bit float\n",
      "2022-05-12 10:00:51,176 INFO number of pixel components: 1\n"
     ]
    },
    {
     "name": "stdout",
     "output_type": "stream",
     "text": [
      "(224, 224, 18, 15)\n",
      "(1.2, 1.2, 5.0, 1)\n"
     ]
    },
    {
     "name": "stderr",
     "output_type": "stream",
     "text": [
      "2022-05-12 10:00:52,284 INFO expect 25 patients for validation in fold 1\n",
      "2022-05-12 10:00:52,285 INFO 4d files filtered: 25\n",
      "2022-05-12 10:00:52,285 INFO Create model\n"
     ]
    },
    {
     "name": "stdout",
     "output_type": "stream",
     "text": [
      "(224, 224, 7, 22)\n",
      "(1.2, 1.2, 10.0, 1)\n",
      "(None, 224, 224, 1)\n"
     ]
    },
    {
     "name": "stderr",
     "output_type": "stream",
     "text": [
      "/home/sven/anaconda3/envs/dcmr/lib/python3.8/site-packages/keras/optimizer_v2/adam.py:105: UserWarning: The `lr` argument is deprecated, use `learning_rate` instead.\n",
      "  super(Adam, self).__init__(name, **kwargs)\n",
      "2022-05-12 10:00:52,898 INFO loaded model weights as h5 file\n",
      "2022-05-12 10:00:53,075 INFO found 25 4D files, will return one generator per file with t x z slices\n",
      "2022-05-12 10:00:53,382 INFO x_sliced: 280, example: data/interim/patient004_4d_t0_z0_img.nrrd\n",
      "2022-05-12 10:00:53,382 INFO inference mode, no masks given, will use x as placeholder for y in fix processing\n",
      "2022-05-12 10:00:53,383 INFO Create DataGenerator\n",
      "2022-05-12 10:00:53,383 INFO Datagenerator created with: \n",
      " shape: [224, 224]\n",
      " spacing: [1.2, 1.2]\n",
      " batchsize: 1\n",
      " Scaler: MinMax\n",
      " Images: 280 \n",
      " Augment: False \n",
      " Thread workers: 32\n",
      "2022-05-12 10:00:53,725 INFO x_sliced: 308, example: data/interim/patient006_4d_t0_z0_img.nrrd\n",
      "2022-05-12 10:00:53,725 INFO inference mode, no masks given, will use x as placeholder for y in fix processing\n",
      "2022-05-12 10:00:53,725 INFO Create DataGenerator\n",
      "2022-05-12 10:00:53,726 INFO Datagenerator created with: \n",
      " shape: [224, 224]\n",
      " spacing: [1.2, 1.2]\n",
      " batchsize: 1\n",
      " Scaler: MinMax\n",
      " Images: 308 \n",
      " Augment: False \n",
      " Thread workers: 32\n",
      "2022-05-12 10:00:54,111 INFO x_sliced: 300, example: data/interim/patient012_4d_t0_z0_img.nrrd\n",
      "2022-05-12 10:00:54,112 INFO inference mode, no masks given, will use x as placeholder for y in fix processing\n",
      "2022-05-12 10:00:54,112 INFO Create DataGenerator\n",
      "2022-05-12 10:00:54,113 INFO Datagenerator created with: \n",
      " shape: [224, 224]\n",
      " spacing: [1.2, 1.2]\n",
      " batchsize: 1\n",
      " Scaler: MinMax\n",
      " Images: 300 \n",
      " Augment: False \n",
      " Thread workers: 32\n",
      "2022-05-12 10:00:54,352 INFO x_sliced: 171, example: data/interim/patient017_4d_t0_z0_img.nrrd\n",
      "2022-05-12 10:00:54,352 INFO inference mode, no masks given, will use x as placeholder for y in fix processing\n",
      "2022-05-12 10:00:54,352 INFO Create DataGenerator\n",
      "2022-05-12 10:00:54,353 INFO Datagenerator created with: \n",
      " shape: [224, 224]\n",
      " spacing: [1.2, 1.2]\n",
      " batchsize: 1\n",
      " Scaler: MinMax\n",
      " Images: 171 \n",
      " Augment: False \n",
      " Thread workers: 32\n",
      "2022-05-12 10:00:54,828 INFO x_sliced: 330, example: data/interim/patient019_4d_t0_z0_img.nrrd\n",
      "2022-05-12 10:00:54,828 INFO inference mode, no masks given, will use x as placeholder for y in fix processing\n",
      "2022-05-12 10:00:54,828 INFO Create DataGenerator\n",
      "2022-05-12 10:00:54,829 INFO Datagenerator created with: \n",
      " shape: [224, 224]\n",
      " spacing: [1.2, 1.2]\n",
      " batchsize: 1\n",
      " Scaler: MinMax\n",
      " Images: 330 \n",
      " Augment: False \n",
      " Thread workers: 32\n",
      "2022-05-12 10:00:55,061 INFO x_sliced: 224, example: data/interim/patient024_4d_t0_z0_img.nrrd\n",
      "2022-05-12 10:00:55,061 INFO inference mode, no masks given, will use x as placeholder for y in fix processing\n",
      "2022-05-12 10:00:55,062 INFO Create DataGenerator\n",
      "2022-05-12 10:00:55,062 INFO Datagenerator created with: \n",
      " shape: [224, 224]\n",
      " spacing: [1.2, 1.2]\n",
      " batchsize: 1\n",
      " Scaler: MinMax\n",
      " Images: 224 \n",
      " Augment: False \n",
      " Thread workers: 32\n",
      "2022-05-12 10:00:55,319 INFO x_sliced: 280, example: data/interim/patient026_4d_t0_z0_img.nrrd\n",
      "2022-05-12 10:00:55,319 INFO inference mode, no masks given, will use x as placeholder for y in fix processing\n",
      "2022-05-12 10:00:55,319 INFO Create DataGenerator\n",
      "2022-05-12 10:00:55,320 INFO Datagenerator created with: \n",
      " shape: [224, 224]\n",
      " spacing: [1.2, 1.2]\n",
      " batchsize: 1\n",
      " Scaler: MinMax\n",
      " Images: 280 \n",
      " Augment: False \n",
      " Thread workers: 32\n",
      "2022-05-12 10:00:55,628 INFO x_sliced: 300, example: data/interim/patient032_4d_t0_z0_img.nrrd\n",
      "2022-05-12 10:00:55,629 INFO inference mode, no masks given, will use x as placeholder for y in fix processing\n",
      "2022-05-12 10:00:55,629 INFO Create DataGenerator\n",
      "2022-05-12 10:00:55,630 INFO Datagenerator created with: \n",
      " shape: [224, 224]\n",
      " spacing: [1.2, 1.2]\n",
      " batchsize: 1\n",
      " Scaler: MinMax\n",
      " Images: 300 \n",
      " Augment: False \n",
      " Thread workers: 32\n",
      "2022-05-12 10:00:55,910 INFO x_sliced: 210, example: data/interim/patient037_4d_t0_z0_img.nrrd\n",
      "2022-05-12 10:00:55,910 INFO inference mode, no masks given, will use x as placeholder for y in fix processing\n",
      "2022-05-12 10:00:55,911 INFO Create DataGenerator\n",
      "2022-05-12 10:00:55,911 INFO Datagenerator created with: \n",
      " shape: [224, 224]\n",
      " spacing: [1.2, 1.2]\n",
      " batchsize: 1\n",
      " Scaler: MinMax\n",
      " Images: 210 \n",
      " Augment: False \n",
      " Thread workers: 32\n",
      "2022-05-12 10:00:56,274 INFO x_sliced: 252, example: data/interim/patient039_4d_t0_z0_img.nrrd\n",
      "2022-05-12 10:00:56,275 INFO inference mode, no masks given, will use x as placeholder for y in fix processing\n",
      "2022-05-12 10:00:56,275 INFO Create DataGenerator\n",
      "2022-05-12 10:00:56,275 INFO Datagenerator created with: \n",
      " shape: [224, 224]\n",
      " spacing: [1.2, 1.2]\n",
      " batchsize: 1\n",
      " Scaler: MinMax\n",
      " Images: 252 \n",
      " Augment: False \n",
      " Thread workers: 32\n",
      "2022-05-12 10:00:56,516 INFO x_sliced: 270, example: data/interim/patient044_4d_t0_z0_img.nrrd\n",
      "2022-05-12 10:00:56,516 INFO inference mode, no masks given, will use x as placeholder for y in fix processing\n",
      "2022-05-12 10:00:56,517 INFO Create DataGenerator\n",
      "2022-05-12 10:00:56,517 INFO Datagenerator created with: \n",
      " shape: [224, 224]\n",
      " spacing: [1.2, 1.2]\n",
      " batchsize: 1\n",
      " Scaler: MinMax\n",
      " Images: 270 \n",
      " Augment: False \n",
      " Thread workers: 32\n",
      "2022-05-12 10:00:56,871 INFO x_sliced: 270, example: data/interim/patient046_4d_t0_z0_img.nrrd\n",
      "2022-05-12 10:00:56,871 INFO inference mode, no masks given, will use x as placeholder for y in fix processing\n",
      "2022-05-12 10:00:56,872 INFO Create DataGenerator\n",
      "2022-05-12 10:00:56,872 INFO Datagenerator created with: \n",
      " shape: [224, 224]\n",
      " spacing: [1.2, 1.2]\n",
      " batchsize: 1\n",
      " Scaler: MinMax\n",
      " Images: 270 \n",
      " Augment: False \n",
      " Thread workers: 32\n",
      "2022-05-12 10:00:57,102 INFO x_sliced: 160, example: data/interim/patient052_4d_t0_z0_img.nrrd\n",
      "2022-05-12 10:00:57,102 INFO inference mode, no masks given, will use x as placeholder for y in fix processing\n",
      "2022-05-12 10:00:57,102 INFO Create DataGenerator\n",
      "2022-05-12 10:00:57,103 INFO Datagenerator created with: \n",
      " shape: [224, 224]\n",
      " spacing: [1.2, 1.2]\n",
      " batchsize: 1\n",
      " Scaler: MinMax\n",
      " Images: 160 \n",
      " Augment: False \n",
      " Thread workers: 32\n",
      "2022-05-12 10:00:57,971 INFO x_sliced: 200, example: data/interim/patient057_4d_t0_z0_img.nrrd\n",
      "2022-05-12 10:00:57,971 INFO inference mode, no masks given, will use x as placeholder for y in fix processing\n",
      "2022-05-12 10:00:57,971 INFO Create DataGenerator\n",
      "2022-05-12 10:00:57,972 INFO Datagenerator created with: \n",
      " shape: [224, 224]\n",
      " spacing: [1.2, 1.2]\n",
      " batchsize: 1\n",
      " Scaler: MinMax\n",
      " Images: 200 \n",
      " Augment: False \n",
      " Thread workers: 32\n",
      "2022-05-12 10:00:58,337 INFO x_sliced: 270, example: data/interim/patient059_4d_t0_z0_img.nrrd\n",
      "2022-05-12 10:00:58,338 INFO inference mode, no masks given, will use x as placeholder for y in fix processing\n",
      "2022-05-12 10:00:58,338 INFO Create DataGenerator\n",
      "2022-05-12 10:00:58,339 INFO Datagenerator created with: \n",
      " shape: [224, 224]\n",
      " spacing: [1.2, 1.2]\n",
      " batchsize: 1\n",
      " Scaler: MinMax\n",
      " Images: 270 \n",
      " Augment: False \n",
      " Thread workers: 32\n",
      "2022-05-12 10:00:58,678 INFO x_sliced: 350, example: data/interim/patient064_4d_t0_z0_img.nrrd\n",
      "2022-05-12 10:00:58,678 INFO inference mode, no masks given, will use x as placeholder for y in fix processing\n",
      "2022-05-12 10:00:58,679 INFO Create DataGenerator\n",
      "2022-05-12 10:00:58,679 INFO Datagenerator created with: \n",
      " shape: [224, 224]\n",
      " spacing: [1.2, 1.2]\n",
      " batchsize: 1\n",
      " Scaler: MinMax\n",
      " Images: 350 \n",
      " Augment: False \n",
      " Thread workers: 32\n",
      "2022-05-12 10:00:58,957 INFO x_sliced: 270, example: data/interim/patient066_4d_t0_z0_img.nrrd\n",
      "2022-05-12 10:00:58,957 INFO inference mode, no masks given, will use x as placeholder for y in fix processing\n",
      "2022-05-12 10:00:58,957 INFO Create DataGenerator\n",
      "2022-05-12 10:00:58,958 INFO Datagenerator created with: \n",
      " shape: [224, 224]\n",
      " spacing: [1.2, 1.2]\n",
      " batchsize: 1\n",
      " Scaler: MinMax\n",
      " Images: 270 \n",
      " Augment: False \n",
      " Thread workers: 32\n",
      "2022-05-12 10:00:59,189 INFO x_sliced: 240, example: data/interim/patient072_4d_t0_z0_img.nrrd\n",
      "2022-05-12 10:00:59,189 INFO inference mode, no masks given, will use x as placeholder for y in fix processing\n",
      "2022-05-12 10:00:59,189 INFO Create DataGenerator\n",
      "2022-05-12 10:00:59,190 INFO Datagenerator created with: \n",
      " shape: [224, 224]\n",
      " spacing: [1.2, 1.2]\n",
      " batchsize: 1\n",
      " Scaler: MinMax\n",
      " Images: 240 \n",
      " Augment: False \n",
      " Thread workers: 32\n",
      "2022-05-12 10:00:59,460 INFO x_sliced: 200, example: data/interim/patient077_4d_t0_z0_img.nrrd\n",
      "2022-05-12 10:00:59,461 INFO inference mode, no masks given, will use x as placeholder for y in fix processing\n",
      "2022-05-12 10:00:59,461 INFO Create DataGenerator\n",
      "2022-05-12 10:00:59,461 INFO Datagenerator created with: \n",
      " shape: [224, 224]\n",
      " spacing: [1.2, 1.2]\n",
      " batchsize: 1\n",
      " Scaler: MinMax\n",
      " Images: 200 \n",
      " Augment: False \n",
      " Thread workers: 32\n",
      "2022-05-12 10:00:59,834 INFO x_sliced: 270, example: data/interim/patient079_4d_t0_z0_img.nrrd\n",
      "2022-05-12 10:00:59,834 INFO inference mode, no masks given, will use x as placeholder for y in fix processing\n",
      "2022-05-12 10:00:59,835 INFO Create DataGenerator\n",
      "2022-05-12 10:00:59,835 INFO Datagenerator created with: \n",
      " shape: [224, 224]\n",
      " spacing: [1.2, 1.2]\n",
      " batchsize: 1\n",
      " Scaler: MinMax\n",
      " Images: 270 \n",
      " Augment: False \n",
      " Thread workers: 32\n",
      "2022-05-12 10:01:00,415 INFO x_sliced: 420, example: data/interim/patient084_4d_t0_z0_img.nrrd\n",
      "2022-05-12 10:01:00,415 INFO inference mode, no masks given, will use x as placeholder for y in fix processing\n",
      "2022-05-12 10:01:00,416 INFO Create DataGenerator\n",
      "2022-05-12 10:01:00,416 INFO Datagenerator created with: \n",
      " shape: [224, 224]\n",
      " spacing: [1.2, 1.2]\n",
      " batchsize: 1\n",
      " Scaler: MinMax\n",
      " Images: 420 \n",
      " Augment: False \n",
      " Thread workers: 32\n",
      "2022-05-12 10:01:00,594 INFO x_sliced: 133, example: data/interim/patient086_4d_t0_z0_img.nrrd\n",
      "2022-05-12 10:01:00,595 INFO inference mode, no masks given, will use x as placeholder for y in fix processing\n",
      "2022-05-12 10:01:00,595 INFO Create DataGenerator\n",
      "2022-05-12 10:01:00,596 INFO Datagenerator created with: \n",
      " shape: [224, 224]\n",
      " spacing: [1.2, 1.2]\n",
      " batchsize: 1\n",
      " Scaler: MinMax\n",
      " Images: 133 \n",
      " Augment: False \n",
      " Thread workers: 32\n",
      "2022-05-12 10:01:00,830 INFO x_sliced: 225, example: data/interim/patient092_4d_t0_z0_img.nrrd\n",
      "2022-05-12 10:01:00,831 INFO inference mode, no masks given, will use x as placeholder for y in fix processing\n",
      "2022-05-12 10:01:00,831 INFO Create DataGenerator\n",
      "2022-05-12 10:01:00,832 INFO Datagenerator created with: \n",
      " shape: [224, 224]\n",
      " spacing: [1.2, 1.2]\n",
      " batchsize: 1\n",
      " Scaler: MinMax\n",
      " Images: 225 \n",
      " Augment: False \n",
      " Thread workers: 32\n",
      "2022-05-12 10:01:01,160 INFO x_sliced: 240, example: data/interim/patient097_4d_t0_z0_img.nrrd\n",
      "2022-05-12 10:01:01,161 INFO inference mode, no masks given, will use x as placeholder for y in fix processing\n",
      "2022-05-12 10:01:01,161 INFO Create DataGenerator\n",
      "2022-05-12 10:01:01,162 INFO Datagenerator created with: \n",
      " shape: [224, 224]\n",
      " spacing: [1.2, 1.2]\n",
      " batchsize: 1\n",
      " Scaler: MinMax\n",
      " Images: 240 \n",
      " Augment: False \n",
      " Thread workers: 32\n",
      "2022-05-12 10:01:01,486 INFO x_sliced: 304, example: data/interim/patient099_4d_t0_z0_img.nrrd\n",
      "2022-05-12 10:01:01,486 INFO inference mode, no masks given, will use x as placeholder for y in fix processing\n",
      "2022-05-12 10:01:01,486 INFO Create DataGenerator\n",
      "2022-05-12 10:01:01,487 INFO Datagenerator created with: \n",
      " shape: [224, 224]\n",
      " spacing: [1.2, 1.2]\n",
      " batchsize: 1\n",
      " Scaler: MinMax\n",
      " Images: 304 \n",
      " Augment: False \n",
      " Thread workers: 32\n",
      "2022-05-12 10:01:01,652 INFO size: (232, 256, 10, 28)\n",
      "2022-05-12 10:01:01,652 INFO spacing: (1.3671875, 1.3671875, 10.0, 1.0)\n",
      "2022-05-12 10:01:01,652 INFO origin: (0.0, 0.0, 0.0, 0.0)\n",
      "2022-05-12 10:01:01,652 INFO direction: (1.0, 0.0, 0.0, 0.0, 0.0, 1.0, 0.0, 0.0, 0.0, 0.0, 1.0, 0.0, 0.0, 0.0, 0.0, 1.0)\n",
      "2022-05-12 10:01:01,653 INFO pixel type: 16-bit signed integer\n",
      "2022-05-12 10:01:01,653 INFO number of pixel components: 1\n",
      "2022-05-12 10:01:04,424 INFO size: (232, 256, 11, 28)\n",
      "2022-05-12 10:01:04,424 INFO spacing: (1.7578125, 1.7578125, 10.0, 1.0)\n",
      "2022-05-12 10:01:04,424 INFO origin: (0.0, 0.0, 0.0, 0.0)\n",
      "2022-05-12 10:01:04,425 INFO direction: (1.0, 0.0, 0.0, 0.0, 0.0, 1.0, 0.0, 0.0, 0.0, 0.0, 1.0, 0.0, 0.0, 0.0, 0.0, 1.0)\n",
      "2022-05-12 10:01:04,425 INFO pixel type: 16-bit signed integer\n",
      "2022-05-12 10:01:04,425 INFO number of pixel components: 1\n"
     ]
    },
    {
     "name": "stdout",
     "output_type": "stream",
     "text": [
      "(224, 224, 10, 28)\n",
      "(1.2, 1.2, 10.0, 1)\n",
      "(224, 224, 11, 28)\n",
      "(1.2, 1.2, 10.0, 1)\n"
     ]
    },
    {
     "name": "stderr",
     "output_type": "stream",
     "text": [
      "2022-05-12 10:01:06,842 INFO size: (184, 256, 10, 30)\n",
      "2022-05-12 10:01:06,842 INFO spacing: (1.5625, 1.5625, 10.0, 1.0)\n",
      "2022-05-12 10:01:06,842 INFO origin: (0.0, 0.0, 0.0, 0.0)\n",
      "2022-05-12 10:01:06,843 INFO direction: (1.0, 0.0, 0.0, 0.0, 0.0, 1.0, 0.0, 0.0, 0.0, 0.0, 1.0, 0.0, 0.0, 0.0, 0.0, 1.0)\n",
      "2022-05-12 10:01:06,843 INFO pixel type: 32-bit float\n",
      "2022-05-12 10:01:06,843 INFO number of pixel components: 1\n",
      "2022-05-12 10:01:09,027 INFO size: (216, 256, 9, 19)\n",
      "2022-05-12 10:01:09,028 INFO spacing: (1.5625, 1.5625, 10.0, 1.0)\n",
      "2022-05-12 10:01:09,028 INFO origin: (0.0, 0.0, 0.0, 0.0)\n",
      "2022-05-12 10:01:09,028 INFO direction: (1.0, 0.0, 0.0, 0.0, 0.0, 1.0, 0.0, 0.0, 0.0, 0.0, 1.0, 0.0, 0.0, 0.0, 0.0, 1.0)\n",
      "2022-05-12 10:01:09,029 INFO pixel type: 32-bit float\n",
      "2022-05-12 10:01:09,029 INFO number of pixel components: 1\n"
     ]
    },
    {
     "name": "stdout",
     "output_type": "stream",
     "text": [
      "(224, 224, 10, 30)\n",
      "(1.2, 1.2, 10.0, 1)\n",
      "(224, 224, 9, 19)\n",
      "(1.2, 1.2, 10.0, 1)\n"
     ]
    },
    {
     "name": "stderr",
     "output_type": "stream",
     "text": [
      "2022-05-12 10:01:10,568 INFO size: (216, 256, 11, 30)\n",
      "2022-05-12 10:01:10,569 INFO spacing: (1.4453099966049194, 1.4453099966049194, 10.0, 1.0)\n",
      "2022-05-12 10:01:10,569 INFO origin: (0.0, 0.0, 0.0, 0.0)\n",
      "2022-05-12 10:01:10,569 INFO direction: (1.0, 0.0, 0.0, 0.0, 0.0, 1.0, 0.0, 0.0, 0.0, 0.0, 1.0, 0.0, 0.0, 0.0, 0.0, 1.0)\n",
      "2022-05-12 10:01:10,569 INFO pixel type: 32-bit float\n",
      "2022-05-12 10:01:10,570 INFO number of pixel components: 1\n",
      "2022-05-12 10:01:12,967 INFO size: (208, 256, 8, 28)\n",
      "2022-05-12 10:01:12,968 INFO spacing: (1.5625, 1.5625, 10.0, 1.0)\n",
      "2022-05-12 10:01:12,968 INFO origin: (0.0, 0.0, 0.0, 0.0)\n",
      "2022-05-12 10:01:12,968 INFO direction: (1.0, 0.0, 0.0, 0.0, 0.0, 1.0, 0.0, 0.0, 0.0, 0.0, 1.0, 0.0, 0.0, 0.0, 0.0, 1.0)\n",
      "2022-05-12 10:01:12,969 INFO pixel type: 16-bit signed integer\n",
      "2022-05-12 10:01:12,969 INFO number of pixel components: 1\n"
     ]
    },
    {
     "name": "stdout",
     "output_type": "stream",
     "text": [
      "(224, 224, 11, 30)\n",
      "(1.2, 1.2, 10.0, 1)\n"
     ]
    },
    {
     "name": "stderr",
     "output_type": "stream",
     "text": [
      "2022-05-12 10:01:14,689 INFO size: (216, 256, 10, 28)\n",
      "2022-05-12 10:01:14,689 INFO spacing: (1.3671875, 1.3671875, 10.0, 1.0)\n",
      "2022-05-12 10:01:14,689 INFO origin: (0.0, 0.0, 0.0, 0.0)\n",
      "2022-05-12 10:01:14,689 INFO direction: (1.0, 0.0, 0.0, 0.0, 0.0, 1.0, 0.0, 0.0, 0.0, 0.0, 1.0, 0.0, 0.0, 0.0, 0.0, 1.0)\n",
      "2022-05-12 10:01:14,690 INFO pixel type: 16-bit signed integer\n",
      "2022-05-12 10:01:14,690 INFO number of pixel components: 1\n"
     ]
    },
    {
     "name": "stdout",
     "output_type": "stream",
     "text": [
      "(224, 224, 8, 28)\n",
      "(1.2, 1.2, 10.0, 1)\n"
     ]
    },
    {
     "name": "stderr",
     "output_type": "stream",
     "text": [
      "2022-05-12 10:01:16,796 INFO size: (240, 256, 10, 30)\n",
      "2022-05-12 10:01:16,797 INFO spacing: (1.5625, 1.5625, 10.0, 1.0)\n",
      "2022-05-12 10:01:16,797 INFO origin: (0.0, 0.0, 0.0, 0.0)\n",
      "2022-05-12 10:01:16,797 INFO direction: (1.0, 0.0, 0.0, 0.0, 0.0, 1.0, 0.0, 0.0, 0.0, 0.0, 1.0, 0.0, 0.0, 0.0, 0.0, 1.0)\n",
      "2022-05-12 10:01:16,798 INFO pixel type: 16-bit signed integer\n",
      "2022-05-12 10:01:16,798 INFO number of pixel components: 1\n"
     ]
    },
    {
     "name": "stdout",
     "output_type": "stream",
     "text": [
      "(224, 224, 10, 28)\n",
      "(1.2, 1.2, 10.0, 1)\n"
     ]
    },
    {
     "name": "stderr",
     "output_type": "stream",
     "text": [
      "2022-05-12 10:01:19,017 INFO size: (216, 256, 7, 30)\n",
      "2022-05-12 10:01:19,017 INFO spacing: (1.875, 1.875, 10.0, 1.0)\n",
      "2022-05-12 10:01:19,017 INFO origin: (0.0, 0.0, 0.0, 0.0)\n",
      "2022-05-12 10:01:19,018 INFO direction: (1.0, 0.0, 0.0, 0.0, 0.0, 1.0, 0.0, 0.0, 0.0, 0.0, 1.0, 0.0, 0.0, 0.0, 0.0, 1.0)\n",
      "2022-05-12 10:01:19,018 INFO pixel type: 32-bit float\n",
      "2022-05-12 10:01:19,018 INFO number of pixel components: 1\n"
     ]
    },
    {
     "name": "stdout",
     "output_type": "stream",
     "text": [
      "(224, 224, 10, 30)\n",
      "(1.2, 1.2, 10.0, 1)\n",
      "(224, 224, 7, 30)\n",
      "(1.2, 1.2, 10.0, 1)\n"
     ]
    },
    {
     "name": "stderr",
     "output_type": "stream",
     "text": [
      "2022-05-12 10:01:20,767 INFO size: (208, 256, 9, 28)\n",
      "2022-05-12 10:01:20,768 INFO spacing: (1.6406199932098389, 1.6406199932098389, 10.0, 1.0)\n",
      "2022-05-12 10:01:20,768 INFO origin: (0.0, 0.0, 0.0, 0.0)\n",
      "2022-05-12 10:01:20,768 INFO direction: (1.0, 0.0, 0.0, 0.0, 0.0, 1.0, 0.0, 0.0, 0.0, 0.0, 1.0, 0.0, 0.0, 0.0, 0.0, 1.0)\n",
      "2022-05-12 10:01:20,769 INFO pixel type: 32-bit float\n",
      "2022-05-12 10:01:20,769 INFO number of pixel components: 1\n",
      "2022-05-12 10:01:22,655 INFO size: (256, 216, 9, 30)\n",
      "2022-05-12 10:01:22,656 INFO spacing: (1.3671875, 1.3671875, 10.0, 1.0)\n",
      "2022-05-12 10:01:22,656 INFO origin: (0.0, 0.0, 0.0, 0.0)\n",
      "2022-05-12 10:01:22,656 INFO direction: (1.0, 0.0, 0.0, 0.0, 0.0, 1.0, 0.0, 0.0, 0.0, 0.0, 1.0, 0.0, 0.0, 0.0, 0.0, 1.0)\n",
      "2022-05-12 10:01:22,657 INFO pixel type: 16-bit signed integer\n",
      "2022-05-12 10:01:22,657 INFO number of pixel components: 1\n"
     ]
    },
    {
     "name": "stdout",
     "output_type": "stream",
     "text": [
      "(224, 224, 9, 28)\n",
      "(1.2, 1.2, 10.0, 1)\n",
      "(224, 224, 9, 30)\n",
      "(1.2, 1.2, 10.0, 1)\n"
     ]
    },
    {
     "name": "stderr",
     "output_type": "stream",
     "text": [
      "2022-05-12 10:01:24,709 INFO size: (256, 216, 9, 30)\n",
      "2022-05-12 10:01:24,710 INFO spacing: (1.5625, 1.5625, 10.0, 1.0)\n",
      "2022-05-12 10:01:24,710 INFO origin: (0.0, 0.0, 0.0, 0.0)\n",
      "2022-05-12 10:01:24,710 INFO direction: (1.0, 0.0, 0.0, 0.0, 0.0, 1.0, 0.0, 0.0, 0.0, 0.0, 1.0, 0.0, 0.0, 0.0, 0.0, 1.0)\n",
      "2022-05-12 10:01:24,710 INFO pixel type: 32-bit float\n",
      "2022-05-12 10:01:24,711 INFO number of pixel components: 1\n",
      "2022-05-12 10:01:26,731 INFO size: (216, 256, 8, 20)\n",
      "2022-05-12 10:01:26,732 INFO spacing: (1.4843800067901611, 1.4843800067901611, 10.0, 1.0)\n",
      "2022-05-12 10:01:26,732 INFO origin: (0.0, 0.0, 0.0, 0.0)\n",
      "2022-05-12 10:01:26,732 INFO direction: (1.0, 0.0, 0.0, 0.0, 0.0, 1.0, 0.0, 0.0, 0.0, 0.0, 1.0, 0.0, 0.0, 0.0, 0.0, 1.0)\n",
      "2022-05-12 10:01:26,733 INFO pixel type: 32-bit float\n",
      "2022-05-12 10:01:26,733 INFO number of pixel components: 1\n"
     ]
    },
    {
     "name": "stdout",
     "output_type": "stream",
     "text": [
      "(224, 224, 9, 30)\n",
      "(1.2, 1.2, 10.0, 1)\n",
      "(224, 224, 8, 20)\n",
      "(1.2, 1.2, 10.0, 1)\n"
     ]
    },
    {
     "name": "stderr",
     "output_type": "stream",
     "text": [
      "2022-05-12 10:01:28,540 INFO size: (428, 512, 8, 25)\n",
      "2022-05-12 10:01:28,540 INFO spacing: (0.703125, 0.703125, 10.0, 1.0)\n",
      "2022-05-12 10:01:28,541 INFO origin: (0.0, 0.0, 0.0, 0.0)\n",
      "2022-05-12 10:01:28,541 INFO direction: (1.0, 0.0, 0.0, 0.0, 0.0, 1.0, 0.0, 0.0, 0.0, 0.0, 1.0, 0.0, 0.0, 0.0, 0.0, 1.0)\n",
      "2022-05-12 10:01:28,541 INFO pixel type: 32-bit float\n",
      "2022-05-12 10:01:28,541 INFO number of pixel components: 1\n"
     ]
    },
    {
     "name": "stdout",
     "output_type": "stream",
     "text": [
      "(224, 224, 8, 25)\n",
      "(1.2, 1.2, 10.0, 1)\n"
     ]
    },
    {
     "name": "stderr",
     "output_type": "stream",
     "text": [
      "2022-05-12 10:01:30,213 INFO size: (256, 216, 9, 30)\n",
      "2022-05-12 10:01:30,214 INFO spacing: (1.3671900033950806, 1.3671900033950806, 10.0, 1.0)\n",
      "2022-05-12 10:01:30,214 INFO origin: (0.0, 0.0, 0.0, 0.0)\n",
      "2022-05-12 10:01:30,215 INFO direction: (1.0, 0.0, 0.0, 0.0, 0.0, 1.0, 0.0, 0.0, 0.0, 0.0, 1.0, 0.0, 0.0, 0.0, 0.0, 1.0)\n",
      "2022-05-12 10:01:30,215 INFO pixel type: 32-bit float\n",
      "2022-05-12 10:01:30,215 INFO number of pixel components: 1\n",
      "2022-05-12 10:01:32,240 INFO size: (216, 256, 10, 35)\n",
      "2022-05-12 10:01:32,241 INFO spacing: (1.4453125, 1.4453125, 10.0, 1.0)\n",
      "2022-05-12 10:01:32,241 INFO origin: (0.0, 0.0, 0.0, 0.0)\n",
      "2022-05-12 10:01:32,241 INFO direction: (1.0, 0.0, 0.0, 0.0, 0.0, 1.0, 0.0, 0.0, 0.0, 0.0, 1.0, 0.0, 0.0, 0.0, 0.0, 1.0)\n",
      "2022-05-12 10:01:32,242 INFO pixel type: 16-bit signed integer\n",
      "2022-05-12 10:01:32,242 INFO number of pixel components: 1\n"
     ]
    },
    {
     "name": "stdout",
     "output_type": "stream",
     "text": [
      "(224, 224, 9, 30)\n",
      "(1.2, 1.2, 10.0, 1)\n",
      "(224, 224, 10, 35)\n",
      "(1.2, 1.2, 10.0, 1)\n"
     ]
    },
    {
     "name": "stderr",
     "output_type": "stream",
     "text": [
      "2022-05-12 10:01:34,829 INFO size: (240, 256, 9, 30)\n",
      "2022-05-12 10:01:34,829 INFO spacing: (1.3671875, 1.3671875, 10.0, 1.0)\n",
      "2022-05-12 10:01:34,830 INFO origin: (0.0, 0.0, 0.0, 0.0)\n",
      "2022-05-12 10:01:34,830 INFO direction: (1.0, 0.0, 0.0, 0.0, 0.0, 1.0, 0.0, 0.0, 0.0, 0.0, 1.0, 0.0, 0.0, 0.0, 0.0, 1.0)\n",
      "2022-05-12 10:01:34,830 INFO pixel type: 16-bit signed integer\n",
      "2022-05-12 10:01:34,830 INFO number of pixel components: 1\n",
      "2022-05-12 10:01:36,815 INFO size: (216, 256, 8, 30)\n",
      "2022-05-12 10:01:36,815 INFO spacing: (1.5625, 1.5625, 10.0, 1.0)\n",
      "2022-05-12 10:01:36,815 INFO origin: (0.0, 0.0, 0.0, 0.0)\n",
      "2022-05-12 10:01:36,816 INFO direction: (1.0, 0.0, 0.0, 0.0, 0.0, 1.0, 0.0, 0.0, 0.0, 0.0, 1.0, 0.0, 0.0, 0.0, 0.0, 1.0)\n",
      "2022-05-12 10:01:36,816 INFO pixel type: 16-bit signed integer\n",
      "2022-05-12 10:01:36,816 INFO number of pixel components: 1\n"
     ]
    },
    {
     "name": "stdout",
     "output_type": "stream",
     "text": [
      "(224, 224, 9, 30)\n",
      "(1.2, 1.2, 10.0, 1)\n",
      "(224, 224, 8, 30)\n",
      "(1.2, 1.2, 10.0, 1)\n"
     ]
    },
    {
     "name": "stderr",
     "output_type": "stream",
     "text": [
      "2022-05-12 10:01:38,762 INFO size: (214, 256, 8, 25)\n",
      "2022-05-12 10:01:38,762 INFO spacing: (1.40625, 1.40625, 10.0, 1.0)\n",
      "2022-05-12 10:01:38,763 INFO origin: (0.0, 0.0, 0.0, 0.0)\n",
      "2022-05-12 10:01:38,763 INFO direction: (1.0, 0.0, 0.0, 0.0, 0.0, 1.0, 0.0, 0.0, 0.0, 0.0, 1.0, 0.0, 0.0, 0.0, 0.0, 1.0)\n",
      "2022-05-12 10:01:38,763 INFO pixel type: 32-bit float\n",
      "2022-05-12 10:01:38,764 INFO number of pixel components: 1\n"
     ]
    },
    {
     "name": "stdout",
     "output_type": "stream",
     "text": [
      "(224, 224, 8, 25)\n",
      "(1.2, 1.2, 10.0, 1)\n"
     ]
    },
    {
     "name": "stderr",
     "output_type": "stream",
     "text": [
      "2022-05-12 10:01:40,429 INFO size: (216, 256, 9, 30)\n",
      "2022-05-12 10:01:40,430 INFO spacing: (1.3671900033950806, 1.3671900033950806, 10.0, 1.0)\n",
      "2022-05-12 10:01:40,430 INFO origin: (0.0, 0.0, 0.0, 0.0)\n",
      "2022-05-12 10:01:40,430 INFO direction: (1.0, 0.0, 0.0, 0.0, 0.0, 1.0, 0.0, 0.0, 0.0, 0.0, 1.0, 0.0, 0.0, 0.0, 0.0, 1.0)\n",
      "2022-05-12 10:01:40,431 INFO pixel type: 32-bit float\n",
      "2022-05-12 10:01:40,431 INFO number of pixel components: 1\n"
     ]
    },
    {
     "name": "stdout",
     "output_type": "stream",
     "text": [
      "(224, 224, 9, 30)\n",
      "(1.2, 1.2, 10.0, 1)\n"
     ]
    },
    {
     "name": "stderr",
     "output_type": "stream",
     "text": [
      "2022-05-12 10:01:42,685 INFO size: (208, 256, 12, 35)\n",
      "2022-05-12 10:01:42,685 INFO spacing: (1.3671900033950806, 1.3671900033950806, 5.0, 1.0)\n",
      "2022-05-12 10:01:42,685 INFO origin: (0.0, 0.0, 0.0, 0.0)\n",
      "2022-05-12 10:01:42,686 INFO direction: (1.0, 0.0, 0.0, 0.0, 0.0, 1.0, 0.0, 0.0, 0.0, 0.0, 1.0, 0.0, 0.0, 0.0, 0.0, 1.0)\n",
      "2022-05-12 10:01:42,686 INFO pixel type: 32-bit float\n",
      "2022-05-12 10:01:42,686 INFO number of pixel components: 1\n",
      "2022-05-12 10:01:45,605 INFO size: (192, 256, 7, 19)\n",
      "2022-05-12 10:01:45,605 INFO spacing: (1.5625, 1.5625, 10.0, 1.0)\n",
      "2022-05-12 10:01:45,606 INFO origin: (0.0, 0.0, 0.0, 0.0)\n",
      "2022-05-12 10:01:45,606 INFO direction: (1.0, 0.0, 0.0, 0.0, 0.0, 1.0, 0.0, 0.0, 0.0, 0.0, 1.0, 0.0, 0.0, 0.0, 0.0, 1.0)\n",
      "2022-05-12 10:01:45,606 INFO pixel type: 32-bit float\n",
      "2022-05-12 10:01:45,607 INFO number of pixel components: 1\n"
     ]
    },
    {
     "name": "stdout",
     "output_type": "stream",
     "text": [
      "(224, 224, 12, 35)\n",
      "(1.2, 1.2, 5.0, 1)\n"
     ]
    },
    {
     "name": "stderr",
     "output_type": "stream",
     "text": [
      "2022-05-12 10:01:46,700 INFO size: (174, 208, 15, 15)\n",
      "2022-05-12 10:01:46,700 INFO spacing: (1.6826900243759155, 1.6826900243759155, 5.0, 1.0)\n",
      "2022-05-12 10:01:46,701 INFO origin: (0.0, 0.0, 0.0, 0.0)\n",
      "2022-05-12 10:01:46,701 INFO direction: (1.0, 0.0, 0.0, 0.0, 0.0, 1.0, 0.0, 0.0, 0.0, 0.0, 1.0, 0.0, 0.0, 0.0, 0.0, 1.0)\n",
      "2022-05-12 10:01:46,701 INFO pixel type: 32-bit float\n",
      "2022-05-12 10:01:46,701 INFO number of pixel components: 1\n"
     ]
    },
    {
     "name": "stdout",
     "output_type": "stream",
     "text": [
      "(224, 224, 7, 19)\n",
      "(1.2, 1.2, 10.0, 1)\n",
      "(224, 224, 15, 15)\n",
      "(1.2, 1.2, 5.0, 1)\n"
     ]
    },
    {
     "name": "stderr",
     "output_type": "stream",
     "text": [
      "2022-05-12 10:01:48,491 INFO size: (216, 256, 8, 30)\n",
      "2022-05-12 10:01:48,491 INFO spacing: (1.4843800067901611, 1.4843800067901611, 10.0, 1.0)\n",
      "2022-05-12 10:01:48,492 INFO origin: (0.0, 0.0, 0.0, 0.0)\n",
      "2022-05-12 10:01:48,492 INFO direction: (1.0, 0.0, 0.0, 0.0, 0.0, 1.0, 0.0, 0.0, 0.0, 0.0, 1.0, 0.0, 0.0, 0.0, 0.0, 1.0)\n",
      "2022-05-12 10:01:48,492 INFO pixel type: 32-bit float\n",
      "2022-05-12 10:01:48,492 INFO number of pixel components: 1\n"
     ]
    },
    {
     "name": "stdout",
     "output_type": "stream",
     "text": [
      "(224, 224, 8, 30)\n",
      "(1.2, 1.2, 10.0, 1)\n"
     ]
    },
    {
     "name": "stderr",
     "output_type": "stream",
     "text": [
      "2022-05-12 10:01:50,417 INFO size: (154, 224, 16, 19)\n",
      "2022-05-12 10:01:50,417 INFO spacing: (1.7857099771499634, 1.7857099771499634, 5.0, 1.0)\n",
      "2022-05-12 10:01:50,418 INFO origin: (0.0, 0.0, 0.0, 0.0)\n",
      "2022-05-12 10:01:50,418 INFO direction: (1.0, 0.0, 0.0, 0.0, 0.0, 1.0, 0.0, 0.0, 0.0, 0.0, 1.0, 0.0, 0.0, 0.0, 0.0, 1.0)\n",
      "2022-05-12 10:01:50,419 INFO pixel type: 32-bit float\n",
      "2022-05-12 10:01:50,419 INFO number of pixel components: 1\n",
      "2022-05-12 10:01:52,509 INFO expect 25 patients for validation in fold 2\n",
      "2022-05-12 10:01:52,510 INFO 4d files filtered: 25\n",
      "2022-05-12 10:01:52,510 INFO Create model\n"
     ]
    },
    {
     "name": "stdout",
     "output_type": "stream",
     "text": [
      "(224, 224, 16, 19)\n",
      "(1.2, 1.2, 5.0, 1)\n",
      "(None, 224, 224, 1)\n"
     ]
    },
    {
     "name": "stderr",
     "output_type": "stream",
     "text": [
      "/home/sven/anaconda3/envs/dcmr/lib/python3.8/site-packages/keras/optimizer_v2/adam.py:105: UserWarning: The `lr` argument is deprecated, use `learning_rate` instead.\n",
      "  super(Adam, self).__init__(name, **kwargs)\n",
      "2022-05-12 10:01:53,129 INFO loaded model weights as h5 file\n",
      "2022-05-12 10:01:53,295 INFO found 25 4D files, will return one generator per file with t x z slices\n",
      "2022-05-12 10:01:53,611 INFO x_sliced: 300, example: data/interim/patient003_4d_t0_z0_img.nrrd\n",
      "2022-05-12 10:01:53,612 INFO inference mode, no masks given, will use x as placeholder for y in fix processing\n",
      "2022-05-12 10:01:53,612 INFO Create DataGenerator\n",
      "2022-05-12 10:01:53,613 INFO Datagenerator created with: \n",
      " shape: [224, 224]\n",
      " spacing: [1.2, 1.2]\n",
      " batchsize: 1\n",
      " Scaler: MinMax\n",
      " Images: 300 \n",
      " Augment: False \n",
      " Thread workers: 32\n",
      "2022-05-12 10:01:53,902 INFO x_sliced: 300, example: data/interim/patient005_4d_t0_z0_img.nrrd\n",
      "2022-05-12 10:01:53,902 INFO inference mode, no masks given, will use x as placeholder for y in fix processing\n",
      "2022-05-12 10:01:53,902 INFO Create DataGenerator\n",
      "2022-05-12 10:01:53,903 INFO Datagenerator created with: \n",
      " shape: [224, 224]\n",
      " spacing: [1.2, 1.2]\n",
      " batchsize: 1\n",
      " Scaler: MinMax\n",
      " Images: 300 \n",
      " Augment: False \n",
      " Thread workers: 32\n",
      "2022-05-12 10:01:54,304 INFO x_sliced: 280, example: data/interim/patient010_4d_t0_z0_img.nrrd\n",
      "2022-05-12 10:01:54,305 INFO inference mode, no masks given, will use x as placeholder for y in fix processing\n",
      "2022-05-12 10:01:54,305 INFO Create DataGenerator\n",
      "2022-05-12 10:01:54,306 INFO Datagenerator created with: \n",
      " shape: [224, 224]\n",
      " spacing: [1.2, 1.2]\n",
      " batchsize: 1\n",
      " Scaler: MinMax\n",
      " Images: 280 \n",
      " Augment: False \n",
      " Thread workers: 32\n",
      "2022-05-12 10:01:54,734 INFO x_sliced: 300, example: data/interim/patient014_4d_t0_z0_img.nrrd\n",
      "2022-05-12 10:01:54,735 INFO inference mode, no masks given, will use x as placeholder for y in fix processing\n",
      "2022-05-12 10:01:54,735 INFO Create DataGenerator\n",
      "2022-05-12 10:01:54,736 INFO Datagenerator created with: \n",
      " shape: [224, 224]\n",
      " spacing: [1.2, 1.2]\n",
      " batchsize: 1\n",
      " Scaler: MinMax\n",
      " Images: 300 \n",
      " Augment: False \n",
      " Thread workers: 32\n",
      "2022-05-12 10:01:54,964 INFO x_sliced: 160, example: data/interim/patient020_4d_t0_z0_img.nrrd\n",
      "2022-05-12 10:01:54,965 INFO inference mode, no masks given, will use x as placeholder for y in fix processing\n",
      "2022-05-12 10:01:54,965 INFO Create DataGenerator\n",
      "2022-05-12 10:01:54,965 INFO Datagenerator created with: \n",
      " shape: [224, 224]\n",
      " spacing: [1.2, 1.2]\n",
      " batchsize: 1\n",
      " Scaler: MinMax\n",
      " Images: 160 \n",
      " Augment: False \n",
      " Thread workers: 32\n",
      "2022-05-12 10:01:55,183 INFO x_sliced: 225, example: data/interim/patient023_4d_t0_z0_img.nrrd\n",
      "2022-05-12 10:01:55,183 INFO inference mode, no masks given, will use x as placeholder for y in fix processing\n",
      "2022-05-12 10:01:55,183 INFO Create DataGenerator\n",
      "2022-05-12 10:01:55,184 INFO Datagenerator created with: \n",
      " shape: [224, 224]\n",
      " spacing: [1.2, 1.2]\n",
      " batchsize: 1\n",
      " Scaler: MinMax\n",
      " Images: 225 \n",
      " Augment: False \n",
      " Thread workers: 32\n",
      "2022-05-12 10:01:55,419 INFO x_sliced: 225, example: data/interim/patient025_4d_t0_z0_img.nrrd\n",
      "2022-05-12 10:01:55,419 INFO inference mode, no masks given, will use x as placeholder for y in fix processing\n",
      "2022-05-12 10:01:55,420 INFO Create DataGenerator\n",
      "2022-05-12 10:01:55,420 INFO Datagenerator created with: \n",
      " shape: [224, 224]\n",
      " spacing: [1.2, 1.2]\n",
      " batchsize: 1\n",
      " Scaler: MinMax\n",
      " Images: 225 \n",
      " Augment: False \n",
      " Thread workers: 32\n",
      "2022-05-12 10:01:55,771 INFO x_sliced: 350, example: data/interim/patient030_4d_t0_z0_img.nrrd\n",
      "2022-05-12 10:01:55,771 INFO inference mode, no masks given, will use x as placeholder for y in fix processing\n",
      "2022-05-12 10:01:55,771 INFO Create DataGenerator\n",
      "2022-05-12 10:01:55,772 INFO Datagenerator created with: \n",
      " shape: [224, 224]\n",
      " spacing: [1.2, 1.2]\n",
      " batchsize: 1\n",
      " Scaler: MinMax\n",
      " Images: 350 \n",
      " Augment: False \n",
      " Thread workers: 32\n",
      "2022-05-12 10:01:56,214 INFO x_sliced: 300, example: data/interim/patient034_4d_t0_z0_img.nrrd\n",
      "2022-05-12 10:01:56,214 INFO inference mode, no masks given, will use x as placeholder for y in fix processing\n",
      "2022-05-12 10:01:56,215 INFO Create DataGenerator\n",
      "2022-05-12 10:01:56,215 INFO Datagenerator created with: \n",
      " shape: [224, 224]\n",
      " spacing: [1.2, 1.2]\n",
      " batchsize: 1\n",
      " Scaler: MinMax\n",
      " Images: 300 \n",
      " Augment: False \n",
      " Thread workers: 32\n",
      "2022-05-12 10:01:56,732 INFO x_sliced: 350, example: data/interim/patient040_4d_t0_z0_img.nrrd\n",
      "2022-05-12 10:01:56,733 INFO inference mode, no masks given, will use x as placeholder for y in fix processing\n",
      "2022-05-12 10:01:56,733 INFO Create DataGenerator\n",
      "2022-05-12 10:01:56,734 INFO Datagenerator created with: \n",
      " shape: [224, 224]\n",
      " spacing: [1.2, 1.2]\n",
      " batchsize: 1\n",
      " Scaler: MinMax\n",
      " Images: 350 \n",
      " Augment: False \n",
      " Thread workers: 32\n",
      "2022-05-12 10:01:56,909 INFO x_sliced: 156, example: data/interim/patient043_4d_t0_z0_img.nrrd\n",
      "2022-05-12 10:01:56,909 INFO inference mode, no masks given, will use x as placeholder for y in fix processing\n",
      "2022-05-12 10:01:56,909 INFO Create DataGenerator\n",
      "2022-05-12 10:01:56,910 INFO Datagenerator created with: \n",
      " shape: [224, 224]\n",
      " spacing: [1.2, 1.2]\n",
      " batchsize: 1\n",
      " Scaler: MinMax\n",
      " Images: 156 \n",
      " Augment: False \n",
      " Thread workers: 32\n",
      "2022-05-12 10:01:57,327 INFO x_sliced: 280, example: data/interim/patient045_4d_t0_z0_img.nrrd\n",
      "2022-05-12 10:01:57,327 INFO inference mode, no masks given, will use x as placeholder for y in fix processing\n",
      "2022-05-12 10:01:57,327 INFO Create DataGenerator\n",
      "2022-05-12 10:01:57,328 INFO Datagenerator created with: \n",
      " shape: [224, 224]\n",
      " spacing: [1.2, 1.2]\n",
      " batchsize: 1\n",
      " Scaler: MinMax\n",
      " Images: 280 \n",
      " Augment: False \n",
      " Thread workers: 32\n",
      "2022-05-12 10:01:57,650 INFO x_sliced: 300, example: data/interim/patient050_4d_t0_z0_img.nrrd\n",
      "2022-05-12 10:01:57,650 INFO inference mode, no masks given, will use x as placeholder for y in fix processing\n",
      "2022-05-12 10:01:57,650 INFO Create DataGenerator\n",
      "2022-05-12 10:01:57,651 INFO Datagenerator created with: \n",
      " shape: [224, 224]\n",
      " spacing: [1.2, 1.2]\n",
      " batchsize: 1\n",
      " Scaler: MinMax\n",
      " Images: 300 \n",
      " Augment: False \n",
      " Thread workers: 32\n",
      "2022-05-12 10:01:57,993 INFO x_sliced: 240, example: data/interim/patient054_4d_t0_z0_img.nrrd\n",
      "2022-05-12 10:01:57,993 INFO inference mode, no masks given, will use x as placeholder for y in fix processing\n",
      "2022-05-12 10:01:57,994 INFO Create DataGenerator\n",
      "2022-05-12 10:01:57,994 INFO Datagenerator created with: \n",
      " shape: [224, 224]\n",
      " spacing: [1.2, 1.2]\n",
      " batchsize: 1\n",
      " Scaler: MinMax\n",
      " Images: 240 \n",
      " Augment: False \n",
      " Thread workers: 32\n",
      "2022-05-12 10:01:58,381 INFO x_sliced: 270, example: data/interim/patient060_4d_t0_z0_img.nrrd\n",
      "2022-05-12 10:01:58,382 INFO inference mode, no masks given, will use x as placeholder for y in fix processing\n",
      "2022-05-12 10:01:58,382 INFO Create DataGenerator\n",
      "2022-05-12 10:01:58,382 INFO Datagenerator created with: \n",
      " shape: [224, 224]\n",
      " spacing: [1.2, 1.2]\n",
      " batchsize: 1\n",
      " Scaler: MinMax\n",
      " Images: 270 \n",
      " Augment: False \n",
      " Thread workers: 32\n",
      "2022-05-12 10:01:58,636 INFO x_sliced: 280, example: data/interim/patient063_4d_t0_z0_img.nrrd\n",
      "2022-05-12 10:01:58,636 INFO inference mode, no masks given, will use x as placeholder for y in fix processing\n",
      "2022-05-12 10:01:58,636 INFO Create DataGenerator\n",
      "2022-05-12 10:01:58,637 INFO Datagenerator created with: \n",
      " shape: [224, 224]\n",
      " spacing: [1.2, 1.2]\n",
      " batchsize: 1\n",
      " Scaler: MinMax\n",
      " Images: 280 \n",
      " Augment: False \n",
      " Thread workers: 32\n",
      "2022-05-12 10:01:58,842 INFO x_sliced: 240, example: data/interim/patient065_4d_t0_z0_img.nrrd\n",
      "2022-05-12 10:01:58,843 INFO inference mode, no masks given, will use x as placeholder for y in fix processing\n",
      "2022-05-12 10:01:58,843 INFO Create DataGenerator\n",
      "2022-05-12 10:01:58,843 INFO Datagenerator created with: \n",
      " shape: [224, 224]\n",
      " spacing: [1.2, 1.2]\n",
      " batchsize: 1\n",
      " Scaler: MinMax\n",
      " Images: 240 \n",
      " Augment: False \n",
      " Thread workers: 32\n",
      "2022-05-12 10:01:59,096 INFO x_sliced: 168, example: data/interim/patient070_4d_t0_z0_img.nrrd\n",
      "2022-05-12 10:01:59,097 INFO inference mode, no masks given, will use x as placeholder for y in fix processing\n",
      "2022-05-12 10:01:59,097 INFO Create DataGenerator\n",
      "2022-05-12 10:01:59,097 INFO Datagenerator created with: \n",
      " shape: [224, 224]\n",
      " spacing: [1.2, 1.2]\n",
      " batchsize: 1\n",
      " Scaler: MinMax\n",
      " Images: 168 \n",
      " Augment: False \n",
      " Thread workers: 32\n",
      "2022-05-12 10:01:59,485 INFO x_sliced: 240, example: data/interim/patient074_4d_t0_z0_img.nrrd\n",
      "2022-05-12 10:01:59,485 INFO inference mode, no masks given, will use x as placeholder for y in fix processing\n",
      "2022-05-12 10:01:59,486 INFO Create DataGenerator\n",
      "2022-05-12 10:01:59,486 INFO Datagenerator created with: \n",
      " shape: [224, 224]\n",
      " spacing: [1.2, 1.2]\n",
      " batchsize: 1\n",
      " Scaler: MinMax\n",
      " Images: 240 \n",
      " Augment: False \n",
      " Thread workers: 32\n",
      "2022-05-12 10:01:59,650 INFO x_sliced: 126, example: data/interim/patient080_4d_t0_z0_img.nrrd\n",
      "2022-05-12 10:01:59,650 INFO inference mode, no masks given, will use x as placeholder for y in fix processing\n",
      "2022-05-12 10:01:59,651 INFO Create DataGenerator\n",
      "2022-05-12 10:01:59,651 INFO Datagenerator created with: \n",
      " shape: [224, 224]\n",
      " spacing: [1.2, 1.2]\n",
      " batchsize: 1\n",
      " Scaler: MinMax\n",
      " Images: 126 \n",
      " Augment: False \n",
      " Thread workers: 32\n",
      "2022-05-12 10:01:59,791 INFO x_sliced: 102, example: data/interim/patient083_4d_t0_z0_img.nrrd\n",
      "2022-05-12 10:01:59,791 INFO inference mode, no masks given, will use x as placeholder for y in fix processing\n",
      "2022-05-12 10:01:59,791 INFO Create DataGenerator\n",
      "2022-05-12 10:01:59,792 INFO Datagenerator created with: \n",
      " shape: [224, 224]\n",
      " spacing: [1.2, 1.2]\n",
      " batchsize: 1\n",
      " Scaler: MinMax\n",
      " Images: 102 \n",
      " Augment: False \n",
      " Thread workers: 32\n",
      "2022-05-12 10:02:00,424 INFO x_sliced: 450, example: data/interim/patient085_4d_t0_z0_img.nrrd\n",
      "2022-05-12 10:02:00,424 INFO inference mode, no masks given, will use x as placeholder for y in fix processing\n",
      "2022-05-12 10:02:00,425 INFO Create DataGenerator\n",
      "2022-05-12 10:02:00,425 INFO Datagenerator created with: \n",
      " shape: [224, 224]\n",
      " spacing: [1.2, 1.2]\n",
      " batchsize: 1\n",
      " Scaler: MinMax\n",
      " Images: 450 \n",
      " Augment: False \n",
      " Thread workers: 32\n",
      "2022-05-12 10:02:00,515 INFO x_sliced: 84, example: data/interim/patient090_4d_t0_z0_img.nrrd\n",
      "2022-05-12 10:02:00,516 INFO inference mode, no masks given, will use x as placeholder for y in fix processing\n",
      "2022-05-12 10:02:00,516 INFO Create DataGenerator\n",
      "2022-05-12 10:02:00,516 INFO Datagenerator created with: \n",
      " shape: [224, 224]\n",
      " spacing: [1.2, 1.2]\n",
      " batchsize: 1\n",
      " Scaler: MinMax\n",
      " Images: 84 \n",
      " Augment: False \n",
      " Thread workers: 32\n",
      "2022-05-12 10:02:00,648 INFO x_sliced: 140, example: data/interim/patient094_4d_t0_z0_img.nrrd\n",
      "2022-05-12 10:02:00,648 INFO inference mode, no masks given, will use x as placeholder for y in fix processing\n",
      "2022-05-12 10:02:00,648 INFO Create DataGenerator\n",
      "2022-05-12 10:02:00,649 INFO Datagenerator created with: \n",
      " shape: [224, 224]\n",
      " spacing: [1.2, 1.2]\n",
      " batchsize: 1\n",
      " Scaler: MinMax\n",
      " Images: 140 \n",
      " Augment: False \n",
      " Thread workers: 32\n",
      "2022-05-12 10:02:01,121 INFO x_sliced: 272, example: data/interim/patient100_4d_t0_z0_img.nrrd\n",
      "2022-05-12 10:02:01,121 INFO inference mode, no masks given, will use x as placeholder for y in fix processing\n",
      "2022-05-12 10:02:01,122 INFO Create DataGenerator\n",
      "2022-05-12 10:02:01,122 INFO Datagenerator created with: \n",
      " shape: [224, 224]\n",
      " spacing: [1.2, 1.2]\n",
      " batchsize: 1\n",
      " Scaler: MinMax\n",
      " Images: 272 \n",
      " Augment: False \n",
      " Thread workers: 32\n",
      "2022-05-12 10:02:01,286 INFO size: (256, 256, 10, 30)\n",
      "2022-05-12 10:02:01,286 INFO spacing: (1.5625, 1.5625, 10.0, 1.0)\n",
      "2022-05-12 10:02:01,286 INFO origin: (0.0, 0.0, 0.0, 0.0)\n",
      "2022-05-12 10:02:01,286 INFO direction: (1.0, 0.0, 0.0, 0.0, 0.0, 1.0, 0.0, 0.0, 0.0, 0.0, 1.0, 0.0, 0.0, 0.0, 0.0, 1.0)\n",
      "2022-05-12 10:02:01,287 INFO pixel type: 16-bit signed integer\n",
      "2022-05-12 10:02:01,287 INFO number of pixel components: 1\n",
      "2022-05-12 10:02:04,091 INFO size: (256, 216, 10, 30)\n",
      "2022-05-12 10:02:04,092 INFO spacing: (1.40625, 1.40625, 10.0, 1.0)\n",
      "2022-05-12 10:02:04,092 INFO origin: (0.0, 0.0, 0.0, 0.0)\n",
      "2022-05-12 10:02:04,092 INFO direction: (1.0, 0.0, 0.0, 0.0, 0.0, 1.0, 0.0, 0.0, 0.0, 0.0, 1.0, 0.0, 0.0, 0.0, 0.0, 1.0)\n",
      "2022-05-12 10:02:04,092 INFO pixel type: 16-bit signed integer\n",
      "2022-05-12 10:02:04,093 INFO number of pixel components: 1\n"
     ]
    },
    {
     "name": "stdout",
     "output_type": "stream",
     "text": [
      "(224, 224, 10, 30)\n",
      "(1.2, 1.2, 10.0, 1)\n",
      "(224, 224, 10, 30)\n",
      "(1.2, 1.2, 10.0, 1)\n"
     ]
    },
    {
     "name": "stderr",
     "output_type": "stream",
     "text": [
      "2022-05-12 10:02:06,410 INFO size: (208, 256, 10, 28)\n",
      "2022-05-12 10:02:06,411 INFO spacing: (1.5625, 1.5625, 10.0, 1.0)\n",
      "2022-05-12 10:02:06,411 INFO origin: (0.0, 0.0, 0.0, 0.0)\n",
      "2022-05-12 10:02:06,411 INFO direction: (1.0, 0.0, 0.0, 0.0, 0.0, 1.0, 0.0, 0.0, 0.0, 0.0, 1.0, 0.0, 0.0, 0.0, 0.0, 1.0)\n",
      "2022-05-12 10:02:06,412 INFO pixel type: 32-bit float\n",
      "2022-05-12 10:02:06,412 INFO number of pixel components: 1\n"
     ]
    },
    {
     "name": "stdout",
     "output_type": "stream",
     "text": [
      "(224, 224, 10, 28)\n",
      "(1.2, 1.2, 10.0, 1)\n"
     ]
    },
    {
     "name": "stderr",
     "output_type": "stream",
     "text": [
      "2022-05-12 10:02:08,662 INFO size: (256, 216, 10, 30)\n",
      "2022-05-12 10:02:08,663 INFO spacing: (1.3671900033950806, 1.3671900033950806, 10.0, 1.0)\n",
      "2022-05-12 10:02:08,663 INFO origin: (0.0, 0.0, 0.0, 0.0)\n",
      "2022-05-12 10:02:08,663 INFO direction: (1.0, 0.0, 0.0, 0.0, 0.0, 1.0, 0.0, 0.0, 0.0, 0.0, 1.0, 0.0, 0.0, 0.0, 0.0, 1.0)\n",
      "2022-05-12 10:02:08,664 INFO pixel type: 32-bit float\n",
      "2022-05-12 10:02:08,664 INFO number of pixel components: 1\n",
      "2022-05-12 10:02:10,881 INFO size: (208, 256, 8, 20)\n",
      "2022-05-12 10:02:10,882 INFO spacing: (1.7578099966049194, 1.7578099966049194, 10.0, 1.0)\n",
      "2022-05-12 10:02:10,882 INFO origin: (0.0, 0.0, 0.0, 0.0)\n",
      "2022-05-12 10:02:10,882 INFO direction: (1.0, 0.0, 0.0, 0.0, 0.0, 1.0, 0.0, 0.0, 0.0, 0.0, 1.0, 0.0, 0.0, 0.0, 0.0, 1.0)\n",
      "2022-05-12 10:02:10,882 INFO pixel type: 32-bit float\n",
      "2022-05-12 10:02:10,882 INFO number of pixel components: 1\n"
     ]
    },
    {
     "name": "stdout",
     "output_type": "stream",
     "text": [
      "(224, 224, 10, 30)\n",
      "(1.2, 1.2, 10.0, 1)\n"
     ]
    },
    {
     "name": "stderr",
     "output_type": "stream",
     "text": [
      "2022-05-12 10:02:12,176 INFO size: (216, 256, 9, 25)\n",
      "2022-05-12 10:02:12,176 INFO spacing: (1.4453125, 1.4453125, 10.0, 1.0)\n",
      "2022-05-12 10:02:12,177 INFO origin: (0.0, 0.0, 0.0, 0.0)\n",
      "2022-05-12 10:02:12,177 INFO direction: (1.0, 0.0, 0.0, 0.0, 0.0, 1.0, 0.0, 0.0, 0.0, 0.0, 1.0, 0.0, 0.0, 0.0, 0.0, 1.0)\n",
      "2022-05-12 10:02:12,177 INFO pixel type: 16-bit signed integer\n",
      "2022-05-12 10:02:12,178 INFO number of pixel components: 1\n"
     ]
    },
    {
     "name": "stdout",
     "output_type": "stream",
     "text": [
      "(224, 224, 8, 20)\n",
      "(1.2, 1.2, 10.0, 1)\n"
     ]
    },
    {
     "name": "stderr",
     "output_type": "stream",
     "text": [
      "2022-05-12 10:02:13,911 INFO size: (256, 256, 9, 25)\n",
      "2022-05-12 10:02:13,912 INFO spacing: (1.3671875, 1.3671875, 10.0, 1.0)\n",
      "2022-05-12 10:02:13,912 INFO origin: (0.0, 0.0, 0.0, 0.0)\n",
      "2022-05-12 10:02:13,912 INFO direction: (1.0, 0.0, 0.0, 0.0, 0.0, 1.0, 0.0, 0.0, 0.0, 0.0, 1.0, 0.0, 0.0, 0.0, 0.0, 1.0)\n",
      "2022-05-12 10:02:13,913 INFO pixel type: 16-bit signed integer\n",
      "2022-05-12 10:02:13,913 INFO number of pixel components: 1\n"
     ]
    },
    {
     "name": "stdout",
     "output_type": "stream",
     "text": [
      "(224, 224, 9, 25)\n",
      "(1.2, 1.2, 10.0, 1)\n"
     ]
    },
    {
     "name": "stderr",
     "output_type": "stream",
     "text": [
      "2022-05-12 10:02:15,679 INFO size: (216, 256, 10, 35)\n",
      "2022-05-12 10:02:15,679 INFO spacing: (1.4453125, 1.4453125, 10.0, 1.0)\n",
      "2022-05-12 10:02:15,680 INFO origin: (0.0, 0.0, 0.0, 0.0)\n",
      "2022-05-12 10:02:15,680 INFO direction: (1.0, 0.0, 0.0, 0.0, 0.0, 1.0, 0.0, 0.0, 0.0, 0.0, 1.0, 0.0, 0.0, 0.0, 0.0, 1.0)\n",
      "2022-05-12 10:02:15,680 INFO pixel type: 16-bit signed integer\n",
      "2022-05-12 10:02:15,680 INFO number of pixel components: 1\n"
     ]
    },
    {
     "name": "stdout",
     "output_type": "stream",
     "text": [
      "(224, 224, 9, 25)\n",
      "(1.2, 1.2, 10.0, 1)\n",
      "(224, 224, 10, 35)\n",
      "(1.2, 1.2, 10.0, 1)\n"
     ]
    },
    {
     "name": "stderr",
     "output_type": "stream",
     "text": [
      "2022-05-12 10:02:18,354 INFO size: (224, 256, 10, 30)\n",
      "2022-05-12 10:02:18,354 INFO spacing: (1.5625, 1.5625, 10.0, 1.0)\n",
      "2022-05-12 10:02:18,355 INFO origin: (0.0, 0.0, 0.0, 0.0)\n",
      "2022-05-12 10:02:18,355 INFO direction: (1.0, 0.0, 0.0, 0.0, 0.0, 1.0, 0.0, 0.0, 0.0, 0.0, 1.0, 0.0, 0.0, 0.0, 0.0, 1.0)\n",
      "2022-05-12 10:02:18,355 INFO pixel type: 32-bit float\n",
      "2022-05-12 10:02:18,356 INFO number of pixel components: 1\n"
     ]
    },
    {
     "name": "stdout",
     "output_type": "stream",
     "text": [
      "(224, 224, 10, 30)\n",
      "(1.2, 1.2, 10.0, 1)\n"
     ]
    },
    {
     "name": "stderr",
     "output_type": "stream",
     "text": [
      "2022-05-12 10:02:20,735 INFO size: (208, 256, 10, 35)\n",
      "2022-05-12 10:02:20,735 INFO spacing: (1.4843800067901611, 1.4843800067901611, 10.0, 1.0)\n",
      "2022-05-12 10:02:20,735 INFO origin: (0.0, 0.0, 0.0, 0.0)\n",
      "2022-05-12 10:02:20,736 INFO direction: (1.0, 0.0, 0.0, 0.0, 0.0, 1.0, 0.0, 0.0, 0.0, 0.0, 1.0, 0.0, 0.0, 0.0, 0.0, 1.0)\n",
      "2022-05-12 10:02:20,736 INFO pixel type: 32-bit float\n",
      "2022-05-12 10:02:20,736 INFO number of pixel components: 1\n",
      "2022-05-12 10:02:23,287 INFO size: (174, 224, 12, 13)\n",
      "2022-05-12 10:02:23,288 INFO spacing: (1.9196399450302124, 1.9196399450302124, 6.5, 1.0)\n",
      "2022-05-12 10:02:23,288 INFO origin: (0.0, 0.0, 0.0, 0.0)\n",
      "2022-05-12 10:02:23,289 INFO direction: (1.0, 0.0, 0.0, 0.0, 0.0, 1.0, 0.0, 0.0, 0.0, 0.0, 1.0, 0.0, 0.0, 0.0, 0.0, 1.0)\n",
      "2022-05-12 10:02:23,289 INFO pixel type: 32-bit float\n",
      "2022-05-12 10:02:23,289 INFO number of pixel components: 1\n"
     ]
    },
    {
     "name": "stdout",
     "output_type": "stream",
     "text": [
      "(224, 224, 10, 35)\n",
      "(1.2, 1.2, 10.0, 1)\n",
      "(224, 224, 12, 13)\n",
      "(1.2, 1.2, 6.5, 1)\n"
     ]
    },
    {
     "name": "stderr",
     "output_type": "stream",
     "text": [
      "2022-05-12 10:02:24,698 INFO size: (208, 256, 8, 35)\n",
      "2022-05-12 10:02:24,699 INFO spacing: (1.5625, 1.5625, 10.0, 1.0)\n",
      "2022-05-12 10:02:24,699 INFO origin: (0.0, 0.0, 0.0, 0.0)\n",
      "2022-05-12 10:02:24,699 INFO direction: (1.0, 0.0, 0.0, 0.0, 0.0, 1.0, 0.0, 0.0, 0.0, 0.0, 1.0, 0.0, 0.0, 0.0, 0.0, 1.0)\n",
      "2022-05-12 10:02:24,700 INFO pixel type: 32-bit float\n",
      "2022-05-12 10:02:24,700 INFO number of pixel components: 1\n",
      "2022-05-12 10:02:26,834 INFO size: (248, 256, 10, 30)\n",
      "2022-05-12 10:02:26,835 INFO spacing: (1.3671875, 1.3671875, 10.0, 1.0)\n",
      "2022-05-12 10:02:26,835 INFO origin: (0.0, 0.0, 0.0, 0.0)\n",
      "2022-05-12 10:02:26,835 INFO direction: (1.0, 0.0, 0.0, 0.0, 0.0, 1.0, 0.0, 0.0, 0.0, 0.0, 1.0, 0.0, 0.0, 0.0, 0.0, 1.0)\n",
      "2022-05-12 10:02:26,836 INFO pixel type: 16-bit signed integer\n",
      "2022-05-12 10:02:26,836 INFO number of pixel components: 1\n"
     ]
    },
    {
     "name": "stdout",
     "output_type": "stream",
     "text": [
      "(224, 224, 8, 35)\n",
      "(1.2, 1.2, 10.0, 1)\n",
      "(224, 224, 10, 30)\n",
      "(1.2, 1.2, 10.0, 1)\n"
     ]
    },
    {
     "name": "stderr",
     "output_type": "stream",
     "text": [
      "2022-05-12 10:02:29,098 INFO size: (216, 256, 8, 30)\n",
      "2022-05-12 10:02:29,098 INFO spacing: (1.4843800067901611, 1.4843800067901611, 10.0, 1.0)\n",
      "2022-05-12 10:02:29,098 INFO origin: (0.0, 0.0, 0.0, 0.0)\n",
      "2022-05-12 10:02:29,099 INFO direction: (1.0, 0.0, 0.0, 0.0, 0.0, 1.0, 0.0, 0.0, 0.0, 0.0, 1.0, 0.0, 0.0, 0.0, 0.0, 1.0)\n",
      "2022-05-12 10:02:29,099 INFO pixel type: 32-bit float\n",
      "2022-05-12 10:02:29,100 INFO number of pixel components: 1\n"
     ]
    },
    {
     "name": "stdout",
     "output_type": "stream",
     "text": [
      "(224, 224, 8, 30)\n",
      "(1.2, 1.2, 10.0, 1)\n"
     ]
    },
    {
     "name": "stderr",
     "output_type": "stream",
     "text": [
      "2022-05-12 10:02:31,091 INFO size: (216, 256, 9, 30)\n",
      "2022-05-12 10:02:31,092 INFO spacing: (1.5625, 1.5625, 10.0, 1.0)\n",
      "2022-05-12 10:02:31,092 INFO origin: (0.0, 0.0, 0.0, 0.0)\n",
      "2022-05-12 10:02:31,093 INFO direction: (1.0, 0.0, 0.0, 0.0, 0.0, 1.0, 0.0, 0.0, 0.0, 0.0, 1.0, 0.0, 0.0, 0.0, 0.0, 1.0)\n",
      "2022-05-12 10:02:31,093 INFO pixel type: 32-bit float\n",
      "2022-05-12 10:02:31,093 INFO number of pixel components: 1\n",
      "2022-05-12 10:02:33,118 INFO size: (256, 176, 8, 35)\n",
      "2022-05-12 10:02:33,118 INFO spacing: (1.3671875, 1.3671875, 10.0, 1.0)\n",
      "2022-05-12 10:02:33,119 INFO origin: (0.0, 0.0, 0.0, 0.0)\n",
      "2022-05-12 10:02:33,119 INFO direction: (1.0, 0.0, 0.0, 0.0, 0.0, 1.0, 0.0, 0.0, 0.0, 0.0, 1.0, 0.0, 0.0, 0.0, 0.0, 1.0)\n",
      "2022-05-12 10:02:33,119 INFO pixel type: 16-bit signed integer\n",
      "2022-05-12 10:02:33,120 INFO number of pixel components: 1\n"
     ]
    },
    {
     "name": "stdout",
     "output_type": "stream",
     "text": [
      "(224, 224, 9, 30)\n",
      "(1.2, 1.2, 10.0, 1)\n"
     ]
    },
    {
     "name": "stderr",
     "output_type": "stream",
     "text": [
      "2022-05-12 10:02:35,083 INFO size: (210, 224, 8, 30)\n",
      "2022-05-12 10:02:35,083 INFO spacing: (1.875, 1.875, 10.0, 1.0)\n",
      "2022-05-12 10:02:35,083 INFO origin: (0.0, 0.0, 0.0, 0.0)\n",
      "2022-05-12 10:02:35,084 INFO direction: (1.0, 0.0, 0.0, 0.0, 0.0, 1.0, 0.0, 0.0, 0.0, 0.0, 1.0, 0.0, 0.0, 0.0, 0.0, 1.0)\n",
      "2022-05-12 10:02:35,084 INFO pixel type: 16-bit signed integer\n",
      "2022-05-12 10:02:35,084 INFO number of pixel components: 1\n"
     ]
    },
    {
     "name": "stdout",
     "output_type": "stream",
     "text": [
      "(224, 224, 8, 35)\n",
      "(1.2, 1.2, 10.0, 1)\n"
     ]
    },
    {
     "name": "stderr",
     "output_type": "stream",
     "text": [
      "2022-05-12 10:02:36,938 INFO size: (208, 256, 6, 28)\n",
      "2022-05-12 10:02:36,939 INFO spacing: (1.5625, 1.5625, 10.0, 1.0)\n",
      "2022-05-12 10:02:36,939 INFO origin: (0.0, 0.0, 0.0, 0.0)\n",
      "2022-05-12 10:02:36,939 INFO direction: (1.0, 0.0, 0.0, 0.0, 0.0, 1.0, 0.0, 0.0, 0.0, 0.0, 1.0, 0.0, 0.0, 0.0, 0.0, 1.0)\n",
      "2022-05-12 10:02:36,939 INFO pixel type: 32-bit float\n",
      "2022-05-12 10:02:36,940 INFO number of pixel components: 1\n"
     ]
    },
    {
     "name": "stdout",
     "output_type": "stream",
     "text": [
      "(224, 224, 8, 30)\n",
      "(1.2, 1.2, 10.0, 1)\n",
      "(224, 224, 6, 28)\n",
      "(1.2, 1.2, 10.0, 1)\n"
     ]
    },
    {
     "name": "stderr",
     "output_type": "stream",
     "text": [
      "2022-05-12 10:02:38,405 INFO size: (256, 256, 8, 30)\n",
      "2022-05-12 10:02:38,406 INFO spacing: (1.5625, 1.5625, 10.0, 1.0)\n",
      "2022-05-12 10:02:38,406 INFO origin: (0.0, 0.0, 0.0, 0.0)\n",
      "2022-05-12 10:02:38,406 INFO direction: (1.0, 0.0, 0.0, 0.0, 0.0, 1.0, 0.0, 0.0, 0.0, 0.0, 1.0, 0.0, 0.0, 0.0, 0.0, 1.0)\n",
      "2022-05-12 10:02:38,407 INFO pixel type: 32-bit float\n",
      "2022-05-12 10:02:38,407 INFO number of pixel components: 1\n",
      "2022-05-12 10:02:40,200 INFO size: (216, 256, 6, 21)\n",
      "2022-05-12 10:02:40,200 INFO spacing: (1.7578099966049194, 1.7578099966049194, 10.0, 1.0)\n",
      "2022-05-12 10:02:40,201 INFO origin: (0.0, 0.0, 0.0, 0.0)\n",
      "2022-05-12 10:02:40,201 INFO direction: (1.0, 0.0, 0.0, 0.0, 0.0, 1.0, 0.0, 0.0, 0.0, 0.0, 1.0, 0.0, 0.0, 0.0, 0.0, 1.0)\n",
      "2022-05-12 10:02:40,201 INFO pixel type: 32-bit float\n",
      "2022-05-12 10:02:40,201 INFO number of pixel components: 1\n"
     ]
    },
    {
     "name": "stdout",
     "output_type": "stream",
     "text": [
      "(224, 224, 8, 30)\n",
      "(1.2, 1.2, 10.0, 1)\n"
     ]
    },
    {
     "name": "stderr",
     "output_type": "stream",
     "text": [
      "2022-05-12 10:02:41,403 INFO size: (208, 256, 6, 17)\n",
      "2022-05-12 10:02:41,404 INFO spacing: (1.5625, 1.5625, 10.0, 1.0)\n",
      "2022-05-12 10:02:41,404 INFO origin: (0.0, 0.0, 0.0, 0.0)\n",
      "2022-05-12 10:02:41,404 INFO direction: (1.0, 0.0, 0.0, 0.0, 0.0, 1.0, 0.0, 0.0, 0.0, 0.0, 1.0, 0.0, 0.0, 0.0, 0.0, 1.0)\n",
      "2022-05-12 10:02:41,405 INFO pixel type: 32-bit float\n",
      "2022-05-12 10:02:41,405 INFO number of pixel components: 1\n"
     ]
    },
    {
     "name": "stdout",
     "output_type": "stream",
     "text": [
      "(224, 224, 6, 21)\n",
      "(1.2, 1.2, 10.0, 1)\n",
      "(224, 224, 6, 17)\n",
      "(1.2, 1.2, 10.0, 1)\n"
     ]
    },
    {
     "name": "stderr",
     "output_type": "stream",
     "text": [
      "2022-05-12 10:02:42,574 INFO size: (184, 288, 15, 30)\n",
      "2022-05-12 10:02:42,575 INFO spacing: (1.2152800559997559, 1.2152800559997559, 5.0, 1.0)\n",
      "2022-05-12 10:02:42,575 INFO origin: (0.0, 0.0, 0.0, 0.0)\n",
      "2022-05-12 10:02:42,575 INFO direction: (1.0, 0.0, 0.0, 0.0, 0.0, 1.0, 0.0, 0.0, 0.0, 0.0, 1.0, 0.0, 0.0, 0.0, 0.0, 1.0)\n",
      "2022-05-12 10:02:42,575 INFO pixel type: 32-bit float\n",
      "2022-05-12 10:02:42,576 INFO number of pixel components: 1\n",
      "2022-05-12 10:02:45,634 INFO size: (154, 224, 7, 12)\n",
      "2022-05-12 10:02:45,635 INFO spacing: (1.7857099771499634, 1.7857099771499634, 10.0, 1.0)\n",
      "2022-05-12 10:02:45,635 INFO origin: (0.0, 0.0, 0.0, 0.0)\n",
      "2022-05-12 10:02:45,636 INFO direction: (1.0, 0.0, 0.0, 0.0, 0.0, 1.0, 0.0, 0.0, 0.0, 0.0, 1.0, 0.0, 0.0, 0.0, 0.0, 1.0)\n",
      "2022-05-12 10:02:45,636 INFO pixel type: 32-bit float\n",
      "2022-05-12 10:02:45,636 INFO number of pixel components: 1\n"
     ]
    },
    {
     "name": "stdout",
     "output_type": "stream",
     "text": [
      "(224, 224, 15, 30)\n",
      "(1.2, 1.2, 5.0, 1)\n"
     ]
    },
    {
     "name": "stderr",
     "output_type": "stream",
     "text": [
      "2022-05-12 10:02:46,394 INFO size: (208, 174, 10, 14)\n",
      "2022-05-12 10:02:46,394 INFO spacing: (1.6826900243759155, 1.6826900243759155, 5.0, 1.0)\n",
      "2022-05-12 10:02:46,394 INFO origin: (0.0, 0.0, 0.0, 0.0)\n",
      "2022-05-12 10:02:46,395 INFO direction: (1.0, 0.0, 0.0, 0.0, 0.0, 1.0, 0.0, 0.0, 0.0, 0.0, 1.0, 0.0, 0.0, 0.0, 0.0, 1.0)\n",
      "2022-05-12 10:02:46,395 INFO pixel type: 32-bit float\n",
      "2022-05-12 10:02:46,395 INFO number of pixel components: 1\n"
     ]
    },
    {
     "name": "stdout",
     "output_type": "stream",
     "text": [
      "(224, 224, 7, 12)\n",
      "(1.2, 1.2, 10.0, 1)\n",
      "(224, 224, 10, 14)\n",
      "(1.2, 1.2, 5.0, 1)\n"
     ]
    },
    {
     "name": "stderr",
     "output_type": "stream",
     "text": [
      "2022-05-12 10:02:47,746 INFO size: (216, 304, 8, 34)\n",
      "2022-05-12 10:02:47,746 INFO spacing: (1.315790057182312, 1.315790057182312, 10.0, 1.0)\n",
      "2022-05-12 10:02:47,747 INFO origin: (0.0, 0.0, 0.0, 0.0)\n",
      "2022-05-12 10:02:47,747 INFO direction: (1.0, 0.0, 0.0, 0.0, 0.0, 1.0, 0.0, 0.0, 0.0, 0.0, 1.0, 0.0, 0.0, 0.0, 0.0, 1.0)\n",
      "2022-05-12 10:02:47,747 INFO pixel type: 32-bit float\n",
      "2022-05-12 10:02:47,747 INFO number of pixel components: 1\n",
      "2022-05-12 10:02:49,637 INFO expect 25 patients for validation in fold 3\n",
      "2022-05-12 10:02:49,638 INFO 4d files filtered: 25\n",
      "2022-05-12 10:02:49,638 INFO Create model\n"
     ]
    },
    {
     "name": "stdout",
     "output_type": "stream",
     "text": [
      "(224, 224, 8, 34)\n",
      "(1.2, 1.2, 10.0, 1)\n",
      "(None, 224, 224, 1)\n"
     ]
    },
    {
     "name": "stderr",
     "output_type": "stream",
     "text": [
      "/home/sven/anaconda3/envs/dcmr/lib/python3.8/site-packages/keras/optimizer_v2/adam.py:105: UserWarning: The `lr` argument is deprecated, use `learning_rate` instead.\n",
      "  super(Adam, self).__init__(name, **kwargs)\n",
      "2022-05-12 10:02:50,243 INFO loaded model weights as h5 file\n",
      "2022-05-12 10:02:50,313 INFO found 25 4D files, will return one generator per file with t x z slices\n",
      "2022-05-12 10:02:50,459 INFO x_sliced: 160, example: data/interim/patient007_4d_t0_z0_img.nrrd\n",
      "2022-05-12 10:02:50,460 INFO inference mode, no masks given, will use x as placeholder for y in fix processing\n",
      "2022-05-12 10:02:50,460 INFO Create DataGenerator\n",
      "2022-05-12 10:02:50,460 INFO Datagenerator created with: \n",
      " shape: [224, 224]\n",
      " spacing: [1.2, 1.2]\n",
      " batchsize: 1\n",
      " Scaler: MinMax\n",
      " Images: 160 \n",
      " Augment: False \n",
      " Thread workers: 32\n",
      "2022-05-12 10:02:50,731 INFO x_sliced: 280, example: data/interim/patient008_4d_t0_z0_img.nrrd\n",
      "2022-05-12 10:02:50,731 INFO inference mode, no masks given, will use x as placeholder for y in fix processing\n",
      "2022-05-12 10:02:50,731 INFO Create DataGenerator\n",
      "2022-05-12 10:02:50,732 INFO Datagenerator created with: \n",
      " shape: [224, 224]\n",
      " spacing: [1.2, 1.2]\n",
      " batchsize: 1\n",
      " Scaler: MinMax\n",
      " Images: 280 \n",
      " Augment: False \n",
      " Thread workers: 32\n",
      "2022-05-12 10:02:50,912 INFO x_sliced: 135, example: data/interim/patient011_4d_t0_z0_img.nrrd\n",
      "2022-05-12 10:02:50,912 INFO inference mode, no masks given, will use x as placeholder for y in fix processing\n",
      "2022-05-12 10:02:50,913 INFO Create DataGenerator\n",
      "2022-05-12 10:02:50,913 INFO Datagenerator created with: \n",
      " shape: [224, 224]\n",
      " spacing: [1.2, 1.2]\n",
      " batchsize: 1\n",
      " Scaler: MinMax\n",
      " Images: 135 \n",
      " Augment: False \n",
      " Thread workers: 32\n",
      "2022-05-12 10:02:51,322 INFO x_sliced: 300, example: data/interim/patient013_4d_t0_z0_img.nrrd\n",
      "2022-05-12 10:02:51,323 INFO inference mode, no masks given, will use x as placeholder for y in fix processing\n",
      "2022-05-12 10:02:51,323 INFO Create DataGenerator\n",
      "2022-05-12 10:02:51,323 INFO Datagenerator created with: \n",
      " shape: [224, 224]\n",
      " spacing: [1.2, 1.2]\n",
      " batchsize: 1\n",
      " Scaler: MinMax\n",
      " Images: 300 \n",
      " Augment: False \n",
      " Thread workers: 32\n",
      "2022-05-12 10:02:51,584 INFO x_sliced: 189, example: data/interim/patient015_4d_t0_z0_img.nrrd\n",
      "2022-05-12 10:02:51,584 INFO inference mode, no masks given, will use x as placeholder for y in fix processing\n",
      "2022-05-12 10:02:51,585 INFO Create DataGenerator\n",
      "2022-05-12 10:02:51,585 INFO Datagenerator created with: \n",
      " shape: [224, 224]\n",
      " spacing: [1.2, 1.2]\n",
      " batchsize: 1\n",
      " Scaler: MinMax\n",
      " Images: 189 \n",
      " Augment: False \n",
      " Thread workers: 32\n",
      "2022-05-12 10:02:51,871 INFO x_sliced: 300, example: data/interim/patient027_4d_t0_z0_img.nrrd\n",
      "2022-05-12 10:02:51,872 INFO inference mode, no masks given, will use x as placeholder for y in fix processing\n",
      "2022-05-12 10:02:51,872 INFO Create DataGenerator\n",
      "2022-05-12 10:02:51,873 INFO Datagenerator created with: \n",
      " shape: [224, 224]\n",
      " spacing: [1.2, 1.2]\n",
      " batchsize: 1\n",
      " Scaler: MinMax\n",
      " Images: 300 \n",
      " Augment: False \n",
      " Thread workers: 32\n",
      "2022-05-12 10:02:52,128 INFO x_sliced: 280, example: data/interim/patient028_4d_t0_z0_img.nrrd\n",
      "2022-05-12 10:02:52,128 INFO inference mode, no masks given, will use x as placeholder for y in fix processing\n",
      "2022-05-12 10:02:52,129 INFO Create DataGenerator\n",
      "2022-05-12 10:02:52,129 INFO Datagenerator created with: \n",
      " shape: [224, 224]\n",
      " spacing: [1.2, 1.2]\n",
      " batchsize: 1\n",
      " Scaler: MinMax\n",
      " Images: 280 \n",
      " Augment: False \n",
      " Thread workers: 32\n",
      "2022-05-12 10:02:52,405 INFO x_sliced: 300, example: data/interim/patient031_4d_t0_z0_img.nrrd\n",
      "2022-05-12 10:02:52,406 INFO inference mode, no masks given, will use x as placeholder for y in fix processing\n",
      "2022-05-12 10:02:52,406 INFO Create DataGenerator\n",
      "2022-05-12 10:02:52,407 INFO Datagenerator created with: \n",
      " shape: [224, 224]\n",
      " spacing: [1.2, 1.2]\n",
      " batchsize: 1\n",
      " Scaler: MinMax\n",
      " Images: 300 \n",
      " Augment: False \n",
      " Thread workers: 32\n",
      "2022-05-12 10:02:52,696 INFO x_sliced: 300, example: data/interim/patient033_4d_t0_z0_img.nrrd\n",
      "2022-05-12 10:02:52,697 INFO inference mode, no masks given, will use x as placeholder for y in fix processing\n",
      "2022-05-12 10:02:52,697 INFO Create DataGenerator\n",
      "2022-05-12 10:02:52,698 INFO Datagenerator created with: \n",
      " shape: [224, 224]\n",
      " spacing: [1.2, 1.2]\n",
      " batchsize: 1\n",
      " Scaler: MinMax\n",
      " Images: 300 \n",
      " Augment: False \n",
      " Thread workers: 32\n",
      "2022-05-12 10:02:53,245 INFO x_sliced: 364, example: data/interim/patient035_4d_t0_z0_img.nrrd\n",
      "2022-05-12 10:02:53,245 INFO inference mode, no masks given, will use x as placeholder for y in fix processing\n",
      "2022-05-12 10:02:53,245 INFO Create DataGenerator\n",
      "2022-05-12 10:02:53,246 INFO Datagenerator created with: \n",
      " shape: [224, 224]\n",
      " spacing: [1.2, 1.2]\n",
      " batchsize: 1\n",
      " Scaler: MinMax\n",
      " Images: 364 \n",
      " Augment: False \n",
      " Thread workers: 32\n",
      "2022-05-12 10:02:53,520 INFO x_sliced: 198, example: data/interim/patient047_4d_t0_z0_img.nrrd\n",
      "2022-05-12 10:02:53,521 INFO inference mode, no masks given, will use x as placeholder for y in fix processing\n",
      "2022-05-12 10:02:53,521 INFO Create DataGenerator\n",
      "2022-05-12 10:02:53,521 INFO Datagenerator created with: \n",
      " shape: [224, 224]\n",
      " spacing: [1.2, 1.2]\n",
      " batchsize: 1\n",
      " Scaler: MinMax\n",
      " Images: 198 \n",
      " Augment: False \n",
      " Thread workers: 32\n",
      "2022-05-12 10:02:53,843 INFO x_sliced: 224, example: data/interim/patient048_4d_t0_z0_img.nrrd\n",
      "2022-05-12 10:02:53,843 INFO inference mode, no masks given, will use x as placeholder for y in fix processing\n",
      "2022-05-12 10:02:53,844 INFO Create DataGenerator\n",
      "2022-05-12 10:02:53,844 INFO Datagenerator created with: \n",
      " shape: [224, 224]\n",
      " spacing: [1.2, 1.2]\n",
      " batchsize: 1\n",
      " Scaler: MinMax\n",
      " Images: 224 \n",
      " Augment: False \n",
      " Thread workers: 32\n",
      "2022-05-12 10:02:54,286 INFO x_sliced: 300, example: data/interim/patient051_4d_t0_z0_img.nrrd\n",
      "2022-05-12 10:02:54,286 INFO inference mode, no masks given, will use x as placeholder for y in fix processing\n",
      "2022-05-12 10:02:54,286 INFO Create DataGenerator\n",
      "2022-05-12 10:02:54,287 INFO Datagenerator created with: \n",
      " shape: [224, 224]\n",
      " spacing: [1.2, 1.2]\n",
      " batchsize: 1\n",
      " Scaler: MinMax\n",
      " Images: 300 \n",
      " Augment: False \n",
      " Thread workers: 32\n",
      "2022-05-12 10:02:54,587 INFO x_sliced: 210, example: data/interim/patient053_4d_t0_z0_img.nrrd\n",
      "2022-05-12 10:02:54,587 INFO inference mode, no masks given, will use x as placeholder for y in fix processing\n",
      "2022-05-12 10:02:54,587 INFO Create DataGenerator\n",
      "2022-05-12 10:02:54,588 INFO Datagenerator created with: \n",
      " shape: [224, 224]\n",
      " spacing: [1.2, 1.2]\n",
      " batchsize: 1\n",
      " Scaler: MinMax\n",
      " Images: 210 \n",
      " Augment: False \n",
      " Thread workers: 32\n",
      "2022-05-12 10:02:54,900 INFO x_sliced: 225, example: data/interim/patient055_4d_t0_z0_img.nrrd\n",
      "2022-05-12 10:02:54,900 INFO inference mode, no masks given, will use x as placeholder for y in fix processing\n",
      "2022-05-12 10:02:54,900 INFO Create DataGenerator\n",
      "2022-05-12 10:02:54,901 INFO Datagenerator created with: \n",
      " shape: [224, 224]\n",
      " spacing: [1.2, 1.2]\n",
      " batchsize: 1\n",
      " Scaler: MinMax\n",
      " Images: 225 \n",
      " Augment: False \n",
      " Thread workers: 32\n",
      "2022-05-12 10:02:55,168 INFO x_sliced: 300, example: data/interim/patient067_4d_t0_z0_img.nrrd\n",
      "2022-05-12 10:02:55,168 INFO inference mode, no masks given, will use x as placeholder for y in fix processing\n",
      "2022-05-12 10:02:55,169 INFO Create DataGenerator\n",
      "2022-05-12 10:02:55,169 INFO Datagenerator created with: \n",
      " shape: [224, 224]\n",
      " spacing: [1.2, 1.2]\n",
      " batchsize: 1\n",
      " Scaler: MinMax\n",
      " Images: 300 \n",
      " Augment: False \n",
      " Thread workers: 32\n",
      "2022-05-12 10:02:55,430 INFO x_sliced: 196, example: data/interim/patient068_4d_t0_z0_img.nrrd\n",
      "2022-05-12 10:02:55,431 INFO inference mode, no masks given, will use x as placeholder for y in fix processing\n",
      "2022-05-12 10:02:55,431 INFO Create DataGenerator\n",
      "2022-05-12 10:02:55,431 INFO Datagenerator created with: \n",
      " shape: [224, 224]\n",
      " spacing: [1.2, 1.2]\n",
      " batchsize: 1\n",
      " Scaler: MinMax\n",
      " Images: 196 \n",
      " Augment: False \n",
      " Thread workers: 32\n",
      "2022-05-12 10:02:55,684 INFO x_sliced: 300, example: data/interim/patient071_4d_t0_z0_img.nrrd\n",
      "2022-05-12 10:02:55,684 INFO inference mode, no masks given, will use x as placeholder for y in fix processing\n",
      "2022-05-12 10:02:55,684 INFO Create DataGenerator\n",
      "2022-05-12 10:02:55,685 INFO Datagenerator created with: \n",
      " shape: [224, 224]\n",
      " spacing: [1.2, 1.2]\n",
      " batchsize: 1\n",
      " Scaler: MinMax\n",
      " Images: 300 \n",
      " Augment: False \n",
      " Thread workers: 32\n",
      "2022-05-12 10:02:55,935 INFO x_sliced: 245, example: data/interim/patient073_4d_t0_z0_img.nrrd\n",
      "2022-05-12 10:02:55,935 INFO inference mode, no masks given, will use x as placeholder for y in fix processing\n",
      "2022-05-12 10:02:55,935 INFO Create DataGenerator\n",
      "2022-05-12 10:02:55,936 INFO Datagenerator created with: \n",
      " shape: [224, 224]\n",
      " spacing: [1.2, 1.2]\n",
      " batchsize: 1\n",
      " Scaler: MinMax\n",
      " Images: 245 \n",
      " Augment: False \n",
      " Thread workers: 32\n",
      "2022-05-12 10:02:56,158 INFO x_sliced: 196, example: data/interim/patient075_4d_t0_z0_img.nrrd\n",
      "2022-05-12 10:02:56,158 INFO inference mode, no masks given, will use x as placeholder for y in fix processing\n",
      "2022-05-12 10:02:56,158 INFO Create DataGenerator\n",
      "2022-05-12 10:02:56,159 INFO Datagenerator created with: \n",
      " shape: [224, 224]\n",
      " spacing: [1.2, 1.2]\n",
      " batchsize: 1\n",
      " Scaler: MinMax\n",
      " Images: 196 \n",
      " Augment: False \n",
      " Thread workers: 32\n",
      "2022-05-12 10:02:56,451 INFO x_sliced: 224, example: data/interim/patient087_4d_t0_z0_img.nrrd\n",
      "2022-05-12 10:02:56,451 INFO inference mode, no masks given, will use x as placeholder for y in fix processing\n",
      "2022-05-12 10:02:56,451 INFO Create DataGenerator\n",
      "2022-05-12 10:02:56,452 INFO Datagenerator created with: \n",
      " shape: [224, 224]\n",
      " spacing: [1.2, 1.2]\n",
      " batchsize: 1\n",
      " Scaler: MinMax\n",
      " Images: 224 \n",
      " Augment: False \n",
      " Thread workers: 32\n",
      "2022-05-12 10:02:56,884 INFO x_sliced: 400, example: data/interim/patient088_4d_t0_z0_img.nrrd\n",
      "2022-05-12 10:02:56,885 INFO inference mode, no masks given, will use x as placeholder for y in fix processing\n",
      "2022-05-12 10:02:56,885 INFO Create DataGenerator\n",
      "2022-05-12 10:02:56,886 INFO Datagenerator created with: \n",
      " shape: [224, 224]\n",
      " spacing: [1.2, 1.2]\n",
      " batchsize: 1\n",
      " Scaler: MinMax\n",
      " Images: 400 \n",
      " Augment: False \n",
      " Thread workers: 32\n",
      "2022-05-12 10:02:57,021 INFO x_sliced: 128, example: data/interim/patient091_4d_t0_z0_img.nrrd\n",
      "2022-05-12 10:02:57,022 INFO inference mode, no masks given, will use x as placeholder for y in fix processing\n",
      "2022-05-12 10:02:57,022 INFO Create DataGenerator\n",
      "2022-05-12 10:02:57,022 INFO Datagenerator created with: \n",
      " shape: [224, 224]\n",
      " spacing: [1.2, 1.2]\n",
      " batchsize: 1\n",
      " Scaler: MinMax\n",
      " Images: 128 \n",
      " Augment: False \n",
      " Thread workers: 32\n",
      "2022-05-12 10:02:57,355 INFO x_sliced: 300, example: data/interim/patient093_4d_t0_z0_img.nrrd\n",
      "2022-05-12 10:02:57,355 INFO inference mode, no masks given, will use x as placeholder for y in fix processing\n",
      "2022-05-12 10:02:57,355 INFO Create DataGenerator\n",
      "2022-05-12 10:02:57,356 INFO Datagenerator created with: \n",
      " shape: [224, 224]\n",
      " spacing: [1.2, 1.2]\n",
      " batchsize: 1\n",
      " Scaler: MinMax\n",
      " Images: 300 \n",
      " Augment: False \n",
      " Thread workers: 32\n",
      "2022-05-12 10:02:57,863 INFO x_sliced: 420, example: data/interim/patient095_4d_t0_z0_img.nrrd\n",
      "2022-05-12 10:02:57,863 INFO inference mode, no masks given, will use x as placeholder for y in fix processing\n",
      "2022-05-12 10:02:57,863 INFO Create DataGenerator\n",
      "2022-05-12 10:02:57,864 INFO Datagenerator created with: \n",
      " shape: [224, 224]\n",
      " spacing: [1.2, 1.2]\n",
      " batchsize: 1\n",
      " Scaler: MinMax\n",
      " Images: 420 \n",
      " Augment: False \n",
      " Thread workers: 32\n",
      "2022-05-12 10:02:57,935 INFO size: (222, 224, 10, 16)\n",
      "2022-05-12 10:02:57,935 INFO spacing: (1.875, 1.875, 10.0, 1.0)\n",
      "2022-05-12 10:02:57,936 INFO origin: (0.0, 0.0, 0.0, 0.0)\n",
      "2022-05-12 10:02:57,936 INFO direction: (1.0, 0.0, 0.0, 0.0, 0.0, 1.0, 0.0, 0.0, 0.0, 0.0, 1.0, 0.0, 0.0, 0.0, 0.0, 1.0)\n",
      "2022-05-12 10:02:57,936 INFO pixel type: 16-bit signed integer\n",
      "2022-05-12 10:02:57,936 INFO number of pixel components: 1\n",
      "2022-05-12 10:02:59,803 INFO size: (200, 256, 10, 28)\n",
      "2022-05-12 10:02:59,804 INFO spacing: (1.5625, 1.5625, 10.0, 1.0)\n",
      "2022-05-12 10:02:59,804 INFO origin: (0.0, 0.0, 0.0, 0.0)\n",
      "2022-05-12 10:02:59,804 INFO direction: (1.0, 0.0, 0.0, 0.0, 0.0, 1.0, 0.0, 0.0, 0.0, 0.0, 1.0, 0.0, 0.0, 0.0, 0.0, 1.0)\n",
      "2022-05-12 10:02:59,805 INFO pixel type: 16-bit signed integer\n",
      "2022-05-12 10:02:59,805 INFO number of pixel components: 1\n"
     ]
    },
    {
     "name": "stdout",
     "output_type": "stream",
     "text": [
      "(224, 224, 10, 16)\n",
      "(1.2, 1.2, 10.0, 1)\n"
     ]
    },
    {
     "name": "stderr",
     "output_type": "stream",
     "text": [
      "2022-05-12 10:03:01,861 INFO size: (216, 256, 9, 15)\n",
      "2022-05-12 10:03:01,861 INFO spacing: (1.4843800067901611, 1.4843800067901611, 10.0, 1.0)\n",
      "2022-05-12 10:03:01,862 INFO origin: (0.0, 0.0, 0.0, 0.0)\n",
      "2022-05-12 10:03:01,862 INFO direction: (1.0, 0.0, 0.0, 0.0, 0.0, 1.0, 0.0, 0.0, 0.0, 0.0, 1.0, 0.0, 0.0, 0.0, 0.0, 1.0)\n",
      "2022-05-12 10:03:01,862 INFO pixel type: 32-bit float\n",
      "2022-05-12 10:03:01,863 INFO number of pixel components: 1\n"
     ]
    },
    {
     "name": "stdout",
     "output_type": "stream",
     "text": [
      "(224, 224, 10, 28)\n",
      "(1.2, 1.2, 10.0, 1)\n",
      "(224, 224, 9, 15)\n",
      "(1.2, 1.2, 10.0, 1)\n"
     ]
    },
    {
     "name": "stderr",
     "output_type": "stream",
     "text": [
      "2022-05-12 10:03:03,109 INFO size: (216, 256, 10, 30)\n",
      "2022-05-12 10:03:03,109 INFO spacing: (1.4453099966049194, 1.4453099966049194, 10.0, 1.0)\n",
      "2022-05-12 10:03:03,110 INFO origin: (0.0, 0.0, 0.0, 0.0)\n",
      "2022-05-12 10:03:03,110 INFO direction: (1.0, 0.0, 0.0, 0.0, 0.0, 1.0, 0.0, 0.0, 0.0, 0.0, 1.0, 0.0, 0.0, 0.0, 0.0, 1.0)\n",
      "2022-05-12 10:03:03,110 INFO pixel type: 32-bit float\n",
      "2022-05-12 10:03:03,111 INFO number of pixel components: 1\n",
      "2022-05-12 10:03:05,341 INFO size: (256, 216, 9, 21)\n",
      "2022-05-12 10:03:05,342 INFO spacing: (1.3671900033950806, 1.3671900033950806, 10.0, 1.0)\n",
      "2022-05-12 10:03:05,342 INFO origin: (0.0, 0.0, 0.0, 0.0)\n",
      "2022-05-12 10:03:05,342 INFO direction: (1.0, 0.0, 0.0, 0.0, 0.0, 1.0, 0.0, 0.0, 0.0, 0.0, 1.0, 0.0, 0.0, 0.0, 0.0, 1.0)\n",
      "2022-05-12 10:03:05,343 INFO pixel type: 32-bit float\n",
      "2022-05-12 10:03:05,343 INFO number of pixel components: 1\n"
     ]
    },
    {
     "name": "stdout",
     "output_type": "stream",
     "text": [
      "(224, 224, 10, 30)\n",
      "(1.2, 1.2, 10.0, 1)\n"
     ]
    },
    {
     "name": "stderr",
     "output_type": "stream",
     "text": [
      "2022-05-12 10:03:06,847 INFO size: (216, 256, 10, 30)\n",
      "2022-05-12 10:03:06,848 INFO spacing: (1.3671875, 1.3671875, 10.0, 1.0)\n",
      "2022-05-12 10:03:06,848 INFO origin: (0.0, 0.0, 0.0, 0.0)\n",
      "2022-05-12 10:03:06,848 INFO direction: (1.0, 0.0, 0.0, 0.0, 0.0, 1.0, 0.0, 0.0, 0.0, 0.0, 1.0, 0.0, 0.0, 0.0, 0.0, 1.0)\n",
      "2022-05-12 10:03:06,849 INFO pixel type: 16-bit signed integer\n",
      "2022-05-12 10:03:06,849 INFO number of pixel components: 1\n"
     ]
    },
    {
     "name": "stdout",
     "output_type": "stream",
     "text": [
      "(224, 224, 9, 21)\n",
      "(1.2, 1.2, 10.0, 1)\n"
     ]
    },
    {
     "name": "stderr",
     "output_type": "stream",
     "text": [
      "2022-05-12 10:03:09,020 INFO size: (224, 256, 10, 28)\n",
      "2022-05-12 10:03:09,021 INFO spacing: (1.5625, 1.5625, 10.0, 1.0)\n",
      "2022-05-12 10:03:09,021 INFO origin: (0.0, 0.0, 0.0, 0.0)\n",
      "2022-05-12 10:03:09,021 INFO direction: (1.0, 0.0, 0.0, 0.0, 0.0, 1.0, 0.0, 0.0, 0.0, 0.0, 1.0, 0.0, 0.0, 0.0, 0.0, 1.0)\n",
      "2022-05-12 10:03:09,021 INFO pixel type: 16-bit signed integer\n",
      "2022-05-12 10:03:09,022 INFO number of pixel components: 1\n"
     ]
    },
    {
     "name": "stdout",
     "output_type": "stream",
     "text": [
      "(224, 224, 10, 30)\n",
      "(1.2, 1.2, 10.0, 1)\n"
     ]
    },
    {
     "name": "stderr",
     "output_type": "stream",
     "text": [
      "2022-05-12 10:03:11,082 INFO size: (216, 256, 10, 30)\n",
      "2022-05-12 10:03:11,082 INFO spacing: (1.484375, 1.484375, 10.0, 1.0)\n",
      "2022-05-12 10:03:11,083 INFO origin: (0.0, 0.0, 0.0, 0.0)\n",
      "2022-05-12 10:03:11,083 INFO direction: (1.0, 0.0, 0.0, 0.0, 0.0, 1.0, 0.0, 0.0, 0.0, 0.0, 1.0, 0.0, 0.0, 0.0, 0.0, 1.0)\n",
      "2022-05-12 10:03:11,083 INFO pixel type: 16-bit signed integer\n",
      "2022-05-12 10:03:11,083 INFO number of pixel components: 1\n"
     ]
    },
    {
     "name": "stdout",
     "output_type": "stream",
     "text": [
      "(224, 224, 10, 28)\n",
      "(1.2, 1.2, 10.0, 1)\n"
     ]
    },
    {
     "name": "stderr",
     "output_type": "stream",
     "text": [
      "2022-05-12 10:03:13,299 INFO size: (216, 256, 10, 30)\n",
      "2022-05-12 10:03:13,300 INFO spacing: (1.5625, 1.5625, 10.0, 1.0)\n",
      "2022-05-12 10:03:13,300 INFO origin: (0.0, 0.0, 0.0, 0.0)\n",
      "2022-05-12 10:03:13,300 INFO direction: (1.0, 0.0, 0.0, 0.0, 0.0, 1.0, 0.0, 0.0, 0.0, 0.0, 1.0, 0.0, 0.0, 0.0, 0.0, 1.0)\n",
      "2022-05-12 10:03:13,301 INFO pixel type: 16-bit signed integer\n",
      "2022-05-12 10:03:13,301 INFO number of pixel components: 1\n"
     ]
    },
    {
     "name": "stdout",
     "output_type": "stream",
     "text": [
      "(224, 224, 10, 30)\n",
      "(1.2, 1.2, 10.0, 1)\n",
      "(224, 224, 10, 30)\n",
      "(1.2, 1.2, 10.0, 1)\n"
     ]
    },
    {
     "name": "stderr",
     "output_type": "stream",
     "text": [
      "2022-05-12 10:03:15,696 INFO size: (208, 256, 13, 28)\n",
      "2022-05-12 10:03:15,697 INFO spacing: (1.6796900033950806, 1.6796900033950806, 5.0, 1.0)\n",
      "2022-05-12 10:03:15,697 INFO origin: (0.0, 0.0, 0.0, 0.0)\n",
      "2022-05-12 10:03:15,697 INFO direction: (1.0, 0.0, 0.0, 0.0, 0.0, 1.0, 0.0, 0.0, 0.0, 0.0, 1.0, 0.0, 0.0, 0.0, 0.0, 1.0)\n",
      "2022-05-12 10:03:15,697 INFO pixel type: 32-bit float\n",
      "2022-05-12 10:03:15,698 INFO number of pixel components: 1\n"
     ]
    },
    {
     "name": "stdout",
     "output_type": "stream",
     "text": [
      "(224, 224, 13, 28)\n",
      "(1.2, 1.2, 5.0, 1)\n"
     ]
    },
    {
     "name": "stderr",
     "output_type": "stream",
     "text": [
      "2022-05-12 10:03:18,398 INFO size: (256, 208, 9, 22)\n",
      "2022-05-12 10:03:18,398 INFO spacing: (1.6796900033950806, 1.6796900033950806, 10.0, 1.0)\n",
      "2022-05-12 10:03:18,399 INFO origin: (0.0, 0.0, 0.0, 0.0)\n",
      "2022-05-12 10:03:18,399 INFO direction: (1.0, 0.0, 0.0, 0.0, 0.0, 1.0, 0.0, 0.0, 0.0, 0.0, 1.0, 0.0, 0.0, 0.0, 0.0, 1.0)\n",
      "2022-05-12 10:03:18,399 INFO pixel type: 32-bit float\n",
      "2022-05-12 10:03:18,400 INFO number of pixel components: 1\n"
     ]
    },
    {
     "name": "stdout",
     "output_type": "stream",
     "text": [
      "(224, 224, 9, 22)\n",
      "(1.2, 1.2, 10.0, 1)\n"
     ]
    },
    {
     "name": "stderr",
     "output_type": "stream",
     "text": [
      "2022-05-12 10:03:20,044 INFO size: (208, 256, 8, 28)\n",
      "2022-05-12 10:03:20,045 INFO spacing: (1.5625, 1.5625, 10.0, 1.0)\n",
      "2022-05-12 10:03:20,045 INFO origin: (0.0, 0.0, 0.0, 0.0)\n",
      "2022-05-12 10:03:20,046 INFO direction: (1.0, 0.0, 0.0, 0.0, 0.0, 1.0, 0.0, 0.0, 0.0, 0.0, 1.0, 0.0, 0.0, 0.0, 0.0, 1.0)\n",
      "2022-05-12 10:03:20,046 INFO pixel type: 32-bit float\n",
      "2022-05-12 10:03:20,046 INFO number of pixel components: 1\n"
     ]
    },
    {
     "name": "stdout",
     "output_type": "stream",
     "text": [
      "(224, 224, 8, 28)\n",
      "(1.2, 1.2, 10.0, 1)\n"
     ]
    },
    {
     "name": "stderr",
     "output_type": "stream",
     "text": [
      "2022-05-12 10:03:21,899 INFO size: (224, 256, 10, 30)\n",
      "2022-05-12 10:03:21,900 INFO spacing: (1.6406199932098389, 1.6406199932098389, 10.0, 1.0)\n",
      "2022-05-12 10:03:21,900 INFO origin: (0.0, 0.0, 0.0, 0.0)\n",
      "2022-05-12 10:03:21,900 INFO direction: (1.0, 0.0, 0.0, 0.0, 0.0, 1.0, 0.0, 0.0, 0.0, 0.0, 1.0, 0.0, 0.0, 0.0, 0.0, 1.0)\n",
      "2022-05-12 10:03:21,901 INFO pixel type: 32-bit float\n",
      "2022-05-12 10:03:21,901 INFO number of pixel components: 1\n"
     ]
    },
    {
     "name": "stdout",
     "output_type": "stream",
     "text": [
      "(224, 224, 10, 30)\n",
      "(1.2, 1.2, 10.0, 1)\n"
     ]
    },
    {
     "name": "stderr",
     "output_type": "stream",
     "text": [
      "2022-05-12 10:03:24,204 INFO size: (216, 256, 7, 30)\n",
      "2022-05-12 10:03:24,204 INFO spacing: (1.3671900033950806, 1.3671900033950806, 10.0, 1.0)\n",
      "2022-05-12 10:03:24,204 INFO origin: (0.0, 0.0, 0.0, 0.0)\n",
      "2022-05-12 10:03:24,205 INFO direction: (1.0, 0.0, 0.0, 0.0, 0.0, 1.0, 0.0, 0.0, 0.0, 0.0, 1.0, 0.0, 0.0, 0.0, 0.0, 1.0)\n",
      "2022-05-12 10:03:24,205 INFO pixel type: 32-bit float\n",
      "2022-05-12 10:03:24,205 INFO number of pixel components: 1\n",
      "2022-05-12 10:03:25,890 INFO size: (256, 216, 9, 25)\n",
      "2022-05-12 10:03:25,890 INFO spacing: (1.4843800067901611, 1.4843800067901611, 10.0, 1.0)\n",
      "2022-05-12 10:03:25,890 INFO origin: (0.0, 0.0, 0.0, 0.0)\n",
      "2022-05-12 10:03:25,891 INFO direction: (1.0, 0.0, 0.0, 0.0, 0.0, 1.0, 0.0, 0.0, 0.0, 0.0, 1.0, 0.0, 0.0, 0.0, 0.0, 1.0)\n",
      "2022-05-12 10:03:25,891 INFO pixel type: 32-bit float\n",
      "2022-05-12 10:03:25,891 INFO number of pixel components: 1\n"
     ]
    },
    {
     "name": "stdout",
     "output_type": "stream",
     "text": [
      "(224, 224, 7, 30)\n",
      "(1.2, 1.2, 10.0, 1)\n"
     ]
    },
    {
     "name": "stderr",
     "output_type": "stream",
     "text": [
      "2022-05-12 10:03:27,601 INFO size: (256, 216, 10, 30)\n",
      "2022-05-12 10:03:27,602 INFO spacing: (1.3671875, 1.3671875, 10.0, 1.0)\n",
      "2022-05-12 10:03:27,602 INFO origin: (0.0, 0.0, 0.0, 0.0)\n",
      "2022-05-12 10:03:27,602 INFO direction: (1.0, 0.0, 0.0, 0.0, 0.0, 1.0, 0.0, 0.0, 0.0, 0.0, 1.0, 0.0, 0.0, 0.0, 0.0, 1.0)\n",
      "2022-05-12 10:03:27,602 INFO pixel type: 16-bit signed integer\n",
      "2022-05-12 10:03:27,603 INFO number of pixel components: 1\n"
     ]
    },
    {
     "name": "stdout",
     "output_type": "stream",
     "text": [
      "(224, 224, 9, 25)\n",
      "(1.2, 1.2, 10.0, 1)\n"
     ]
    },
    {
     "name": "stderr",
     "output_type": "stream",
     "text": [
      "2022-05-12 10:03:29,800 INFO size: (256, 208, 7, 28)\n",
      "2022-05-12 10:03:29,800 INFO spacing: (1.5625, 1.5625, 10.0, 1.0)\n",
      "2022-05-12 10:03:29,800 INFO origin: (0.0, 0.0, 0.0, 0.0)\n",
      "2022-05-12 10:03:29,800 INFO direction: (1.0, 0.0, 0.0, 0.0, 0.0, 1.0, 0.0, 0.0, 0.0, 0.0, 1.0, 0.0, 0.0, 0.0, 0.0, 1.0)\n",
      "2022-05-12 10:03:29,801 INFO pixel type: 32-bit float\n",
      "2022-05-12 10:03:29,801 INFO number of pixel components: 1\n"
     ]
    },
    {
     "name": "stdout",
     "output_type": "stream",
     "text": [
      "(224, 224, 10, 30)\n",
      "(1.2, 1.2, 10.0, 1)\n"
     ]
    },
    {
     "name": "stderr",
     "output_type": "stream",
     "text": [
      "2022-05-12 10:03:31,325 INFO size: (192, 256, 10, 30)\n",
      "2022-05-12 10:03:31,326 INFO spacing: (1.5625, 1.5625, 10.0, 1.0)\n",
      "2022-05-12 10:03:31,326 INFO origin: (0.0, 0.0, 0.0, 0.0)\n",
      "2022-05-12 10:03:31,326 INFO direction: (1.0, 0.0, 0.0, 0.0, 0.0, 1.0, 0.0, 0.0, 0.0, 0.0, 1.0, 0.0, 0.0, 0.0, 0.0, 1.0)\n",
      "2022-05-12 10:03:31,327 INFO pixel type: 16-bit signed integer\n",
      "2022-05-12 10:03:31,327 INFO number of pixel components: 1\n"
     ]
    },
    {
     "name": "stdout",
     "output_type": "stream",
     "text": [
      "(224, 224, 7, 28)\n",
      "(1.2, 1.2, 10.0, 1)\n"
     ]
    },
    {
     "name": "stderr",
     "output_type": "stream",
     "text": [
      "2022-05-12 10:03:33,515 INFO size: (208, 256, 7, 35)\n",
      "2022-05-12 10:03:33,515 INFO spacing: (1.640625, 1.640625, 10.0, 1.0)\n",
      "2022-05-12 10:03:33,515 INFO origin: (0.0, 0.0, 0.0, 0.0)\n",
      "2022-05-12 10:03:33,516 INFO direction: (1.0, 0.0, 0.0, 0.0, 0.0, 1.0, 0.0, 0.0, 0.0, 0.0, 1.0, 0.0, 0.0, 0.0, 0.0, 1.0)\n",
      "2022-05-12 10:03:33,516 INFO pixel type: 16-bit signed integer\n",
      "2022-05-12 10:03:33,517 INFO number of pixel components: 1\n"
     ]
    },
    {
     "name": "stdout",
     "output_type": "stream",
     "text": [
      "(224, 224, 10, 30)\n",
      "(1.2, 1.2, 10.0, 1)\n"
     ]
    },
    {
     "name": "stderr",
     "output_type": "stream",
     "text": [
      "2022-05-12 10:03:35,372 INFO size: (168, 224, 14, 14)\n",
      "2022-05-12 10:03:35,372 INFO spacing: (1.7857099771499634, 1.7857099771499634, 5.0, 1.0)\n",
      "2022-05-12 10:03:35,372 INFO origin: (0.0, 0.0, 0.0, 0.0)\n",
      "2022-05-12 10:03:35,373 INFO direction: (1.0, 0.0, 0.0, 0.0, 0.0, 1.0, 0.0, 0.0, 0.0, 0.0, 1.0, 0.0, 0.0, 0.0, 0.0, 1.0)\n",
      "2022-05-12 10:03:35,373 INFO pixel type: 32-bit float\n",
      "2022-05-12 10:03:35,374 INFO number of pixel components: 1\n"
     ]
    },
    {
     "name": "stdout",
     "output_type": "stream",
     "text": [
      "(224, 224, 7, 35)\n",
      "(1.2, 1.2, 10.0, 1)\n"
     ]
    },
    {
     "name": "stderr",
     "output_type": "stream",
     "text": [
      "2022-05-12 10:03:36,966 INFO size: (256, 184, 8, 28)\n",
      "2022-05-12 10:03:36,967 INFO spacing: (1.4453099966049194, 1.4453099966049194, 10.0, 1.0)\n",
      "2022-05-12 10:03:36,967 INFO origin: (0.0, 0.0, 0.0, 0.0)\n",
      "2022-05-12 10:03:36,967 INFO direction: (1.0, 0.0, 0.0, 0.0, 0.0, 1.0, 0.0, 0.0, 0.0, 0.0, 1.0, 0.0, 0.0, 0.0, 0.0, 1.0)\n",
      "2022-05-12 10:03:36,968 INFO pixel type: 32-bit float\n",
      "2022-05-12 10:03:36,968 INFO number of pixel components: 1\n"
     ]
    },
    {
     "name": "stdout",
     "output_type": "stream",
     "text": [
      "(224, 224, 14, 14)\n",
      "(1.2, 1.2, 5.0, 1)\n",
      "(224, 224, 8, 28)\n",
      "(1.2, 1.2, 10.0, 1)\n"
     ]
    },
    {
     "name": "stderr",
     "output_type": "stream",
     "text": [
      "2022-05-12 10:03:38,838 INFO size: (224, 154, 16, 25)\n",
      "2022-05-12 10:03:38,839 INFO spacing: (1.6517900228500366, 1.6517900228500366, 5.0, 1.0)\n",
      "2022-05-12 10:03:38,839 INFO origin: (0.0, 0.0, 0.0, 0.0)\n",
      "2022-05-12 10:03:38,839 INFO direction: (1.0, 0.0, 0.0, 0.0, 0.0, 1.0, 0.0, 0.0, 0.0, 0.0, 1.0, 0.0, 0.0, 0.0, 0.0, 1.0)\n",
      "2022-05-12 10:03:38,839 INFO pixel type: 32-bit float\n",
      "2022-05-12 10:03:38,840 INFO number of pixel components: 1\n",
      "2022-05-12 10:03:41,612 INFO size: (180, 224, 8, 16)\n",
      "2022-05-12 10:03:41,613 INFO spacing: (1.5625, 1.5625, 10.0, 1.0)\n",
      "2022-05-12 10:03:41,613 INFO origin: (0.0, 0.0, 0.0, 0.0)\n",
      "2022-05-12 10:03:41,614 INFO direction: (1.0, 0.0, 0.0, 0.0, 0.0, 1.0, 0.0, 0.0, 0.0, 0.0, 1.0, 0.0, 0.0, 0.0, 0.0, 1.0)\n",
      "2022-05-12 10:03:41,614 INFO pixel type: 32-bit float\n",
      "2022-05-12 10:03:41,614 INFO number of pixel components: 1\n"
     ]
    },
    {
     "name": "stdout",
     "output_type": "stream",
     "text": [
      "(224, 224, 16, 25)\n",
      "(1.2, 1.2, 5.0, 1)\n"
     ]
    },
    {
     "name": "stderr",
     "output_type": "stream",
     "text": [
      "2022-05-12 10:03:42,745 INFO size: (180, 224, 10, 30)\n",
      "2022-05-12 10:03:42,745 INFO spacing: (1.5625, 1.5625, 7.0, 1.0)\n",
      "2022-05-12 10:03:42,746 INFO origin: (0.0, 0.0, 0.0, 0.0)\n",
      "2022-05-12 10:03:42,746 INFO direction: (1.0, 0.0, 0.0, 0.0, 0.0, 1.0, 0.0, 0.0, 0.0, 0.0, 1.0, 0.0, 0.0, 0.0, 0.0, 1.0)\n",
      "2022-05-12 10:03:42,746 INFO pixel type: 32-bit float\n",
      "2022-05-12 10:03:42,746 INFO number of pixel components: 1\n"
     ]
    },
    {
     "name": "stdout",
     "output_type": "stream",
     "text": [
      "(224, 224, 8, 16)\n",
      "(1.2, 1.2, 10.0, 1)\n",
      "(224, 224, 10, 30)\n",
      "(1.2, 1.2, 7.0, 1)\n"
     ]
    },
    {
     "name": "stderr",
     "output_type": "stream",
     "text": [
      "2022-05-12 10:03:45,071 INFO size: (180, 224, 14, 30)\n",
      "2022-05-12 10:03:45,071 INFO spacing: (1.5625, 1.5625, 5.0, 1.0)\n",
      "2022-05-12 10:03:45,072 INFO origin: (0.0, 0.0, 0.0, 0.0)\n",
      "2022-05-12 10:03:45,072 INFO direction: (1.0, 0.0, 0.0, 0.0, 0.0, 1.0, 0.0, 0.0, 0.0, 0.0, 1.0, 0.0, 0.0, 0.0, 0.0, 1.0)\n",
      "2022-05-12 10:03:45,072 INFO pixel type: 32-bit float\n",
      "2022-05-12 10:03:45,072 INFO number of pixel components: 1\n"
     ]
    },
    {
     "name": "stdout",
     "output_type": "stream",
     "text": [
      "(224, 224, 14, 30)\n",
      "(1.2, 1.2, 5.0, 1)\n"
     ]
    }
   ],
   "source": [
    "exp = '/mnt/ssd/git/rvip_landmark_detection/exp/seg/baseline_spacing1_2_dim224_rot_shift_hist/2022-05-05_23_33/'\n",
    "pred_path = predict_4d_on_2d_cv(path_to_exp=exp,\n",
    "                                list_of_4d=files_,\n",
    "                               export_suffix='pred_4d_cv')"
   ]
  },
  {
   "cell_type": "markdown",
   "id": "2c3728d5",
   "metadata": {},
   "source": [
    "# Load the predicted 4D masks"
   ]
  },
  {
   "cell_type": "code",
   "execution_count": 5,
   "id": "6fc3bc53",
   "metadata": {},
   "outputs": [
    {
     "name": "stdout",
     "output_type": "stream",
     "text": [
      "exp/seg/baseline_spacing1_2_dim224_rot_shift_hist/2022-05-05_23_33/pred_4d_cv\n",
      "exp/seg/baseline_spacing1_2_dim224_rot_shift_hist/2022-05-05_23_33/pred_4d_cv/*msk.nrrd\n",
      "100\n"
     ]
    }
   ],
   "source": [
    "print(pred_path)\n",
    "pattern = os.path.join(pred_path, '*msk.nrrd')\n",
    "print(pattern)\n",
    "files_pred_4d = list(sorted(glob.glob(pattern)))\n",
    "print(len(files_pred_4d))"
   ]
  },
  {
   "cell_type": "code",
   "execution_count": 6,
   "id": "6613356d",
   "metadata": {},
   "outputs": [
    {
     "data": {
      "application/vnd.jupyter.widget-view+json": {
       "model_id": "0c9c904854254f7698c963965870d547",
       "version_major": 2,
       "version_minor": 0
      },
      "text/plain": [
       "interactive(children=(IntSlider(value=49, description='patient', max=99), Dropdown(description='label', option…"
      ]
     },
     "metadata": {},
     "output_type": "display_data"
    }
   ],
   "source": [
    "# load one 4D file and calulate the volume in ml\n",
    "@interact\n",
    "def calc_vol(patient=(0,len(files_pred_4d)-1), label=[0,1,2,3]):\n",
    "    global nda, gen_patient\n",
    "    f = files_pred_4d[patient]\n",
    "    logging.info(os.path.basename(f))\n",
    "    temp = sitk.ReadImage(f)\n",
    "    describe_sitk(temp)\n",
    "    spacing = temp.GetSpacing()\n",
    "    nda = sitk.GetArrayFromImage(temp)\n",
    "    voxels = (nda==label).sum(axis=(1,2,3))\n",
    "    voxel_size = spacing[0]*spacing[1]*spacing[2]\n",
    "    logging.info('size of one voxel: {:3.2f}'.format(voxel_size))\n",
    "    cardiac_volumes = (voxels*voxel_size)/1000\n",
    "    #print(lv_voxels)\n",
    "    plt.plot(cardiac_volumes);plt.show()\n",
    "    print('ES according to argmin: {}'.format(np.argmin(cardiac_volumes)))\n",
    "    print('ED according to argmax: {}'.format(np.argmax(cardiac_volumes)))"
   ]
  },
  {
   "cell_type": "code",
   "execution_count": 7,
   "id": "c669867a",
   "metadata": {},
   "outputs": [
    {
     "data": {
      "application/vnd.jupyter.widget-view+json": {
       "model_id": "4fdc970bbb254bf89d28603ba2ab4d0d",
       "version_major": 2,
       "version_minor": 0
      },
      "text/plain": [
       "interactive(children=(IntSlider(value=14, description='t', max=29), IntSlider(value=4, description='z', max=9)…"
      ]
     },
     "metadata": {},
     "output_type": "display_data"
    }
   ],
   "source": [
    "from src.visualization.Visualize import show_2D_or_3D\n",
    "@interact\n",
    "def show_preds(t= (0,nda.shape[0]-1), z=(0,nda.shape[1]-1)):\n",
    "    global nda\n",
    "    logging.info(nda.shape)\n",
    "    plt.imshow(nda[t][z])\n",
    "    plt.show()"
   ]
  },
  {
   "cell_type": "code",
   "execution_count": 39,
   "id": "dc59be58",
   "metadata": {},
   "outputs": [
    {
     "data": {
      "text/plain": [
       "'exp/seg/baseline_spacing1_2_dim224_rot_shift_hist/2022-05-05_23_33/pred_4d_cv/patient001_4d_msk.nrrd'"
      ]
     },
     "execution_count": 39,
     "metadata": {},
     "output_type": "execute_result"
    }
   ],
   "source": [
    "files_pred_4d[0]"
   ]
  },
  {
   "cell_type": "code",
   "execution_count": 8,
   "id": "11bde85c",
   "metadata": {},
   "outputs": [],
   "source": [
    "# Calc the LV volume per 3D volume and predict the ED/ES phase\n",
    "# Merge the prediction with the gt\n",
    "# Calc the pFD per ED/ES\n",
    "# Calc the Accuracy per ED/ES\n",
    "from src.data.Dataset import predict_phase_from_vol\n",
    "import pandas as pd\n",
    "dataset = 'acdc' # or 'tof' --> different patient id extraction\n",
    "\n",
    "df_merge = predict_phase_from_vol(filenames=files_pred_4d,dataset=dataset)"
   ]
  },
  {
   "cell_type": "code",
   "execution_count": 9,
   "id": "52c3efbd",
   "metadata": {},
   "outputs": [],
   "source": [
    "def calc_cycle_diff(pred, gt, length):\n",
    "    lower = min(pred,gt)\n",
    "    upper = max(pred,gt)\n",
    "    diff = upper-lower\n",
    "    cycle_diff = abs(length-upper+lower)\n",
    "    return min(diff,cycle_diff)\n",
    "\n",
    "df_merge['ED'] = df_merge.apply(lambda x : calc_cycle_diff(x['ed_idxs'], x['ED#'], x['cycle_len']), axis=1)\n",
    "df_merge['ES'] = df_merge.apply(lambda x : calc_cycle_diff(x['es_idxs'], x['ES#'], x['cycle_len']), axis=1)"
   ]
  },
  {
   "cell_type": "code",
   "execution_count": 44,
   "id": "c9046851",
   "metadata": {},
   "outputs": [],
   "source": [
    "df_merge.to_csv(os.path.join(exp,'{}_vol_pred.csv'.format(dataset)))"
   ]
  },
  {
   "cell_type": "code",
   "execution_count": 49,
   "id": "757e5b74",
   "metadata": {},
   "outputs": [
    {
     "data": {
      "application/vnd.jupyter.widget-view+json": {
       "model_id": "5cda9580bb7f4994850608f13d31838f",
       "version_major": 2,
       "version_minor": 0
      },
      "text/plain": [
       "interactive(children=(Dropdown(description='dataframe', options=('df_base', 'df_center', 'df_lv', 'df_sep'), v…"
      ]
     },
     "metadata": {},
     "output_type": "display_data"
    }
   ],
   "source": [
    "import matplotlib.pyplot as plt\n",
    "dfs = {}\n",
    "dfs['df_base'] = df_merge\n",
    "dfs['df_center'] = pd.read_csv('/mnt/sds/sd20i001/sven/code/dynamic-cmr-models/exp/phasereg_v3/roll2/center/phaseloss0_2lstm32_tof/2022-03-17_15_39/cfd.csv')\n",
    "dfs['df_lv'] = pd.read_csv('/mnt/sds/sd20i001/sven/code/dynamic-cmr-models/exp/phasereg_v3/roll2/lv/phaseloss0_2lstm32_tof/2022-03-16_17_20/cfd.csv')\n",
    "dfs['df_sep'] = pd.read_csv('/mnt/sds/sd20i001/sven/code/dynamic-cmr-models/exp/phasereg_v3/roll2/septum/phaseloss0_2lstm32_tof/2022-03-16_15_27/cfd.csv')\n",
    "@interact\n",
    "def calc_acc(dataframe = dfs.keys(),threshold=(0,10,1)):\n",
    "    \n",
    "    plt.rcParams.update({'font.size': 22})\n",
    "    fig,axes = plt.subplots(1,2,figsize=(14,5))\n",
    "    ax1, ax2 = axes\n",
    "    \n",
    "    df = dfs.get(dataframe)\n",
    "    print('{:1.2f}'.format((df['ED']<=threshold).sum()/len(df)))\n",
    "    print('{:1.2f}'.format((df['ES']<=threshold).sum()/len(df)))\n",
    "    threshs = list(range(10))\n",
    "    ed_acc = [(df['ED']<=t).sum()/len(df) for t in threshs]\n",
    "    es_acc = [(df['ES']<=t).sum()/len(df) for t in threshs]\n",
    "    \n",
    "    ax1.plot(threshs, ed_acc)\n",
    "    ax2.plot(threshs, es_acc)\n",
    "    ax1.legend(['vol', 'center', 'lv', 'sep'])\n",
    "    ax2.legend(['vol', 'center', 'lv', 'sep'])\n",
    "    ax1.set_xlabel('Threshold')\n",
    "    ax2.set_xlabel('Threshold')\n",
    "    ax1.set_ylabel('Accuracy phase ED')\n",
    "    ax2.set_ylabel('Accuracy phase ES')\n",
    "    ax1.set_ylim(0.7,1.01)\n",
    "    ax2.set_ylim(0.7,1.01)\n",
    "    plt.tight_layout()\n",
    "    plt.show()\n",
    "    return df.describe()"
   ]
  },
  {
   "cell_type": "markdown",
   "id": "282c3483",
   "metadata": {},
   "source": [
    "# Compare the threshold vs acc plots per experiment"
   ]
  },
  {
   "cell_type": "code",
   "execution_count": 47,
   "id": "c037982f",
   "metadata": {},
   "outputs": [
    {
     "data": {
      "image/png": "[encoded data removed]",
      "text/plain": [
       "<Figure size 1008x360 with 2 Axes>"
      ]
     },
     "metadata": {
      "needs_background": "light"
     },
     "output_type": "display_data"
    }
   ],
   "source": [
    "import matplotlib.pyplot as plt\n",
    "plt.rcParams.update({'font.size': 22})\n",
    "fig,axes = plt.subplots(1,2,figsize=(14,5))\n",
    "ax1, ax2 = axes\n",
    "\n",
    "threshs = list(range(10))\n",
    "ed_accs = []\n",
    "es_accs = []\n",
    "for df_ in dfs.values():\n",
    "    ed_accs.append([(df_['ED']<=t).sum()/len(df_) for t in threshs])\n",
    "    es_accs.append([(df_['ES']<=t).sum()/len(df_) for t in threshs])\n",
    "    \n",
    "for ed_acc,es_acc in zip(ed_accs,es_accs):\n",
    "    ax1.plot(threshs, ed_acc)\n",
    "    ax2.plot(threshs, es_acc)\n",
    "\n",
    "ax1.legend(['vol', 'center', 'lv', 'sep'])\n",
    "ax2.legend(['vol', 'center', 'lv', 'sep'])\n",
    "ax1.set_xlabel('Threshold')\n",
    "ax2.set_xlabel('Threshold')\n",
    "ax1.set_ylabel('Accuracy phase ED')\n",
    "ax2.set_ylabel('Accuracy phase ES')\n",
    "ax1.set_ylim(0.7,1.01)\n",
    "ax2.set_ylim(0.7,1.01)\n",
    "plt.tight_layout()"
   ]
  },
  {
   "cell_type": "code",
   "execution_count": 65,
   "id": "f8152904",
   "metadata": {},
   "outputs": [
    {
     "data": {
      "image/png": "[encoded data removed]",
      "text/plain": [
       "<Figure size 1008x360 with 4 Axes>"
      ]
     },
     "metadata": {
      "needs_background": "light"
     },
     "output_type": "display_data"
    }
   ],
   "source": [
    "import seaborn as sb\n",
    "fig,axes = plt.subplots(1,len(dfs.values()),figsize=(14,5))\n",
    "for i, df_ in enumerate(dfs.values()):\n",
    "    ax = axes[i]\n",
    "    title = list(dfs.keys())[i]\n",
    "    _ = ax.set_ylim(0,10)\n",
    "    _ = ax.set_title(title)\n",
    "    _ = sb.violinplot(data=df_[['ED','ES']], ax=ax)"
   ]
  },
  {
   "cell_type": "markdown",
   "id": "68a99809",
   "metadata": {},
   "source": [
    "# ACDC"
   ]
  },
  {
   "cell_type": "code",
   "execution_count": 14,
   "id": "43b67972",
   "metadata": {},
   "outputs": [
    {
     "data": {
      "application/vnd.jupyter.widget-view+json": {
       "model_id": "c6cf6499228240328d6e45aa2b6aa828",
       "version_major": 2,
       "version_minor": 0
      },
      "text/plain": [
       "interactive(children=(Dropdown(description='dataframe', options=('df_base', 'df_center', 'df_lv', 'df_sep', 'd…"
      ]
     },
     "metadata": {},
     "output_type": "display_data"
    }
   ],
   "source": [
    "import matplotlib.pyplot as plt\n",
    "dfs_acdc = {}\n",
    "dfs_acdc['df_base'] = df_merge\n",
    "dfs_acdc['df_center'] = pd.read_csv('/mnt/sds/sd20i001/sven/code/dynamic-cmr-models/exp/phasereg_v3/roll2/center/phaseloss0_2lstm32_acdc/2022-03-16_13_26/cfd.csv')\n",
    "dfs_acdc['df_lv'] = pd.read_csv('/mnt/sds/sd20i001/sven/code/dynamic-cmr-models/exp/phasereg_v3/roll2/lv/phaseloss0_2lstm32_acdc/2022-03-16_19_34/cfd.csv')\n",
    "dfs_acdc['df_sep'] = pd.read_csv('/mnt/sds/sd20i001/sven/code/dynamic-cmr-models/exp/phasereg_v3/roll2/septum/phaseloss0_2lstm32_acdc/2022-03-16_15_27/cfd.csv')\n",
    "dfs_acdc['df_mse'] = pd.read_csv('/mnt/sds/sd20i001/sven/code/dynamic-cmr-models/exp/phasereg_v3/roll2/mse/phaseloss0_2lstm32_acdc/2022-04-01_11_49/cfd.csv')\n",
    "@interact\n",
    "def calc_acc(dataframe = dfs_acdc.keys(),threshold=(0,10,1)):\n",
    "    \n",
    "    plt.rcParams.update({'font.size': 22})\n",
    "    fig,axes = plt.subplots(1,2,figsize=(14,5))\n",
    "    ax1, ax2 = axes\n",
    "    \n",
    "    df = dfs_acdc.get(dataframe)\n",
    "    print('{:1.2f}'.format((df['ED']<=threshold).sum()/len(df)))\n",
    "    print('{:1.2f}'.format((df['ES']<=threshold).sum()/len(df)))\n",
    "    threshs = list(range(10))\n",
    "    ed_acc = [(df['ED']<=t).sum()/len(df) for t in threshs]\n",
    "    es_acc = [(df['ES']<=t).sum()/len(df) for t in threshs]\n",
    "    \n",
    "    ax1.plot(threshs, ed_acc)\n",
    "    ax2.plot(threshs, es_acc)\n",
    "    ax1.legend(['vol', 'center', 'lv', 'sep'])\n",
    "    ax2.legend(['vol', 'center', 'lv', 'sep'])\n",
    "    ax1.set_xlabel('Threshold')\n",
    "    ax2.set_xlabel('Threshold')\n",
    "    ax1.set_ylabel('Accuracy phase ED')\n",
    "    ax2.set_ylabel('Accuracy phase ES')\n",
    "    ax1.set_ylim(0.7,1.01)\n",
    "    ax2.set_ylim(0.7,1.01)\n",
    "    plt.tight_layout()\n",
    "    plt.show()\n",
    "    return df.describe()"
   ]
  },
  {
   "cell_type": "code",
   "execution_count": 15,
   "id": "a9eb9544",
   "metadata": {},
   "outputs": [
    {
     "data": {
      "image/png": "[encoded data removed]",
      "text/plain": [
       "<Figure size 1008x360 with 2 Axes>"
      ]
     },
     "metadata": {
      "needs_background": "light"
     },
     "output_type": "display_data"
    }
   ],
   "source": [
    "import matplotlib.pyplot as plt\n",
    "plt.rcParams.update({'font.size': 22})\n",
    "fig,axes = plt.subplots(1,2,figsize=(14,5))\n",
    "ax1, ax2 = axes\n",
    "\n",
    "threshs = list(range(10))\n",
    "ed_accs = []\n",
    "es_accs = []\n",
    "for df_ in dfs_acdc.values():\n",
    "    ed_accs.append([(df_['ED']<=t).sum()/len(df_) for t in threshs])\n",
    "    es_accs.append([(df_['ES']<=t).sum()/len(df_) for t in threshs])\n",
    "    \n",
    "for ed_acc,es_acc in zip(ed_accs,es_accs):\n",
    "    ax1.plot(threshs, ed_acc)\n",
    "    ax2.plot(threshs, es_acc)\n",
    "\n",
    "ax1.legend(list(dfs_acdc.keys()))\n",
    "ax2.legend(list(dfs_acdc.keys()))\n",
    "ax1.set_xlabel('Threshold')\n",
    "ax2.set_xlabel('Threshold')\n",
    "ax1.set_ylabel('Accuracy phase ED')\n",
    "ax2.set_ylabel('Accuracy phase ES')\n",
    "ax1.set_ylim(0.7,1.01)\n",
    "ax2.set_ylim(0.7,1.01)\n",
    "plt.tight_layout()"
   ]
  },
  {
   "cell_type": "code",
   "execution_count": 16,
   "id": "6c84386e",
   "metadata": {},
   "outputs": [
    {
     "data": {
      "image/png": "[encoded data removed]",
      "text/plain": [
       "<Figure size 1008x360 with 5 Axes>"
      ]
     },
     "metadata": {
      "needs_background": "light"
     },
     "output_type": "display_data"
    }
   ],
   "source": [
    "import seaborn as sb\n",
    "fig,axes = plt.subplots(1,len(dfs_acdc.values()),figsize=(14,5))\n",
    "for i, df_ in enumerate(dfs_acdc.values()):\n",
    "    ax = axes[i]\n",
    "    title = list(dfs_acdc.keys())[i]\n",
    "    _ = ax.set_ylim(0,10)\n",
    "    _ = ax.set_title(title)\n",
    "    _ = sb.violinplot(data=df_[['ED','ES']], ax=ax)\n",
    "plt.tight_layout()"
   ]
  },
  {
   "cell_type": "code",
   "execution_count": null,
   "id": "80ea77f0",
   "metadata": {},
   "outputs": [],
   "source": []
  }
 ],
 "metadata": {
  "kernelspec": {
   "display_name": "dcmr",
   "language": "python",
   "name": "dcmr"
  },
  "language_info": {
   "codemirror_mode": {
    "name": "ipython",
    "version": 3
   },
   "file_extension": ".py",
   "mimetype": "text/x-python",
   "name": "python",
   "nbconvert_exporter": "python",
   "pygments_lexer": "ipython3",
   "version": "3.8.5"
  },
  "widgets": {
   "application/vnd.jupyter.widget-state+json": {
    "state": {},
    "version_major": 2,
    "version_minor": 0
   }
  }
 },
 "nbformat": 4,
 "nbformat_minor": 5
}
